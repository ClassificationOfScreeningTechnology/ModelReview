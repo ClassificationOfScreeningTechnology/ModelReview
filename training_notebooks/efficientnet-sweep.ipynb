{
 "cells": [
  {
   "cell_type": "code",
   "execution_count": 1,
   "metadata": {
    "_cell_guid": "b1076dfc-b9ad-4769-8c92-a6c4dae69d19",
    "_uuid": "8f2839f25d086af736a60e9eeb907d3b93b6e0e5",
    "execution": {
     "iopub.execute_input": "2025-01-12T14:53:05.098806Z",
     "iopub.status.busy": "2025-01-12T14:53:05.098468Z",
     "iopub.status.idle": "2025-01-12T14:53:24.929676Z",
     "shell.execute_reply": "2025-01-12T14:53:24.928631Z",
     "shell.execute_reply.started": "2025-01-12T14:53:05.098780Z"
    },
    "trusted": true
   },
   "outputs": [
    {
     "name": "stdout",
     "output_type": "stream",
     "text": [
      "Requirement already satisfied: pytorch-lightning in /usr/local/lib/python3.10/dist-packages (2.4.0)\n",
      "Requirement already satisfied: torch>=2.1.0 in /usr/local/lib/python3.10/dist-packages (from pytorch-lightning) (2.4.1+cu121)\n",
      "Requirement already satisfied: tqdm>=4.57.0 in /usr/local/lib/python3.10/dist-packages (from pytorch-lightning) (4.66.5)\n",
      "Requirement already satisfied: PyYAML>=5.4 in /usr/local/lib/python3.10/dist-packages (from pytorch-lightning) (6.0.2)\n",
      "Requirement already satisfied: fsspec>=2022.5.0 in /usr/local/lib/python3.10/dist-packages (from fsspec[http]>=2022.5.0->pytorch-lightning) (2024.6.1)\n",
      "Requirement already satisfied: torchmetrics>=0.7.0 in /usr/local/lib/python3.10/dist-packages (from pytorch-lightning) (1.6.0)\n",
      "Requirement already satisfied: packaging>=20.0 in /usr/local/lib/python3.10/dist-packages (from pytorch-lightning) (24.1)\n",
      "Requirement already satisfied: typing-extensions>=4.4.0 in /usr/local/lib/python3.10/dist-packages (from pytorch-lightning) (4.12.2)\n",
      "Requirement already satisfied: lightning-utilities>=0.10.0 in /usr/local/lib/python3.10/dist-packages (from pytorch-lightning) (0.11.9)\n",
      "Requirement already satisfied: aiohttp!=4.0.0a0,!=4.0.0a1 in /usr/local/lib/python3.10/dist-packages (from fsspec[http]>=2022.5.0->pytorch-lightning) (3.10.5)\n",
      "Requirement already satisfied: setuptools in /usr/local/lib/python3.10/dist-packages (from lightning-utilities>=0.10.0->pytorch-lightning) (71.0.4)\n",
      "Requirement already satisfied: filelock in /usr/local/lib/python3.10/dist-packages (from torch>=2.1.0->pytorch-lightning) (3.16.1)\n",
      "Requirement already satisfied: sympy in /usr/local/lib/python3.10/dist-packages (from torch>=2.1.0->pytorch-lightning) (1.13.3)\n",
      "Requirement already satisfied: networkx in /usr/local/lib/python3.10/dist-packages (from torch>=2.1.0->pytorch-lightning) (3.3)\n",
      "Requirement already satisfied: jinja2 in /usr/local/lib/python3.10/dist-packages (from torch>=2.1.0->pytorch-lightning) (3.1.4)\n",
      "Requirement already satisfied: numpy>1.20.0 in /usr/local/lib/python3.10/dist-packages (from torchmetrics>=0.7.0->pytorch-lightning) (1.26.4)\n",
      "Requirement already satisfied: aiohappyeyeballs>=2.3.0 in /usr/local/lib/python3.10/dist-packages (from aiohttp!=4.0.0a0,!=4.0.0a1->fsspec[http]>=2022.5.0->pytorch-lightning) (2.4.0)\n",
      "Requirement already satisfied: aiosignal>=1.1.2 in /usr/local/lib/python3.10/dist-packages (from aiohttp!=4.0.0a0,!=4.0.0a1->fsspec[http]>=2022.5.0->pytorch-lightning) (1.3.1)\n",
      "Requirement already satisfied: attrs>=17.3.0 in /usr/local/lib/python3.10/dist-packages (from aiohttp!=4.0.0a0,!=4.0.0a1->fsspec[http]>=2022.5.0->pytorch-lightning) (24.2.0)\n",
      "Requirement already satisfied: frozenlist>=1.1.1 in /usr/local/lib/python3.10/dist-packages (from aiohttp!=4.0.0a0,!=4.0.0a1->fsspec[http]>=2022.5.0->pytorch-lightning) (1.4.1)\n",
      "Requirement already satisfied: multidict<7.0,>=4.5 in /usr/local/lib/python3.10/dist-packages (from aiohttp!=4.0.0a0,!=4.0.0a1->fsspec[http]>=2022.5.0->pytorch-lightning) (6.1.0)\n",
      "Requirement already satisfied: yarl<2.0,>=1.0 in /usr/local/lib/python3.10/dist-packages (from aiohttp!=4.0.0a0,!=4.0.0a1->fsspec[http]>=2022.5.0->pytorch-lightning) (1.11.1)\n",
      "Requirement already satisfied: async-timeout<5.0,>=4.0 in /usr/local/lib/python3.10/dist-packages (from aiohttp!=4.0.0a0,!=4.0.0a1->fsspec[http]>=2022.5.0->pytorch-lightning) (4.0.3)\n",
      "Requirement already satisfied: MarkupSafe>=2.0 in /usr/local/lib/python3.10/dist-packages (from jinja2->torch>=2.1.0->pytorch-lightning) (2.1.5)\n",
      "Requirement already satisfied: mpmath<1.4,>=1.1.0 in /usr/local/lib/python3.10/dist-packages (from sympy->torch>=2.1.0->pytorch-lightning) (1.3.0)\n",
      "Requirement already satisfied: idna>=2.0 in /usr/local/lib/python3.10/dist-packages (from yarl<2.0,>=1.0->aiohttp!=4.0.0a0,!=4.0.0a1->fsspec[http]>=2022.5.0->pytorch-lightning) (3.10)\n",
      "Requirement already satisfied: torchvision in /usr/local/lib/python3.10/dist-packages (0.19.1+cu121)\n",
      "Requirement already satisfied: numpy in /usr/local/lib/python3.10/dist-packages (from torchvision) (1.26.4)\n",
      "Requirement already satisfied: torch==2.4.1 in /usr/local/lib/python3.10/dist-packages (from torchvision) (2.4.1+cu121)\n",
      "Requirement already satisfied: pillow!=8.3.*,>=5.3.0 in /usr/local/lib/python3.10/dist-packages (from torchvision) (10.4.0)\n",
      "Requirement already satisfied: filelock in /usr/local/lib/python3.10/dist-packages (from torch==2.4.1->torchvision) (3.16.1)\n",
      "Requirement already satisfied: typing-extensions>=4.8.0 in /usr/local/lib/python3.10/dist-packages (from torch==2.4.1->torchvision) (4.12.2)\n",
      "Requirement already satisfied: sympy in /usr/local/lib/python3.10/dist-packages (from torch==2.4.1->torchvision) (1.13.3)\n",
      "Requirement already satisfied: networkx in /usr/local/lib/python3.10/dist-packages (from torch==2.4.1->torchvision) (3.3)\n",
      "Requirement already satisfied: jinja2 in /usr/local/lib/python3.10/dist-packages (from torch==2.4.1->torchvision) (3.1.4)\n",
      "Requirement already satisfied: fsspec in /usr/local/lib/python3.10/dist-packages (from torch==2.4.1->torchvision) (2024.6.1)\n",
      "Requirement already satisfied: MarkupSafe>=2.0 in /usr/local/lib/python3.10/dist-packages (from jinja2->torch==2.4.1->torchvision) (2.1.5)\n",
      "Requirement already satisfied: mpmath<1.4,>=1.1.0 in /usr/local/lib/python3.10/dist-packages (from sympy->torch==2.4.1->torchvision) (1.3.0)\n",
      "Requirement already satisfied: matplotlib in /usr/local/lib/python3.10/dist-packages (3.7.1)\n",
      "Requirement already satisfied: contourpy>=1.0.1 in /usr/local/lib/python3.10/dist-packages (from matplotlib) (1.3.0)\n",
      "Requirement already satisfied: cycler>=0.10 in /usr/local/lib/python3.10/dist-packages (from matplotlib) (0.12.1)\n",
      "Requirement already satisfied: fonttools>=4.22.0 in /usr/local/lib/python3.10/dist-packages (from matplotlib) (4.53.1)\n",
      "Requirement already satisfied: kiwisolver>=1.0.1 in /usr/local/lib/python3.10/dist-packages (from matplotlib) (1.4.7)\n",
      "Requirement already satisfied: numpy>=1.20 in /usr/local/lib/python3.10/dist-packages (from matplotlib) (1.26.4)\n",
      "Requirement already satisfied: packaging>=20.0 in /usr/local/lib/python3.10/dist-packages (from matplotlib) (24.1)\n",
      "Requirement already satisfied: pillow>=6.2.0 in /usr/local/lib/python3.10/dist-packages (from matplotlib) (10.4.0)\n",
      "Requirement already satisfied: pyparsing>=2.3.1 in /usr/local/lib/python3.10/dist-packages (from matplotlib) (3.1.4)\n",
      "Requirement already satisfied: python-dateutil>=2.7 in /usr/local/lib/python3.10/dist-packages (from matplotlib) (2.8.2)\n",
      "Requirement already satisfied: six>=1.5 in /usr/local/lib/python3.10/dist-packages (from python-dateutil>=2.7->matplotlib) (1.16.0)\n",
      "Requirement already satisfied: datasets in /usr/local/lib/python3.10/dist-packages (3.2.0)\n",
      "Requirement already satisfied: filelock in /usr/local/lib/python3.10/dist-packages (from datasets) (3.16.1)\n",
      "Requirement already satisfied: numpy>=1.17 in /usr/local/lib/python3.10/dist-packages (from datasets) (1.26.4)\n",
      "Requirement already satisfied: pyarrow>=15.0.0 in /usr/local/lib/python3.10/dist-packages (from datasets) (18.1.0)\n",
      "Requirement already satisfied: dill<0.3.9,>=0.3.0 in /usr/local/lib/python3.10/dist-packages (from datasets) (0.3.8)\n",
      "Requirement already satisfied: pandas in /usr/local/lib/python3.10/dist-packages (from datasets) (2.1.4)\n",
      "Requirement already satisfied: requests>=2.32.2 in /usr/local/lib/python3.10/dist-packages (from datasets) (2.32.3)\n",
      "Requirement already satisfied: tqdm>=4.66.3 in /usr/local/lib/python3.10/dist-packages (from datasets) (4.66.5)\n",
      "Requirement already satisfied: xxhash in /usr/local/lib/python3.10/dist-packages (from datasets) (3.5.0)\n",
      "Requirement already satisfied: multiprocess<0.70.17 in /usr/local/lib/python3.10/dist-packages (from datasets) (0.70.16)\n",
      "Requirement already satisfied: fsspec<=2024.9.0,>=2023.1.0 in /usr/local/lib/python3.10/dist-packages (from fsspec[http]<=2024.9.0,>=2023.1.0->datasets) (2024.6.1)\n",
      "Requirement already satisfied: aiohttp in /usr/local/lib/python3.10/dist-packages (from datasets) (3.10.5)\n",
      "Requirement already satisfied: huggingface-hub>=0.23.0 in /usr/local/lib/python3.10/dist-packages (from datasets) (0.24.7)\n",
      "Requirement already satisfied: packaging in /usr/local/lib/python3.10/dist-packages (from datasets) (24.1)\n",
      "Requirement already satisfied: pyyaml>=5.1 in /usr/local/lib/python3.10/dist-packages (from datasets) (6.0.2)\n",
      "Requirement already satisfied: aiohappyeyeballs>=2.3.0 in /usr/local/lib/python3.10/dist-packages (from aiohttp->datasets) (2.4.0)\n",
      "Requirement already satisfied: aiosignal>=1.1.2 in /usr/local/lib/python3.10/dist-packages (from aiohttp->datasets) (1.3.1)\n",
      "Requirement already satisfied: attrs>=17.3.0 in /usr/local/lib/python3.10/dist-packages (from aiohttp->datasets) (24.2.0)\n",
      "Requirement already satisfied: frozenlist>=1.1.1 in /usr/local/lib/python3.10/dist-packages (from aiohttp->datasets) (1.4.1)\n",
      "Requirement already satisfied: multidict<7.0,>=4.5 in /usr/local/lib/python3.10/dist-packages (from aiohttp->datasets) (6.1.0)\n",
      "Requirement already satisfied: yarl<2.0,>=1.0 in /usr/local/lib/python3.10/dist-packages (from aiohttp->datasets) (1.11.1)\n",
      "Requirement already satisfied: async-timeout<5.0,>=4.0 in /usr/local/lib/python3.10/dist-packages (from aiohttp->datasets) (4.0.3)\n",
      "Requirement already satisfied: typing-extensions>=3.7.4.3 in /usr/local/lib/python3.10/dist-packages (from huggingface-hub>=0.23.0->datasets) (4.12.2)\n",
      "Requirement already satisfied: charset-normalizer<4,>=2 in /usr/local/lib/python3.10/dist-packages (from requests>=2.32.2->datasets) (3.3.2)\n",
      "Requirement already satisfied: idna<4,>=2.5 in /usr/local/lib/python3.10/dist-packages (from requests>=2.32.2->datasets) (3.10)\n",
      "Requirement already satisfied: urllib3<3,>=1.21.1 in /usr/local/lib/python3.10/dist-packages (from requests>=2.32.2->datasets) (2.2.3)\n",
      "Requirement already satisfied: certifi>=2017.4.17 in /usr/local/lib/python3.10/dist-packages (from requests>=2.32.2->datasets) (2024.8.30)\n",
      "Requirement already satisfied: python-dateutil>=2.8.2 in /usr/local/lib/python3.10/dist-packages (from pandas->datasets) (2.8.2)\n",
      "Requirement already satisfied: pytz>=2020.1 in /usr/local/lib/python3.10/dist-packages (from pandas->datasets) (2024.2)\n",
      "Requirement already satisfied: tzdata>=2022.1 in /usr/local/lib/python3.10/dist-packages (from pandas->datasets) (2024.1)\n",
      "Requirement already satisfied: six>=1.5 in /usr/local/lib/python3.10/dist-packages (from python-dateutil>=2.8.2->pandas->datasets) (1.16.0)\n",
      "Requirement already satisfied: wandb in /usr/local/lib/python3.10/dist-packages (0.19.1)\n",
      "Requirement already satisfied: click!=8.0.0,>=7.1 in /usr/local/lib/python3.10/dist-packages (from wandb) (8.1.7)\n",
      "Requirement already satisfied: docker-pycreds>=0.4.0 in /usr/local/lib/python3.10/dist-packages (from wandb) (0.4.0)\n",
      "Requirement already satisfied: gitpython!=3.1.29,>=1.0.0 in /usr/local/lib/python3.10/dist-packages (from wandb) (3.1.43)\n",
      "Requirement already satisfied: platformdirs in /usr/local/lib/python3.10/dist-packages (from wandb) (4.3.6)\n",
      "Requirement already satisfied: protobuf!=4.21.0,!=5.28.0,<6,>=3.19.0 in /usr/local/lib/python3.10/dist-packages (from wandb) (3.20.3)\n",
      "Requirement already satisfied: psutil>=5.0.0 in /usr/local/lib/python3.10/dist-packages (from wandb) (5.9.5)\n",
      "Requirement already satisfied: pydantic<3,>=2.6 in /usr/local/lib/python3.10/dist-packages (from wandb) (2.9.2)\n",
      "Requirement already satisfied: pyyaml in /usr/local/lib/python3.10/dist-packages (from wandb) (6.0.2)\n",
      "Requirement already satisfied: requests<3,>=2.0.0 in /usr/local/lib/python3.10/dist-packages (from wandb) (2.32.3)\n",
      "Requirement already satisfied: sentry-sdk>=2.0.0 in /usr/local/lib/python3.10/dist-packages (from wandb) (2.19.2)\n",
      "Requirement already satisfied: setproctitle in /usr/local/lib/python3.10/dist-packages (from wandb) (1.3.4)\n",
      "Requirement already satisfied: setuptools in /usr/local/lib/python3.10/dist-packages (from wandb) (71.0.4)\n",
      "Requirement already satisfied: typing-extensions<5,>=4.4 in /usr/local/lib/python3.10/dist-packages (from wandb) (4.12.2)\n",
      "Requirement already satisfied: six>=1.4.0 in /usr/local/lib/python3.10/dist-packages (from docker-pycreds>=0.4.0->wandb) (1.16.0)\n",
      "Requirement already satisfied: gitdb<5,>=4.0.1 in /usr/local/lib/python3.10/dist-packages (from gitpython!=3.1.29,>=1.0.0->wandb) (4.0.11)\n",
      "Requirement already satisfied: annotated-types>=0.6.0 in /usr/local/lib/python3.10/dist-packages (from pydantic<3,>=2.6->wandb) (0.7.0)\n",
      "Requirement already satisfied: pydantic-core==2.23.4 in /usr/local/lib/python3.10/dist-packages (from pydantic<3,>=2.6->wandb) (2.23.4)\n",
      "Requirement already satisfied: charset-normalizer<4,>=2 in /usr/local/lib/python3.10/dist-packages (from requests<3,>=2.0.0->wandb) (3.3.2)\n",
      "Requirement already satisfied: idna<4,>=2.5 in /usr/local/lib/python3.10/dist-packages (from requests<3,>=2.0.0->wandb) (3.10)\n",
      "Requirement already satisfied: urllib3<3,>=1.21.1 in /usr/local/lib/python3.10/dist-packages (from requests<3,>=2.0.0->wandb) (2.2.3)\n",
      "Requirement already satisfied: certifi>=2017.4.17 in /usr/local/lib/python3.10/dist-packages (from requests<3,>=2.0.0->wandb) (2024.8.30)\n",
      "Requirement already satisfied: smmap<6,>=3.0.1 in /usr/local/lib/python3.10/dist-packages (from gitdb<5,>=4.0.1->gitpython!=3.1.29,>=1.0.0->wandb) (5.0.1)\n",
      "Requirement already satisfied: ipywidgets in /usr/local/lib/python3.10/dist-packages (8.1.5)\n",
      "Requirement already satisfied: comm>=0.1.3 in /usr/local/lib/python3.10/dist-packages (from ipywidgets) (0.2.2)\n",
      "Requirement already satisfied: ipython>=6.1.0 in /usr/local/lib/python3.10/dist-packages (from ipywidgets) (7.34.0)\n",
      "Requirement already satisfied: traitlets>=4.3.1 in /usr/local/lib/python3.10/dist-packages (from ipywidgets) (5.7.1)\n",
      "Requirement already satisfied: widgetsnbextension~=4.0.12 in /usr/local/lib/python3.10/dist-packages (from ipywidgets) (4.0.13)\n",
      "Requirement already satisfied: jupyterlab-widgets~=3.0.12 in /usr/local/lib/python3.10/dist-packages (from ipywidgets) (3.0.13)\n",
      "Requirement already satisfied: setuptools>=18.5 in /usr/local/lib/python3.10/dist-packages (from ipython>=6.1.0->ipywidgets) (71.0.4)\n",
      "Requirement already satisfied: jedi>=0.16 in /usr/local/lib/python3.10/dist-packages (from ipython>=6.1.0->ipywidgets) (0.19.2)\n",
      "Requirement already satisfied: decorator in /usr/local/lib/python3.10/dist-packages (from ipython>=6.1.0->ipywidgets) (4.4.2)\n",
      "Requirement already satisfied: pickleshare in /usr/local/lib/python3.10/dist-packages (from ipython>=6.1.0->ipywidgets) (0.7.5)\n",
      "Requirement already satisfied: prompt-toolkit!=3.0.0,!=3.0.1,<3.1.0,>=2.0.0 in /usr/local/lib/python3.10/dist-packages (from ipython>=6.1.0->ipywidgets) (3.0.47)\n",
      "Requirement already satisfied: pygments in /usr/local/lib/python3.10/dist-packages (from ipython>=6.1.0->ipywidgets) (2.18.0)\n",
      "Requirement already satisfied: backcall in /usr/local/lib/python3.10/dist-packages (from ipython>=6.1.0->ipywidgets) (0.2.0)\n",
      "Requirement already satisfied: matplotlib-inline in /usr/local/lib/python3.10/dist-packages (from ipython>=6.1.0->ipywidgets) (0.1.7)\n",
      "Requirement already satisfied: pexpect>4.3 in /usr/local/lib/python3.10/dist-packages (from ipython>=6.1.0->ipywidgets) (4.9.0)\n",
      "Requirement already satisfied: parso<0.9.0,>=0.8.4 in /usr/local/lib/python3.10/dist-packages (from jedi>=0.16->ipython>=6.1.0->ipywidgets) (0.8.4)\n",
      "Requirement already satisfied: ptyprocess>=0.5 in /usr/local/lib/python3.10/dist-packages (from pexpect>4.3->ipython>=6.1.0->ipywidgets) (0.7.0)\n",
      "Requirement already satisfied: wcwidth in /usr/local/lib/python3.10/dist-packages (from prompt-toolkit!=3.0.0,!=3.0.1,<3.1.0,>=2.0.0->ipython>=6.1.0->ipywidgets) (0.2.13)\n"
     ]
    }
   ],
   "source": [
    "!pip install pytorch-lightning\n",
    "!pip install torchvision\n",
    "!pip install matplotlib\n",
    "!pip install datasets\n",
    "!pip install wandb\n",
    "!pip install --upgrade ipywidgets"
   ]
  },
  {
   "cell_type": "code",
   "execution_count": null,
   "metadata": {
    "trusted": true
   },
   "outputs": [],
   "source": [
    "import torch.nn as nn\n",
    "import torch.optim as optim\n",
    "import torch.nn.functional as F\n",
    "from torch.utils.data import DataLoader\n",
    "from torchvision import datasets, transforms, models\n",
    "import torchmetrics\n",
    "from torchvision.datasets import ImageFolder\n",
    "import pytorch_lightning as pl\n",
    "from pytorch_lightning.callbacks import ModelCheckpoint, EarlyStopping\n",
    "from pytorch_lightning.loggers import TensorBoardLogger\n",
    "import matplotlib.pyplot as plt\n",
    "from torch.utils.data import random_split\n",
    "import torch\n",
    "import numpy as np\n",
    "from datasets import load_dataset\n",
    "from torchvision.transforms import v2\n",
    "from torchvision.models import efficientnet_b7, EfficientNet_B7_Weights\n",
    "from torchvision.models import efficientnet_b0, EfficientNet_B0_Weights\n",
    "# from torchvision.models import efficientnet_b6, EfficientNet_B6_Weights\n",
    "from torchvision.models import vgg16, VGG16_Weights\n",
    "from torchvision.models import efficientnet_v2_l, EfficientNet_V2_L_Weights\n",
    "from torchvision.models import efficientnet_v2_s, EfficientNet_V2_S_Weights \n",
    "from pytorch_lightning.loggers import WandbLogger"
   ]
  },
  {
   "cell_type": "code",
   "execution_count": 3,
   "metadata": {
    "execution": {
     "iopub.execute_input": "2025-01-12T14:53:32.302967Z",
     "iopub.status.busy": "2025-01-12T14:53:32.302562Z",
     "iopub.status.idle": "2025-01-12T14:53:40.200311Z",
     "shell.execute_reply": "2025-01-12T14:53:40.199599Z",
     "shell.execute_reply.started": "2025-01-12T14:53:32.302939Z"
    },
    "trusted": true
   },
   "outputs": [
    {
     "name": "stderr",
     "output_type": "stream",
     "text": [
      "\u001b[34m\u001b[1mwandb\u001b[0m: Using wandb-core as the SDK backend.  Please refer to https://wandb.me/wandb-core for more information.\n",
      "\u001b[34m\u001b[1mwandb\u001b[0m: Currently logged in as: \u001b[33ms26048\u001b[0m (\u001b[33ms26048-polish-japanese-academy-of-information-technology-\u001b[0m). Use \u001b[1m`wandb login --relogin`\u001b[0m to force relogin\n"
     ]
    },
    {
     "data": {
      "text/plain": [
       "True"
      ]
     },
     "execution_count": 3,
     "metadata": {},
     "output_type": "execute_result"
    }
   ],
   "source": [
    "from pytorch_lightning.loggers import WandbLogger\n",
    "from kaggle_secrets import UserSecretsClient\n",
    "import wandb\n",
    "import os\n",
    "\n",
    "secret_label = \"wand_token\"\n",
    "secret_value = UserSecretsClient().get_secret(secret_label)\n",
    "\n",
    "os.environ[\"WANDB_API_KEY\"] = secret_value\n",
    "\n",
    "wandb_logger = WandbLogger(project=\"animation_types\")\n",
    "\n",
    "wandb.login()"
   ]
  },
  {
   "cell_type": "code",
   "execution_count": 4,
   "metadata": {
    "execution": {
     "iopub.execute_input": "2025-01-12T14:53:40.201998Z",
     "iopub.status.busy": "2025-01-12T14:53:40.201591Z",
     "iopub.status.idle": "2025-01-12T14:53:40.211395Z",
     "shell.execute_reply": "2025-01-12T14:53:40.210596Z",
     "shell.execute_reply.started": "2025-01-12T14:53:40.201975Z"
    },
    "trusted": true
   },
   "outputs": [],
   "source": [
    "class AnimationTypesDatamodule(pl.LightningDataModule):\n",
    "  def __init__(self, batch_size = 32):\n",
    "    super().__init__()\n",
    "    self.batch_size = batch_size\n",
    "  def setup(self, stage = None):\n",
    "    transform = v2.Compose([\n",
    "                        # v2.To\n",
    "                        v2.ToImage(),\n",
    "                        v2.Resize(256),\n",
    "                        v2.CenterCrop(224),\n",
    "                        v2.RandomHorizontalFlip(p=0.5),\n",
    "                        v2.RandomRotation(30),\n",
    "                        v2.RandomVerticalFlip(p=0.5),\n",
    "                        v2.ColorJitter(brightness=0.2, contrast=0.2, saturation=0.2, hue=0.1),\n",
    "                        v2.ToDtype(torch.float32, scale=True), # v2.ToTensor()\n",
    "                        v2.Normalize(mean=[0.485, 0.456, 0.406], std=[0.229, 0.224, 0.225]),\n",
    "                        ])\n",
    "\n",
    "\n",
    "    transform_vt = v2.Compose([\n",
    "                        v2.ToImage(),\n",
    "                        v2.Resize(256),\n",
    "                        v2.CenterCrop(224),\n",
    "                        v2.ToDtype(torch.float32, scale=True),\n",
    "                        v2.Normalize(mean=[0.485, 0.456, 0.406], std=[0.229, 0.224, 0.225]),\n",
    "                        ])\n",
    "\n",
    "\n",
    "    def transforms(examples):\n",
    "        examples[\"pixel_values\"] = [transform(img.convert(\"RGB\")) for img in examples[\"image\"]]\n",
    "        del examples[\"image\"]\n",
    "        return examples\n",
    "\n",
    "    def transforms_vt(examples):\n",
    "        examples[\"pixel_values\"] = [transform_vt(img.convert(\"RGB\")) for img in examples[\"image\"]]\n",
    "        del examples[\"image\"]\n",
    "        return examples\n",
    "\n",
    "    dataset = load_dataset(\"krowiemlekommm/ANIMATION_TYPES_3.0\")\n",
    "    \n",
    "    self.train_dataset = dataset[\"train\"].with_transform(transforms)\n",
    "    self.test_dataset = dataset[\"test\"].with_transform(transforms_vt)\n",
    "    self.val_dataset = dataset[\"validation\"].with_transform(transforms_vt)\n",
    "\n",
    "  def train_dataloader(self):\n",
    "    return  DataLoader(self.train_dataset, num_workers = 4, batch_size = self.batch_size, shuffle = True)\n",
    "  def test_dataloader(self):\n",
    "    return  DataLoader(self.test_dataset, num_workers = 4, batch_size = self.batch_size, shuffle = False)\n",
    "  def val_dataloader(self):\n",
    "    return  DataLoader(self.val_dataset, num_workers = 4, batch_size = self.batch_size, shuffle = False)"
   ]
  },
  {
   "cell_type": "code",
   "execution_count": 5,
   "metadata": {
    "execution": {
     "iopub.execute_input": "2025-01-12T14:53:40.212434Z",
     "iopub.status.busy": "2025-01-12T14:53:40.212195Z",
     "iopub.status.idle": "2025-01-12T14:53:40.232350Z",
     "shell.execute_reply": "2025-01-12T14:53:40.231500Z",
     "shell.execute_reply.started": "2025-01-12T14:53:40.212403Z"
    },
    "trusted": true
   },
   "outputs": [],
   "source": [
    "dm = AnimationTypesDatamodule()"
   ]
  },
  {
   "cell_type": "code",
   "execution_count": 6,
   "metadata": {
    "execution": {
     "iopub.execute_input": "2025-01-12T14:53:40.233459Z",
     "iopub.status.busy": "2025-01-12T14:53:40.233158Z",
     "iopub.status.idle": "2025-01-12T14:53:51.215852Z",
     "shell.execute_reply": "2025-01-12T14:53:51.214969Z",
     "shell.execute_reply.started": "2025-01-12T14:53:40.233428Z"
    },
    "trusted": true
   },
   "outputs": [
    {
     "data": {
      "application/vnd.jupyter.widget-view+json": {
       "model_id": "4924fc547294464d997cb1cb12926a3a",
       "version_major": 2,
       "version_minor": 0
      },
      "text/plain": [
       "README.md:   0%|          | 0.00/683 [00:00<?, ?B/s]"
      ]
     },
     "metadata": {},
     "output_type": "display_data"
    },
    {
     "data": {
      "application/vnd.jupyter.widget-view+json": {
       "model_id": "e95adca44f144811b861df064ccd1541",
       "version_major": 2,
       "version_minor": 0
      },
      "text/plain": [
       "train-00000-of-00001.parquet:   0%|          | 0.00/231M [00:00<?, ?B/s]"
      ]
     },
     "metadata": {},
     "output_type": "display_data"
    },
    {
     "data": {
      "application/vnd.jupyter.widget-view+json": {
       "model_id": "c700a845ed0d432a8c476c4f0d6c3b82",
       "version_major": 2,
       "version_minor": 0
      },
      "text/plain": [
       "validation-00000-of-00001.parquet:   0%|          | 0.00/58.5M [00:00<?, ?B/s]"
      ]
     },
     "metadata": {},
     "output_type": "display_data"
    },
    {
     "data": {
      "application/vnd.jupyter.widget-view+json": {
       "model_id": "0b022f7f88a7442dada0892b76ba4a47",
       "version_major": 2,
       "version_minor": 0
      },
      "text/plain": [
       "test-00000-of-00001.parquet:   0%|          | 0.00/46.5M [00:00<?, ?B/s]"
      ]
     },
     "metadata": {},
     "output_type": "display_data"
    },
    {
     "data": {
      "application/vnd.jupyter.widget-view+json": {
       "model_id": "52bc63cd57d04b7a905ddcee6f67a756",
       "version_major": 2,
       "version_minor": 0
      },
      "text/plain": [
       "Generating train split:   0%|          | 0/4966 [00:00<?, ? examples/s]"
      ]
     },
     "metadata": {},
     "output_type": "display_data"
    },
    {
     "data": {
      "application/vnd.jupyter.widget-view+json": {
       "model_id": "fc2cce5ebf514ef5b80d2e4524c55b84",
       "version_major": 2,
       "version_minor": 0
      },
      "text/plain": [
       "Generating validation split:   0%|          | 0/1027 [00:00<?, ? examples/s]"
      ]
     },
     "metadata": {},
     "output_type": "display_data"
    },
    {
     "data": {
      "application/vnd.jupyter.widget-view+json": {
       "model_id": "55c36e8d18974ef486514c16d2e3678b",
       "version_major": 2,
       "version_minor": 0
      },
      "text/plain": [
       "Generating test split:   0%|          | 0/1100 [00:00<?, ? examples/s]"
      ]
     },
     "metadata": {},
     "output_type": "display_data"
    }
   ],
   "source": [
    "dm.setup()"
   ]
  },
  {
   "cell_type": "code",
   "execution_count": 7,
   "metadata": {
    "execution": {
     "iopub.execute_input": "2025-01-12T14:53:51.217091Z",
     "iopub.status.busy": "2025-01-12T14:53:51.216777Z",
     "iopub.status.idle": "2025-01-12T14:53:51.376255Z",
     "shell.execute_reply": "2025-01-12T14:53:51.375399Z",
     "shell.execute_reply.started": "2025-01-12T14:53:51.217060Z"
    },
    "trusted": true
   },
   "outputs": [
    {
     "data": {
      "text/plain": [
       "{'label': 0,\n",
       " 'pixel_values': Image([[[-2.0494, -2.0494, -2.0494,  ..., -2.0494, -2.0494, -2.0494],\n",
       "         [-2.0494, -2.0494, -2.0494,  ..., -2.0494, -2.0494, -2.0494],\n",
       "         [-2.0494, -2.0494, -2.0494,  ..., -2.0494, -2.0494, -2.0494],\n",
       "         ...,\n",
       "         [-2.0494, -2.0494, -2.0494,  ..., -2.0494, -2.0494, -2.0494],\n",
       "         [-2.0494, -2.0494, -2.0494,  ..., -2.0494, -2.0494, -2.0494],\n",
       "         [-2.0494, -2.0494, -2.0494,  ..., -2.0494, -2.0494, -2.0494]],\n",
       " \n",
       "        [[-1.9657, -1.9657, -1.9657,  ..., -1.9657, -1.9657, -1.9657],\n",
       "         [-1.9657, -1.9657, -1.9657,  ..., -1.9657, -1.9657, -1.9657],\n",
       "         [-1.9657, -1.9657, -1.9657,  ..., -1.9657, -1.9657, -1.9657],\n",
       "         ...,\n",
       "         [-1.9657, -1.9657, -1.9657,  ..., -1.9657, -1.9657, -1.9657],\n",
       "         [-1.9657, -1.9657, -1.9657,  ..., -1.9657, -1.9657, -1.9657],\n",
       "         [-1.9657, -1.9657, -1.9657,  ..., -1.9657, -1.9657, -1.9657]],\n",
       " \n",
       "        [[-1.7347, -1.7347, -1.7347,  ..., -1.7347, -1.7347, -1.7347],\n",
       "         [-1.7347, -1.7347, -1.7347,  ..., -1.7347, -1.7347, -1.7347],\n",
       "         [-1.7347, -1.7347, -1.7347,  ..., -1.7347, -1.7347, -1.7347],\n",
       "         ...,\n",
       "         [-1.7347, -1.7347, -1.7347,  ..., -1.7347, -1.7347, -1.7347],\n",
       "         [-1.7347, -1.7347, -1.7347,  ..., -1.7347, -1.7347, -1.7347],\n",
       "         [-1.7347, -1.7347, -1.7347,  ..., -1.7347, -1.7347, -1.7347]]], )}"
      ]
     },
     "execution_count": 7,
     "metadata": {},
     "output_type": "execute_result"
    }
   ],
   "source": [
    "dm.train_dataset[0]"
   ]
  },
  {
   "cell_type": "code",
   "execution_count": 8,
   "metadata": {
    "execution": {
     "iopub.execute_input": "2025-01-12T14:53:51.377401Z",
     "iopub.status.busy": "2025-01-12T14:53:51.377102Z",
     "iopub.status.idle": "2025-01-12T14:53:52.357936Z",
     "shell.execute_reply": "2025-01-12T14:53:52.357006Z",
     "shell.execute_reply.started": "2025-01-12T14:53:51.377381Z"
    },
    "trusted": true
   },
   "outputs": [
    {
     "data": {
      "text/plain": [
       "<matplotlib.image.AxesImage at 0x7a6feafe5ae0>"
      ]
     },
     "execution_count": 8,
     "metadata": {},
     "output_type": "execute_result"
    },
    {
     "data": {
      "image/png": "[encoded data removed]",
      "text/plain": [
       "<Figure size 640x480 with 1 Axes>"
      ]
     },
     "metadata": {},
     "output_type": "display_data"
    }
   ],
   "source": [
    "img = dm.train_dataset[0][\"pixel_values\"]\n",
    "img = img.permute(1, 2, 0)\n",
    "plt.imshow(img)"
   ]
  },
  {
   "cell_type": "code",
   "execution_count": 9,
   "metadata": {
    "execution": {
     "iopub.execute_input": "2025-01-12T14:53:52.360550Z",
     "iopub.status.busy": "2025-01-12T14:53:52.360279Z",
     "iopub.status.idle": "2025-01-12T14:53:52.373986Z",
     "shell.execute_reply": "2025-01-12T14:53:52.373139Z",
     "shell.execute_reply.started": "2025-01-12T14:53:52.360501Z"
    },
    "trusted": true
   },
   "outputs": [],
   "source": [
    "import torch\n",
    "import torch.nn.functional as F\n",
    "import torch.optim as optim\n",
    "import pytorch_lightning as pl\n",
    "import torchmetrics\n",
    "import torch.nn as nn\n",
    "\n",
    "class MovieFrame(pl.LightningModule):\n",
    "    def __init__(self, layer1_size, dropout_rate, lr, num_classes=4):\n",
    "        super().__init__()\n",
    "        self.model = models.efficientnet_b0(weights = EfficientNet_B0_Weights.IMAGENET1K_V1) \n",
    "        self.backbone = self.model.features\n",
    "        self.pooling = self.model.avgpool\n",
    "        self.dropout = nn.Dropout(p=dropout_rate, inplace=True)\n",
    "        self.fc1 = nn.Linear(1280 , layer1_size)\n",
    "        self.fc2 = nn.Linear(layer1_size, num_classes)\n",
    "        self.lr = lr\n",
    "        self.loss_function = nn.CrossEntropyLoss()\n",
    "\n",
    "        self.train_acc = torchmetrics.Accuracy(task=\"multiclass\", num_classes=num_classes)\n",
    "        self.val_acc = torchmetrics.Accuracy(task=\"multiclass\", num_classes=num_classes)\n",
    "        self.test_acc = torchmetrics.Accuracy(task=\"multiclass\", num_classes=num_classes)\n",
    "\n",
    "        self.train_macro_f1 = torchmetrics.F1Score(num_classes=num_classes, task=\"multiclass\", average='macro')\n",
    "        self.val_macro_f1 = torchmetrics.F1Score(num_classes=num_classes, task=\"multiclass\", average='macro')\n",
    "        self.test_f1 = torchmetrics.F1Score(num_classes=num_classes, task=\"multiclass\", average='macro')\n",
    "        \n",
    "\n",
    "        self.train_macro_recall = torchmetrics.Recall(num_classes=num_classes, task=\"multiclass\", average='macro')\n",
    "        self.val_macro_recall = torchmetrics.Recall(num_classes=num_classes, task=\"multiclass\", average='macro')\n",
    "\n",
    "        self.train_macro_precision = torchmetrics.Precision(num_classes=num_classes, task=\"multiclass\", average='macro')\n",
    "        self.val_macro_precision = torchmetrics.Precision(num_classes=num_classes, task=\"multiclass\", average='macro')\n",
    "\n",
    "        \n",
    "        for param in self.backbone.parameters():\n",
    "            param.requires_grad = False\n",
    "\n",
    "    def forward(self, x):\n",
    "      self.backbone.eval()\n",
    "      with torch.no_grad():\n",
    "          x = self.backbone(x)\n",
    "          x = self.pooling(x).flatten(1)\n",
    "      x = self.dropout(x)\n",
    "      x = F.relu(x)\n",
    "      x = self.fc1(x)\n",
    "      x = self.dropout(x)\n",
    "      x = F.relu(x)\n",
    "      x = self.fc2(x)\n",
    "\n",
    "      return x\n",
    "    \n",
    "\n",
    "    def configure_optimizers(self):\n",
    "      optimizer =  optim.Adam(self.parameters(), lr=self.lr)\n",
    "      return optimizer\n",
    "\n",
    "    def training_step(self, train_batch, batch_idx):\n",
    "      inputs, labels = train_batch[\"pixel_values\"], train_batch[\"label\"]\n",
    "\n",
    "\n",
    "      outputs = self.forward(inputs.float())\n",
    "      loss = self.loss_function(outputs, labels)\n",
    "\n",
    "\n",
    "      self.log('train_loss', loss, on_step = True, on_epoch = True)\n",
    "\n",
    "      outputs = F.softmax(outputs, dim =1)\n",
    "\n",
    "      self.train_acc(outputs, labels)\n",
    "      self.log('train_acc', self.train_acc, on_epoch=True, on_step= False)\n",
    "\n",
    "      self.train_macro_f1(outputs, labels)\n",
    "      self.log('train_macro_f1', self.train_macro_f1, on_epoch=True, on_step= False)\n",
    "\n",
    "      self.train_macro_recall(outputs, labels)\n",
    "      self.log('train_macro_recall', self.train_macro_recall, on_epoch=True, on_step= False)\n",
    "\n",
    "      self.train_macro_precision(outputs, labels)\n",
    "      self.log('train_macro_precision', self.train_macro_precision, on_epoch=True, on_step= False)\n",
    "\n",
    "\n",
    "\n",
    "      return loss\n",
    "\n",
    "    def validation_step(self, val_batch, batch_idx):\n",
    "      inputs, labels = val_batch[\"pixel_values\"], val_batch[\"label\"]\n",
    "\n",
    "      outputs = self.forward(inputs.float())\n",
    "      loss = self.loss_function(outputs, labels)\n",
    "\n",
    "      self.log('val_loss', loss,  on_step= True, on_epoch = True, sync_dist=True)\n",
    "\n",
    "      outputs = F.softmax(outputs, dim =1)\n",
    "\n",
    "      self.val_acc(outputs, labels)\n",
    "      self.log('val_acc', self.val_acc, on_epoch=True, on_step= False)\n",
    "\n",
    "      self.val_macro_f1(outputs, labels)\n",
    "      self.log('val_macro_f1', self.val_macro_f1, on_epoch=True, on_step= False)\n",
    "\n",
    "      self.val_macro_recall(outputs, labels)\n",
    "      self.log('val_macro_recall', self.val_macro_recall, on_epoch=True, on_step= False)\n",
    "\n",
    "      self.val_macro_precision(outputs, labels)\n",
    "      self.log('val_macro_precision', self.val_macro_precision, on_epoch=True, on_step= False)\n",
    "\n",
    "      return loss\n",
    "\n",
    "\n",
    "    def test_step(self, batch, batch_idx):\n",
    "        # this is the test loop\n",
    "        inputs, labels = batch[\"pixel_values\"], batch[\"label\"]\n",
    "        outputs = self.forward(inputs.float())\n",
    "        \n",
    "        loss = self.loss_function(outputs, labels)\n",
    "        self.log(\"test_loss\", loss)\n",
    "\n",
    "        self.test_acc(outputs, labels)\n",
    "        self.log('test_acc', self.test_acc)\n",
    "        \n",
    "        self.test_f1(outputs, labels)\n",
    "        self.log('test_f1', self.test_f1)\n"
   ]
  },
  {
   "cell_type": "code",
   "execution_count": 10,
   "metadata": {
    "execution": {
     "iopub.execute_input": "2025-01-12T14:53:52.375406Z",
     "iopub.status.busy": "2025-01-12T14:53:52.375115Z",
     "iopub.status.idle": "2025-01-12T14:53:52.394134Z",
     "shell.execute_reply": "2025-01-12T14:53:52.393445Z",
     "shell.execute_reply.started": "2025-01-12T14:53:52.375386Z"
    },
    "trusted": true
   },
   "outputs": [],
   "source": [
    "sweep_configuration = {\n",
    "    'method': 'random',\n",
    "    'name': 'effnet_sweep',\n",
    "    'metric': {'goal': 'maximize', 'name': 'val_macro_f1'},\n",
    "    'parameters': {\n",
    "        'batch_size': {'values': [32, 64, 128]},\n",
    "        'n_epochs': {'values': [10, 20, 30]},\n",
    "        'learning_rate': {'max': 0.01, 'min': 0.00001},\n",
    "        'layer1_size': {'values': [256, 512, 1024]},\n",
    "        'dropout_rate': {'values': [0.2, 0.3, 0.4, 0.5, 0.6, 0.7]},\n",
    "    }\n",
    "}"
   ]
  },
  {
   "cell_type": "code",
   "execution_count": 11,
   "metadata": {
    "execution": {
     "iopub.execute_input": "2025-01-12T14:53:52.395053Z",
     "iopub.status.busy": "2025-01-12T14:53:52.394831Z",
     "iopub.status.idle": "2025-01-12T14:53:52.403450Z",
     "shell.execute_reply": "2025-01-12T14:53:52.402720Z",
     "shell.execute_reply.started": "2025-01-12T14:53:52.395035Z"
    },
    "trusted": true
   },
   "outputs": [],
   "source": [
    "def sweep_train(config=None):\n",
    "    with wandb.init(config=config) as run:\n",
    "        config = wandb.config\n",
    "        wandb_logger = WandbLogger(project=\"effnet_sweep\", log_model=True, name=f\"sweep_run_{wandb.run.id}\")\n",
    "        name_str = f\"EfficienNet-B0_{config.layer1_size}_{str(config.learning_rate)[:8]}\"\n",
    "        run.name = name_str\n",
    "        dm = AnimationTypesDatamodule(batch_size=config.batch_size)\n",
    "        dm.setup()\n",
    "\n",
    "        model = MovieFrame(\n",
    "            num_classes=4,\n",
    "            layer1_size=config.layer1_size,\n",
    "            dropout_rate=config.dropout_rate,\n",
    "            lr=config.learning_rate,\n",
    "        )\n",
    "\n",
    "        trainer = pl.Trainer(accelerator=\"gpu\",\n",
    "                             logger=wandb_logger,\n",
    "                             max_epochs=config.n_epochs,\n",
    "                            callbacks=[EarlyStopping(monitor=\"val_macro_f1\", mode=\"max\", patience=3)])\n",
    "        trainer.fit(model, dm)\n",
    "        trainer.test(model,dm)\n",
    "        wandb.finish()\n"
   ]
  },
  {
   "cell_type": "code",
   "execution_count": 12,
   "metadata": {
    "execution": {
     "iopub.execute_input": "2025-01-12T14:53:52.404515Z",
     "iopub.status.busy": "2025-01-12T14:53:52.404166Z",
     "iopub.status.idle": "2025-01-12T14:53:52.676171Z",
     "shell.execute_reply": "2025-01-12T14:53:52.675523Z",
     "shell.execute_reply.started": "2025-01-12T14:53:52.404473Z"
    },
    "trusted": true
   },
   "outputs": [
    {
     "name": "stdout",
     "output_type": "stream",
     "text": [
      "Create sweep with ID: dmftq1qt\n",
      "Sweep URL: https://wandb.ai/s26048-polish-japanese-academy-of-information-technology-/effnet_sweep/sweeps/dmftq1qt\n"
     ]
    }
   ],
   "source": [
    "sweep_id = wandb.sweep(sweep=sweep_configuration, project='effnet_sweep')"
   ]
  },
  {
   "cell_type": "code",
   "execution_count": 13,
   "metadata": {
    "execution": {
     "iopub.execute_input": "2025-01-12T14:53:52.677374Z",
     "iopub.status.busy": "2025-01-12T14:53:52.677106Z",
     "iopub.status.idle": "2025-01-12T18:27:06.633561Z",
     "shell.execute_reply": "2025-01-12T18:27:06.632548Z",
     "shell.execute_reply.started": "2025-01-12T14:53:52.677352Z"
    },
    "trusted": true
   },
   "outputs": [
    {
     "name": "stderr",
     "output_type": "stream",
     "text": [
      "\u001b[34m\u001b[1mwandb\u001b[0m: Agent Starting Run: xu6pun4t with config:\n",
      "\u001b[34m\u001b[1mwandb\u001b[0m: \tbatch_size: 32\n",
      "\u001b[34m\u001b[1mwandb\u001b[0m: \tdropout_rate: 0.4\n",
      "\u001b[34m\u001b[1mwandb\u001b[0m: \tlayer1_size: 256\n",
      "\u001b[34m\u001b[1mwandb\u001b[0m: \tlearning_rate: 0.00162947803269243\n",
      "\u001b[34m\u001b[1mwandb\u001b[0m: \tn_epochs: 10\n"
     ]
    },
    {
     "data": {
      "text/html": [
       "Tracking run with wandb version 0.19.1"
      ],
      "text/plain": [
       "<IPython.core.display.HTML object>"
      ]
     },
     "metadata": {},
     "output_type": "display_data"
    },
    {
     "data": {
      "text/html": [
       "Run data is saved locally in <code>/kaggle/working/wandb/run-20250112_145358-xu6pun4t</code>"
      ],
      "text/plain": [
       "<IPython.core.display.HTML object>"
      ]
     },
     "metadata": {},
     "output_type": "display_data"
    },
    {
     "data": {
      "text/html": [
       "Syncing run <strong><a href='https://wandb.ai/s26048-polish-japanese-academy-of-information-technology-/effnet_sweep/runs/xu6pun4t' target=\"_blank\">dark-sweep-1</a></strong> to <a href='https://wandb.ai/s26048-polish-japanese-academy-of-information-technology-/effnet_sweep' target=\"_blank\">Weights & Biases</a> (<a href='https://wandb.me/developer-guide' target=\"_blank\">docs</a>)<br>Sweep page: <a href='https://wandb.ai/s26048-polish-japanese-academy-of-information-technology-/effnet_sweep/sweeps/dmftq1qt' target=\"_blank\">https://wandb.ai/s26048-polish-japanese-academy-of-information-technology-/effnet_sweep/sweeps/dmftq1qt</a>"
      ],
      "text/plain": [
       "<IPython.core.display.HTML object>"
      ]
     },
     "metadata": {},
     "output_type": "display_data"
    },
    {
     "data": {
      "text/html": [
       " View project at <a href='https://wandb.ai/s26048-polish-japanese-academy-of-information-technology-/effnet_sweep' target=\"_blank\">https://wandb.ai/s26048-polish-japanese-academy-of-information-technology-/effnet_sweep</a>"
      ],
      "text/plain": [
       "<IPython.core.display.HTML object>"
      ]
     },
     "metadata": {},
     "output_type": "display_data"
    },
    {
     "data": {
      "text/html": [
       " View sweep at <a href='https://wandb.ai/s26048-polish-japanese-academy-of-information-technology-/effnet_sweep/sweeps/dmftq1qt' target=\"_blank\">https://wandb.ai/s26048-polish-japanese-academy-of-information-technology-/effnet_sweep/sweeps/dmftq1qt</a>"
      ],
      "text/plain": [
       "<IPython.core.display.HTML object>"
      ]
     },
     "metadata": {},
     "output_type": "display_data"
    },
    {
     "data": {
      "text/html": [
       " View run at <a href='https://wandb.ai/s26048-polish-japanese-academy-of-information-technology-/effnet_sweep/runs/xu6pun4t' target=\"_blank\">https://wandb.ai/s26048-polish-japanese-academy-of-information-technology-/effnet_sweep/runs/xu6pun4t</a>"
      ],
      "text/plain": [
       "<IPython.core.display.HTML object>"
      ]
     },
     "metadata": {},
     "output_type": "display_data"
    },
    {
     "name": "stderr",
     "output_type": "stream",
     "text": [
      "Downloading: \"https://download.pytorch.org/models/efficientnet_b0_rwightman-7f5810bc.pth\" to /root/.cache/torch/hub/checkpoints/efficientnet_b0_rwightman-7f5810bc.pth\n",
      "100%|██████████| 20.5M/20.5M [00:00<00:00, 90.8MB/s]\n",
      "/usr/local/lib/python3.10/dist-packages/pytorch_lightning/loggers/wandb.py:396: There is a wandb run already in progress and newly created instances of `WandbLogger` will reuse this run. If this is not desired, call `wandb.finish()` before instantiating `WandbLogger`.\n"
     ]
    },
    {
     "data": {
      "application/vnd.jupyter.widget-view+json": {
       "model_id": "",
       "version_major": 2,
       "version_minor": 0
      },
      "text/plain": [
       "Sanity Checking: |          | 0/? [00:00<?, ?it/s]"
      ]
     },
     "metadata": {},
     "output_type": "display_data"
    },
    {
     "data": {
      "application/vnd.jupyter.widget-view+json": {
       "model_id": "24ab58d3694f45d6ac810443635fa22b",
       "version_major": 2,
       "version_minor": 0
      },
      "text/plain": [
       "Training: |          | 0/? [00:00<?, ?it/s]"
      ]
     },
     "metadata": {},
     "output_type": "display_data"
    },
    {
     "data": {
      "application/vnd.jupyter.widget-view+json": {
       "model_id": "",
       "version_major": 2,
       "version_minor": 0
      },
      "text/plain": [
       "Validation: |          | 0/? [00:00<?, ?it/s]"
      ]
     },
     "metadata": {},
     "output_type": "display_data"
    },
    {
     "data": {
      "application/vnd.jupyter.widget-view+json": {
       "model_id": "",
       "version_major": 2,
       "version_minor": 0
      },
      "text/plain": [
       "Validation: |          | 0/? [00:00<?, ?it/s]"
      ]
     },
     "metadata": {},
     "output_type": "display_data"
    },
    {
     "data": {
      "application/vnd.jupyter.widget-view+json": {
       "model_id": "",
       "version_major": 2,
       "version_minor": 0
      },
      "text/plain": [
       "Validation: |          | 0/? [00:00<?, ?it/s]"
      ]
     },
     "metadata": {},
     "output_type": "display_data"
    },
    {
     "data": {
      "application/vnd.jupyter.widget-view+json": {
       "model_id": "",
       "version_major": 2,
       "version_minor": 0
      },
      "text/plain": [
       "Validation: |          | 0/? [00:00<?, ?it/s]"
      ]
     },
     "metadata": {},
     "output_type": "display_data"
    },
    {
     "data": {
      "application/vnd.jupyter.widget-view+json": {
       "model_id": "",
       "version_major": 2,
       "version_minor": 0
      },
      "text/plain": [
       "Validation: |          | 0/? [00:00<?, ?it/s]"
      ]
     },
     "metadata": {},
     "output_type": "display_data"
    },
    {
     "data": {
      "application/vnd.jupyter.widget-view+json": {
       "model_id": "",
       "version_major": 2,
       "version_minor": 0
      },
      "text/plain": [
       "Validation: |          | 0/? [00:00<?, ?it/s]"
      ]
     },
     "metadata": {},
     "output_type": "display_data"
    },
    {
     "data": {
      "application/vnd.jupyter.widget-view+json": {
       "model_id": "220e7e4690fe4e3fa3665a0c88715e4e",
       "version_major": 2,
       "version_minor": 0
      },
      "text/plain": [
       "Testing: |          | 0/? [00:00<?, ?it/s]"
      ]
     },
     "metadata": {},
     "output_type": "display_data"
    },
    {
     "data": {
      "text/html": [
       "<pre style=\"white-space:pre;overflow-x:auto;line-height:normal;font-family:Menlo,'DejaVu Sans Mono',consolas,'Courier New',monospace\">┏━━━━━━━━━━━━━━━━━━━━━━━━━━━┳━━━━━━━━━━━━━━━━━━━━━━━━━━━┓\n",
       "┃<span style=\"font-weight: bold\">        Test metric        </span>┃<span style=\"font-weight: bold\">       DataLoader 0        </span>┃\n",
       "┡━━━━━━━━━━━━━━━━━━━━━━━━━━━╇━━━━━━━━━━━━━━━━━━━━━━━━━━━┩\n",
       "│<span style=\"color: #008080; text-decoration-color: #008080\">         test_acc          </span>│<span style=\"color: #800080; text-decoration-color: #800080\">    0.7618181705474854     </span>│\n",
       "│<span style=\"color: #008080; text-decoration-color: #008080\">          test_f1          </span>│<span style=\"color: #800080; text-decoration-color: #800080\">    0.7621335387229919     </span>│\n",
       "│<span style=\"color: #008080; text-decoration-color: #008080\">         test_loss         </span>│<span style=\"color: #800080; text-decoration-color: #800080\">    0.5762776136398315     </span>│\n",
       "└───────────────────────────┴───────────────────────────┘\n",
       "</pre>\n"
      ],
      "text/plain": [
       "┏━━━━━━━━━━━━━━━━━━━━━━━━━━━┳━━━━━━━━━━━━━━━━━━━━━━━━━━━┓\n",
       "┃\u001b[1m \u001b[0m\u001b[1m       Test metric       \u001b[0m\u001b[1m \u001b[0m┃\u001b[1m \u001b[0m\u001b[1m      DataLoader 0       \u001b[0m\u001b[1m \u001b[0m┃\n",
       "┡━━━━━━━━━━━━━━━━━━━━━━━━━━━╇━━━━━━━━━━━━━━━━━━━━━━━━━━━┩\n",
       "│\u001b[36m \u001b[0m\u001b[36m        test_acc         \u001b[0m\u001b[36m \u001b[0m│\u001b[35m \u001b[0m\u001b[35m   0.7618181705474854    \u001b[0m\u001b[35m \u001b[0m│\n",
       "│\u001b[36m \u001b[0m\u001b[36m         test_f1         \u001b[0m\u001b[36m \u001b[0m│\u001b[35m \u001b[0m\u001b[35m   0.7621335387229919    \u001b[0m\u001b[35m \u001b[0m│\n",
       "│\u001b[36m \u001b[0m\u001b[36m        test_loss        \u001b[0m\u001b[36m \u001b[0m│\u001b[35m \u001b[0m\u001b[35m   0.5762776136398315    \u001b[0m\u001b[35m \u001b[0m│\n",
       "└───────────────────────────┴───────────────────────────┘\n"
      ]
     },
     "metadata": {},
     "output_type": "display_data"
    },
    {
     "data": {
      "text/html": [],
      "text/plain": [
       "<IPython.core.display.HTML object>"
      ]
     },
     "metadata": {},
     "output_type": "display_data"
    },
    {
     "data": {
      "text/html": [
       "<br>    <style><br>        .wandb-row {<br>            display: flex;<br>            flex-direction: row;<br>            flex-wrap: wrap;<br>            justify-content: flex-start;<br>            width: 100%;<br>        }<br>        .wandb-col {<br>            display: flex;<br>            flex-direction: column;<br>            flex-basis: 100%;<br>            flex: 1;<br>            padding: 10px;<br>        }<br>    </style><br><div class=\"wandb-row\"><div class=\"wandb-col\"><h3>Run history:</h3><br/><table class=\"wandb\"><tr><td>epoch</td><td>▁▁▁▁▁▂▂▂▂▂▃▃▃▃▃▅▅▅▅▅▆▆▆▆▆▇▇▇▇▇█</td></tr><tr><td>test_acc</td><td>▁</td></tr><tr><td>test_f1</td><td>▁</td></tr><tr><td>test_loss</td><td>▁</td></tr><tr><td>train_acc</td><td>▁▅▇█▇█</td></tr><tr><td>train_loss_epoch</td><td>█▃▂▁▁▁</td></tr><tr><td>train_loss_step</td><td>▄▅█▅▄▅▄▂▄▃▆▅▆▃▇▄▁▄</td></tr><tr><td>train_macro_f1</td><td>▁▅▇█▇█</td></tr><tr><td>train_macro_precision</td><td>▁▅▇█▇█</td></tr><tr><td>train_macro_recall</td><td>▁▅▇█▇█</td></tr><tr><td>trainer/global_step</td><td>▂▁▁▁▁▁▄▁▁▁▁▁▂▂▂▂▂▂▂▂▂▂▂▂▂█▂▂▂▂▂█▂▂▂▃▃▃▃▃</td></tr><tr><td>val_acc</td><td>▁▅█▅▅▇</td></tr><tr><td>val_loss_epoch</td><td>█▃▁▂▂▁</td></tr><tr><td>val_loss_step</td><td>▁▃▄▄▄▅▅▆▃▁▆▅▃▄▄▃▂▅▆▅▃▂▃▃▃▃█▆▂▄▃▃▄▂▃▄▄▃▆▆</td></tr><tr><td>val_macro_f1</td><td>▁▄█▄▅▇</td></tr><tr><td>val_macro_precision</td><td>▁▁█▅▄▇</td></tr><tr><td>val_macro_recall</td><td>▁▅█▅▅▇</td></tr></table><br/></div><div class=\"wandb-col\"><h3>Run summary:</h3><br/><table class=\"wandb\"><tr><td>epoch</td><td>6</td></tr><tr><td>test_acc</td><td>0.76182</td></tr><tr><td>test_f1</td><td>0.76213</td></tr><tr><td>test_loss</td><td>0.57628</td></tr><tr><td>train_acc</td><td>0.74104</td></tr><tr><td>train_loss_epoch</td><td>0.63843</td></tr><tr><td>train_loss_step</td><td>0.64735</td></tr><tr><td>train_macro_f1</td><td>0.73798</td></tr><tr><td>train_macro_precision</td><td>0.73705</td></tr><tr><td>train_macro_recall</td><td>0.7393</td></tr><tr><td>trainer/global_step</td><td>936</td></tr><tr><td>val_acc</td><td>0.82765</td></tr><tr><td>val_loss_epoch</td><td>0.43764</td></tr><tr><td>val_loss_step</td><td>0.18997</td></tr><tr><td>val_macro_f1</td><td>0.82264</td></tr><tr><td>val_macro_precision</td><td>0.82973</td></tr><tr><td>val_macro_recall</td><td>0.82137</td></tr></table><br/></div></div>"
      ],
      "text/plain": [
       "<IPython.core.display.HTML object>"
      ]
     },
     "metadata": {},
     "output_type": "display_data"
    },
    {
     "data": {
      "text/html": [
       " View run <strong style=\"color:#cdcd00\">EfficienNet-B0_256_0.001629</strong> at: <a href='https://wandb.ai/s26048-polish-japanese-academy-of-information-technology-/effnet_sweep/runs/xu6pun4t' target=\"_blank\">https://wandb.ai/s26048-polish-japanese-academy-of-information-technology-/effnet_sweep/runs/xu6pun4t</a><br> View project at: <a href='https://wandb.ai/s26048-polish-japanese-academy-of-information-technology-/effnet_sweep' target=\"_blank\">https://wandb.ai/s26048-polish-japanese-academy-of-information-technology-/effnet_sweep</a><br>Synced 5 W&B file(s), 0 media file(s), 2 artifact file(s) and 0 other file(s)"
      ],
      "text/plain": [
       "<IPython.core.display.HTML object>"
      ]
     },
     "metadata": {},
     "output_type": "display_data"
    },
    {
     "data": {
      "text/html": [
       "Find logs at: <code>./wandb/run-20250112_145358-xu6pun4t/logs</code>"
      ],
      "text/plain": [
       "<IPython.core.display.HTML object>"
      ]
     },
     "metadata": {},
     "output_type": "display_data"
    },
    {
     "name": "stderr",
     "output_type": "stream",
     "text": [
      "\u001b[34m\u001b[1mwandb\u001b[0m: Agent Starting Run: zeort4k3 with config:\n",
      "\u001b[34m\u001b[1mwandb\u001b[0m: \tbatch_size: 64\n",
      "\u001b[34m\u001b[1mwandb\u001b[0m: \tdropout_rate: 0.4\n",
      "\u001b[34m\u001b[1mwandb\u001b[0m: \tlayer1_size: 1024\n",
      "\u001b[34m\u001b[1mwandb\u001b[0m: \tlearning_rate: 0.00706964964963106\n",
      "\u001b[34m\u001b[1mwandb\u001b[0m: \tn_epochs: 20\n"
     ]
    },
    {
     "data": {
      "text/html": [
       "Tracking run with wandb version 0.19.1"
      ],
      "text/plain": [
       "<IPython.core.display.HTML object>"
      ]
     },
     "metadata": {},
     "output_type": "display_data"
    },
    {
     "data": {
      "text/html": [
       "Run data is saved locally in <code>/kaggle/working/wandb/run-20250112_145938-zeort4k3</code>"
      ],
      "text/plain": [
       "<IPython.core.display.HTML object>"
      ]
     },
     "metadata": {},
     "output_type": "display_data"
    },
    {
     "data": {
      "text/html": [
       "Syncing run <strong><a href='https://wandb.ai/s26048-polish-japanese-academy-of-information-technology-/effnet_sweep/runs/zeort4k3' target=\"_blank\">ancient-sweep-2</a></strong> to <a href='https://wandb.ai/s26048-polish-japanese-academy-of-information-technology-/effnet_sweep' target=\"_blank\">Weights & Biases</a> (<a href='https://wandb.me/developer-guide' target=\"_blank\">docs</a>)<br>Sweep page: <a href='https://wandb.ai/s26048-polish-japanese-academy-of-information-technology-/effnet_sweep/sweeps/dmftq1qt' target=\"_blank\">https://wandb.ai/s26048-polish-japanese-academy-of-information-technology-/effnet_sweep/sweeps/dmftq1qt</a>"
      ],
      "text/plain": [
       "<IPython.core.display.HTML object>"
      ]
     },
     "metadata": {},
     "output_type": "display_data"
    },
    {
     "data": {
      "text/html": [
       " View project at <a href='https://wandb.ai/s26048-polish-japanese-academy-of-information-technology-/effnet_sweep' target=\"_blank\">https://wandb.ai/s26048-polish-japanese-academy-of-information-technology-/effnet_sweep</a>"
      ],
      "text/plain": [
       "<IPython.core.display.HTML object>"
      ]
     },
     "metadata": {},
     "output_type": "display_data"
    },
    {
     "data": {
      "text/html": [
       " View sweep at <a href='https://wandb.ai/s26048-polish-japanese-academy-of-information-technology-/effnet_sweep/sweeps/dmftq1qt' target=\"_blank\">https://wandb.ai/s26048-polish-japanese-academy-of-information-technology-/effnet_sweep/sweeps/dmftq1qt</a>"
      ],
      "text/plain": [
       "<IPython.core.display.HTML object>"
      ]
     },
     "metadata": {},
     "output_type": "display_data"
    },
    {
     "data": {
      "text/html": [
       " View run at <a href='https://wandb.ai/s26048-polish-japanese-academy-of-information-technology-/effnet_sweep/runs/zeort4k3' target=\"_blank\">https://wandb.ai/s26048-polish-japanese-academy-of-information-technology-/effnet_sweep/runs/zeort4k3</a>"
      ],
      "text/plain": [
       "<IPython.core.display.HTML object>"
      ]
     },
     "metadata": {},
     "output_type": "display_data"
    },
    {
     "name": "stderr",
     "output_type": "stream",
     "text": [
      "/usr/local/lib/python3.10/dist-packages/pytorch_lightning/loggers/wandb.py:396: There is a wandb run already in progress and newly created instances of `WandbLogger` will reuse this run. If this is not desired, call `wandb.finish()` before instantiating `WandbLogger`.\n"
     ]
    },
    {
     "data": {
      "application/vnd.jupyter.widget-view+json": {
       "model_id": "",
       "version_major": 2,
       "version_minor": 0
      },
      "text/plain": [
       "Sanity Checking: |          | 0/? [00:00<?, ?it/s]"
      ]
     },
     "metadata": {},
     "output_type": "display_data"
    },
    {
     "data": {
      "application/vnd.jupyter.widget-view+json": {
       "model_id": "aa9d9414fba64a4091a4fd1aefc66d41",
       "version_major": 2,
       "version_minor": 0
      },
      "text/plain": [
       "Training: |          | 0/? [00:00<?, ?it/s]"
      ]
     },
     "metadata": {},
     "output_type": "display_data"
    },
    {
     "data": {
      "application/vnd.jupyter.widget-view+json": {
       "model_id": "",
       "version_major": 2,
       "version_minor": 0
      },
      "text/plain": [
       "Validation: |          | 0/? [00:00<?, ?it/s]"
      ]
     },
     "metadata": {},
     "output_type": "display_data"
    },
    {
     "data": {
      "application/vnd.jupyter.widget-view+json": {
       "model_id": "",
       "version_major": 2,
       "version_minor": 0
      },
      "text/plain": [
       "Validation: |          | 0/? [00:00<?, ?it/s]"
      ]
     },
     "metadata": {},
     "output_type": "display_data"
    },
    {
     "data": {
      "application/vnd.jupyter.widget-view+json": {
       "model_id": "",
       "version_major": 2,
       "version_minor": 0
      },
      "text/plain": [
       "Validation: |          | 0/? [00:00<?, ?it/s]"
      ]
     },
     "metadata": {},
     "output_type": "display_data"
    },
    {
     "data": {
      "application/vnd.jupyter.widget-view+json": {
       "model_id": "",
       "version_major": 2,
       "version_minor": 0
      },
      "text/plain": [
       "Validation: |          | 0/? [00:00<?, ?it/s]"
      ]
     },
     "metadata": {},
     "output_type": "display_data"
    },
    {
     "data": {
      "application/vnd.jupyter.widget-view+json": {
       "model_id": "",
       "version_major": 2,
       "version_minor": 0
      },
      "text/plain": [
       "Validation: |          | 0/? [00:00<?, ?it/s]"
      ]
     },
     "metadata": {},
     "output_type": "display_data"
    },
    {
     "data": {
      "application/vnd.jupyter.widget-view+json": {
       "model_id": "",
       "version_major": 2,
       "version_minor": 0
      },
      "text/plain": [
       "Validation: |          | 0/? [00:00<?, ?it/s]"
      ]
     },
     "metadata": {},
     "output_type": "display_data"
    },
    {
     "data": {
      "application/vnd.jupyter.widget-view+json": {
       "model_id": "0126d6b94a1646b48a02231bc19f232e",
       "version_major": 2,
       "version_minor": 0
      },
      "text/plain": [
       "Testing: |          | 0/? [00:00<?, ?it/s]"
      ]
     },
     "metadata": {},
     "output_type": "display_data"
    },
    {
     "data": {
      "text/html": [
       "<pre style=\"white-space:pre;overflow-x:auto;line-height:normal;font-family:Menlo,'DejaVu Sans Mono',consolas,'Courier New',monospace\">┏━━━━━━━━━━━━━━━━━━━━━━━━━━━┳━━━━━━━━━━━━━━━━━━━━━━━━━━━┓\n",
       "┃<span style=\"font-weight: bold\">        Test metric        </span>┃<span style=\"font-weight: bold\">       DataLoader 0        </span>┃\n",
       "┡━━━━━━━━━━━━━━━━━━━━━━━━━━━╇━━━━━━━━━━━━━━━━━━━━━━━━━━━┩\n",
       "│<span style=\"color: #008080; text-decoration-color: #008080\">         test_acc          </span>│<span style=\"color: #800080; text-decoration-color: #800080\">    0.7454545497894287     </span>│\n",
       "│<span style=\"color: #008080; text-decoration-color: #008080\">          test_f1          </span>│<span style=\"color: #800080; text-decoration-color: #800080\">    0.7416393756866455     </span>│\n",
       "│<span style=\"color: #008080; text-decoration-color: #008080\">         test_loss         </span>│<span style=\"color: #800080; text-decoration-color: #800080\">    0.6272532939910889     </span>│\n",
       "└───────────────────────────┴───────────────────────────┘\n",
       "</pre>\n"
      ],
      "text/plain": [
       "┏━━━━━━━━━━━━━━━━━━━━━━━━━━━┳━━━━━━━━━━━━━━━━━━━━━━━━━━━┓\n",
       "┃\u001b[1m \u001b[0m\u001b[1m       Test metric       \u001b[0m\u001b[1m \u001b[0m┃\u001b[1m \u001b[0m\u001b[1m      DataLoader 0       \u001b[0m\u001b[1m \u001b[0m┃\n",
       "┡━━━━━━━━━━━━━━━━━━━━━━━━━━━╇━━━━━━━━━━━━━━━━━━━━━━━━━━━┩\n",
       "│\u001b[36m \u001b[0m\u001b[36m        test_acc         \u001b[0m\u001b[36m \u001b[0m│\u001b[35m \u001b[0m\u001b[35m   0.7454545497894287    \u001b[0m\u001b[35m \u001b[0m│\n",
       "│\u001b[36m \u001b[0m\u001b[36m         test_f1         \u001b[0m\u001b[36m \u001b[0m│\u001b[35m \u001b[0m\u001b[35m   0.7416393756866455    \u001b[0m\u001b[35m \u001b[0m│\n",
       "│\u001b[36m \u001b[0m\u001b[36m        test_loss        \u001b[0m\u001b[36m \u001b[0m│\u001b[35m \u001b[0m\u001b[35m   0.6272532939910889    \u001b[0m\u001b[35m \u001b[0m│\n",
       "└───────────────────────────┴───────────────────────────┘\n"
      ]
     },
     "metadata": {},
     "output_type": "display_data"
    },
    {
     "data": {
      "text/html": [],
      "text/plain": [
       "<IPython.core.display.HTML object>"
      ]
     },
     "metadata": {},
     "output_type": "display_data"
    },
    {
     "data": {
      "text/html": [
       "<br>    <style><br>        .wandb-row {<br>            display: flex;<br>            flex-direction: row;<br>            flex-wrap: wrap;<br>            justify-content: flex-start;<br>            width: 100%;<br>        }<br>        .wandb-col {<br>            display: flex;<br>            flex-direction: column;<br>            flex-basis: 100%;<br>            flex: 1;<br>            padding: 10px;<br>        }<br>    </style><br><div class=\"wandb-row\"><div class=\"wandb-col\"><h3>Run history:</h3><br/><table class=\"wandb\"><tr><td>epoch</td><td>▁▁▁▂▂▂▂▃▃▃▅▅▅▅▆▆▆▇▇▇▇█</td></tr><tr><td>test_acc</td><td>▁</td></tr><tr><td>test_f1</td><td>▁</td></tr><tr><td>test_loss</td><td>▁</td></tr><tr><td>train_acc</td><td>▁▆▇███</td></tr><tr><td>train_loss_epoch</td><td>█▂▁▁▁▁</td></tr><tr><td>train_loss_step</td><td>▃▅▃▂▁▂█▂▆</td></tr><tr><td>train_macro_f1</td><td>▁▆▇███</td></tr><tr><td>train_macro_precision</td><td>▁▆▇███</td></tr><tr><td>train_macro_recall</td><td>▁▆▇███</td></tr><tr><td>trainer/global_step</td><td>▁▁▁▁▁▁▁▂▁▁▁▁▁▁▁▄▁▂▂▂▄▅▂▂▂▆▂▂▂▂▂▂▂▂▇▂▂▂▂█</td></tr><tr><td>val_acc</td><td>▁▂█▅██</td></tr><tr><td>val_loss_epoch</td><td>█▆▃▇▁▃</td></tr><tr><td>val_loss_step</td><td>▂▂▅█▇▃▁▁▄▃▁▃▄▂▂▃▄▃▃▄▂▂▂▃▇▃▄▄▂▁▆▅▅▂▁▅▅▄▁▃</td></tr><tr><td>val_macro_f1</td><td>▁▁█▄▇▇</td></tr><tr><td>val_macro_precision</td><td>▅▁█▇▇▅</td></tr><tr><td>val_macro_recall</td><td>▂▁█▄▇▇</td></tr></table><br/></div><div class=\"wandb-col\"><h3>Run summary:</h3><br/><table class=\"wandb\"><tr><td>epoch</td><td>6</td></tr><tr><td>test_acc</td><td>0.74545</td></tr><tr><td>test_f1</td><td>0.74164</td></tr><tr><td>test_loss</td><td>0.62725</td></tr><tr><td>train_acc</td><td>0.71506</td></tr><tr><td>train_loss_epoch</td><td>0.69849</td></tr><tr><td>train_loss_step</td><td>0.79959</td></tr><tr><td>train_macro_f1</td><td>0.71158</td></tr><tr><td>train_macro_precision</td><td>0.71081</td></tr><tr><td>train_macro_recall</td><td>0.71341</td></tr><tr><td>trainer/global_step</td><td>468</td></tr><tr><td>val_acc</td><td>0.80818</td></tr><tr><td>val_loss_epoch</td><td>0.49309</td></tr><tr><td>val_loss_step</td><td>0.4055</td></tr><tr><td>val_macro_f1</td><td>0.79897</td></tr><tr><td>val_macro_precision</td><td>0.80143</td></tr><tr><td>val_macro_recall</td><td>0.80106</td></tr></table><br/></div></div>"
      ],
      "text/plain": [
       "<IPython.core.display.HTML object>"
      ]
     },
     "metadata": {},
     "output_type": "display_data"
    },
    {
     "data": {
      "text/html": [
       " View run <strong style=\"color:#cdcd00\">EfficienNet-B0_1024_0.007069</strong> at: <a href='https://wandb.ai/s26048-polish-japanese-academy-of-information-technology-/effnet_sweep/runs/zeort4k3' target=\"_blank\">https://wandb.ai/s26048-polish-japanese-academy-of-information-technology-/effnet_sweep/runs/zeort4k3</a><br> View project at: <a href='https://wandb.ai/s26048-polish-japanese-academy-of-information-technology-/effnet_sweep' target=\"_blank\">https://wandb.ai/s26048-polish-japanese-academy-of-information-technology-/effnet_sweep</a><br>Synced 5 W&B file(s), 0 media file(s), 2 artifact file(s) and 0 other file(s)"
      ],
      "text/plain": [
       "<IPython.core.display.HTML object>"
      ]
     },
     "metadata": {},
     "output_type": "display_data"
    },
    {
     "data": {
      "text/html": [
       "Find logs at: <code>./wandb/run-20250112_145938-zeort4k3/logs</code>"
      ],
      "text/plain": [
       "<IPython.core.display.HTML object>"
      ]
     },
     "metadata": {},
     "output_type": "display_data"
    },
    {
     "name": "stderr",
     "output_type": "stream",
     "text": [
      "\u001b[34m\u001b[1mwandb\u001b[0m: Agent Starting Run: b0ln6uz7 with config:\n",
      "\u001b[34m\u001b[1mwandb\u001b[0m: \tbatch_size: 128\n",
      "\u001b[34m\u001b[1mwandb\u001b[0m: \tdropout_rate: 0.4\n",
      "\u001b[34m\u001b[1mwandb\u001b[0m: \tlayer1_size: 1024\n",
      "\u001b[34m\u001b[1mwandb\u001b[0m: \tlearning_rate: 0.004832365938258879\n",
      "\u001b[34m\u001b[1mwandb\u001b[0m: \tn_epochs: 10\n"
     ]
    },
    {
     "data": {
      "text/html": [
       "Tracking run with wandb version 0.19.1"
      ],
      "text/plain": [
       "<IPython.core.display.HTML object>"
      ]
     },
     "metadata": {},
     "output_type": "display_data"
    },
    {
     "data": {
      "text/html": [
       "Run data is saved locally in <code>/kaggle/working/wandb/run-20250112_150518-b0ln6uz7</code>"
      ],
      "text/plain": [
       "<IPython.core.display.HTML object>"
      ]
     },
     "metadata": {},
     "output_type": "display_data"
    },
    {
     "data": {
      "text/html": [
       "Syncing run <strong><a href='https://wandb.ai/s26048-polish-japanese-academy-of-information-technology-/effnet_sweep/runs/b0ln6uz7' target=\"_blank\">cool-sweep-3</a></strong> to <a href='https://wandb.ai/s26048-polish-japanese-academy-of-information-technology-/effnet_sweep' target=\"_blank\">Weights & Biases</a> (<a href='https://wandb.me/developer-guide' target=\"_blank\">docs</a>)<br>Sweep page: <a href='https://wandb.ai/s26048-polish-japanese-academy-of-information-technology-/effnet_sweep/sweeps/dmftq1qt' target=\"_blank\">https://wandb.ai/s26048-polish-japanese-academy-of-information-technology-/effnet_sweep/sweeps/dmftq1qt</a>"
      ],
      "text/plain": [
       "<IPython.core.display.HTML object>"
      ]
     },
     "metadata": {},
     "output_type": "display_data"
    },
    {
     "data": {
      "text/html": [
       " View project at <a href='https://wandb.ai/s26048-polish-japanese-academy-of-information-technology-/effnet_sweep' target=\"_blank\">https://wandb.ai/s26048-polish-japanese-academy-of-information-technology-/effnet_sweep</a>"
      ],
      "text/plain": [
       "<IPython.core.display.HTML object>"
      ]
     },
     "metadata": {},
     "output_type": "display_data"
    },
    {
     "data": {
      "text/html": [
       " View sweep at <a href='https://wandb.ai/s26048-polish-japanese-academy-of-information-technology-/effnet_sweep/sweeps/dmftq1qt' target=\"_blank\">https://wandb.ai/s26048-polish-japanese-academy-of-information-technology-/effnet_sweep/sweeps/dmftq1qt</a>"
      ],
      "text/plain": [
       "<IPython.core.display.HTML object>"
      ]
     },
     "metadata": {},
     "output_type": "display_data"
    },
    {
     "data": {
      "text/html": [
       " View run at <a href='https://wandb.ai/s26048-polish-japanese-academy-of-information-technology-/effnet_sweep/runs/b0ln6uz7' target=\"_blank\">https://wandb.ai/s26048-polish-japanese-academy-of-information-technology-/effnet_sweep/runs/b0ln6uz7</a>"
      ],
      "text/plain": [
       "<IPython.core.display.HTML object>"
      ]
     },
     "metadata": {},
     "output_type": "display_data"
    },
    {
     "data": {
      "application/vnd.jupyter.widget-view+json": {
       "model_id": "244d436525334778b7f4a00e3734fc2a",
       "version_major": 2,
       "version_minor": 0
      },
      "text/plain": [
       "Sanity Checking: |          | 0/? [00:00<?, ?it/s]"
      ]
     },
     "metadata": {},
     "output_type": "display_data"
    },
    {
     "name": "stderr",
     "output_type": "stream",
     "text": [
      "/usr/local/lib/python3.10/dist-packages/pytorch_lightning/loops/fit_loop.py:298: The number of training batches (39) is smaller than the logging interval Trainer(log_every_n_steps=50). Set a lower value for log_every_n_steps if you want to see logs for the training epoch.\n"
     ]
    },
    {
     "data": {
      "application/vnd.jupyter.widget-view+json": {
       "model_id": "916da9093c6e47a39eceeac4554624c2",
       "version_major": 2,
       "version_minor": 0
      },
      "text/plain": [
       "Training: |          | 0/? [00:00<?, ?it/s]"
      ]
     },
     "metadata": {},
     "output_type": "display_data"
    },
    {
     "data": {
      "application/vnd.jupyter.widget-view+json": {
       "model_id": "3b30f1923830447c97afd8c3985ebcbb",
       "version_major": 2,
       "version_minor": 0
      },
      "text/plain": [
       "Validation: |          | 0/? [00:00<?, ?it/s]"
      ]
     },
     "metadata": {},
     "output_type": "display_data"
    },
    {
     "data": {
      "application/vnd.jupyter.widget-view+json": {
       "model_id": "4ad8d6818c6146158b7132ee704f34da",
       "version_major": 2,
       "version_minor": 0
      },
      "text/plain": [
       "Validation: |          | 0/? [00:00<?, ?it/s]"
      ]
     },
     "metadata": {},
     "output_type": "display_data"
    },
    {
     "data": {
      "application/vnd.jupyter.widget-view+json": {
       "model_id": "51755a7ac83349f1a6e5e312d1a3c515",
       "version_major": 2,
       "version_minor": 0
      },
      "text/plain": [
       "Validation: |          | 0/? [00:00<?, ?it/s]"
      ]
     },
     "metadata": {},
     "output_type": "display_data"
    },
    {
     "data": {
      "application/vnd.jupyter.widget-view+json": {
       "model_id": "3285c00b0ee243db9301d6ecb7fc40d5",
       "version_major": 2,
       "version_minor": 0
      },
      "text/plain": [
       "Validation: |          | 0/? [00:00<?, ?it/s]"
      ]
     },
     "metadata": {},
     "output_type": "display_data"
    },
    {
     "data": {
      "application/vnd.jupyter.widget-view+json": {
       "model_id": "9874984a44894c78beae6023ea93cb11",
       "version_major": 2,
       "version_minor": 0
      },
      "text/plain": [
       "Validation: |          | 0/? [00:00<?, ?it/s]"
      ]
     },
     "metadata": {},
     "output_type": "display_data"
    },
    {
     "data": {
      "application/vnd.jupyter.widget-view+json": {
       "model_id": "42171163f0d146f79ee7f66a4a8a8583",
       "version_major": 2,
       "version_minor": 0
      },
      "text/plain": [
       "Validation: |          | 0/? [00:00<?, ?it/s]"
      ]
     },
     "metadata": {},
     "output_type": "display_data"
    },
    {
     "data": {
      "application/vnd.jupyter.widget-view+json": {
       "model_id": "b5ad28136c064017938679210479fc58",
       "version_major": 2,
       "version_minor": 0
      },
      "text/plain": [
       "Validation: |          | 0/? [00:00<?, ?it/s]"
      ]
     },
     "metadata": {},
     "output_type": "display_data"
    },
    {
     "data": {
      "application/vnd.jupyter.widget-view+json": {
       "model_id": "0cc385530af6456b8c43c75cc6a1771f",
       "version_major": 2,
       "version_minor": 0
      },
      "text/plain": [
       "Validation: |          | 0/? [00:00<?, ?it/s]"
      ]
     },
     "metadata": {},
     "output_type": "display_data"
    },
    {
     "data": {
      "application/vnd.jupyter.widget-view+json": {
       "model_id": "21935de902ef4bdb8cdce878264460b4",
       "version_major": 2,
       "version_minor": 0
      },
      "text/plain": [
       "Testing: |          | 0/? [00:00<?, ?it/s]"
      ]
     },
     "metadata": {},
     "output_type": "display_data"
    },
    {
     "data": {
      "text/html": [
       "<pre style=\"white-space:pre;overflow-x:auto;line-height:normal;font-family:Menlo,'DejaVu Sans Mono',consolas,'Courier New',monospace\">┏━━━━━━━━━━━━━━━━━━━━━━━━━━━┳━━━━━━━━━━━━━━━━━━━━━━━━━━━┓\n",
       "┃<span style=\"font-weight: bold\">        Test metric        </span>┃<span style=\"font-weight: bold\">       DataLoader 0        </span>┃\n",
       "┡━━━━━━━━━━━━━━━━━━━━━━━━━━━╇━━━━━━━━━━━━━━━━━━━━━━━━━━━┩\n",
       "│<span style=\"color: #008080; text-decoration-color: #008080\">         test_acc          </span>│<span style=\"color: #800080; text-decoration-color: #800080\">    0.7490909099578857     </span>│\n",
       "│<span style=\"color: #008080; text-decoration-color: #008080\">          test_f1          </span>│<span style=\"color: #800080; text-decoration-color: #800080\">    0.7526398301124573     </span>│\n",
       "│<span style=\"color: #008080; text-decoration-color: #008080\">         test_loss         </span>│<span style=\"color: #800080; text-decoration-color: #800080\">    0.5964179039001465     </span>│\n",
       "└───────────────────────────┴───────────────────────────┘\n",
       "</pre>\n"
      ],
      "text/plain": [
       "┏━━━━━━━━━━━━━━━━━━━━━━━━━━━┳━━━━━━━━━━━━━━━━━━━━━━━━━━━┓\n",
       "┃\u001b[1m \u001b[0m\u001b[1m       Test metric       \u001b[0m\u001b[1m \u001b[0m┃\u001b[1m \u001b[0m\u001b[1m      DataLoader 0       \u001b[0m\u001b[1m \u001b[0m┃\n",
       "┡━━━━━━━━━━━━━━━━━━━━━━━━━━━╇━━━━━━━━━━━━━━━━━━━━━━━━━━━┩\n",
       "│\u001b[36m \u001b[0m\u001b[36m        test_acc         \u001b[0m\u001b[36m \u001b[0m│\u001b[35m \u001b[0m\u001b[35m   0.7490909099578857    \u001b[0m\u001b[35m \u001b[0m│\n",
       "│\u001b[36m \u001b[0m\u001b[36m         test_f1         \u001b[0m\u001b[36m \u001b[0m│\u001b[35m \u001b[0m\u001b[35m   0.7526398301124573    \u001b[0m\u001b[35m \u001b[0m│\n",
       "│\u001b[36m \u001b[0m\u001b[36m        test_loss        \u001b[0m\u001b[36m \u001b[0m│\u001b[35m \u001b[0m\u001b[35m   0.5964179039001465    \u001b[0m\u001b[35m \u001b[0m│\n",
       "└───────────────────────────┴───────────────────────────┘\n"
      ]
     },
     "metadata": {},
     "output_type": "display_data"
    },
    {
     "data": {
      "text/html": [],
      "text/plain": [
       "<IPython.core.display.HTML object>"
      ]
     },
     "metadata": {},
     "output_type": "display_data"
    },
    {
     "data": {
      "text/html": [
       "<br>    <style><br>        .wandb-row {<br>            display: flex;<br>            flex-direction: row;<br>            flex-wrap: wrap;<br>            justify-content: flex-start;<br>            width: 100%;<br>        }<br>        .wandb-col {<br>            display: flex;<br>            flex-direction: column;<br>            flex-basis: 100%;<br>            flex: 1;<br>            padding: 10px;<br>        }<br>    </style><br><div class=\"wandb-row\"><div class=\"wandb-col\"><h3>Run history:</h3><br/><table class=\"wandb\"><tr><td>epoch</td><td>▁▁▂▂▂▃▃▃▄▄▄▅▅▅▅▅▆▆▆▇▇▇█</td></tr><tr><td>test_acc</td><td>▁</td></tr><tr><td>test_f1</td><td>▁</td></tr><tr><td>test_loss</td><td>▁</td></tr><tr><td>train_acc</td><td>▁▇▇▇████</td></tr><tr><td>train_loss_epoch</td><td>█▂▂▂▂▁▁▁</td></tr><tr><td>train_loss_step</td><td>▅▆▅▄█▁</td></tr><tr><td>train_macro_f1</td><td>▁▇▇▇████</td></tr><tr><td>train_macro_precision</td><td>▁▇▇▇████</td></tr><tr><td>train_macro_recall</td><td>▁▇▇▇████</td></tr><tr><td>trainer/global_step</td><td>▁▁▁▁▁▁▂▁▁▁▃▁▁▁▁▂▂▄▂▂▂▂▂▂▄▂▂▅▂▂▇▂▂▂▇▂▂▃▃█</td></tr><tr><td>val_acc</td><td>▆▇▇▁██▆▆</td></tr><tr><td>val_loss_epoch</td><td>▅▄▂█▂▁▁▂</td></tr><tr><td>val_loss_step</td><td>▂▂▂▄▅▁▃▄▃▂▄▂▃▃▁▁▂▂▇█▁▄▃▂▃▁▁▄▂▁▂▃▃▁▄▂▂▂▄▁</td></tr><tr><td>val_macro_f1</td><td>▆▇▇▁██▆▇</td></tr><tr><td>val_macro_precision</td><td>▄▅▄▁█▆▃▇</td></tr><tr><td>val_macro_recall</td><td>▆▇▇▁██▆▆</td></tr></table><br/></div><div class=\"wandb-col\"><h3>Run summary:</h3><br/><table class=\"wandb\"><tr><td>epoch</td><td>8</td></tr><tr><td>test_acc</td><td>0.74909</td></tr><tr><td>test_f1</td><td>0.75264</td></tr><tr><td>test_loss</td><td>0.59642</td></tr><tr><td>train_acc</td><td>0.74829</td></tr><tr><td>train_loss_epoch</td><td>0.61932</td></tr><tr><td>train_loss_step</td><td>0.52884</td></tr><tr><td>train_macro_f1</td><td>0.74579</td></tr><tr><td>train_macro_precision</td><td>0.74514</td></tr><tr><td>train_macro_recall</td><td>0.7468</td></tr><tr><td>trainer/global_step</td><td>312</td></tr><tr><td>val_acc</td><td>0.81402</td></tr><tr><td>val_loss_epoch</td><td>0.44822</td></tr><tr><td>val_loss_step</td><td>0.22725</td></tr><tr><td>val_macro_f1</td><td>0.81096</td></tr><tr><td>val_macro_precision</td><td>0.83305</td></tr><tr><td>val_macro_recall</td><td>0.80785</td></tr></table><br/></div></div>"
      ],
      "text/plain": [
       "<IPython.core.display.HTML object>"
      ]
     },
     "metadata": {},
     "output_type": "display_data"
    },
    {
     "data": {
      "text/html": [
       " View run <strong style=\"color:#cdcd00\">EfficienNet-B0_1024_0.004832</strong> at: <a href='https://wandb.ai/s26048-polish-japanese-academy-of-information-technology-/effnet_sweep/runs/b0ln6uz7' target=\"_blank\">https://wandb.ai/s26048-polish-japanese-academy-of-information-technology-/effnet_sweep/runs/b0ln6uz7</a><br> View project at: <a href='https://wandb.ai/s26048-polish-japanese-academy-of-information-technology-/effnet_sweep' target=\"_blank\">https://wandb.ai/s26048-polish-japanese-academy-of-information-technology-/effnet_sweep</a><br>Synced 5 W&B file(s), 0 media file(s), 2 artifact file(s) and 0 other file(s)"
      ],
      "text/plain": [
       "<IPython.core.display.HTML object>"
      ]
     },
     "metadata": {},
     "output_type": "display_data"
    },
    {
     "data": {
      "text/html": [
       "Find logs at: <code>./wandb/run-20250112_150518-b0ln6uz7/logs</code>"
      ],
      "text/plain": [
       "<IPython.core.display.HTML object>"
      ]
     },
     "metadata": {},
     "output_type": "display_data"
    },
    {
     "name": "stderr",
     "output_type": "stream",
     "text": [
      "\u001b[34m\u001b[1mwandb\u001b[0m: Sweep Agent: Waiting for job.\n",
      "\u001b[34m\u001b[1mwandb\u001b[0m: Job received.\n",
      "\u001b[34m\u001b[1mwandb\u001b[0m: Agent Starting Run: pvzzb4jm with config:\n",
      "\u001b[34m\u001b[1mwandb\u001b[0m: \tbatch_size: 32\n",
      "\u001b[34m\u001b[1mwandb\u001b[0m: \tdropout_rate: 0.6\n",
      "\u001b[34m\u001b[1mwandb\u001b[0m: \tlayer1_size: 1024\n",
      "\u001b[34m\u001b[1mwandb\u001b[0m: \tlearning_rate: 0.0022262410737588735\n",
      "\u001b[34m\u001b[1mwandb\u001b[0m: \tn_epochs: 10\n"
     ]
    },
    {
     "data": {
      "text/html": [
       "Tracking run with wandb version 0.19.1"
      ],
      "text/plain": [
       "<IPython.core.display.HTML object>"
      ]
     },
     "metadata": {},
     "output_type": "display_data"
    },
    {
     "data": {
      "text/html": [
       "Run data is saved locally in <code>/kaggle/working/wandb/run-20250112_151300-pvzzb4jm</code>"
      ],
      "text/plain": [
       "<IPython.core.display.HTML object>"
      ]
     },
     "metadata": {},
     "output_type": "display_data"
    },
    {
     "data": {
      "text/html": [
       "Syncing run <strong><a href='https://wandb.ai/s26048-polish-japanese-academy-of-information-technology-/effnet_sweep/runs/pvzzb4jm' target=\"_blank\">ancient-sweep-4</a></strong> to <a href='https://wandb.ai/s26048-polish-japanese-academy-of-information-technology-/effnet_sweep' target=\"_blank\">Weights & Biases</a> (<a href='https://wandb.me/developer-guide' target=\"_blank\">docs</a>)<br>Sweep page: <a href='https://wandb.ai/s26048-polish-japanese-academy-of-information-technology-/effnet_sweep/sweeps/dmftq1qt' target=\"_blank\">https://wandb.ai/s26048-polish-japanese-academy-of-information-technology-/effnet_sweep/sweeps/dmftq1qt</a>"
      ],
      "text/plain": [
       "<IPython.core.display.HTML object>"
      ]
     },
     "metadata": {},
     "output_type": "display_data"
    },
    {
     "data": {
      "text/html": [
       " View project at <a href='https://wandb.ai/s26048-polish-japanese-academy-of-information-technology-/effnet_sweep' target=\"_blank\">https://wandb.ai/s26048-polish-japanese-academy-of-information-technology-/effnet_sweep</a>"
      ],
      "text/plain": [
       "<IPython.core.display.HTML object>"
      ]
     },
     "metadata": {},
     "output_type": "display_data"
    },
    {
     "data": {
      "text/html": [
       " View sweep at <a href='https://wandb.ai/s26048-polish-japanese-academy-of-information-technology-/effnet_sweep/sweeps/dmftq1qt' target=\"_blank\">https://wandb.ai/s26048-polish-japanese-academy-of-information-technology-/effnet_sweep/sweeps/dmftq1qt</a>"
      ],
      "text/plain": [
       "<IPython.core.display.HTML object>"
      ]
     },
     "metadata": {},
     "output_type": "display_data"
    },
    {
     "data": {
      "text/html": [
       " View run at <a href='https://wandb.ai/s26048-polish-japanese-academy-of-information-technology-/effnet_sweep/runs/pvzzb4jm' target=\"_blank\">https://wandb.ai/s26048-polish-japanese-academy-of-information-technology-/effnet_sweep/runs/pvzzb4jm</a>"
      ],
      "text/plain": [
       "<IPython.core.display.HTML object>"
      ]
     },
     "metadata": {},
     "output_type": "display_data"
    },
    {
     "data": {
      "application/vnd.jupyter.widget-view+json": {
       "model_id": "7d0c401029f74889aae31753e18e76c1",
       "version_major": 2,
       "version_minor": 0
      },
      "text/plain": [
       "Sanity Checking: |          | 0/? [00:00<?, ?it/s]"
      ]
     },
     "metadata": {},
     "output_type": "display_data"
    },
    {
     "data": {
      "application/vnd.jupyter.widget-view+json": {
       "model_id": "9457231905db4500850a4d6b5c0bb492",
       "version_major": 2,
       "version_minor": 0
      },
      "text/plain": [
       "Training: |          | 0/? [00:00<?, ?it/s]"
      ]
     },
     "metadata": {},
     "output_type": "display_data"
    },
    {
     "data": {
      "application/vnd.jupyter.widget-view+json": {
       "model_id": "89ed53c3acb646cfac02e5668c47186a",
       "version_major": 2,
       "version_minor": 0
      },
      "text/plain": [
       "Validation: |          | 0/? [00:00<?, ?it/s]"
      ]
     },
     "metadata": {},
     "output_type": "display_data"
    },
    {
     "data": {
      "application/vnd.jupyter.widget-view+json": {
       "model_id": "a2d4f9a1106748ccb8bdb0c7c2e9f540",
       "version_major": 2,
       "version_minor": 0
      },
      "text/plain": [
       "Validation: |          | 0/? [00:00<?, ?it/s]"
      ]
     },
     "metadata": {},
     "output_type": "display_data"
    },
    {
     "data": {
      "application/vnd.jupyter.widget-view+json": {
       "model_id": "80cc9546a21c40cf83a8a8a0ef048b8b",
       "version_major": 2,
       "version_minor": 0
      },
      "text/plain": [
       "Validation: |          | 0/? [00:00<?, ?it/s]"
      ]
     },
     "metadata": {},
     "output_type": "display_data"
    },
    {
     "data": {
      "application/vnd.jupyter.widget-view+json": {
       "model_id": "df29a21bd0024f608c4e141de56d828b",
       "version_major": 2,
       "version_minor": 0
      },
      "text/plain": [
       "Validation: |          | 0/? [00:00<?, ?it/s]"
      ]
     },
     "metadata": {},
     "output_type": "display_data"
    },
    {
     "data": {
      "application/vnd.jupyter.widget-view+json": {
       "model_id": "1367e9bb820f401fb23cb0fe63bccbd4",
       "version_major": 2,
       "version_minor": 0
      },
      "text/plain": [
       "Validation: |          | 0/? [00:00<?, ?it/s]"
      ]
     },
     "metadata": {},
     "output_type": "display_data"
    },
    {
     "data": {
      "application/vnd.jupyter.widget-view+json": {
       "model_id": "ee3dd14f569545d7b7b5da38f3b1e1f3",
       "version_major": 2,
       "version_minor": 0
      },
      "text/plain": [
       "Validation: |          | 0/? [00:00<?, ?it/s]"
      ]
     },
     "metadata": {},
     "output_type": "display_data"
    },
    {
     "data": {
      "application/vnd.jupyter.widget-view+json": {
       "model_id": "a1b65b1883ca4f8cb04561ea02c9d006",
       "version_major": 2,
       "version_minor": 0
      },
      "text/plain": [
       "Validation: |          | 0/? [00:00<?, ?it/s]"
      ]
     },
     "metadata": {},
     "output_type": "display_data"
    },
    {
     "data": {
      "application/vnd.jupyter.widget-view+json": {
       "model_id": "5f316a6b2a6540f48a5b69e2f455882e",
       "version_major": 2,
       "version_minor": 0
      },
      "text/plain": [
       "Testing: |          | 0/? [00:00<?, ?it/s]"
      ]
     },
     "metadata": {},
     "output_type": "display_data"
    },
    {
     "data": {
      "text/html": [
       "<pre style=\"white-space:pre;overflow-x:auto;line-height:normal;font-family:Menlo,'DejaVu Sans Mono',consolas,'Courier New',monospace\">┏━━━━━━━━━━━━━━━━━━━━━━━━━━━┳━━━━━━━━━━━━━━━━━━━━━━━━━━━┓\n",
       "┃<span style=\"font-weight: bold\">        Test metric        </span>┃<span style=\"font-weight: bold\">       DataLoader 0        </span>┃\n",
       "┡━━━━━━━━━━━━━━━━━━━━━━━━━━━╇━━━━━━━━━━━━━━━━━━━━━━━━━━━┩\n",
       "│<span style=\"color: #008080; text-decoration-color: #008080\">         test_acc          </span>│<span style=\"color: #800080; text-decoration-color: #800080\">    0.7400000095367432     </span>│\n",
       "│<span style=\"color: #008080; text-decoration-color: #008080\">          test_f1          </span>│<span style=\"color: #800080; text-decoration-color: #800080\">    0.7367904186248779     </span>│\n",
       "│<span style=\"color: #008080; text-decoration-color: #008080\">         test_loss         </span>│<span style=\"color: #800080; text-decoration-color: #800080\">    0.6269339323043823     </span>│\n",
       "└───────────────────────────┴───────────────────────────┘\n",
       "</pre>\n"
      ],
      "text/plain": [
       "┏━━━━━━━━━━━━━━━━━━━━━━━━━━━┳━━━━━━━━━━━━━━━━━━━━━━━━━━━┓\n",
       "┃\u001b[1m \u001b[0m\u001b[1m       Test metric       \u001b[0m\u001b[1m \u001b[0m┃\u001b[1m \u001b[0m\u001b[1m      DataLoader 0       \u001b[0m\u001b[1m \u001b[0m┃\n",
       "┡━━━━━━━━━━━━━━━━━━━━━━━━━━━╇━━━━━━━━━━━━━━━━━━━━━━━━━━━┩\n",
       "│\u001b[36m \u001b[0m\u001b[36m        test_acc         \u001b[0m\u001b[36m \u001b[0m│\u001b[35m \u001b[0m\u001b[35m   0.7400000095367432    \u001b[0m\u001b[35m \u001b[0m│\n",
       "│\u001b[36m \u001b[0m\u001b[36m         test_f1         \u001b[0m\u001b[36m \u001b[0m│\u001b[35m \u001b[0m\u001b[35m   0.7367904186248779    \u001b[0m\u001b[35m \u001b[0m│\n",
       "│\u001b[36m \u001b[0m\u001b[36m        test_loss        \u001b[0m\u001b[36m \u001b[0m│\u001b[35m \u001b[0m\u001b[35m   0.6269339323043823    \u001b[0m\u001b[35m \u001b[0m│\n",
       "└───────────────────────────┴───────────────────────────┘\n"
      ]
     },
     "metadata": {},
     "output_type": "display_data"
    },
    {
     "data": {
      "text/html": [],
      "text/plain": [
       "<IPython.core.display.HTML object>"
      ]
     },
     "metadata": {},
     "output_type": "display_data"
    },
    {
     "data": {
      "text/html": [
       "<br>    <style><br>        .wandb-row {<br>            display: flex;<br>            flex-direction: row;<br>            flex-wrap: wrap;<br>            justify-content: flex-start;<br>            width: 100%;<br>        }<br>        .wandb-col {<br>            display: flex;<br>            flex-direction: column;<br>            flex-basis: 100%;<br>            flex: 1;<br>            padding: 10px;<br>        }<br>    </style><br><div class=\"wandb-row\"><div class=\"wandb-col\"><h3>Run history:</h3><br/><table class=\"wandb\"><tr><td>epoch</td><td>▁▁▁▁▁▂▂▂▂▂▃▃▃▃▃▄▄▄▄▄▅▅▅▅▅▆▆▆▆▆▇▇▇▇▇█</td></tr><tr><td>test_acc</td><td>▁</td></tr><tr><td>test_f1</td><td>▁</td></tr><tr><td>test_loss</td><td>▁</td></tr><tr><td>train_acc</td><td>▁▆▇▆▇██</td></tr><tr><td>train_loss_epoch</td><td>█▄▂▂▃▁▁</td></tr><tr><td>train_loss_step</td><td>▅▇▄▆▂▃▅▂▄▂▇▄▄▅▅█▃▂▁▇▇</td></tr><tr><td>train_macro_f1</td><td>▁▆▇▆▇██</td></tr><tr><td>train_macro_precision</td><td>▁▆▇▆▇▇█</td></tr><tr><td>train_macro_recall</td><td>▁▆▇▆▇██</td></tr><tr><td>trainer/global_step</td><td>▂▁▁▁▁▂▂▁▁▁▁▁▃▃▁▂▂▂▂▆▂▂▂▂▂▇▂▂▂▂▂▂▇█▂▂▂▂▂▂</td></tr><tr><td>val_acc</td><td>▁█▇█▇▆▇</td></tr><tr><td>val_loss_epoch</td><td>█▃▄▁▂▄▂</td></tr><tr><td>val_loss_step</td><td>▂▃▄▂▃██▂▂▅▅▅▂▂▃▃▃▃▄▅▃▄▃▆▂▃▄▄▄▇▄▁▁▅▄▄▄▂▂▅</td></tr><tr><td>val_macro_f1</td><td>▁███▇▆▇</td></tr><tr><td>val_macro_precision</td><td>▂▇▆▇▇▁█</td></tr><tr><td>val_macro_recall</td><td>▁███▇▆▇</td></tr></table><br/></div><div class=\"wandb-col\"><h3>Run summary:</h3><br/><table class=\"wandb\"><tr><td>epoch</td><td>7</td></tr><tr><td>test_acc</td><td>0.74</td></tr><tr><td>test_f1</td><td>0.73679</td></tr><tr><td>test_loss</td><td>0.62693</td></tr><tr><td>train_acc</td><td>0.68868</td></tr><tr><td>train_loss_epoch</td><td>0.74966</td></tr><tr><td>train_loss_step</td><td>1.072</td></tr><tr><td>train_macro_f1</td><td>0.68484</td></tr><tr><td>train_macro_precision</td><td>0.6836</td></tr><tr><td>train_macro_recall</td><td>0.68668</td></tr><tr><td>trainer/global_step</td><td>1092</td></tr><tr><td>val_acc</td><td>0.80234</td></tr><tr><td>val_loss_epoch</td><td>0.50749</td></tr><tr><td>val_loss_step</td><td>0.37473</td></tr><tr><td>val_macro_f1</td><td>0.792</td></tr><tr><td>val_macro_precision</td><td>0.81848</td></tr><tr><td>val_macro_recall</td><td>0.79244</td></tr></table><br/></div></div>"
      ],
      "text/plain": [
       "<IPython.core.display.HTML object>"
      ]
     },
     "metadata": {},
     "output_type": "display_data"
    },
    {
     "data": {
      "text/html": [
       " View run <strong style=\"color:#cdcd00\">EfficienNet-B0_1024_0.002226</strong> at: <a href='https://wandb.ai/s26048-polish-japanese-academy-of-information-technology-/effnet_sweep/runs/pvzzb4jm' target=\"_blank\">https://wandb.ai/s26048-polish-japanese-academy-of-information-technology-/effnet_sweep/runs/pvzzb4jm</a><br> View project at: <a href='https://wandb.ai/s26048-polish-japanese-academy-of-information-technology-/effnet_sweep' target=\"_blank\">https://wandb.ai/s26048-polish-japanese-academy-of-information-technology-/effnet_sweep</a><br>Synced 5 W&B file(s), 0 media file(s), 2 artifact file(s) and 0 other file(s)"
      ],
      "text/plain": [
       "<IPython.core.display.HTML object>"
      ]
     },
     "metadata": {},
     "output_type": "display_data"
    },
    {
     "data": {
      "text/html": [
       "Find logs at: <code>./wandb/run-20250112_151300-pvzzb4jm/logs</code>"
      ],
      "text/plain": [
       "<IPython.core.display.HTML object>"
      ]
     },
     "metadata": {},
     "output_type": "display_data"
    },
    {
     "name": "stderr",
     "output_type": "stream",
     "text": [
      "\u001b[34m\u001b[1mwandb\u001b[0m: Agent Starting Run: ou88hh6s with config:\n",
      "\u001b[34m\u001b[1mwandb\u001b[0m: \tbatch_size: 128\n",
      "\u001b[34m\u001b[1mwandb\u001b[0m: \tdropout_rate: 0.2\n",
      "\u001b[34m\u001b[1mwandb\u001b[0m: \tlayer1_size: 1024\n",
      "\u001b[34m\u001b[1mwandb\u001b[0m: \tlearning_rate: 0.008402320229253182\n",
      "\u001b[34m\u001b[1mwandb\u001b[0m: \tn_epochs: 10\n"
     ]
    },
    {
     "data": {
      "text/html": [
       "Tracking run with wandb version 0.19.1"
      ],
      "text/plain": [
       "<IPython.core.display.HTML object>"
      ]
     },
     "metadata": {},
     "output_type": "display_data"
    },
    {
     "data": {
      "text/html": [
       "Run data is saved locally in <code>/kaggle/working/wandb/run-20250112_151931-ou88hh6s</code>"
      ],
      "text/plain": [
       "<IPython.core.display.HTML object>"
      ]
     },
     "metadata": {},
     "output_type": "display_data"
    },
    {
     "data": {
      "text/html": [
       "Syncing run <strong><a href='https://wandb.ai/s26048-polish-japanese-academy-of-information-technology-/effnet_sweep/runs/ou88hh6s' target=\"_blank\">icy-sweep-5</a></strong> to <a href='https://wandb.ai/s26048-polish-japanese-academy-of-information-technology-/effnet_sweep' target=\"_blank\">Weights & Biases</a> (<a href='https://wandb.me/developer-guide' target=\"_blank\">docs</a>)<br>Sweep page: <a href='https://wandb.ai/s26048-polish-japanese-academy-of-information-technology-/effnet_sweep/sweeps/dmftq1qt' target=\"_blank\">https://wandb.ai/s26048-polish-japanese-academy-of-information-technology-/effnet_sweep/sweeps/dmftq1qt</a>"
      ],
      "text/plain": [
       "<IPython.core.display.HTML object>"
      ]
     },
     "metadata": {},
     "output_type": "display_data"
    },
    {
     "data": {
      "text/html": [
       " View project at <a href='https://wandb.ai/s26048-polish-japanese-academy-of-information-technology-/effnet_sweep' target=\"_blank\">https://wandb.ai/s26048-polish-japanese-academy-of-information-technology-/effnet_sweep</a>"
      ],
      "text/plain": [
       "<IPython.core.display.HTML object>"
      ]
     },
     "metadata": {},
     "output_type": "display_data"
    },
    {
     "data": {
      "text/html": [
       " View sweep at <a href='https://wandb.ai/s26048-polish-japanese-academy-of-information-technology-/effnet_sweep/sweeps/dmftq1qt' target=\"_blank\">https://wandb.ai/s26048-polish-japanese-academy-of-information-technology-/effnet_sweep/sweeps/dmftq1qt</a>"
      ],
      "text/plain": [
       "<IPython.core.display.HTML object>"
      ]
     },
     "metadata": {},
     "output_type": "display_data"
    },
    {
     "data": {
      "text/html": [
       " View run at <a href='https://wandb.ai/s26048-polish-japanese-academy-of-information-technology-/effnet_sweep/runs/ou88hh6s' target=\"_blank\">https://wandb.ai/s26048-polish-japanese-academy-of-information-technology-/effnet_sweep/runs/ou88hh6s</a>"
      ],
      "text/plain": [
       "<IPython.core.display.HTML object>"
      ]
     },
     "metadata": {},
     "output_type": "display_data"
    },
    {
     "data": {
      "application/vnd.jupyter.widget-view+json": {
       "model_id": "b476276c5c6a4e7d92e791275e92355a",
       "version_major": 2,
       "version_minor": 0
      },
      "text/plain": [
       "Sanity Checking: |          | 0/? [00:00<?, ?it/s]"
      ]
     },
     "metadata": {},
     "output_type": "display_data"
    },
    {
     "data": {
      "application/vnd.jupyter.widget-view+json": {
       "model_id": "e1c4576e5daa44498e94c899043a2e64",
       "version_major": 2,
       "version_minor": 0
      },
      "text/plain": [
       "Training: |          | 0/? [00:00<?, ?it/s]"
      ]
     },
     "metadata": {},
     "output_type": "display_data"
    },
    {
     "data": {
      "application/vnd.jupyter.widget-view+json": {
       "model_id": "f907a5541ef949e2b5e5e629a8aa441e",
       "version_major": 2,
       "version_minor": 0
      },
      "text/plain": [
       "Validation: |          | 0/? [00:00<?, ?it/s]"
      ]
     },
     "metadata": {},
     "output_type": "display_data"
    },
    {
     "data": {
      "application/vnd.jupyter.widget-view+json": {
       "model_id": "48c8934202cc47e09124e0da5943c52c",
       "version_major": 2,
       "version_minor": 0
      },
      "text/plain": [
       "Validation: |          | 0/? [00:00<?, ?it/s]"
      ]
     },
     "metadata": {},
     "output_type": "display_data"
    },
    {
     "data": {
      "application/vnd.jupyter.widget-view+json": {
       "model_id": "fd1290f3e731445885e174a9bb99fca6",
       "version_major": 2,
       "version_minor": 0
      },
      "text/plain": [
       "Validation: |          | 0/? [00:00<?, ?it/s]"
      ]
     },
     "metadata": {},
     "output_type": "display_data"
    },
    {
     "data": {
      "application/vnd.jupyter.widget-view+json": {
       "model_id": "101a65da22af4276a1244c5559f361a3",
       "version_major": 2,
       "version_minor": 0
      },
      "text/plain": [
       "Validation: |          | 0/? [00:00<?, ?it/s]"
      ]
     },
     "metadata": {},
     "output_type": "display_data"
    },
    {
     "data": {
      "application/vnd.jupyter.widget-view+json": {
       "model_id": "b7acbc1691b54a7e8ff34f803e1604d0",
       "version_major": 2,
       "version_minor": 0
      },
      "text/plain": [
       "Validation: |          | 0/? [00:00<?, ?it/s]"
      ]
     },
     "metadata": {},
     "output_type": "display_data"
    },
    {
     "data": {
      "application/vnd.jupyter.widget-view+json": {
       "model_id": "dfde9d49076a4ab79b3196379588792b",
       "version_major": 2,
       "version_minor": 0
      },
      "text/plain": [
       "Validation: |          | 0/? [00:00<?, ?it/s]"
      ]
     },
     "metadata": {},
     "output_type": "display_data"
    },
    {
     "data": {
      "application/vnd.jupyter.widget-view+json": {
       "model_id": "b7f88e99607a4064887fcfaf7abafcc6",
       "version_major": 2,
       "version_minor": 0
      },
      "text/plain": [
       "Validation: |          | 0/? [00:00<?, ?it/s]"
      ]
     },
     "metadata": {},
     "output_type": "display_data"
    },
    {
     "data": {
      "application/vnd.jupyter.widget-view+json": {
       "model_id": "60a17fb0fb0b4fbcbfcd55545c360430",
       "version_major": 2,
       "version_minor": 0
      },
      "text/plain": [
       "Validation: |          | 0/? [00:00<?, ?it/s]"
      ]
     },
     "metadata": {},
     "output_type": "display_data"
    },
    {
     "data": {
      "application/vnd.jupyter.widget-view+json": {
       "model_id": "44242852900d494dac08af477269491e",
       "version_major": 2,
       "version_minor": 0
      },
      "text/plain": [
       "Validation: |          | 0/? [00:00<?, ?it/s]"
      ]
     },
     "metadata": {},
     "output_type": "display_data"
    },
    {
     "data": {
      "application/vnd.jupyter.widget-view+json": {
       "model_id": "cfb51906f8d94eb88bb0347153f92e70",
       "version_major": 2,
       "version_minor": 0
      },
      "text/plain": [
       "Validation: |          | 0/? [00:00<?, ?it/s]"
      ]
     },
     "metadata": {},
     "output_type": "display_data"
    },
    {
     "data": {
      "application/vnd.jupyter.widget-view+json": {
       "model_id": "dce6fa02f4c545318fca00aa2cb6fbd7",
       "version_major": 2,
       "version_minor": 0
      },
      "text/plain": [
       "Testing: |          | 0/? [00:00<?, ?it/s]"
      ]
     },
     "metadata": {},
     "output_type": "display_data"
    },
    {
     "data": {
      "text/html": [
       "<pre style=\"white-space:pre;overflow-x:auto;line-height:normal;font-family:Menlo,'DejaVu Sans Mono',consolas,'Courier New',monospace\">┏━━━━━━━━━━━━━━━━━━━━━━━━━━━┳━━━━━━━━━━━━━━━━━━━━━━━━━━━┓\n",
       "┃<span style=\"font-weight: bold\">        Test metric        </span>┃<span style=\"font-weight: bold\">       DataLoader 0        </span>┃\n",
       "┡━━━━━━━━━━━━━━━━━━━━━━━━━━━╇━━━━━━━━━━━━━━━━━━━━━━━━━━━┩\n",
       "│<span style=\"color: #008080; text-decoration-color: #008080\">         test_acc          </span>│<span style=\"color: #800080; text-decoration-color: #800080\">    0.7436363697052002     </span>│\n",
       "│<span style=\"color: #008080; text-decoration-color: #008080\">          test_f1          </span>│<span style=\"color: #800080; text-decoration-color: #800080\">    0.7417575716972351     </span>│\n",
       "│<span style=\"color: #008080; text-decoration-color: #008080\">         test_loss         </span>│<span style=\"color: #800080; text-decoration-color: #800080\">    0.6307381391525269     </span>│\n",
       "└───────────────────────────┴───────────────────────────┘\n",
       "</pre>\n"
      ],
      "text/plain": [
       "┏━━━━━━━━━━━━━━━━━━━━━━━━━━━┳━━━━━━━━━━━━━━━━━━━━━━━━━━━┓\n",
       "┃\u001b[1m \u001b[0m\u001b[1m       Test metric       \u001b[0m\u001b[1m \u001b[0m┃\u001b[1m \u001b[0m\u001b[1m      DataLoader 0       \u001b[0m\u001b[1m \u001b[0m┃\n",
       "┡━━━━━━━━━━━━━━━━━━━━━━━━━━━╇━━━━━━━━━━━━━━━━━━━━━━━━━━━┩\n",
       "│\u001b[36m \u001b[0m\u001b[36m        test_acc         \u001b[0m\u001b[36m \u001b[0m│\u001b[35m \u001b[0m\u001b[35m   0.7436363697052002    \u001b[0m\u001b[35m \u001b[0m│\n",
       "│\u001b[36m \u001b[0m\u001b[36m         test_f1         \u001b[0m\u001b[36m \u001b[0m│\u001b[35m \u001b[0m\u001b[35m   0.7417575716972351    \u001b[0m\u001b[35m \u001b[0m│\n",
       "│\u001b[36m \u001b[0m\u001b[36m        test_loss        \u001b[0m\u001b[36m \u001b[0m│\u001b[35m \u001b[0m\u001b[35m   0.6307381391525269    \u001b[0m\u001b[35m \u001b[0m│\n",
       "└───────────────────────────┴───────────────────────────┘\n"
      ]
     },
     "metadata": {},
     "output_type": "display_data"
    },
    {
     "data": {
      "text/html": [],
      "text/plain": [
       "<IPython.core.display.HTML object>"
      ]
     },
     "metadata": {},
     "output_type": "display_data"
    },
    {
     "data": {
      "text/html": [
       "<br>    <style><br>        .wandb-row {<br>            display: flex;<br>            flex-direction: row;<br>            flex-wrap: wrap;<br>            justify-content: flex-start;<br>            width: 100%;<br>        }<br>        .wandb-col {<br>            display: flex;<br>            flex-direction: column;<br>            flex-basis: 100%;<br>            flex: 1;<br>            padding: 10px;<br>        }<br>    </style><br><div class=\"wandb-row\"><div class=\"wandb-col\"><h3>Run history:</h3><br/><table class=\"wandb\"><tr><td>epoch</td><td>▁▁▂▂▂▂▂▂▃▃▃▄▄▅▅▅▅▅▅▆▆▆▇▇▇▇▇█</td></tr><tr><td>test_acc</td><td>▁</td></tr><tr><td>test_f1</td><td>▁</td></tr><tr><td>test_loss</td><td>▁</td></tr><tr><td>train_acc</td><td>▁▆▇▇▇▇██▇█</td></tr><tr><td>train_loss_epoch</td><td>█▂▂▂▂▁▁▁▁▁</td></tr><tr><td>train_loss_step</td><td>▇█▅▁▅▃▁</td></tr><tr><td>train_macro_f1</td><td>▁▆▇▇▇▇██▇█</td></tr><tr><td>train_macro_precision</td><td>▁▆▇▇▇▇██▇█</td></tr><tr><td>train_macro_recall</td><td>▁▆▇▇▇▇██▇█</td></tr><tr><td>trainer/global_step</td><td>▁▁▁▁▁▂▁▁▁▁▁▂▂▃▁▃▃▂▂▂▂▄▂▂▂▅▂▂▆▂▂▂▂▇▂▂▂▂▂█</td></tr><tr><td>val_acc</td><td>▄▁▆▆▅▇▄█▄▃</td></tr><tr><td>val_loss_epoch</td><td>█▆▂▃▄▂▄▁▄▄</td></tr><tr><td>val_loss_step</td><td>▂▅▆▄▁▄▃█▄▅▇▁▂▅▆▃▅▆▁▃▂▅▅▃▃▄▂▆▇▂▂▅▁▂▂▃▂▅▂█</td></tr><tr><td>val_macro_f1</td><td>▅▁▆▅▆▇▄█▃▂</td></tr><tr><td>val_macro_precision</td><td>▄▃▆▃▅▆▃█▁▁</td></tr><tr><td>val_macro_recall</td><td>▅▁▆▆▆▇▄█▃▃</td></tr></table><br/></div><div class=\"wandb-col\"><h3>Run summary:</h3><br/><table class=\"wandb\"><tr><td>epoch</td><td>10</td></tr><tr><td>test_acc</td><td>0.74364</td></tr><tr><td>test_f1</td><td>0.74176</td></tr><tr><td>test_loss</td><td>0.63074</td></tr><tr><td>train_acc</td><td>0.78413</td></tr><tr><td>train_loss_epoch</td><td>0.52742</td></tr><tr><td>train_loss_step</td><td>0.45143</td></tr><tr><td>train_macro_f1</td><td>0.7815</td></tr><tr><td>train_macro_precision</td><td>0.78077</td></tr><tr><td>train_macro_recall</td><td>0.78259</td></tr><tr><td>trainer/global_step</td><td>390</td></tr><tr><td>val_acc</td><td>0.80818</td></tr><tr><td>val_loss_epoch</td><td>0.45947</td></tr><tr><td>val_loss_step</td><td>0.18936</td></tr><tr><td>val_macro_f1</td><td>0.79961</td></tr><tr><td>val_macro_precision</td><td>0.80631</td></tr><tr><td>val_macro_recall</td><td>0.80071</td></tr></table><br/></div></div>"
      ],
      "text/plain": [
       "<IPython.core.display.HTML object>"
      ]
     },
     "metadata": {},
     "output_type": "display_data"
    },
    {
     "data": {
      "text/html": [
       " View run <strong style=\"color:#cdcd00\">EfficienNet-B0_1024_0.008402</strong> at: <a href='https://wandb.ai/s26048-polish-japanese-academy-of-information-technology-/effnet_sweep/runs/ou88hh6s' target=\"_blank\">https://wandb.ai/s26048-polish-japanese-academy-of-information-technology-/effnet_sweep/runs/ou88hh6s</a><br> View project at: <a href='https://wandb.ai/s26048-polish-japanese-academy-of-information-technology-/effnet_sweep' target=\"_blank\">https://wandb.ai/s26048-polish-japanese-academy-of-information-technology-/effnet_sweep</a><br>Synced 5 W&B file(s), 0 media file(s), 2 artifact file(s) and 0 other file(s)"
      ],
      "text/plain": [
       "<IPython.core.display.HTML object>"
      ]
     },
     "metadata": {},
     "output_type": "display_data"
    },
    {
     "data": {
      "text/html": [
       "Find logs at: <code>./wandb/run-20250112_151931-ou88hh6s/logs</code>"
      ],
      "text/plain": [
       "<IPython.core.display.HTML object>"
      ]
     },
     "metadata": {},
     "output_type": "display_data"
    },
    {
     "name": "stderr",
     "output_type": "stream",
     "text": [
      "\u001b[34m\u001b[1mwandb\u001b[0m: Agent Starting Run: ozkuehjg with config:\n",
      "\u001b[34m\u001b[1mwandb\u001b[0m: \tbatch_size: 32\n",
      "\u001b[34m\u001b[1mwandb\u001b[0m: \tdropout_rate: 0.2\n",
      "\u001b[34m\u001b[1mwandb\u001b[0m: \tlayer1_size: 256\n",
      "\u001b[34m\u001b[1mwandb\u001b[0m: \tlearning_rate: 0.0006986606261683355\n",
      "\u001b[34m\u001b[1mwandb\u001b[0m: \tn_epochs: 10\n"
     ]
    },
    {
     "data": {
      "text/html": [
       "Tracking run with wandb version 0.19.1"
      ],
      "text/plain": [
       "<IPython.core.display.HTML object>"
      ]
     },
     "metadata": {},
     "output_type": "display_data"
    },
    {
     "data": {
      "text/html": [
       "Run data is saved locally in <code>/kaggle/working/wandb/run-20250112_152850-ozkuehjg</code>"
      ],
      "text/plain": [
       "<IPython.core.display.HTML object>"
      ]
     },
     "metadata": {},
     "output_type": "display_data"
    },
    {
     "data": {
      "text/html": [
       "Syncing run <strong><a href='https://wandb.ai/s26048-polish-japanese-academy-of-information-technology-/effnet_sweep/runs/ozkuehjg' target=\"_blank\">curious-sweep-6</a></strong> to <a href='https://wandb.ai/s26048-polish-japanese-academy-of-information-technology-/effnet_sweep' target=\"_blank\">Weights & Biases</a> (<a href='https://wandb.me/developer-guide' target=\"_blank\">docs</a>)<br>Sweep page: <a href='https://wandb.ai/s26048-polish-japanese-academy-of-information-technology-/effnet_sweep/sweeps/dmftq1qt' target=\"_blank\">https://wandb.ai/s26048-polish-japanese-academy-of-information-technology-/effnet_sweep/sweeps/dmftq1qt</a>"
      ],
      "text/plain": [
       "<IPython.core.display.HTML object>"
      ]
     },
     "metadata": {},
     "output_type": "display_data"
    },
    {
     "data": {
      "text/html": [
       " View project at <a href='https://wandb.ai/s26048-polish-japanese-academy-of-information-technology-/effnet_sweep' target=\"_blank\">https://wandb.ai/s26048-polish-japanese-academy-of-information-technology-/effnet_sweep</a>"
      ],
      "text/plain": [
       "<IPython.core.display.HTML object>"
      ]
     },
     "metadata": {},
     "output_type": "display_data"
    },
    {
     "data": {
      "text/html": [
       " View sweep at <a href='https://wandb.ai/s26048-polish-japanese-academy-of-information-technology-/effnet_sweep/sweeps/dmftq1qt' target=\"_blank\">https://wandb.ai/s26048-polish-japanese-academy-of-information-technology-/effnet_sweep/sweeps/dmftq1qt</a>"
      ],
      "text/plain": [
       "<IPython.core.display.HTML object>"
      ]
     },
     "metadata": {},
     "output_type": "display_data"
    },
    {
     "data": {
      "text/html": [
       " View run at <a href='https://wandb.ai/s26048-polish-japanese-academy-of-information-technology-/effnet_sweep/runs/ozkuehjg' target=\"_blank\">https://wandb.ai/s26048-polish-japanese-academy-of-information-technology-/effnet_sweep/runs/ozkuehjg</a>"
      ],
      "text/plain": [
       "<IPython.core.display.HTML object>"
      ]
     },
     "metadata": {},
     "output_type": "display_data"
    },
    {
     "data": {
      "application/vnd.jupyter.widget-view+json": {
       "model_id": "",
       "version_major": 2,
       "version_minor": 0
      },
      "text/plain": [
       "Sanity Checking: |          | 0/? [00:00<?, ?it/s]"
      ]
     },
     "metadata": {},
     "output_type": "display_data"
    },
    {
     "data": {
      "application/vnd.jupyter.widget-view+json": {
       "model_id": "4de80a5d361f4bc2a50af61323ec5296",
       "version_major": 2,
       "version_minor": 0
      },
      "text/plain": [
       "Training: |          | 0/? [00:00<?, ?it/s]"
      ]
     },
     "metadata": {},
     "output_type": "display_data"
    },
    {
     "data": {
      "application/vnd.jupyter.widget-view+json": {
       "model_id": "",
       "version_major": 2,
       "version_minor": 0
      },
      "text/plain": [
       "Validation: |          | 0/? [00:00<?, ?it/s]"
      ]
     },
     "metadata": {},
     "output_type": "display_data"
    },
    {
     "data": {
      "application/vnd.jupyter.widget-view+json": {
       "model_id": "",
       "version_major": 2,
       "version_minor": 0
      },
      "text/plain": [
       "Validation: |          | 0/? [00:00<?, ?it/s]"
      ]
     },
     "metadata": {},
     "output_type": "display_data"
    },
    {
     "data": {
      "application/vnd.jupyter.widget-view+json": {
       "model_id": "",
       "version_major": 2,
       "version_minor": 0
      },
      "text/plain": [
       "Validation: |          | 0/? [00:00<?, ?it/s]"
      ]
     },
     "metadata": {},
     "output_type": "display_data"
    },
    {
     "data": {
      "application/vnd.jupyter.widget-view+json": {
       "model_id": "",
       "version_major": 2,
       "version_minor": 0
      },
      "text/plain": [
       "Validation: |          | 0/? [00:00<?, ?it/s]"
      ]
     },
     "metadata": {},
     "output_type": "display_data"
    },
    {
     "data": {
      "application/vnd.jupyter.widget-view+json": {
       "model_id": "",
       "version_major": 2,
       "version_minor": 0
      },
      "text/plain": [
       "Validation: |          | 0/? [00:00<?, ?it/s]"
      ]
     },
     "metadata": {},
     "output_type": "display_data"
    },
    {
     "data": {
      "application/vnd.jupyter.widget-view+json": {
       "model_id": "",
       "version_major": 2,
       "version_minor": 0
      },
      "text/plain": [
       "Validation: |          | 0/? [00:00<?, ?it/s]"
      ]
     },
     "metadata": {},
     "output_type": "display_data"
    },
    {
     "data": {
      "application/vnd.jupyter.widget-view+json": {
       "model_id": "",
       "version_major": 2,
       "version_minor": 0
      },
      "text/plain": [
       "Validation: |          | 0/? [00:00<?, ?it/s]"
      ]
     },
     "metadata": {},
     "output_type": "display_data"
    },
    {
     "data": {
      "application/vnd.jupyter.widget-view+json": {
       "model_id": "",
       "version_major": 2,
       "version_minor": 0
      },
      "text/plain": [
       "Validation: |          | 0/? [00:00<?, ?it/s]"
      ]
     },
     "metadata": {},
     "output_type": "display_data"
    },
    {
     "data": {
      "application/vnd.jupyter.widget-view+json": {
       "model_id": "",
       "version_major": 2,
       "version_minor": 0
      },
      "text/plain": [
       "Validation: |          | 0/? [00:00<?, ?it/s]"
      ]
     },
     "metadata": {},
     "output_type": "display_data"
    },
    {
     "data": {
      "application/vnd.jupyter.widget-view+json": {
       "model_id": "",
       "version_major": 2,
       "version_minor": 0
      },
      "text/plain": [
       "Validation: |          | 0/? [00:00<?, ?it/s]"
      ]
     },
     "metadata": {},
     "output_type": "display_data"
    },
    {
     "data": {
      "application/vnd.jupyter.widget-view+json": {
       "model_id": "af3feab810704835b1b18142d1c109a8",
       "version_major": 2,
       "version_minor": 0
      },
      "text/plain": [
       "Testing: |          | 0/? [00:00<?, ?it/s]"
      ]
     },
     "metadata": {},
     "output_type": "display_data"
    },
    {
     "data": {
      "text/html": [
       "<pre style=\"white-space:pre;overflow-x:auto;line-height:normal;font-family:Menlo,'DejaVu Sans Mono',consolas,'Courier New',monospace\">┏━━━━━━━━━━━━━━━━━━━━━━━━━━━┳━━━━━━━━━━━━━━━━━━━━━━━━━━━┓\n",
       "┃<span style=\"font-weight: bold\">        Test metric        </span>┃<span style=\"font-weight: bold\">       DataLoader 0        </span>┃\n",
       "┡━━━━━━━━━━━━━━━━━━━━━━━━━━━╇━━━━━━━━━━━━━━━━━━━━━━━━━━━┩\n",
       "│<span style=\"color: #008080; text-decoration-color: #008080\">         test_acc          </span>│<span style=\"color: #800080; text-decoration-color: #800080\">    0.7554545402526855     </span>│\n",
       "│<span style=\"color: #008080; text-decoration-color: #008080\">          test_f1          </span>│<span style=\"color: #800080; text-decoration-color: #800080\">    0.7546714544296265     </span>│\n",
       "│<span style=\"color: #008080; text-decoration-color: #008080\">         test_loss         </span>│<span style=\"color: #800080; text-decoration-color: #800080\">    0.6046761870384216     </span>│\n",
       "└───────────────────────────┴───────────────────────────┘\n",
       "</pre>\n"
      ],
      "text/plain": [
       "┏━━━━━━━━━━━━━━━━━━━━━━━━━━━┳━━━━━━━━━━━━━━━━━━━━━━━━━━━┓\n",
       "┃\u001b[1m \u001b[0m\u001b[1m       Test metric       \u001b[0m\u001b[1m \u001b[0m┃\u001b[1m \u001b[0m\u001b[1m      DataLoader 0       \u001b[0m\u001b[1m \u001b[0m┃\n",
       "┡━━━━━━━━━━━━━━━━━━━━━━━━━━━╇━━━━━━━━━━━━━━━━━━━━━━━━━━━┩\n",
       "│\u001b[36m \u001b[0m\u001b[36m        test_acc         \u001b[0m\u001b[36m \u001b[0m│\u001b[35m \u001b[0m\u001b[35m   0.7554545402526855    \u001b[0m\u001b[35m \u001b[0m│\n",
       "│\u001b[36m \u001b[0m\u001b[36m         test_f1         \u001b[0m\u001b[36m \u001b[0m│\u001b[35m \u001b[0m\u001b[35m   0.7546714544296265    \u001b[0m\u001b[35m \u001b[0m│\n",
       "│\u001b[36m \u001b[0m\u001b[36m        test_loss        \u001b[0m\u001b[36m \u001b[0m│\u001b[35m \u001b[0m\u001b[35m   0.6046761870384216    \u001b[0m\u001b[35m \u001b[0m│\n",
       "└───────────────────────────┴───────────────────────────┘\n"
      ]
     },
     "metadata": {},
     "output_type": "display_data"
    },
    {
     "data": {
      "text/html": [],
      "text/plain": [
       "<IPython.core.display.HTML object>"
      ]
     },
     "metadata": {},
     "output_type": "display_data"
    },
    {
     "data": {
      "text/html": [
       "<br>    <style><br>        .wandb-row {<br>            display: flex;<br>            flex-direction: row;<br>            flex-wrap: wrap;<br>            justify-content: flex-start;<br>            width: 100%;<br>        }<br>        .wandb-col {<br>            display: flex;<br>            flex-direction: column;<br>            flex-basis: 100%;<br>            flex: 1;<br>            padding: 10px;<br>        }<br>    </style><br><div class=\"wandb-row\"><div class=\"wandb-col\"><h3>Run history:</h3><br/><table class=\"wandb\"><tr><td>epoch</td><td>▁▁▁▁▁▂▂▂▂▂▂▂▂▃▃▃▄▄▄▄▅▅▅▅▅▅▆▆▆▆▇▇▇▇▇▇▇▇▇█</td></tr><tr><td>test_acc</td><td>▁</td></tr><tr><td>test_f1</td><td>▁</td></tr><tr><td>test_loss</td><td>▁</td></tr><tr><td>train_acc</td><td>▁▅▆▆▇▇████</td></tr><tr><td>train_loss_epoch</td><td>█▄▃▃▂▂▂▁▁▁</td></tr><tr><td>train_loss_step</td><td>▆▃▆▂▂▄▅▅▄█▄▅▂▆▂▄▂▄▄▃▃▁▂▃▄▅▂▃▄▁▃</td></tr><tr><td>train_macro_f1</td><td>▁▅▆▇▇▇████</td></tr><tr><td>train_macro_precision</td><td>▁▅▆▇▇▇████</td></tr><tr><td>train_macro_recall</td><td>▁▅▆▆▇▇████</td></tr><tr><td>trainer/global_step</td><td>▁▁▁▁▁▁▁▁▁▁▁▁▁▁▁▂▂▂▂▂▂▂▂▂▅▂▂▂▂▆▂▂▂▇▂▂█▂▂▃</td></tr><tr><td>val_acc</td><td>▁▄▆▆▅▁▇█▇▄</td></tr><tr><td>val_loss_epoch</td><td>█▅▃▁▃▆▂▁▁▃</td></tr><tr><td>val_loss_step</td><td>▃▅▆▆▃▃▄▂▁▂▅█▅▆▅▁▃▂▂▃▇▂▃▃▃▆▃▄▄▁▆▁▃▄▂▆▆▆▁█</td></tr><tr><td>val_macro_f1</td><td>▂▄▆▇▄▁██▇▄</td></tr><tr><td>val_macro_precision</td><td>▁▇▇▅▆▇██▆▅</td></tr><tr><td>val_macro_recall</td><td>▁▃▆▇▄▁▇█▇▄</td></tr></table><br/></div><div class=\"wandb-col\"><h3>Run summary:</h3><br/><table class=\"wandb\"><tr><td>epoch</td><td>10</td></tr><tr><td>test_acc</td><td>0.75545</td></tr><tr><td>test_f1</td><td>0.75467</td></tr><tr><td>test_loss</td><td>0.60468</td></tr><tr><td>train_acc</td><td>0.79158</td></tr><tr><td>train_loss_epoch</td><td>0.50386</td></tr><tr><td>train_loss_step</td><td>0.47915</td></tr><tr><td>train_macro_f1</td><td>0.78923</td></tr><tr><td>train_macro_precision</td><td>0.78866</td></tr><tr><td>train_macro_recall</td><td>0.79023</td></tr><tr><td>trainer/global_step</td><td>1560</td></tr><tr><td>val_acc</td><td>0.81402</td></tr><tr><td>val_loss_epoch</td><td>0.43298</td></tr><tr><td>val_loss_step</td><td>0.16523</td></tr><tr><td>val_macro_f1</td><td>0.80518</td></tr><tr><td>val_macro_precision</td><td>0.82429</td></tr><tr><td>val_macro_recall</td><td>0.80489</td></tr></table><br/></div></div>"
      ],
      "text/plain": [
       "<IPython.core.display.HTML object>"
      ]
     },
     "metadata": {},
     "output_type": "display_data"
    },
    {
     "data": {
      "text/html": [
       " View run <strong style=\"color:#cdcd00\">EfficienNet-B0_256_0.000698</strong> at: <a href='https://wandb.ai/s26048-polish-japanese-academy-of-information-technology-/effnet_sweep/runs/ozkuehjg' target=\"_blank\">https://wandb.ai/s26048-polish-japanese-academy-of-information-technology-/effnet_sweep/runs/ozkuehjg</a><br> View project at: <a href='https://wandb.ai/s26048-polish-japanese-academy-of-information-technology-/effnet_sweep' target=\"_blank\">https://wandb.ai/s26048-polish-japanese-academy-of-information-technology-/effnet_sweep</a><br>Synced 5 W&B file(s), 0 media file(s), 2 artifact file(s) and 0 other file(s)"
      ],
      "text/plain": [
       "<IPython.core.display.HTML object>"
      ]
     },
     "metadata": {},
     "output_type": "display_data"
    },
    {
     "data": {
      "text/html": [
       "Find logs at: <code>./wandb/run-20250112_152850-ozkuehjg/logs</code>"
      ],
      "text/plain": [
       "<IPython.core.display.HTML object>"
      ]
     },
     "metadata": {},
     "output_type": "display_data"
    },
    {
     "name": "stderr",
     "output_type": "stream",
     "text": [
      "\u001b[34m\u001b[1mwandb\u001b[0m: Agent Starting Run: y7mvfzsp with config:\n",
      "\u001b[34m\u001b[1mwandb\u001b[0m: \tbatch_size: 128\n",
      "\u001b[34m\u001b[1mwandb\u001b[0m: \tdropout_rate: 0.5\n",
      "\u001b[34m\u001b[1mwandb\u001b[0m: \tlayer1_size: 1024\n",
      "\u001b[34m\u001b[1mwandb\u001b[0m: \tlearning_rate: 0.005999915349797356\n",
      "\u001b[34m\u001b[1mwandb\u001b[0m: \tn_epochs: 20\n"
     ]
    },
    {
     "data": {
      "text/html": [
       "Tracking run with wandb version 0.19.1"
      ],
      "text/plain": [
       "<IPython.core.display.HTML object>"
      ]
     },
     "metadata": {},
     "output_type": "display_data"
    },
    {
     "data": {
      "text/html": [
       "Run data is saved locally in <code>/kaggle/working/wandb/run-20250112_153757-y7mvfzsp</code>"
      ],
      "text/plain": [
       "<IPython.core.display.HTML object>"
      ]
     },
     "metadata": {},
     "output_type": "display_data"
    },
    {
     "data": {
      "text/html": [
       "Syncing run <strong><a href='https://wandb.ai/s26048-polish-japanese-academy-of-information-technology-/effnet_sweep/runs/y7mvfzsp' target=\"_blank\">leafy-sweep-7</a></strong> to <a href='https://wandb.ai/s26048-polish-japanese-academy-of-information-technology-/effnet_sweep' target=\"_blank\">Weights & Biases</a> (<a href='https://wandb.me/developer-guide' target=\"_blank\">docs</a>)<br>Sweep page: <a href='https://wandb.ai/s26048-polish-japanese-academy-of-information-technology-/effnet_sweep/sweeps/dmftq1qt' target=\"_blank\">https://wandb.ai/s26048-polish-japanese-academy-of-information-technology-/effnet_sweep/sweeps/dmftq1qt</a>"
      ],
      "text/plain": [
       "<IPython.core.display.HTML object>"
      ]
     },
     "metadata": {},
     "output_type": "display_data"
    },
    {
     "data": {
      "text/html": [
       " View project at <a href='https://wandb.ai/s26048-polish-japanese-academy-of-information-technology-/effnet_sweep' target=\"_blank\">https://wandb.ai/s26048-polish-japanese-academy-of-information-technology-/effnet_sweep</a>"
      ],
      "text/plain": [
       "<IPython.core.display.HTML object>"
      ]
     },
     "metadata": {},
     "output_type": "display_data"
    },
    {
     "data": {
      "text/html": [
       " View sweep at <a href='https://wandb.ai/s26048-polish-japanese-academy-of-information-technology-/effnet_sweep/sweeps/dmftq1qt' target=\"_blank\">https://wandb.ai/s26048-polish-japanese-academy-of-information-technology-/effnet_sweep/sweeps/dmftq1qt</a>"
      ],
      "text/plain": [
       "<IPython.core.display.HTML object>"
      ]
     },
     "metadata": {},
     "output_type": "display_data"
    },
    {
     "data": {
      "text/html": [
       " View run at <a href='https://wandb.ai/s26048-polish-japanese-academy-of-information-technology-/effnet_sweep/runs/y7mvfzsp' target=\"_blank\">https://wandb.ai/s26048-polish-japanese-academy-of-information-technology-/effnet_sweep/runs/y7mvfzsp</a>"
      ],
      "text/plain": [
       "<IPython.core.display.HTML object>"
      ]
     },
     "metadata": {},
     "output_type": "display_data"
    },
    {
     "data": {
      "application/vnd.jupyter.widget-view+json": {
       "model_id": "",
       "version_major": 2,
       "version_minor": 0
      },
      "text/plain": [
       "Sanity Checking: |          | 0/? [00:00<?, ?it/s]"
      ]
     },
     "metadata": {},
     "output_type": "display_data"
    },
    {
     "data": {
      "application/vnd.jupyter.widget-view+json": {
       "model_id": "eee49007f9854f28be3613bea5732577",
       "version_major": 2,
       "version_minor": 0
      },
      "text/plain": [
       "Training: |          | 0/? [00:00<?, ?it/s]"
      ]
     },
     "metadata": {},
     "output_type": "display_data"
    },
    {
     "data": {
      "application/vnd.jupyter.widget-view+json": {
       "model_id": "",
       "version_major": 2,
       "version_minor": 0
      },
      "text/plain": [
       "Validation: |          | 0/? [00:00<?, ?it/s]"
      ]
     },
     "metadata": {},
     "output_type": "display_data"
    },
    {
     "data": {
      "application/vnd.jupyter.widget-view+json": {
       "model_id": "",
       "version_major": 2,
       "version_minor": 0
      },
      "text/plain": [
       "Validation: |          | 0/? [00:00<?, ?it/s]"
      ]
     },
     "metadata": {},
     "output_type": "display_data"
    },
    {
     "data": {
      "application/vnd.jupyter.widget-view+json": {
       "model_id": "",
       "version_major": 2,
       "version_minor": 0
      },
      "text/plain": [
       "Validation: |          | 0/? [00:00<?, ?it/s]"
      ]
     },
     "metadata": {},
     "output_type": "display_data"
    },
    {
     "data": {
      "application/vnd.jupyter.widget-view+json": {
       "model_id": "",
       "version_major": 2,
       "version_minor": 0
      },
      "text/plain": [
       "Validation: |          | 0/? [00:00<?, ?it/s]"
      ]
     },
     "metadata": {},
     "output_type": "display_data"
    },
    {
     "data": {
      "application/vnd.jupyter.widget-view+json": {
       "model_id": "",
       "version_major": 2,
       "version_minor": 0
      },
      "text/plain": [
       "Validation: |          | 0/? [00:00<?, ?it/s]"
      ]
     },
     "metadata": {},
     "output_type": "display_data"
    },
    {
     "data": {
      "application/vnd.jupyter.widget-view+json": {
       "model_id": "",
       "version_major": 2,
       "version_minor": 0
      },
      "text/plain": [
       "Validation: |          | 0/? [00:00<?, ?it/s]"
      ]
     },
     "metadata": {},
     "output_type": "display_data"
    },
    {
     "data": {
      "application/vnd.jupyter.widget-view+json": {
       "model_id": "",
       "version_major": 2,
       "version_minor": 0
      },
      "text/plain": [
       "Validation: |          | 0/? [00:00<?, ?it/s]"
      ]
     },
     "metadata": {},
     "output_type": "display_data"
    },
    {
     "data": {
      "application/vnd.jupyter.widget-view+json": {
       "model_id": "",
       "version_major": 2,
       "version_minor": 0
      },
      "text/plain": [
       "Validation: |          | 0/? [00:00<?, ?it/s]"
      ]
     },
     "metadata": {},
     "output_type": "display_data"
    },
    {
     "data": {
      "application/vnd.jupyter.widget-view+json": {
       "model_id": "",
       "version_major": 2,
       "version_minor": 0
      },
      "text/plain": [
       "Validation: |          | 0/? [00:00<?, ?it/s]"
      ]
     },
     "metadata": {},
     "output_type": "display_data"
    },
    {
     "data": {
      "application/vnd.jupyter.widget-view+json": {
       "model_id": "99feb68625b24d319623a55f3d34b59b",
       "version_major": 2,
       "version_minor": 0
      },
      "text/plain": [
       "Testing: |          | 0/? [00:00<?, ?it/s]"
      ]
     },
     "metadata": {},
     "output_type": "display_data"
    },
    {
     "data": {
      "text/html": [
       "<pre style=\"white-space:pre;overflow-x:auto;line-height:normal;font-family:Menlo,'DejaVu Sans Mono',consolas,'Courier New',monospace\">┏━━━━━━━━━━━━━━━━━━━━━━━━━━━┳━━━━━━━━━━━━━━━━━━━━━━━━━━━┓\n",
       "┃<span style=\"font-weight: bold\">        Test metric        </span>┃<span style=\"font-weight: bold\">       DataLoader 0        </span>┃\n",
       "┡━━━━━━━━━━━━━━━━━━━━━━━━━━━╇━━━━━━━━━━━━━━━━━━━━━━━━━━━┩\n",
       "│<span style=\"color: #008080; text-decoration-color: #008080\">         test_acc          </span>│<span style=\"color: #800080; text-decoration-color: #800080\">    0.7527272701263428     </span>│\n",
       "│<span style=\"color: #008080; text-decoration-color: #008080\">          test_f1          </span>│<span style=\"color: #800080; text-decoration-color: #800080\">    0.7526825666427612     </span>│\n",
       "│<span style=\"color: #008080; text-decoration-color: #008080\">         test_loss         </span>│<span style=\"color: #800080; text-decoration-color: #800080\">    0.5957909226417542     </span>│\n",
       "└───────────────────────────┴───────────────────────────┘\n",
       "</pre>\n"
      ],
      "text/plain": [
       "┏━━━━━━━━━━━━━━━━━━━━━━━━━━━┳━━━━━━━━━━━━━━━━━━━━━━━━━━━┓\n",
       "┃\u001b[1m \u001b[0m\u001b[1m       Test metric       \u001b[0m\u001b[1m \u001b[0m┃\u001b[1m \u001b[0m\u001b[1m      DataLoader 0       \u001b[0m\u001b[1m \u001b[0m┃\n",
       "┡━━━━━━━━━━━━━━━━━━━━━━━━━━━╇━━━━━━━━━━━━━━━━━━━━━━━━━━━┩\n",
       "│\u001b[36m \u001b[0m\u001b[36m        test_acc         \u001b[0m\u001b[36m \u001b[0m│\u001b[35m \u001b[0m\u001b[35m   0.7527272701263428    \u001b[0m\u001b[35m \u001b[0m│\n",
       "│\u001b[36m \u001b[0m\u001b[36m         test_f1         \u001b[0m\u001b[36m \u001b[0m│\u001b[35m \u001b[0m\u001b[35m   0.7526825666427612    \u001b[0m\u001b[35m \u001b[0m│\n",
       "│\u001b[36m \u001b[0m\u001b[36m        test_loss        \u001b[0m\u001b[36m \u001b[0m│\u001b[35m \u001b[0m\u001b[35m   0.5957909226417542    \u001b[0m\u001b[35m \u001b[0m│\n",
       "└───────────────────────────┴───────────────────────────┘\n"
      ]
     },
     "metadata": {},
     "output_type": "display_data"
    },
    {
     "data": {
      "text/html": [],
      "text/plain": [
       "<IPython.core.display.HTML object>"
      ]
     },
     "metadata": {},
     "output_type": "display_data"
    },
    {
     "data": {
      "text/html": [
       "<br>    <style><br>        .wandb-row {<br>            display: flex;<br>            flex-direction: row;<br>            flex-wrap: wrap;<br>            justify-content: flex-start;<br>            width: 100%;<br>        }<br>        .wandb-col {<br>            display: flex;<br>            flex-direction: column;<br>            flex-basis: 100%;<br>            flex: 1;<br>            padding: 10px;<br>        }<br>    </style><br><div class=\"wandb-row\"><div class=\"wandb-col\"><h3>Run history:</h3><br/><table class=\"wandb\"><tr><td>epoch</td><td>▁▁▂▂▂▃▃▃▃▃▃▄▄▅▅▅▆▆▆▆▆▆▇▇▇█</td></tr><tr><td>test_acc</td><td>▁</td></tr><tr><td>test_f1</td><td>▁</td></tr><tr><td>test_loss</td><td>▁</td></tr><tr><td>train_acc</td><td>▁▇▇▇▇▇█▇█</td></tr><tr><td>train_loss_epoch</td><td>█▂▂▁▁▁▁▁▁</td></tr><tr><td>train_loss_step</td><td>▆▁▅█▆▆▅</td></tr><tr><td>train_macro_f1</td><td>▁▇▇█▇▇█▇█</td></tr><tr><td>train_macro_precision</td><td>▁▇▇█▇▇█▇█</td></tr><tr><td>train_macro_recall</td><td>▁▇▇▇▇▇█▇█</td></tr><tr><td>trainer/global_step</td><td>▁▁▁▁▁▁▁▂▁▁▁▃▃▃▁▁▁▁▁▄▂▂▂▂▂▂▂▂▅▂▂▂▂▂▇▂▂▂▂█</td></tr><tr><td>val_acc</td><td>▁▅▂▅██▅▆▄</td></tr><tr><td>val_loss_epoch</td><td>█▃▅▂▁▁▃▃▃</td></tr><tr><td>val_loss_step</td><td>▁▅▅▅█▄▃▃▆▃▅▂█▂▄▃▆▇▆▂▇▃▁▃▂▆▃▂▆▃▄▄▂▁▇▃▂▂▂▃</td></tr><tr><td>val_macro_f1</td><td>▂▅▁▆██▆▆▄</td></tr><tr><td>val_macro_precision</td><td>▂▃▄▆██▃▄▁</td></tr><tr><td>val_macro_recall</td><td>▁▅▁▅██▆▆▄</td></tr></table><br/></div><div class=\"wandb-col\"><h3>Run summary:</h3><br/><table class=\"wandb\"><tr><td>epoch</td><td>9</td></tr><tr><td>test_acc</td><td>0.75273</td></tr><tr><td>test_f1</td><td>0.75268</td></tr><tr><td>test_loss</td><td>0.59579</td></tr><tr><td>train_acc</td><td>0.7199</td></tr><tr><td>train_loss_epoch</td><td>0.68298</td></tr><tr><td>train_loss_step</td><td>0.74513</td></tr><tr><td>train_macro_f1</td><td>0.71561</td></tr><tr><td>train_macro_precision</td><td>0.71428</td></tr><tr><td>train_macro_recall</td><td>0.71803</td></tr><tr><td>trainer/global_step</td><td>351</td></tr><tr><td>val_acc</td><td>0.80915</td></tr><tr><td>val_loss_epoch</td><td>0.47907</td></tr><tr><td>val_loss_step</td><td>0.38879</td></tr><tr><td>val_macro_f1</td><td>0.80173</td></tr><tr><td>val_macro_precision</td><td>0.80947</td></tr><tr><td>val_macro_recall</td><td>0.80197</td></tr></table><br/></div></div>"
      ],
      "text/plain": [
       "<IPython.core.display.HTML object>"
      ]
     },
     "metadata": {},
     "output_type": "display_data"
    },
    {
     "data": {
      "text/html": [
       " View run <strong style=\"color:#cdcd00\">EfficienNet-B0_1024_0.005999</strong> at: <a href='https://wandb.ai/s26048-polish-japanese-academy-of-information-technology-/effnet_sweep/runs/y7mvfzsp' target=\"_blank\">https://wandb.ai/s26048-polish-japanese-academy-of-information-technology-/effnet_sweep/runs/y7mvfzsp</a><br> View project at: <a href='https://wandb.ai/s26048-polish-japanese-academy-of-information-technology-/effnet_sweep' target=\"_blank\">https://wandb.ai/s26048-polish-japanese-academy-of-information-technology-/effnet_sweep</a><br>Synced 5 W&B file(s), 0 media file(s), 2 artifact file(s) and 0 other file(s)"
      ],
      "text/plain": [
       "<IPython.core.display.HTML object>"
      ]
     },
     "metadata": {},
     "output_type": "display_data"
    },
    {
     "data": {
      "text/html": [
       "Find logs at: <code>./wandb/run-20250112_153757-y7mvfzsp/logs</code>"
      ],
      "text/plain": [
       "<IPython.core.display.HTML object>"
      ]
     },
     "metadata": {},
     "output_type": "display_data"
    },
    {
     "name": "stderr",
     "output_type": "stream",
     "text": [
      "\u001b[34m\u001b[1mwandb\u001b[0m: Agent Starting Run: pjhbmo7p with config:\n",
      "\u001b[34m\u001b[1mwandb\u001b[0m: \tbatch_size: 32\n",
      "\u001b[34m\u001b[1mwandb\u001b[0m: \tdropout_rate: 0.3\n",
      "\u001b[34m\u001b[1mwandb\u001b[0m: \tlayer1_size: 256\n",
      "\u001b[34m\u001b[1mwandb\u001b[0m: \tlearning_rate: 0.0025497586676845553\n",
      "\u001b[34m\u001b[1mwandb\u001b[0m: \tn_epochs: 10\n"
     ]
    },
    {
     "data": {
      "text/html": [
       "Tracking run with wandb version 0.19.1"
      ],
      "text/plain": [
       "<IPython.core.display.HTML object>"
      ]
     },
     "metadata": {},
     "output_type": "display_data"
    },
    {
     "data": {
      "text/html": [
       "Run data is saved locally in <code>/kaggle/working/wandb/run-20250112_154635-pjhbmo7p</code>"
      ],
      "text/plain": [
       "<IPython.core.display.HTML object>"
      ]
     },
     "metadata": {},
     "output_type": "display_data"
    },
    {
     "data": {
      "text/html": [
       "Syncing run <strong><a href='https://wandb.ai/s26048-polish-japanese-academy-of-information-technology-/effnet_sweep/runs/pjhbmo7p' target=\"_blank\">celestial-sweep-8</a></strong> to <a href='https://wandb.ai/s26048-polish-japanese-academy-of-information-technology-/effnet_sweep' target=\"_blank\">Weights & Biases</a> (<a href='https://wandb.me/developer-guide' target=\"_blank\">docs</a>)<br>Sweep page: <a href='https://wandb.ai/s26048-polish-japanese-academy-of-information-technology-/effnet_sweep/sweeps/dmftq1qt' target=\"_blank\">https://wandb.ai/s26048-polish-japanese-academy-of-information-technology-/effnet_sweep/sweeps/dmftq1qt</a>"
      ],
      "text/plain": [
       "<IPython.core.display.HTML object>"
      ]
     },
     "metadata": {},
     "output_type": "display_data"
    },
    {
     "data": {
      "text/html": [
       " View project at <a href='https://wandb.ai/s26048-polish-japanese-academy-of-information-technology-/effnet_sweep' target=\"_blank\">https://wandb.ai/s26048-polish-japanese-academy-of-information-technology-/effnet_sweep</a>"
      ],
      "text/plain": [
       "<IPython.core.display.HTML object>"
      ]
     },
     "metadata": {},
     "output_type": "display_data"
    },
    {
     "data": {
      "text/html": [
       " View sweep at <a href='https://wandb.ai/s26048-polish-japanese-academy-of-information-technology-/effnet_sweep/sweeps/dmftq1qt' target=\"_blank\">https://wandb.ai/s26048-polish-japanese-academy-of-information-technology-/effnet_sweep/sweeps/dmftq1qt</a>"
      ],
      "text/plain": [
       "<IPython.core.display.HTML object>"
      ]
     },
     "metadata": {},
     "output_type": "display_data"
    },
    {
     "data": {
      "text/html": [
       " View run at <a href='https://wandb.ai/s26048-polish-japanese-academy-of-information-technology-/effnet_sweep/runs/pjhbmo7p' target=\"_blank\">https://wandb.ai/s26048-polish-japanese-academy-of-information-technology-/effnet_sweep/runs/pjhbmo7p</a>"
      ],
      "text/plain": [
       "<IPython.core.display.HTML object>"
      ]
     },
     "metadata": {},
     "output_type": "display_data"
    },
    {
     "data": {
      "application/vnd.jupyter.widget-view+json": {
       "model_id": "",
       "version_major": 2,
       "version_minor": 0
      },
      "text/plain": [
       "Sanity Checking: |          | 0/? [00:00<?, ?it/s]"
      ]
     },
     "metadata": {},
     "output_type": "display_data"
    },
    {
     "data": {
      "application/vnd.jupyter.widget-view+json": {
       "model_id": "76f2738dd91f47e5bcd96ca518b3f85d",
       "version_major": 2,
       "version_minor": 0
      },
      "text/plain": [
       "Training: |          | 0/? [00:00<?, ?it/s]"
      ]
     },
     "metadata": {},
     "output_type": "display_data"
    },
    {
     "data": {
      "application/vnd.jupyter.widget-view+json": {
       "model_id": "",
       "version_major": 2,
       "version_minor": 0
      },
      "text/plain": [
       "Validation: |          | 0/? [00:00<?, ?it/s]"
      ]
     },
     "metadata": {},
     "output_type": "display_data"
    },
    {
     "data": {
      "application/vnd.jupyter.widget-view+json": {
       "model_id": "",
       "version_major": 2,
       "version_minor": 0
      },
      "text/plain": [
       "Validation: |          | 0/? [00:00<?, ?it/s]"
      ]
     },
     "metadata": {},
     "output_type": "display_data"
    },
    {
     "data": {
      "application/vnd.jupyter.widget-view+json": {
       "model_id": "",
       "version_major": 2,
       "version_minor": 0
      },
      "text/plain": [
       "Validation: |          | 0/? [00:00<?, ?it/s]"
      ]
     },
     "metadata": {},
     "output_type": "display_data"
    },
    {
     "data": {
      "application/vnd.jupyter.widget-view+json": {
       "model_id": "",
       "version_major": 2,
       "version_minor": 0
      },
      "text/plain": [
       "Validation: |          | 0/? [00:00<?, ?it/s]"
      ]
     },
     "metadata": {},
     "output_type": "display_data"
    },
    {
     "data": {
      "application/vnd.jupyter.widget-view+json": {
       "model_id": "",
       "version_major": 2,
       "version_minor": 0
      },
      "text/plain": [
       "Validation: |          | 0/? [00:00<?, ?it/s]"
      ]
     },
     "metadata": {},
     "output_type": "display_data"
    },
    {
     "data": {
      "application/vnd.jupyter.widget-view+json": {
       "model_id": "28d221b040a2462992ab42d684a54ee2",
       "version_major": 2,
       "version_minor": 0
      },
      "text/plain": [
       "Testing: |          | 0/? [00:00<?, ?it/s]"
      ]
     },
     "metadata": {},
     "output_type": "display_data"
    },
    {
     "data": {
      "text/html": [
       "<pre style=\"white-space:pre;overflow-x:auto;line-height:normal;font-family:Menlo,'DejaVu Sans Mono',consolas,'Courier New',monospace\">┏━━━━━━━━━━━━━━━━━━━━━━━━━━━┳━━━━━━━━━━━━━━━━━━━━━━━━━━━┓\n",
       "┃<span style=\"font-weight: bold\">        Test metric        </span>┃<span style=\"font-weight: bold\">       DataLoader 0        </span>┃\n",
       "┡━━━━━━━━━━━━━━━━━━━━━━━━━━━╇━━━━━━━━━━━━━━━━━━━━━━━━━━━┩\n",
       "│<span style=\"color: #008080; text-decoration-color: #008080\">         test_acc          </span>│<span style=\"color: #800080; text-decoration-color: #800080\">    0.7654545307159424     </span>│\n",
       "│<span style=\"color: #008080; text-decoration-color: #008080\">          test_f1          </span>│<span style=\"color: #800080; text-decoration-color: #800080\">    0.7641470432281494     </span>│\n",
       "│<span style=\"color: #008080; text-decoration-color: #008080\">         test_loss         </span>│<span style=\"color: #800080; text-decoration-color: #800080\">    0.5984426140785217     </span>│\n",
       "└───────────────────────────┴───────────────────────────┘\n",
       "</pre>\n"
      ],
      "text/plain": [
       "┏━━━━━━━━━━━━━━━━━━━━━━━━━━━┳━━━━━━━━━━━━━━━━━━━━━━━━━━━┓\n",
       "┃\u001b[1m \u001b[0m\u001b[1m       Test metric       \u001b[0m\u001b[1m \u001b[0m┃\u001b[1m \u001b[0m\u001b[1m      DataLoader 0       \u001b[0m\u001b[1m \u001b[0m┃\n",
       "┡━━━━━━━━━━━━━━━━━━━━━━━━━━━╇━━━━━━━━━━━━━━━━━━━━━━━━━━━┩\n",
       "│\u001b[36m \u001b[0m\u001b[36m        test_acc         \u001b[0m\u001b[36m \u001b[0m│\u001b[35m \u001b[0m\u001b[35m   0.7654545307159424    \u001b[0m\u001b[35m \u001b[0m│\n",
       "│\u001b[36m \u001b[0m\u001b[36m         test_f1         \u001b[0m\u001b[36m \u001b[0m│\u001b[35m \u001b[0m\u001b[35m   0.7641470432281494    \u001b[0m\u001b[35m \u001b[0m│\n",
       "│\u001b[36m \u001b[0m\u001b[36m        test_loss        \u001b[0m\u001b[36m \u001b[0m│\u001b[35m \u001b[0m\u001b[35m   0.5984426140785217    \u001b[0m\u001b[35m \u001b[0m│\n",
       "└───────────────────────────┴───────────────────────────┘\n"
      ]
     },
     "metadata": {},
     "output_type": "display_data"
    },
    {
     "data": {
      "text/html": [],
      "text/plain": [
       "<IPython.core.display.HTML object>"
      ]
     },
     "metadata": {},
     "output_type": "display_data"
    },
    {
     "data": {
      "text/html": [
       "<br>    <style><br>        .wandb-row {<br>            display: flex;<br>            flex-direction: row;<br>            flex-wrap: wrap;<br>            justify-content: flex-start;<br>            width: 100%;<br>        }<br>        .wandb-col {<br>            display: flex;<br>            flex-direction: column;<br>            flex-basis: 100%;<br>            flex: 1;<br>            padding: 10px;<br>        }<br>    </style><br><div class=\"wandb-row\"><div class=\"wandb-col\"><h3>Run history:</h3><br/><table class=\"wandb\"><tr><td>epoch</td><td>▁▁▁▁▁▂▂▂▂▂▄▄▄▄▄▅▅▅▅▅▇▇▇▇▇█</td></tr><tr><td>test_acc</td><td>▁</td></tr><tr><td>test_f1</td><td>▁</td></tr><tr><td>test_loss</td><td>▁</td></tr><tr><td>train_acc</td><td>▁▆▇▆█</td></tr><tr><td>train_loss_epoch</td><td>█▃▂▃▁</td></tr><tr><td>train_loss_step</td><td>█▃▃▂▂▂▃▃▄▁▆▅▄▂▁</td></tr><tr><td>train_macro_f1</td><td>▁▆▇▆█</td></tr><tr><td>train_macro_precision</td><td>▁▆▇▆█</td></tr><tr><td>train_macro_recall</td><td>▁▆▇▆█</td></tr><tr><td>trainer/global_step</td><td>▁▂▁▁▁▃▃▁▁▁▁▁▁▁▁▁▁▁▂▂▂▂▂▂▂▆▂▂▂▂▂▂▂▇▇▂▂▂▂█</td></tr><tr><td>val_acc</td><td>▅█▁▆▅</td></tr><tr><td>val_loss_epoch</td><td>█▄▇▁▂</td></tr><tr><td>val_loss_step</td><td>▃▂▄▃▄▃▇▇▆▃▃▃▄▄▃▂▁▄▂▃▃▂▄▄█▃▂▁▄▆▅▂▂▆▆▁▄▃▂▇</td></tr><tr><td>val_macro_f1</td><td>▆█▁▇▅</td></tr><tr><td>val_macro_precision</td><td>▅█▁▄▃</td></tr><tr><td>val_macro_recall</td><td>▆█▁▇▅</td></tr></table><br/></div><div class=\"wandb-col\"><h3>Run summary:</h3><br/><table class=\"wandb\"><tr><td>epoch</td><td>5</td></tr><tr><td>test_acc</td><td>0.76545</td></tr><tr><td>test_f1</td><td>0.76415</td></tr><tr><td>test_loss</td><td>0.59844</td></tr><tr><td>train_acc</td><td>0.75232</td></tr><tr><td>train_loss_epoch</td><td>0.61056</td></tr><tr><td>train_loss_step</td><td>0.44088</td></tr><tr><td>train_macro_f1</td><td>0.74927</td></tr><tr><td>train_macro_precision</td><td>0.74831</td></tr><tr><td>train_macro_recall</td><td>0.7507</td></tr><tr><td>trainer/global_step</td><td>780</td></tr><tr><td>val_acc</td><td>0.81305</td></tr><tr><td>val_loss_epoch</td><td>0.45406</td></tr><tr><td>val_loss_step</td><td>0.43426</td></tr><tr><td>val_macro_f1</td><td>0.80623</td></tr><tr><td>val_macro_precision</td><td>0.81688</td></tr><tr><td>val_macro_recall</td><td>0.80545</td></tr></table><br/></div></div>"
      ],
      "text/plain": [
       "<IPython.core.display.HTML object>"
      ]
     },
     "metadata": {},
     "output_type": "display_data"
    },
    {
     "data": {
      "text/html": [
       " View run <strong style=\"color:#cdcd00\">EfficienNet-B0_256_0.002549</strong> at: <a href='https://wandb.ai/s26048-polish-japanese-academy-of-information-technology-/effnet_sweep/runs/pjhbmo7p' target=\"_blank\">https://wandb.ai/s26048-polish-japanese-academy-of-information-technology-/effnet_sweep/runs/pjhbmo7p</a><br> View project at: <a href='https://wandb.ai/s26048-polish-japanese-academy-of-information-technology-/effnet_sweep' target=\"_blank\">https://wandb.ai/s26048-polish-japanese-academy-of-information-technology-/effnet_sweep</a><br>Synced 5 W&B file(s), 0 media file(s), 2 artifact file(s) and 0 other file(s)"
      ],
      "text/plain": [
       "<IPython.core.display.HTML object>"
      ]
     },
     "metadata": {},
     "output_type": "display_data"
    },
    {
     "data": {
      "text/html": [
       "Find logs at: <code>./wandb/run-20250112_154635-pjhbmo7p/logs</code>"
      ],
      "text/plain": [
       "<IPython.core.display.HTML object>"
      ]
     },
     "metadata": {},
     "output_type": "display_data"
    },
    {
     "name": "stderr",
     "output_type": "stream",
     "text": [
      "\u001b[34m\u001b[1mwandb\u001b[0m: Agent Starting Run: 9oy9ak6q with config:\n",
      "\u001b[34m\u001b[1mwandb\u001b[0m: \tbatch_size: 128\n",
      "\u001b[34m\u001b[1mwandb\u001b[0m: \tdropout_rate: 0.7\n",
      "\u001b[34m\u001b[1mwandb\u001b[0m: \tlayer1_size: 1024\n",
      "\u001b[34m\u001b[1mwandb\u001b[0m: \tlearning_rate: 0.0008832436364522041\n",
      "\u001b[34m\u001b[1mwandb\u001b[0m: \tn_epochs: 10\n"
     ]
    },
    {
     "data": {
      "text/html": [
       "Tracking run with wandb version 0.19.1"
      ],
      "text/plain": [
       "<IPython.core.display.HTML object>"
      ]
     },
     "metadata": {},
     "output_type": "display_data"
    },
    {
     "data": {
      "text/html": [
       "Run data is saved locally in <code>/kaggle/working/wandb/run-20250112_155129-9oy9ak6q</code>"
      ],
      "text/plain": [
       "<IPython.core.display.HTML object>"
      ]
     },
     "metadata": {},
     "output_type": "display_data"
    },
    {
     "data": {
      "text/html": [
       "Syncing run <strong><a href='https://wandb.ai/s26048-polish-japanese-academy-of-information-technology-/effnet_sweep/runs/9oy9ak6q' target=\"_blank\">charmed-sweep-9</a></strong> to <a href='https://wandb.ai/s26048-polish-japanese-academy-of-information-technology-/effnet_sweep' target=\"_blank\">Weights & Biases</a> (<a href='https://wandb.me/developer-guide' target=\"_blank\">docs</a>)<br>Sweep page: <a href='https://wandb.ai/s26048-polish-japanese-academy-of-information-technology-/effnet_sweep/sweeps/dmftq1qt' target=\"_blank\">https://wandb.ai/s26048-polish-japanese-academy-of-information-technology-/effnet_sweep/sweeps/dmftq1qt</a>"
      ],
      "text/plain": [
       "<IPython.core.display.HTML object>"
      ]
     },
     "metadata": {},
     "output_type": "display_data"
    },
    {
     "data": {
      "text/html": [
       " View project at <a href='https://wandb.ai/s26048-polish-japanese-academy-of-information-technology-/effnet_sweep' target=\"_blank\">https://wandb.ai/s26048-polish-japanese-academy-of-information-technology-/effnet_sweep</a>"
      ],
      "text/plain": [
       "<IPython.core.display.HTML object>"
      ]
     },
     "metadata": {},
     "output_type": "display_data"
    },
    {
     "data": {
      "text/html": [
       " View sweep at <a href='https://wandb.ai/s26048-polish-japanese-academy-of-information-technology-/effnet_sweep/sweeps/dmftq1qt' target=\"_blank\">https://wandb.ai/s26048-polish-japanese-academy-of-information-technology-/effnet_sweep/sweeps/dmftq1qt</a>"
      ],
      "text/plain": [
       "<IPython.core.display.HTML object>"
      ]
     },
     "metadata": {},
     "output_type": "display_data"
    },
    {
     "data": {
      "text/html": [
       " View run at <a href='https://wandb.ai/s26048-polish-japanese-academy-of-information-technology-/effnet_sweep/runs/9oy9ak6q' target=\"_blank\">https://wandb.ai/s26048-polish-japanese-academy-of-information-technology-/effnet_sweep/runs/9oy9ak6q</a>"
      ],
      "text/plain": [
       "<IPython.core.display.HTML object>"
      ]
     },
     "metadata": {},
     "output_type": "display_data"
    },
    {
     "data": {
      "application/vnd.jupyter.widget-view+json": {
       "model_id": "",
       "version_major": 2,
       "version_minor": 0
      },
      "text/plain": [
       "Sanity Checking: |          | 0/? [00:00<?, ?it/s]"
      ]
     },
     "metadata": {},
     "output_type": "display_data"
    },
    {
     "data": {
      "application/vnd.jupyter.widget-view+json": {
       "model_id": "1630e8a142de4004b3e5d8dd59fa7d61",
       "version_major": 2,
       "version_minor": 0
      },
      "text/plain": [
       "Training: |          | 0/? [00:00<?, ?it/s]"
      ]
     },
     "metadata": {},
     "output_type": "display_data"
    },
    {
     "data": {
      "application/vnd.jupyter.widget-view+json": {
       "model_id": "",
       "version_major": 2,
       "version_minor": 0
      },
      "text/plain": [
       "Validation: |          | 0/? [00:00<?, ?it/s]"
      ]
     },
     "metadata": {},
     "output_type": "display_data"
    },
    {
     "data": {
      "application/vnd.jupyter.widget-view+json": {
       "model_id": "",
       "version_major": 2,
       "version_minor": 0
      },
      "text/plain": [
       "Validation: |          | 0/? [00:00<?, ?it/s]"
      ]
     },
     "metadata": {},
     "output_type": "display_data"
    },
    {
     "data": {
      "application/vnd.jupyter.widget-view+json": {
       "model_id": "",
       "version_major": 2,
       "version_minor": 0
      },
      "text/plain": [
       "Validation: |          | 0/? [00:00<?, ?it/s]"
      ]
     },
     "metadata": {},
     "output_type": "display_data"
    },
    {
     "data": {
      "application/vnd.jupyter.widget-view+json": {
       "model_id": "",
       "version_major": 2,
       "version_minor": 0
      },
      "text/plain": [
       "Validation: |          | 0/? [00:00<?, ?it/s]"
      ]
     },
     "metadata": {},
     "output_type": "display_data"
    },
    {
     "data": {
      "application/vnd.jupyter.widget-view+json": {
       "model_id": "",
       "version_major": 2,
       "version_minor": 0
      },
      "text/plain": [
       "Validation: |          | 0/? [00:00<?, ?it/s]"
      ]
     },
     "metadata": {},
     "output_type": "display_data"
    },
    {
     "data": {
      "application/vnd.jupyter.widget-view+json": {
       "model_id": "1bcc04bc8a06436a97e46e8df6a43879",
       "version_major": 2,
       "version_minor": 0
      },
      "text/plain": [
       "Testing: |          | 0/? [00:00<?, ?it/s]"
      ]
     },
     "metadata": {},
     "output_type": "display_data"
    },
    {
     "data": {
      "text/html": [
       "<pre style=\"white-space:pre;overflow-x:auto;line-height:normal;font-family:Menlo,'DejaVu Sans Mono',consolas,'Courier New',monospace\">┏━━━━━━━━━━━━━━━━━━━━━━━━━━━┳━━━━━━━━━━━━━━━━━━━━━━━━━━━┓\n",
       "┃<span style=\"font-weight: bold\">        Test metric        </span>┃<span style=\"font-weight: bold\">       DataLoader 0        </span>┃\n",
       "┡━━━━━━━━━━━━━━━━━━━━━━━━━━━╇━━━━━━━━━━━━━━━━━━━━━━━━━━━┩\n",
       "│<span style=\"color: #008080; text-decoration-color: #008080\">         test_acc          </span>│<span style=\"color: #800080; text-decoration-color: #800080\">    0.7627272605895996     </span>│\n",
       "│<span style=\"color: #008080; text-decoration-color: #008080\">          test_f1          </span>│<span style=\"color: #800080; text-decoration-color: #800080\">    0.7658915519714355     </span>│\n",
       "│<span style=\"color: #008080; text-decoration-color: #008080\">         test_loss         </span>│<span style=\"color: #800080; text-decoration-color: #800080\">    0.6345940232276917     </span>│\n",
       "└───────────────────────────┴───────────────────────────┘\n",
       "</pre>\n"
      ],
      "text/plain": [
       "┏━━━━━━━━━━━━━━━━━━━━━━━━━━━┳━━━━━━━━━━━━━━━━━━━━━━━━━━━┓\n",
       "┃\u001b[1m \u001b[0m\u001b[1m       Test metric       \u001b[0m\u001b[1m \u001b[0m┃\u001b[1m \u001b[0m\u001b[1m      DataLoader 0       \u001b[0m\u001b[1m \u001b[0m┃\n",
       "┡━━━━━━━━━━━━━━━━━━━━━━━━━━━╇━━━━━━━━━━━━━━━━━━━━━━━━━━━┩\n",
       "│\u001b[36m \u001b[0m\u001b[36m        test_acc         \u001b[0m\u001b[36m \u001b[0m│\u001b[35m \u001b[0m\u001b[35m   0.7627272605895996    \u001b[0m\u001b[35m \u001b[0m│\n",
       "│\u001b[36m \u001b[0m\u001b[36m         test_f1         \u001b[0m\u001b[36m \u001b[0m│\u001b[35m \u001b[0m\u001b[35m   0.7658915519714355    \u001b[0m\u001b[35m \u001b[0m│\n",
       "│\u001b[36m \u001b[0m\u001b[36m        test_loss        \u001b[0m\u001b[36m \u001b[0m│\u001b[35m \u001b[0m\u001b[35m   0.6345940232276917    \u001b[0m\u001b[35m \u001b[0m│\n",
       "└───────────────────────────┴───────────────────────────┘\n"
      ]
     },
     "metadata": {},
     "output_type": "display_data"
    },
    {
     "data": {
      "text/html": [],
      "text/plain": [
       "<IPython.core.display.HTML object>"
      ]
     },
     "metadata": {},
     "output_type": "display_data"
    },
    {
     "data": {
      "text/html": [
       "<br>    <style><br>        .wandb-row {<br>            display: flex;<br>            flex-direction: row;<br>            flex-wrap: wrap;<br>            justify-content: flex-start;<br>            width: 100%;<br>        }<br>        .wandb-col {<br>            display: flex;<br>            flex-direction: column;<br>            flex-basis: 100%;<br>            flex: 1;<br>            padding: 10px;<br>        }<br>    </style><br><div class=\"wandb-row\"><div class=\"wandb-col\"><h3>Run history:</h3><br/><table class=\"wandb\"><tr><td>epoch</td><td>▁▁▂▂▂▄▄▄▅▅▅▇▇█</td></tr><tr><td>test_acc</td><td>▁</td></tr><tr><td>test_f1</td><td>▁</td></tr><tr><td>test_loss</td><td>▁</td></tr><tr><td>train_acc</td><td>▁▇███</td></tr><tr><td>train_loss_epoch</td><td>█▃▂▂▁</td></tr><tr><td>train_loss_step</td><td>██▁</td></tr><tr><td>train_macro_f1</td><td>▁▇▇██</td></tr><tr><td>train_macro_precision</td><td>▁▇▇██</td></tr><tr><td>train_macro_recall</td><td>▁▇███</td></tr><tr><td>trainer/global_step</td><td>▁▁▁▁▁▁▂▃▁▁▁▁▂▂▂▅▂▂▂▂▂▂▅▅▆▂▂▂▂▂▂▇▇▂▂▂▂▃▃█</td></tr><tr><td>val_acc</td><td>▁█▇▆▆</td></tr><tr><td>val_loss_epoch</td><td>█▃▁▁▂</td></tr><tr><td>val_loss_step</td><td>▄▃▄▄▂▁▇█▂▁▅▅▂▂▆▆▂▁▄▃▂▂▆▇▂▂▄▃▂▁▆▇▁▁▄▄▄▃▅▁</td></tr><tr><td>val_macro_f1</td><td>▁█▇▇▇</td></tr><tr><td>val_macro_precision</td><td>▁▇█▇▆</td></tr><tr><td>val_macro_recall</td><td>▁█▆▆▇</td></tr></table><br/></div><div class=\"wandb-col\"><h3>Run summary:</h3><br/><table class=\"wandb\"><tr><td>epoch</td><td>5</td></tr><tr><td>test_acc</td><td>0.76273</td></tr><tr><td>test_f1</td><td>0.76589</td></tr><tr><td>test_loss</td><td>0.63459</td></tr><tr><td>train_acc</td><td>0.68063</td></tr><tr><td>train_loss_epoch</td><td>0.76147</td></tr><tr><td>train_loss_step</td><td>0.66559</td></tr><tr><td>train_macro_f1</td><td>0.67571</td></tr><tr><td>train_macro_precision</td><td>0.67398</td></tr><tr><td>train_macro_recall</td><td>0.67854</td></tr><tr><td>trainer/global_step</td><td>195</td></tr><tr><td>val_acc</td><td>0.81694</td></tr><tr><td>val_loss_epoch</td><td>0.51556</td></tr><tr><td>val_loss_step</td><td>0.34053</td></tr><tr><td>val_macro_f1</td><td>0.81699</td></tr><tr><td>val_macro_precision</td><td>0.82282</td></tr><tr><td>val_macro_recall</td><td>0.81524</td></tr></table><br/></div></div>"
      ],
      "text/plain": [
       "<IPython.core.display.HTML object>"
      ]
     },
     "metadata": {},
     "output_type": "display_data"
    },
    {
     "data": {
      "text/html": [
       " View run <strong style=\"color:#cdcd00\">EfficienNet-B0_1024_0.000883</strong> at: <a href='https://wandb.ai/s26048-polish-japanese-academy-of-information-technology-/effnet_sweep/runs/9oy9ak6q' target=\"_blank\">https://wandb.ai/s26048-polish-japanese-academy-of-information-technology-/effnet_sweep/runs/9oy9ak6q</a><br> View project at: <a href='https://wandb.ai/s26048-polish-japanese-academy-of-information-technology-/effnet_sweep' target=\"_blank\">https://wandb.ai/s26048-polish-japanese-academy-of-information-technology-/effnet_sweep</a><br>Synced 5 W&B file(s), 0 media file(s), 2 artifact file(s) and 0 other file(s)"
      ],
      "text/plain": [
       "<IPython.core.display.HTML object>"
      ]
     },
     "metadata": {},
     "output_type": "display_data"
    },
    {
     "data": {
      "text/html": [
       "Find logs at: <code>./wandb/run-20250112_155129-9oy9ak6q/logs</code>"
      ],
      "text/plain": [
       "<IPython.core.display.HTML object>"
      ]
     },
     "metadata": {},
     "output_type": "display_data"
    },
    {
     "name": "stderr",
     "output_type": "stream",
     "text": [
      "\u001b[34m\u001b[1mwandb\u001b[0m: Agent Starting Run: 4awvjkxo with config:\n",
      "\u001b[34m\u001b[1mwandb\u001b[0m: \tbatch_size: 64\n",
      "\u001b[34m\u001b[1mwandb\u001b[0m: \tdropout_rate: 0.4\n",
      "\u001b[34m\u001b[1mwandb\u001b[0m: \tlayer1_size: 512\n",
      "\u001b[34m\u001b[1mwandb\u001b[0m: \tlearning_rate: 0.009102342752390356\n",
      "\u001b[34m\u001b[1mwandb\u001b[0m: \tn_epochs: 20\n"
     ]
    },
    {
     "data": {
      "text/html": [
       "Tracking run with wandb version 0.19.1"
      ],
      "text/plain": [
       "<IPython.core.display.HTML object>"
      ]
     },
     "metadata": {},
     "output_type": "display_data"
    },
    {
     "data": {
      "text/html": [
       "Run data is saved locally in <code>/kaggle/working/wandb/run-20250112_155628-4awvjkxo</code>"
      ],
      "text/plain": [
       "<IPython.core.display.HTML object>"
      ]
     },
     "metadata": {},
     "output_type": "display_data"
    },
    {
     "data": {
      "text/html": [
       "Syncing run <strong><a href='https://wandb.ai/s26048-polish-japanese-academy-of-information-technology-/effnet_sweep/runs/4awvjkxo' target=\"_blank\">worthy-sweep-10</a></strong> to <a href='https://wandb.ai/s26048-polish-japanese-academy-of-information-technology-/effnet_sweep' target=\"_blank\">Weights & Biases</a> (<a href='https://wandb.me/developer-guide' target=\"_blank\">docs</a>)<br>Sweep page: <a href='https://wandb.ai/s26048-polish-japanese-academy-of-information-technology-/effnet_sweep/sweeps/dmftq1qt' target=\"_blank\">https://wandb.ai/s26048-polish-japanese-academy-of-information-technology-/effnet_sweep/sweeps/dmftq1qt</a>"
      ],
      "text/plain": [
       "<IPython.core.display.HTML object>"
      ]
     },
     "metadata": {},
     "output_type": "display_data"
    },
    {
     "data": {
      "text/html": [
       " View project at <a href='https://wandb.ai/s26048-polish-japanese-academy-of-information-technology-/effnet_sweep' target=\"_blank\">https://wandb.ai/s26048-polish-japanese-academy-of-information-technology-/effnet_sweep</a>"
      ],
      "text/plain": [
       "<IPython.core.display.HTML object>"
      ]
     },
     "metadata": {},
     "output_type": "display_data"
    },
    {
     "data": {
      "text/html": [
       " View sweep at <a href='https://wandb.ai/s26048-polish-japanese-academy-of-information-technology-/effnet_sweep/sweeps/dmftq1qt' target=\"_blank\">https://wandb.ai/s26048-polish-japanese-academy-of-information-technology-/effnet_sweep/sweeps/dmftq1qt</a>"
      ],
      "text/plain": [
       "<IPython.core.display.HTML object>"
      ]
     },
     "metadata": {},
     "output_type": "display_data"
    },
    {
     "data": {
      "text/html": [
       " View run at <a href='https://wandb.ai/s26048-polish-japanese-academy-of-information-technology-/effnet_sweep/runs/4awvjkxo' target=\"_blank\">https://wandb.ai/s26048-polish-japanese-academy-of-information-technology-/effnet_sweep/runs/4awvjkxo</a>"
      ],
      "text/plain": [
       "<IPython.core.display.HTML object>"
      ]
     },
     "metadata": {},
     "output_type": "display_data"
    },
    {
     "data": {
      "application/vnd.jupyter.widget-view+json": {
       "model_id": "",
       "version_major": 2,
       "version_minor": 0
      },
      "text/plain": [
       "Sanity Checking: |          | 0/? [00:00<?, ?it/s]"
      ]
     },
     "metadata": {},
     "output_type": "display_data"
    },
    {
     "data": {
      "application/vnd.jupyter.widget-view+json": {
       "model_id": "03139648af824f55ab8051541dd9e1cd",
       "version_major": 2,
       "version_minor": 0
      },
      "text/plain": [
       "Training: |          | 0/? [00:00<?, ?it/s]"
      ]
     },
     "metadata": {},
     "output_type": "display_data"
    },
    {
     "data": {
      "application/vnd.jupyter.widget-view+json": {
       "model_id": "",
       "version_major": 2,
       "version_minor": 0
      },
      "text/plain": [
       "Validation: |          | 0/? [00:00<?, ?it/s]"
      ]
     },
     "metadata": {},
     "output_type": "display_data"
    },
    {
     "data": {
      "application/vnd.jupyter.widget-view+json": {
       "model_id": "",
       "version_major": 2,
       "version_minor": 0
      },
      "text/plain": [
       "Validation: |          | 0/? [00:00<?, ?it/s]"
      ]
     },
     "metadata": {},
     "output_type": "display_data"
    },
    {
     "data": {
      "application/vnd.jupyter.widget-view+json": {
       "model_id": "",
       "version_major": 2,
       "version_minor": 0
      },
      "text/plain": [
       "Validation: |          | 0/? [00:00<?, ?it/s]"
      ]
     },
     "metadata": {},
     "output_type": "display_data"
    },
    {
     "data": {
      "application/vnd.jupyter.widget-view+json": {
       "model_id": "",
       "version_major": 2,
       "version_minor": 0
      },
      "text/plain": [
       "Validation: |          | 0/? [00:00<?, ?it/s]"
      ]
     },
     "metadata": {},
     "output_type": "display_data"
    },
    {
     "data": {
      "application/vnd.jupyter.widget-view+json": {
       "model_id": "",
       "version_major": 2,
       "version_minor": 0
      },
      "text/plain": [
       "Validation: |          | 0/? [00:00<?, ?it/s]"
      ]
     },
     "metadata": {},
     "output_type": "display_data"
    },
    {
     "data": {
      "application/vnd.jupyter.widget-view+json": {
       "model_id": "",
       "version_major": 2,
       "version_minor": 0
      },
      "text/plain": [
       "Validation: |          | 0/? [00:00<?, ?it/s]"
      ]
     },
     "metadata": {},
     "output_type": "display_data"
    },
    {
     "data": {
      "application/vnd.jupyter.widget-view+json": {
       "model_id": "92b06058a19e4948954c4efcb3f2eb3d",
       "version_major": 2,
       "version_minor": 0
      },
      "text/plain": [
       "Testing: |          | 0/? [00:00<?, ?it/s]"
      ]
     },
     "metadata": {},
     "output_type": "display_data"
    },
    {
     "data": {
      "text/html": [
       "<pre style=\"white-space:pre;overflow-x:auto;line-height:normal;font-family:Menlo,'DejaVu Sans Mono',consolas,'Courier New',monospace\">┏━━━━━━━━━━━━━━━━━━━━━━━━━━━┳━━━━━━━━━━━━━━━━━━━━━━━━━━━┓\n",
       "┃<span style=\"font-weight: bold\">        Test metric        </span>┃<span style=\"font-weight: bold\">       DataLoader 0        </span>┃\n",
       "┡━━━━━━━━━━━━━━━━━━━━━━━━━━━╇━━━━━━━━━━━━━━━━━━━━━━━━━━━┩\n",
       "│<span style=\"color: #008080; text-decoration-color: #008080\">         test_acc          </span>│<span style=\"color: #800080; text-decoration-color: #800080\">    0.7654545307159424     </span>│\n",
       "│<span style=\"color: #008080; text-decoration-color: #008080\">          test_f1          </span>│<span style=\"color: #800080; text-decoration-color: #800080\">    0.7643993496894836     </span>│\n",
       "│<span style=\"color: #008080; text-decoration-color: #008080\">         test_loss         </span>│<span style=\"color: #800080; text-decoration-color: #800080\">    0.6335635185241699     </span>│\n",
       "└───────────────────────────┴───────────────────────────┘\n",
       "</pre>\n"
      ],
      "text/plain": [
       "┏━━━━━━━━━━━━━━━━━━━━━━━━━━━┳━━━━━━━━━━━━━━━━━━━━━━━━━━━┓\n",
       "┃\u001b[1m \u001b[0m\u001b[1m       Test metric       \u001b[0m\u001b[1m \u001b[0m┃\u001b[1m \u001b[0m\u001b[1m      DataLoader 0       \u001b[0m\u001b[1m \u001b[0m┃\n",
       "┡━━━━━━━━━━━━━━━━━━━━━━━━━━━╇━━━━━━━━━━━━━━━━━━━━━━━━━━━┩\n",
       "│\u001b[36m \u001b[0m\u001b[36m        test_acc         \u001b[0m\u001b[36m \u001b[0m│\u001b[35m \u001b[0m\u001b[35m   0.7654545307159424    \u001b[0m\u001b[35m \u001b[0m│\n",
       "│\u001b[36m \u001b[0m\u001b[36m         test_f1         \u001b[0m\u001b[36m \u001b[0m│\u001b[35m \u001b[0m\u001b[35m   0.7643993496894836    \u001b[0m\u001b[35m \u001b[0m│\n",
       "│\u001b[36m \u001b[0m\u001b[36m        test_loss        \u001b[0m\u001b[36m \u001b[0m│\u001b[35m \u001b[0m\u001b[35m   0.6335635185241699    \u001b[0m\u001b[35m \u001b[0m│\n",
       "└───────────────────────────┴───────────────────────────┘\n"
      ]
     },
     "metadata": {},
     "output_type": "display_data"
    },
    {
     "data": {
      "text/html": [],
      "text/plain": [
       "<IPython.core.display.HTML object>"
      ]
     },
     "metadata": {},
     "output_type": "display_data"
    },
    {
     "data": {
      "text/html": [
       "<br>    <style><br>        .wandb-row {<br>            display: flex;<br>            flex-direction: row;<br>            flex-wrap: wrap;<br>            justify-content: flex-start;<br>            width: 100%;<br>        }<br>        .wandb-col {<br>            display: flex;<br>            flex-direction: column;<br>            flex-basis: 100%;<br>            flex: 1;<br>            padding: 10px;<br>        }<br>    </style><br><div class=\"wandb-row\"><div class=\"wandb-col\"><h3>Run history:</h3><br/><table class=\"wandb\"><tr><td>epoch</td><td>▁▁▁▂▂▂▂▃▃▃▅▅▅▅▆▆▆▇▇▇▇█</td></tr><tr><td>test_acc</td><td>▁</td></tr><tr><td>test_f1</td><td>▁</td></tr><tr><td>test_loss</td><td>▁</td></tr><tr><td>train_acc</td><td>▁████▇</td></tr><tr><td>train_loss_epoch</td><td>█▁▁▁▂▁</td></tr><tr><td>train_loss_step</td><td>▆▅▃▄▁▅▆▄█</td></tr><tr><td>train_macro_f1</td><td>▁████▇</td></tr><tr><td>train_macro_precision</td><td>▁████▇</td></tr><tr><td>train_macro_recall</td><td>▁████▇</td></tr><tr><td>trainer/global_step</td><td>▁▁▁▁▁▁▂▁▁▁▁▂▂▂▂▄▅▂▂▂▂▂▂▆▆▂▂▂▂▂▂▂▇▇▇▂▂▂▂█</td></tr><tr><td>val_acc</td><td>▅▄█▁▆▆</td></tr><tr><td>val_loss_epoch</td><td>▅▃▁█▄▁</td></tr><tr><td>val_loss_step</td><td>▂▁▃▂▅▆▁▂▁▃▁▅▇█▁▃▂▂▅▅▃▃▂▄▂▆▃▂▄▅▄▄▄▅▁▃▄▃▂▃</td></tr><tr><td>val_macro_f1</td><td>▅▁█▁▆▆</td></tr><tr><td>val_macro_precision</td><td>▃█▃▁▁▃</td></tr><tr><td>val_macro_recall</td><td>▄▂█▁▆▅</td></tr></table><br/></div><div class=\"wandb-col\"><h3>Run summary:</h3><br/><table class=\"wandb\"><tr><td>epoch</td><td>6</td></tr><tr><td>test_acc</td><td>0.76545</td></tr><tr><td>test_f1</td><td>0.7644</td></tr><tr><td>test_loss</td><td>0.63356</td></tr><tr><td>train_acc</td><td>0.69674</td></tr><tr><td>train_loss_epoch</td><td>0.73322</td></tr><tr><td>train_loss_step</td><td>0.90424</td></tr><tr><td>train_macro_f1</td><td>0.69273</td></tr><tr><td>train_macro_precision</td><td>0.6913</td></tr><tr><td>train_macro_recall</td><td>0.69486</td></tr><tr><td>trainer/global_step</td><td>468</td></tr><tr><td>val_acc</td><td>0.81305</td></tr><tr><td>val_loss_epoch</td><td>0.473</td></tr><tr><td>val_loss_step</td><td>0.43017</td></tr><tr><td>val_macro_f1</td><td>0.80618</td></tr><tr><td>val_macro_precision</td><td>0.8147</td></tr><tr><td>val_macro_recall</td><td>0.80549</td></tr></table><br/></div></div>"
      ],
      "text/plain": [
       "<IPython.core.display.HTML object>"
      ]
     },
     "metadata": {},
     "output_type": "display_data"
    },
    {
     "data": {
      "text/html": [
       " View run <strong style=\"color:#cdcd00\">EfficienNet-B0_512_0.009102</strong> at: <a href='https://wandb.ai/s26048-polish-japanese-academy-of-information-technology-/effnet_sweep/runs/4awvjkxo' target=\"_blank\">https://wandb.ai/s26048-polish-japanese-academy-of-information-technology-/effnet_sweep/runs/4awvjkxo</a><br> View project at: <a href='https://wandb.ai/s26048-polish-japanese-academy-of-information-technology-/effnet_sweep' target=\"_blank\">https://wandb.ai/s26048-polish-japanese-academy-of-information-technology-/effnet_sweep</a><br>Synced 5 W&B file(s), 0 media file(s), 2 artifact file(s) and 0 other file(s)"
      ],
      "text/plain": [
       "<IPython.core.display.HTML object>"
      ]
     },
     "metadata": {},
     "output_type": "display_data"
    },
    {
     "data": {
      "text/html": [
       "Find logs at: <code>./wandb/run-20250112_155628-4awvjkxo/logs</code>"
      ],
      "text/plain": [
       "<IPython.core.display.HTML object>"
      ]
     },
     "metadata": {},
     "output_type": "display_data"
    },
    {
     "name": "stderr",
     "output_type": "stream",
     "text": [
      "\u001b[34m\u001b[1mwandb\u001b[0m: Agent Starting Run: 3oyv62ar with config:\n",
      "\u001b[34m\u001b[1mwandb\u001b[0m: \tbatch_size: 64\n",
      "\u001b[34m\u001b[1mwandb\u001b[0m: \tdropout_rate: 0.2\n",
      "\u001b[34m\u001b[1mwandb\u001b[0m: \tlayer1_size: 512\n",
      "\u001b[34m\u001b[1mwandb\u001b[0m: \tlearning_rate: 0.007077260167064558\n",
      "\u001b[34m\u001b[1mwandb\u001b[0m: \tn_epochs: 10\n"
     ]
    },
    {
     "data": {
      "text/html": [
       "Tracking run with wandb version 0.19.1"
      ],
      "text/plain": [
       "<IPython.core.display.HTML object>"
      ]
     },
     "metadata": {},
     "output_type": "display_data"
    },
    {
     "data": {
      "text/html": [
       "Run data is saved locally in <code>/kaggle/working/wandb/run-20250112_160208-3oyv62ar</code>"
      ],
      "text/plain": [
       "<IPython.core.display.HTML object>"
      ]
     },
     "metadata": {},
     "output_type": "display_data"
    },
    {
     "data": {
      "text/html": [
       "Syncing run <strong><a href='https://wandb.ai/s26048-polish-japanese-academy-of-information-technology-/effnet_sweep/runs/3oyv62ar' target=\"_blank\">ruby-sweep-11</a></strong> to <a href='https://wandb.ai/s26048-polish-japanese-academy-of-information-technology-/effnet_sweep' target=\"_blank\">Weights & Biases</a> (<a href='https://wandb.me/developer-guide' target=\"_blank\">docs</a>)<br>Sweep page: <a href='https://wandb.ai/s26048-polish-japanese-academy-of-information-technology-/effnet_sweep/sweeps/dmftq1qt' target=\"_blank\">https://wandb.ai/s26048-polish-japanese-academy-of-information-technology-/effnet_sweep/sweeps/dmftq1qt</a>"
      ],
      "text/plain": [
       "<IPython.core.display.HTML object>"
      ]
     },
     "metadata": {},
     "output_type": "display_data"
    },
    {
     "data": {
      "text/html": [
       " View project at <a href='https://wandb.ai/s26048-polish-japanese-academy-of-information-technology-/effnet_sweep' target=\"_blank\">https://wandb.ai/s26048-polish-japanese-academy-of-information-technology-/effnet_sweep</a>"
      ],
      "text/plain": [
       "<IPython.core.display.HTML object>"
      ]
     },
     "metadata": {},
     "output_type": "display_data"
    },
    {
     "data": {
      "text/html": [
       " View sweep at <a href='https://wandb.ai/s26048-polish-japanese-academy-of-information-technology-/effnet_sweep/sweeps/dmftq1qt' target=\"_blank\">https://wandb.ai/s26048-polish-japanese-academy-of-information-technology-/effnet_sweep/sweeps/dmftq1qt</a>"
      ],
      "text/plain": [
       "<IPython.core.display.HTML object>"
      ]
     },
     "metadata": {},
     "output_type": "display_data"
    },
    {
     "data": {
      "text/html": [
       " View run at <a href='https://wandb.ai/s26048-polish-japanese-academy-of-information-technology-/effnet_sweep/runs/3oyv62ar' target=\"_blank\">https://wandb.ai/s26048-polish-japanese-academy-of-information-technology-/effnet_sweep/runs/3oyv62ar</a>"
      ],
      "text/plain": [
       "<IPython.core.display.HTML object>"
      ]
     },
     "metadata": {},
     "output_type": "display_data"
    },
    {
     "data": {
      "application/vnd.jupyter.widget-view+json": {
       "model_id": "",
       "version_major": 2,
       "version_minor": 0
      },
      "text/plain": [
       "Sanity Checking: |          | 0/? [00:00<?, ?it/s]"
      ]
     },
     "metadata": {},
     "output_type": "display_data"
    },
    {
     "data": {
      "application/vnd.jupyter.widget-view+json": {
       "model_id": "169485c9519e45e08b697d45df95477f",
       "version_major": 2,
       "version_minor": 0
      },
      "text/plain": [
       "Training: |          | 0/? [00:00<?, ?it/s]"
      ]
     },
     "metadata": {},
     "output_type": "display_data"
    },
    {
     "data": {
      "application/vnd.jupyter.widget-view+json": {
       "model_id": "",
       "version_major": 2,
       "version_minor": 0
      },
      "text/plain": [
       "Validation: |          | 0/? [00:00<?, ?it/s]"
      ]
     },
     "metadata": {},
     "output_type": "display_data"
    },
    {
     "data": {
      "application/vnd.jupyter.widget-view+json": {
       "model_id": "",
       "version_major": 2,
       "version_minor": 0
      },
      "text/plain": [
       "Validation: |          | 0/? [00:00<?, ?it/s]"
      ]
     },
     "metadata": {},
     "output_type": "display_data"
    },
    {
     "data": {
      "application/vnd.jupyter.widget-view+json": {
       "model_id": "",
       "version_major": 2,
       "version_minor": 0
      },
      "text/plain": [
       "Validation: |          | 0/? [00:00<?, ?it/s]"
      ]
     },
     "metadata": {},
     "output_type": "display_data"
    },
    {
     "data": {
      "application/vnd.jupyter.widget-view+json": {
       "model_id": "",
       "version_major": 2,
       "version_minor": 0
      },
      "text/plain": [
       "Validation: |          | 0/? [00:00<?, ?it/s]"
      ]
     },
     "metadata": {},
     "output_type": "display_data"
    },
    {
     "data": {
      "application/vnd.jupyter.widget-view+json": {
       "model_id": "064187a31b3345d489f533d09261ce40",
       "version_major": 2,
       "version_minor": 0
      },
      "text/plain": [
       "Testing: |          | 0/? [00:00<?, ?it/s]"
      ]
     },
     "metadata": {},
     "output_type": "display_data"
    },
    {
     "data": {
      "text/html": [
       "<pre style=\"white-space:pre;overflow-x:auto;line-height:normal;font-family:Menlo,'DejaVu Sans Mono',consolas,'Courier New',monospace\">┏━━━━━━━━━━━━━━━━━━━━━━━━━━━┳━━━━━━━━━━━━━━━━━━━━━━━━━━━┓\n",
       "┃<span style=\"font-weight: bold\">        Test metric        </span>┃<span style=\"font-weight: bold\">       DataLoader 0        </span>┃\n",
       "┡━━━━━━━━━━━━━━━━━━━━━━━━━━━╇━━━━━━━━━━━━━━━━━━━━━━━━━━━┩\n",
       "│<span style=\"color: #008080; text-decoration-color: #008080\">         test_acc          </span>│<span style=\"color: #800080; text-decoration-color: #800080\">    0.7281818389892578     </span>│\n",
       "│<span style=\"color: #008080; text-decoration-color: #008080\">          test_f1          </span>│<span style=\"color: #800080; text-decoration-color: #800080\">     0.729405403137207     </span>│\n",
       "│<span style=\"color: #008080; text-decoration-color: #008080\">         test_loss         </span>│<span style=\"color: #800080; text-decoration-color: #800080\">    0.6308290958404541     </span>│\n",
       "└───────────────────────────┴───────────────────────────┘\n",
       "</pre>\n"
      ],
      "text/plain": [
       "┏━━━━━━━━━━━━━━━━━━━━━━━━━━━┳━━━━━━━━━━━━━━━━━━━━━━━━━━━┓\n",
       "┃\u001b[1m \u001b[0m\u001b[1m       Test metric       \u001b[0m\u001b[1m \u001b[0m┃\u001b[1m \u001b[0m\u001b[1m      DataLoader 0       \u001b[0m\u001b[1m \u001b[0m┃\n",
       "┡━━━━━━━━━━━━━━━━━━━━━━━━━━━╇━━━━━━━━━━━━━━━━━━━━━━━━━━━┩\n",
       "│\u001b[36m \u001b[0m\u001b[36m        test_acc         \u001b[0m\u001b[36m \u001b[0m│\u001b[35m \u001b[0m\u001b[35m   0.7281818389892578    \u001b[0m\u001b[35m \u001b[0m│\n",
       "│\u001b[36m \u001b[0m\u001b[36m         test_f1         \u001b[0m\u001b[36m \u001b[0m│\u001b[35m \u001b[0m\u001b[35m    0.729405403137207    \u001b[0m\u001b[35m \u001b[0m│\n",
       "│\u001b[36m \u001b[0m\u001b[36m        test_loss        \u001b[0m\u001b[36m \u001b[0m│\u001b[35m \u001b[0m\u001b[35m   0.6308290958404541    \u001b[0m\u001b[35m \u001b[0m│\n",
       "└───────────────────────────┴───────────────────────────┘\n"
      ]
     },
     "metadata": {},
     "output_type": "display_data"
    },
    {
     "data": {
      "text/html": [],
      "text/plain": [
       "<IPython.core.display.HTML object>"
      ]
     },
     "metadata": {},
     "output_type": "display_data"
    },
    {
     "data": {
      "text/html": [
       "<br>    <style><br>        .wandb-row {<br>            display: flex;<br>            flex-direction: row;<br>            flex-wrap: wrap;<br>            justify-content: flex-start;<br>            width: 100%;<br>        }<br>        .wandb-col {<br>            display: flex;<br>            flex-direction: column;<br>            flex-basis: 100%;<br>            flex: 1;<br>            padding: 10px;<br>        }<br>    </style><br><div class=\"wandb-row\"><div class=\"wandb-col\"><h3>Run history:</h3><br/><table class=\"wandb\"><tr><td>epoch</td><td>▁▁▁▃▃▃▃▅▅▅▆▆▆▆█</td></tr><tr><td>test_acc</td><td>▁</td></tr><tr><td>test_f1</td><td>▁</td></tr><tr><td>test_loss</td><td>▁</td></tr><tr><td>train_acc</td><td>▁▇▇█</td></tr><tr><td>train_loss_epoch</td><td>█▂▂▁</td></tr><tr><td>train_loss_step</td><td>█▁▅▇▂▅</td></tr><tr><td>train_macro_f1</td><td>▁█▇█</td></tr><tr><td>train_macro_precision</td><td>▁█▇█</td></tr><tr><td>train_macro_recall</td><td>▁▇▇█</td></tr><tr><td>trainer/global_step</td><td>▁▁▁▁▁▁▁▃▃▄▁▁▂▂▂▂▂▄▄▅▂▂▂▂▂▂▆▆▇█▂▂▂▂▂▂▂▂▂█</td></tr><tr><td>val_acc</td><td>█▇▆▁</td></tr><tr><td>val_loss_epoch</td><td>▁▁█▆</td></tr><tr><td>val_loss_step</td><td>▁▂▂▁▆▂▃▇▆▇▂▂▁▄▄▄▂▄▅▇▂▃▄▃▅▆▃▁▁▅▆▁▂▃▁▃▄▃▆█</td></tr><tr><td>val_macro_f1</td><td>█▇▆▁</td></tr><tr><td>val_macro_precision</td><td>██▁▆</td></tr><tr><td>val_macro_recall</td><td>█▇▆▁</td></tr></table><br/></div><div class=\"wandb-col\"><h3>Run summary:</h3><br/><table class=\"wandb\"><tr><td>epoch</td><td>4</td></tr><tr><td>test_acc</td><td>0.72818</td></tr><tr><td>test_f1</td><td>0.72941</td></tr><tr><td>test_loss</td><td>0.63083</td></tr><tr><td>train_acc</td><td>0.74144</td></tr><tr><td>train_loss_epoch</td><td>0.62567</td></tr><tr><td>train_loss_step</td><td>0.68769</td></tr><tr><td>train_macro_f1</td><td>0.73893</td></tr><tr><td>train_macro_precision</td><td>0.73842</td></tr><tr><td>train_macro_recall</td><td>0.73992</td></tr><tr><td>trainer/global_step</td><td>312</td></tr><tr><td>val_acc</td><td>0.78481</td></tr><tr><td>val_loss_epoch</td><td>0.48244</td></tr><tr><td>val_loss_step</td><td>0.30495</td></tr><tr><td>val_macro_f1</td><td>0.77873</td></tr><tr><td>val_macro_precision</td><td>0.82114</td></tr><tr><td>val_macro_recall</td><td>0.77526</td></tr></table><br/></div></div>"
      ],
      "text/plain": [
       "<IPython.core.display.HTML object>"
      ]
     },
     "metadata": {},
     "output_type": "display_data"
    },
    {
     "data": {
      "text/html": [
       " View run <strong style=\"color:#cdcd00\">EfficienNet-B0_512_0.007077</strong> at: <a href='https://wandb.ai/s26048-polish-japanese-academy-of-information-technology-/effnet_sweep/runs/3oyv62ar' target=\"_blank\">https://wandb.ai/s26048-polish-japanese-academy-of-information-technology-/effnet_sweep/runs/3oyv62ar</a><br> View project at: <a href='https://wandb.ai/s26048-polish-japanese-academy-of-information-technology-/effnet_sweep' target=\"_blank\">https://wandb.ai/s26048-polish-japanese-academy-of-information-technology-/effnet_sweep</a><br>Synced 5 W&B file(s), 0 media file(s), 2 artifact file(s) and 0 other file(s)"
      ],
      "text/plain": [
       "<IPython.core.display.HTML object>"
      ]
     },
     "metadata": {},
     "output_type": "display_data"
    },
    {
     "data": {
      "text/html": [
       "Find logs at: <code>./wandb/run-20250112_160208-3oyv62ar/logs</code>"
      ],
      "text/plain": [
       "<IPython.core.display.HTML object>"
      ]
     },
     "metadata": {},
     "output_type": "display_data"
    },
    {
     "name": "stderr",
     "output_type": "stream",
     "text": [
      "\u001b[34m\u001b[1mwandb\u001b[0m: Agent Starting Run: tkd71798 with config:\n",
      "\u001b[34m\u001b[1mwandb\u001b[0m: \tbatch_size: 64\n",
      "\u001b[34m\u001b[1mwandb\u001b[0m: \tdropout_rate: 0.2\n",
      "\u001b[34m\u001b[1mwandb\u001b[0m: \tlayer1_size: 1024\n",
      "\u001b[34m\u001b[1mwandb\u001b[0m: \tlearning_rate: 0.0018425048705936016\n",
      "\u001b[34m\u001b[1mwandb\u001b[0m: \tn_epochs: 20\n"
     ]
    },
    {
     "data": {
      "text/html": [
       "Tracking run with wandb version 0.19.1"
      ],
      "text/plain": [
       "<IPython.core.display.HTML object>"
      ]
     },
     "metadata": {},
     "output_type": "display_data"
    },
    {
     "data": {
      "text/html": [
       "Run data is saved locally in <code>/kaggle/working/wandb/run-20250112_160606-tkd71798</code>"
      ],
      "text/plain": [
       "<IPython.core.display.HTML object>"
      ]
     },
     "metadata": {},
     "output_type": "display_data"
    },
    {
     "data": {
      "text/html": [
       "Syncing run <strong><a href='https://wandb.ai/s26048-polish-japanese-academy-of-information-technology-/effnet_sweep/runs/tkd71798' target=\"_blank\">sandy-sweep-12</a></strong> to <a href='https://wandb.ai/s26048-polish-japanese-academy-of-information-technology-/effnet_sweep' target=\"_blank\">Weights & Biases</a> (<a href='https://wandb.me/developer-guide' target=\"_blank\">docs</a>)<br>Sweep page: <a href='https://wandb.ai/s26048-polish-japanese-academy-of-information-technology-/effnet_sweep/sweeps/dmftq1qt' target=\"_blank\">https://wandb.ai/s26048-polish-japanese-academy-of-information-technology-/effnet_sweep/sweeps/dmftq1qt</a>"
      ],
      "text/plain": [
       "<IPython.core.display.HTML object>"
      ]
     },
     "metadata": {},
     "output_type": "display_data"
    },
    {
     "data": {
      "text/html": [
       " View project at <a href='https://wandb.ai/s26048-polish-japanese-academy-of-information-technology-/effnet_sweep' target=\"_blank\">https://wandb.ai/s26048-polish-japanese-academy-of-information-technology-/effnet_sweep</a>"
      ],
      "text/plain": [
       "<IPython.core.display.HTML object>"
      ]
     },
     "metadata": {},
     "output_type": "display_data"
    },
    {
     "data": {
      "text/html": [
       " View sweep at <a href='https://wandb.ai/s26048-polish-japanese-academy-of-information-technology-/effnet_sweep/sweeps/dmftq1qt' target=\"_blank\">https://wandb.ai/s26048-polish-japanese-academy-of-information-technology-/effnet_sweep/sweeps/dmftq1qt</a>"
      ],
      "text/plain": [
       "<IPython.core.display.HTML object>"
      ]
     },
     "metadata": {},
     "output_type": "display_data"
    },
    {
     "data": {
      "text/html": [
       " View run at <a href='https://wandb.ai/s26048-polish-japanese-academy-of-information-technology-/effnet_sweep/runs/tkd71798' target=\"_blank\">https://wandb.ai/s26048-polish-japanese-academy-of-information-technology-/effnet_sweep/runs/tkd71798</a>"
      ],
      "text/plain": [
       "<IPython.core.display.HTML object>"
      ]
     },
     "metadata": {},
     "output_type": "display_data"
    },
    {
     "data": {
      "application/vnd.jupyter.widget-view+json": {
       "model_id": "",
       "version_major": 2,
       "version_minor": 0
      },
      "text/plain": [
       "Sanity Checking: |          | 0/? [00:00<?, ?it/s]"
      ]
     },
     "metadata": {},
     "output_type": "display_data"
    },
    {
     "data": {
      "application/vnd.jupyter.widget-view+json": {
       "model_id": "219f7685dfa64270bd7d08ef74555e0b",
       "version_major": 2,
       "version_minor": 0
      },
      "text/plain": [
       "Training: |          | 0/? [00:00<?, ?it/s]"
      ]
     },
     "metadata": {},
     "output_type": "display_data"
    },
    {
     "data": {
      "application/vnd.jupyter.widget-view+json": {
       "model_id": "",
       "version_major": 2,
       "version_minor": 0
      },
      "text/plain": [
       "Validation: |          | 0/? [00:00<?, ?it/s]"
      ]
     },
     "metadata": {},
     "output_type": "display_data"
    },
    {
     "data": {
      "application/vnd.jupyter.widget-view+json": {
       "model_id": "",
       "version_major": 2,
       "version_minor": 0
      },
      "text/plain": [
       "Validation: |          | 0/? [00:00<?, ?it/s]"
      ]
     },
     "metadata": {},
     "output_type": "display_data"
    },
    {
     "data": {
      "application/vnd.jupyter.widget-view+json": {
       "model_id": "",
       "version_major": 2,
       "version_minor": 0
      },
      "text/plain": [
       "Validation: |          | 0/? [00:00<?, ?it/s]"
      ]
     },
     "metadata": {},
     "output_type": "display_data"
    },
    {
     "data": {
      "application/vnd.jupyter.widget-view+json": {
       "model_id": "",
       "version_major": 2,
       "version_minor": 0
      },
      "text/plain": [
       "Validation: |          | 0/? [00:00<?, ?it/s]"
      ]
     },
     "metadata": {},
     "output_type": "display_data"
    },
    {
     "data": {
      "application/vnd.jupyter.widget-view+json": {
       "model_id": "",
       "version_major": 2,
       "version_minor": 0
      },
      "text/plain": [
       "Validation: |          | 0/? [00:00<?, ?it/s]"
      ]
     },
     "metadata": {},
     "output_type": "display_data"
    },
    {
     "data": {
      "application/vnd.jupyter.widget-view+json": {
       "model_id": "",
       "version_major": 2,
       "version_minor": 0
      },
      "text/plain": [
       "Validation: |          | 0/? [00:00<?, ?it/s]"
      ]
     },
     "metadata": {},
     "output_type": "display_data"
    },
    {
     "data": {
      "application/vnd.jupyter.widget-view+json": {
       "model_id": "",
       "version_major": 2,
       "version_minor": 0
      },
      "text/plain": [
       "Validation: |          | 0/? [00:00<?, ?it/s]"
      ]
     },
     "metadata": {},
     "output_type": "display_data"
    },
    {
     "data": {
      "application/vnd.jupyter.widget-view+json": {
       "model_id": "",
       "version_major": 2,
       "version_minor": 0
      },
      "text/plain": [
       "Validation: |          | 0/? [00:00<?, ?it/s]"
      ]
     },
     "metadata": {},
     "output_type": "display_data"
    },
    {
     "data": {
      "application/vnd.jupyter.widget-view+json": {
       "model_id": "",
       "version_major": 2,
       "version_minor": 0
      },
      "text/plain": [
       "Validation: |          | 0/? [00:00<?, ?it/s]"
      ]
     },
     "metadata": {},
     "output_type": "display_data"
    },
    {
     "data": {
      "application/vnd.jupyter.widget-view+json": {
       "model_id": "",
       "version_major": 2,
       "version_minor": 0
      },
      "text/plain": [
       "Validation: |          | 0/? [00:00<?, ?it/s]"
      ]
     },
     "metadata": {},
     "output_type": "display_data"
    },
    {
     "data": {
      "application/vnd.jupyter.widget-view+json": {
       "model_id": "10dc8840acdb4e76a552bf92f54913d9",
       "version_major": 2,
       "version_minor": 0
      },
      "text/plain": [
       "Testing: |          | 0/? [00:00<?, ?it/s]"
      ]
     },
     "metadata": {},
     "output_type": "display_data"
    },
    {
     "data": {
      "text/html": [
       "<pre style=\"white-space:pre;overflow-x:auto;line-height:normal;font-family:Menlo,'DejaVu Sans Mono',consolas,'Courier New',monospace\">┏━━━━━━━━━━━━━━━━━━━━━━━━━━━┳━━━━━━━━━━━━━━━━━━━━━━━━━━━┓\n",
       "┃<span style=\"font-weight: bold\">        Test metric        </span>┃<span style=\"font-weight: bold\">       DataLoader 0        </span>┃\n",
       "┡━━━━━━━━━━━━━━━━━━━━━━━━━━━╇━━━━━━━━━━━━━━━━━━━━━━━━━━━┩\n",
       "│<span style=\"color: #008080; text-decoration-color: #008080\">         test_acc          </span>│<span style=\"color: #800080; text-decoration-color: #800080\">    0.7663636207580566     </span>│\n",
       "│<span style=\"color: #008080; text-decoration-color: #008080\">          test_f1          </span>│<span style=\"color: #800080; text-decoration-color: #800080\">    0.7639403343200684     </span>│\n",
       "│<span style=\"color: #008080; text-decoration-color: #008080\">         test_loss         </span>│<span style=\"color: #800080; text-decoration-color: #800080\">    0.5998179316520691     </span>│\n",
       "└───────────────────────────┴───────────────────────────┘\n",
       "</pre>\n"
      ],
      "text/plain": [
       "┏━━━━━━━━━━━━━━━━━━━━━━━━━━━┳━━━━━━━━━━━━━━━━━━━━━━━━━━━┓\n",
       "┃\u001b[1m \u001b[0m\u001b[1m       Test metric       \u001b[0m\u001b[1m \u001b[0m┃\u001b[1m \u001b[0m\u001b[1m      DataLoader 0       \u001b[0m\u001b[1m \u001b[0m┃\n",
       "┡━━━━━━━━━━━━━━━━━━━━━━━━━━━╇━━━━━━━━━━━━━━━━━━━━━━━━━━━┩\n",
       "│\u001b[36m \u001b[0m\u001b[36m        test_acc         \u001b[0m\u001b[36m \u001b[0m│\u001b[35m \u001b[0m\u001b[35m   0.7663636207580566    \u001b[0m\u001b[35m \u001b[0m│\n",
       "│\u001b[36m \u001b[0m\u001b[36m         test_f1         \u001b[0m\u001b[36m \u001b[0m│\u001b[35m \u001b[0m\u001b[35m   0.7639403343200684    \u001b[0m\u001b[35m \u001b[0m│\n",
       "│\u001b[36m \u001b[0m\u001b[36m        test_loss        \u001b[0m\u001b[36m \u001b[0m│\u001b[35m \u001b[0m\u001b[35m   0.5998179316520691    \u001b[0m\u001b[35m \u001b[0m│\n",
       "└───────────────────────────┴───────────────────────────┘\n"
      ]
     },
     "metadata": {},
     "output_type": "display_data"
    },
    {
     "data": {
      "text/html": [],
      "text/plain": [
       "<IPython.core.display.HTML object>"
      ]
     },
     "metadata": {},
     "output_type": "display_data"
    },
    {
     "data": {
      "text/html": [
       "<br>    <style><br>        .wandb-row {<br>            display: flex;<br>            flex-direction: row;<br>            flex-wrap: wrap;<br>            justify-content: flex-start;<br>            width: 100%;<br>        }<br>        .wandb-col {<br>            display: flex;<br>            flex-direction: column;<br>            flex-basis: 100%;<br>            flex: 1;<br>            padding: 10px;<br>        }<br>    </style><br><div class=\"wandb-row\"><div class=\"wandb-col\"><h3>Run history:</h3><br/><table class=\"wandb\"><tr><td>epoch</td><td>▁▁▁▂▂▂▂▂▂▂▃▃▃▃▄▄▄▅▅▅▅▅▅▅▆▆▆▆▇▇▇▇▇▇▇█</td></tr><tr><td>test_acc</td><td>▁</td></tr><tr><td>test_f1</td><td>▁</td></tr><tr><td>test_loss</td><td>▁</td></tr><tr><td>train_acc</td><td>▁▄▅▆▆▆▆▇▇█</td></tr><tr><td>train_loss_epoch</td><td>█▅▄▄▃▃▂▂▁▁</td></tr><tr><td>train_loss_step</td><td>▇▅▄█▅▄▃▄▄▂▃▃▁▃▂</td></tr><tr><td>train_macro_f1</td><td>▁▄▅▆▆▆▆▇▇█</td></tr><tr><td>train_macro_precision</td><td>▁▄▅▆▆▆▆▇▇█</td></tr><tr><td>train_macro_recall</td><td>▁▄▅▆▆▆▆▇▇█</td></tr><tr><td>trainer/global_step</td><td>▁▁▁▂▂▁▃▁▁▁▁▄▁▁▂▂▄▂▂▂▂▄▄▂▂▂▅▂▂▂▂▂▇▇▇▂▂▂▂█</td></tr><tr><td>val_acc</td><td>▁▂▄▁█▅█▅▅▆</td></tr><tr><td>val_loss_epoch</td><td>▆▃▄█▂▃▁▄▂▁</td></tr><tr><td>val_loss_step</td><td>▂▃▃▃▁▁▃▅▆▂▂▂▂▂█▅▅▂▂▃▃▁▄▂▂▃▅▅▁▆▂▂▃▃▃▃▁▅▂▆</td></tr><tr><td>val_macro_f1</td><td>▃▄▅▁█▆█▅▅▆</td></tr><tr><td>val_macro_precision</td><td>▂▂▅▅▆▃█▁▆▂</td></tr><tr><td>val_macro_recall</td><td>▂▃▄▁█▆█▆▅▆</td></tr></table><br/></div><div class=\"wandb-col\"><h3>Run summary:</h3><br/><table class=\"wandb\"><tr><td>epoch</td><td>10</td></tr><tr><td>test_acc</td><td>0.76636</td></tr><tr><td>test_f1</td><td>0.76394</td></tr><tr><td>test_loss</td><td>0.59982</td></tr><tr><td>train_acc</td><td>0.81675</td></tr><tr><td>train_loss_epoch</td><td>0.46717</td></tr><tr><td>train_loss_step</td><td>0.45469</td></tr><tr><td>train_macro_f1</td><td>0.81492</td></tr><tr><td>train_macro_precision</td><td>0.81451</td></tr><tr><td>train_macro_recall</td><td>0.81548</td></tr><tr><td>trainer/global_step</td><td>780</td></tr><tr><td>val_acc</td><td>0.82668</td></tr><tr><td>val_loss_epoch</td><td>0.43015</td></tr><tr><td>val_loss_step</td><td>0.174</td></tr><tr><td>val_macro_f1</td><td>0.82036</td></tr><tr><td>val_macro_precision</td><td>0.82377</td></tr><tr><td>val_macro_recall</td><td>0.82032</td></tr></table><br/></div></div>"
      ],
      "text/plain": [
       "<IPython.core.display.HTML object>"
      ]
     },
     "metadata": {},
     "output_type": "display_data"
    },
    {
     "data": {
      "text/html": [
       " View run <strong style=\"color:#cdcd00\">EfficienNet-B0_1024_0.001842</strong> at: <a href='https://wandb.ai/s26048-polish-japanese-academy-of-information-technology-/effnet_sweep/runs/tkd71798' target=\"_blank\">https://wandb.ai/s26048-polish-japanese-academy-of-information-technology-/effnet_sweep/runs/tkd71798</a><br> View project at: <a href='https://wandb.ai/s26048-polish-japanese-academy-of-information-technology-/effnet_sweep' target=\"_blank\">https://wandb.ai/s26048-polish-japanese-academy-of-information-technology-/effnet_sweep</a><br>Synced 5 W&B file(s), 0 media file(s), 2 artifact file(s) and 0 other file(s)"
      ],
      "text/plain": [
       "<IPython.core.display.HTML object>"
      ]
     },
     "metadata": {},
     "output_type": "display_data"
    },
    {
     "data": {
      "text/html": [
       "Find logs at: <code>./wandb/run-20250112_160606-tkd71798/logs</code>"
      ],
      "text/plain": [
       "<IPython.core.display.HTML object>"
      ]
     },
     "metadata": {},
     "output_type": "display_data"
    },
    {
     "name": "stderr",
     "output_type": "stream",
     "text": [
      "\u001b[34m\u001b[1mwandb\u001b[0m: Agent Starting Run: ixmw8cu0 with config:\n",
      "\u001b[34m\u001b[1mwandb\u001b[0m: \tbatch_size: 64\n",
      "\u001b[34m\u001b[1mwandb\u001b[0m: \tdropout_rate: 0.4\n",
      "\u001b[34m\u001b[1mwandb\u001b[0m: \tlayer1_size: 1024\n",
      "\u001b[34m\u001b[1mwandb\u001b[0m: \tlearning_rate: 0.008841339761129823\n",
      "\u001b[34m\u001b[1mwandb\u001b[0m: \tn_epochs: 10\n"
     ]
    },
    {
     "data": {
      "text/html": [
       "Tracking run with wandb version 0.19.1"
      ],
      "text/plain": [
       "<IPython.core.display.HTML object>"
      ]
     },
     "metadata": {},
     "output_type": "display_data"
    },
    {
     "data": {
      "text/html": [
       "Run data is saved locally in <code>/kaggle/working/wandb/run-20250112_161513-ixmw8cu0</code>"
      ],
      "text/plain": [
       "<IPython.core.display.HTML object>"
      ]
     },
     "metadata": {},
     "output_type": "display_data"
    },
    {
     "data": {
      "text/html": [
       "Syncing run <strong><a href='https://wandb.ai/s26048-polish-japanese-academy-of-information-technology-/effnet_sweep/runs/ixmw8cu0' target=\"_blank\">comic-sweep-13</a></strong> to <a href='https://wandb.ai/s26048-polish-japanese-academy-of-information-technology-/effnet_sweep' target=\"_blank\">Weights & Biases</a> (<a href='https://wandb.me/developer-guide' target=\"_blank\">docs</a>)<br>Sweep page: <a href='https://wandb.ai/s26048-polish-japanese-academy-of-information-technology-/effnet_sweep/sweeps/dmftq1qt' target=\"_blank\">https://wandb.ai/s26048-polish-japanese-academy-of-information-technology-/effnet_sweep/sweeps/dmftq1qt</a>"
      ],
      "text/plain": [
       "<IPython.core.display.HTML object>"
      ]
     },
     "metadata": {},
     "output_type": "display_data"
    },
    {
     "data": {
      "text/html": [
       " View project at <a href='https://wandb.ai/s26048-polish-japanese-academy-of-information-technology-/effnet_sweep' target=\"_blank\">https://wandb.ai/s26048-polish-japanese-academy-of-information-technology-/effnet_sweep</a>"
      ],
      "text/plain": [
       "<IPython.core.display.HTML object>"
      ]
     },
     "metadata": {},
     "output_type": "display_data"
    },
    {
     "data": {
      "text/html": [
       " View sweep at <a href='https://wandb.ai/s26048-polish-japanese-academy-of-information-technology-/effnet_sweep/sweeps/dmftq1qt' target=\"_blank\">https://wandb.ai/s26048-polish-japanese-academy-of-information-technology-/effnet_sweep/sweeps/dmftq1qt</a>"
      ],
      "text/plain": [
       "<IPython.core.display.HTML object>"
      ]
     },
     "metadata": {},
     "output_type": "display_data"
    },
    {
     "data": {
      "text/html": [
       " View run at <a href='https://wandb.ai/s26048-polish-japanese-academy-of-information-technology-/effnet_sweep/runs/ixmw8cu0' target=\"_blank\">https://wandb.ai/s26048-polish-japanese-academy-of-information-technology-/effnet_sweep/runs/ixmw8cu0</a>"
      ],
      "text/plain": [
       "<IPython.core.display.HTML object>"
      ]
     },
     "metadata": {},
     "output_type": "display_data"
    },
    {
     "data": {
      "application/vnd.jupyter.widget-view+json": {
       "model_id": "",
       "version_major": 2,
       "version_minor": 0
      },
      "text/plain": [
       "Sanity Checking: |          | 0/? [00:00<?, ?it/s]"
      ]
     },
     "metadata": {},
     "output_type": "display_data"
    },
    {
     "data": {
      "application/vnd.jupyter.widget-view+json": {
       "model_id": "35a1bb517d5549a9ae0bd0549bd09d76",
       "version_major": 2,
       "version_minor": 0
      },
      "text/plain": [
       "Training: |          | 0/? [00:00<?, ?it/s]"
      ]
     },
     "metadata": {},
     "output_type": "display_data"
    },
    {
     "data": {
      "application/vnd.jupyter.widget-view+json": {
       "model_id": "",
       "version_major": 2,
       "version_minor": 0
      },
      "text/plain": [
       "Validation: |          | 0/? [00:00<?, ?it/s]"
      ]
     },
     "metadata": {},
     "output_type": "display_data"
    },
    {
     "data": {
      "application/vnd.jupyter.widget-view+json": {
       "model_id": "",
       "version_major": 2,
       "version_minor": 0
      },
      "text/plain": [
       "Validation: |          | 0/? [00:00<?, ?it/s]"
      ]
     },
     "metadata": {},
     "output_type": "display_data"
    },
    {
     "data": {
      "application/vnd.jupyter.widget-view+json": {
       "model_id": "",
       "version_major": 2,
       "version_minor": 0
      },
      "text/plain": [
       "Validation: |          | 0/? [00:00<?, ?it/s]"
      ]
     },
     "metadata": {},
     "output_type": "display_data"
    },
    {
     "data": {
      "application/vnd.jupyter.widget-view+json": {
       "model_id": "",
       "version_major": 2,
       "version_minor": 0
      },
      "text/plain": [
       "Validation: |          | 0/? [00:00<?, ?it/s]"
      ]
     },
     "metadata": {},
     "output_type": "display_data"
    },
    {
     "data": {
      "application/vnd.jupyter.widget-view+json": {
       "model_id": "",
       "version_major": 2,
       "version_minor": 0
      },
      "text/plain": [
       "Validation: |          | 0/? [00:00<?, ?it/s]"
      ]
     },
     "metadata": {},
     "output_type": "display_data"
    },
    {
     "data": {
      "application/vnd.jupyter.widget-view+json": {
       "model_id": "",
       "version_major": 2,
       "version_minor": 0
      },
      "text/plain": [
       "Validation: |          | 0/? [00:00<?, ?it/s]"
      ]
     },
     "metadata": {},
     "output_type": "display_data"
    },
    {
     "data": {
      "application/vnd.jupyter.widget-view+json": {
       "model_id": "",
       "version_major": 2,
       "version_minor": 0
      },
      "text/plain": [
       "Validation: |          | 0/? [00:00<?, ?it/s]"
      ]
     },
     "metadata": {},
     "output_type": "display_data"
    },
    {
     "data": {
      "application/vnd.jupyter.widget-view+json": {
       "model_id": "",
       "version_major": 2,
       "version_minor": 0
      },
      "text/plain": [
       "Validation: |          | 0/? [00:00<?, ?it/s]"
      ]
     },
     "metadata": {},
     "output_type": "display_data"
    },
    {
     "data": {
      "application/vnd.jupyter.widget-view+json": {
       "model_id": "",
       "version_major": 2,
       "version_minor": 0
      },
      "text/plain": [
       "Validation: |          | 0/? [00:00<?, ?it/s]"
      ]
     },
     "metadata": {},
     "output_type": "display_data"
    },
    {
     "data": {
      "application/vnd.jupyter.widget-view+json": {
       "model_id": "c2df51e8e9c94924bafe60e3fb7f1c82",
       "version_major": 2,
       "version_minor": 0
      },
      "text/plain": [
       "Testing: |          | 0/? [00:00<?, ?it/s]"
      ]
     },
     "metadata": {},
     "output_type": "display_data"
    },
    {
     "data": {
      "text/html": [
       "<pre style=\"white-space:pre;overflow-x:auto;line-height:normal;font-family:Menlo,'DejaVu Sans Mono',consolas,'Courier New',monospace\">┏━━━━━━━━━━━━━━━━━━━━━━━━━━━┳━━━━━━━━━━━━━━━━━━━━━━━━━━━┓\n",
       "┃<span style=\"font-weight: bold\">        Test metric        </span>┃<span style=\"font-weight: bold\">       DataLoader 0        </span>┃\n",
       "┡━━━━━━━━━━━━━━━━━━━━━━━━━━━╇━━━━━━━━━━━━━━━━━━━━━━━━━━━┩\n",
       "│<span style=\"color: #008080; text-decoration-color: #008080\">         test_acc          </span>│<span style=\"color: #800080; text-decoration-color: #800080\">    0.7290909290313721     </span>│\n",
       "│<span style=\"color: #008080; text-decoration-color: #008080\">          test_f1          </span>│<span style=\"color: #800080; text-decoration-color: #800080\">    0.7306820154190063     </span>│\n",
       "│<span style=\"color: #008080; text-decoration-color: #008080\">         test_loss         </span>│<span style=\"color: #800080; text-decoration-color: #800080\">    0.6410027742385864     </span>│\n",
       "└───────────────────────────┴───────────────────────────┘\n",
       "</pre>\n"
      ],
      "text/plain": [
       "┏━━━━━━━━━━━━━━━━━━━━━━━━━━━┳━━━━━━━━━━━━━━━━━━━━━━━━━━━┓\n",
       "┃\u001b[1m \u001b[0m\u001b[1m       Test metric       \u001b[0m\u001b[1m \u001b[0m┃\u001b[1m \u001b[0m\u001b[1m      DataLoader 0       \u001b[0m\u001b[1m \u001b[0m┃\n",
       "┡━━━━━━━━━━━━━━━━━━━━━━━━━━━╇━━━━━━━━━━━━━━━━━━━━━━━━━━━┩\n",
       "│\u001b[36m \u001b[0m\u001b[36m        test_acc         \u001b[0m\u001b[36m \u001b[0m│\u001b[35m \u001b[0m\u001b[35m   0.7290909290313721    \u001b[0m\u001b[35m \u001b[0m│\n",
       "│\u001b[36m \u001b[0m\u001b[36m         test_f1         \u001b[0m\u001b[36m \u001b[0m│\u001b[35m \u001b[0m\u001b[35m   0.7306820154190063    \u001b[0m\u001b[35m \u001b[0m│\n",
       "│\u001b[36m \u001b[0m\u001b[36m        test_loss        \u001b[0m\u001b[36m \u001b[0m│\u001b[35m \u001b[0m\u001b[35m   0.6410027742385864    \u001b[0m\u001b[35m \u001b[0m│\n",
       "└───────────────────────────┴───────────────────────────┘\n"
      ]
     },
     "metadata": {},
     "output_type": "display_data"
    },
    {
     "data": {
      "text/html": [],
      "text/plain": [
       "<IPython.core.display.HTML object>"
      ]
     },
     "metadata": {},
     "output_type": "display_data"
    },
    {
     "data": {
      "text/html": [
       "<br>    <style><br>        .wandb-row {<br>            display: flex;<br>            flex-direction: row;<br>            flex-wrap: wrap;<br>            justify-content: flex-start;<br>            width: 100%;<br>        }<br>        .wandb-col {<br>            display: flex;<br>            flex-direction: column;<br>            flex-basis: 100%;<br>            flex: 1;<br>            padding: 10px;<br>        }<br>    </style><br><div class=\"wandb-row\"><div class=\"wandb-col\"><h3>Run history:</h3><br/><table class=\"wandb\"><tr><td>epoch</td><td>▁▁▁▂▂▂▂▃▃▃▃▃▃▃▄▄▄▅▅▅▅▆▆▆▆▆▆▆▇▇▇▇█</td></tr><tr><td>test_acc</td><td>▁</td></tr><tr><td>test_f1</td><td>▁</td></tr><tr><td>test_loss</td><td>▁</td></tr><tr><td>train_acc</td><td>▁▆▅▆▇▇▇█▇</td></tr><tr><td>train_loss_epoch</td><td>█▂▂▁▁▁▁▁▁</td></tr><tr><td>train_loss_step</td><td>▅▂▄▅▃▃▃█▃▄▅▁▂▄</td></tr><tr><td>train_macro_f1</td><td>▁▆▅▆▇▇▇█▇</td></tr><tr><td>train_macro_precision</td><td>▁▆▅▆▇▇▇█▇</td></tr><tr><td>train_macro_recall</td><td>▁▆▅▆▇▇▇█▇</td></tr><tr><td>trainer/global_step</td><td>▁▁▁▁▂▁▁▁▁▁▁▁▁▁▁▄▂▂▄▂▂▂▂▂▂▂▂▂▂▂▂▂▂▂▂▂▂▂▂█</td></tr><tr><td>val_acc</td><td>▁▄▇▆▇█▇▇▄</td></tr><tr><td>val_loss_epoch</td><td>█▅▂▃▃▁▁▂▃</td></tr><tr><td>val_loss_step</td><td>▂▂█▇█▂▂▃▂▂▅▂▁▃▅▁▂▃▄▂▁▃▅▂▂▄▂▂▃▄▂▂▁▄▄▄▄▂▂▄</td></tr><tr><td>val_macro_f1</td><td>▁▄▇▇▇█▇▇▅</td></tr><tr><td>val_macro_precision</td><td>▁█▄▁▄▄▂▃▁</td></tr><tr><td>val_macro_recall</td><td>▁▃▇▆▇█▇▇▅</td></tr></table><br/></div><div class=\"wandb-col\"><h3>Run summary:</h3><br/><table class=\"wandb\"><tr><td>epoch</td><td>9</td></tr><tr><td>test_acc</td><td>0.72909</td></tr><tr><td>test_f1</td><td>0.73068</td></tr><tr><td>test_loss</td><td>0.641</td></tr><tr><td>train_acc</td><td>0.71104</td></tr><tr><td>train_loss_epoch</td><td>0.71213</td></tr><tr><td>train_loss_step</td><td>0.80064</td></tr><tr><td>train_macro_f1</td><td>0.70838</td></tr><tr><td>train_macro_precision</td><td>0.70758</td></tr><tr><td>train_macro_recall</td><td>0.70932</td></tr><tr><td>trainer/global_step</td><td>702</td></tr><tr><td>val_acc</td><td>0.78968</td></tr><tr><td>val_loss_epoch</td><td>0.49795</td></tr><tr><td>val_loss_step</td><td>0.37146</td></tr><tr><td>val_macro_f1</td><td>0.78328</td></tr><tr><td>val_macro_precision</td><td>0.80667</td></tr><tr><td>val_macro_recall</td><td>0.78124</td></tr></table><br/></div></div>"
      ],
      "text/plain": [
       "<IPython.core.display.HTML object>"
      ]
     },
     "metadata": {},
     "output_type": "display_data"
    },
    {
     "data": {
      "text/html": [
       " View run <strong style=\"color:#cdcd00\">EfficienNet-B0_1024_0.008841</strong> at: <a href='https://wandb.ai/s26048-polish-japanese-academy-of-information-technology-/effnet_sweep/runs/ixmw8cu0' target=\"_blank\">https://wandb.ai/s26048-polish-japanese-academy-of-information-technology-/effnet_sweep/runs/ixmw8cu0</a><br> View project at: <a href='https://wandb.ai/s26048-polish-japanese-academy-of-information-technology-/effnet_sweep' target=\"_blank\">https://wandb.ai/s26048-polish-japanese-academy-of-information-technology-/effnet_sweep</a><br>Synced 5 W&B file(s), 0 media file(s), 2 artifact file(s) and 0 other file(s)"
      ],
      "text/plain": [
       "<IPython.core.display.HTML object>"
      ]
     },
     "metadata": {},
     "output_type": "display_data"
    },
    {
     "data": {
      "text/html": [
       "Find logs at: <code>./wandb/run-20250112_161513-ixmw8cu0/logs</code>"
      ],
      "text/plain": [
       "<IPython.core.display.HTML object>"
      ]
     },
     "metadata": {},
     "output_type": "display_data"
    },
    {
     "name": "stderr",
     "output_type": "stream",
     "text": [
      "\u001b[34m\u001b[1mwandb\u001b[0m: Agent Starting Run: xaikey3h with config:\n",
      "\u001b[34m\u001b[1mwandb\u001b[0m: \tbatch_size: 128\n",
      "\u001b[34m\u001b[1mwandb\u001b[0m: \tdropout_rate: 0.5\n",
      "\u001b[34m\u001b[1mwandb\u001b[0m: \tlayer1_size: 1024\n",
      "\u001b[34m\u001b[1mwandb\u001b[0m: \tlearning_rate: 0.0006648819590633228\n",
      "\u001b[34m\u001b[1mwandb\u001b[0m: \tn_epochs: 10\n"
     ]
    },
    {
     "data": {
      "text/html": [
       "Tracking run with wandb version 0.19.1"
      ],
      "text/plain": [
       "<IPython.core.display.HTML object>"
      ]
     },
     "metadata": {},
     "output_type": "display_data"
    },
    {
     "data": {
      "text/html": [
       "Run data is saved locally in <code>/kaggle/working/wandb/run-20250112_162330-xaikey3h</code>"
      ],
      "text/plain": [
       "<IPython.core.display.HTML object>"
      ]
     },
     "metadata": {},
     "output_type": "display_data"
    },
    {
     "data": {
      "text/html": [
       "Syncing run <strong><a href='https://wandb.ai/s26048-polish-japanese-academy-of-information-technology-/effnet_sweep/runs/xaikey3h' target=\"_blank\">smooth-sweep-14</a></strong> to <a href='https://wandb.ai/s26048-polish-japanese-academy-of-information-technology-/effnet_sweep' target=\"_blank\">Weights & Biases</a> (<a href='https://wandb.me/developer-guide' target=\"_blank\">docs</a>)<br>Sweep page: <a href='https://wandb.ai/s26048-polish-japanese-academy-of-information-technology-/effnet_sweep/sweeps/dmftq1qt' target=\"_blank\">https://wandb.ai/s26048-polish-japanese-academy-of-information-technology-/effnet_sweep/sweeps/dmftq1qt</a>"
      ],
      "text/plain": [
       "<IPython.core.display.HTML object>"
      ]
     },
     "metadata": {},
     "output_type": "display_data"
    },
    {
     "data": {
      "text/html": [
       " View project at <a href='https://wandb.ai/s26048-polish-japanese-academy-of-information-technology-/effnet_sweep' target=\"_blank\">https://wandb.ai/s26048-polish-japanese-academy-of-information-technology-/effnet_sweep</a>"
      ],
      "text/plain": [
       "<IPython.core.display.HTML object>"
      ]
     },
     "metadata": {},
     "output_type": "display_data"
    },
    {
     "data": {
      "text/html": [
       " View sweep at <a href='https://wandb.ai/s26048-polish-japanese-academy-of-information-technology-/effnet_sweep/sweeps/dmftq1qt' target=\"_blank\">https://wandb.ai/s26048-polish-japanese-academy-of-information-technology-/effnet_sweep/sweeps/dmftq1qt</a>"
      ],
      "text/plain": [
       "<IPython.core.display.HTML object>"
      ]
     },
     "metadata": {},
     "output_type": "display_data"
    },
    {
     "data": {
      "text/html": [
       " View run at <a href='https://wandb.ai/s26048-polish-japanese-academy-of-information-technology-/effnet_sweep/runs/xaikey3h' target=\"_blank\">https://wandb.ai/s26048-polish-japanese-academy-of-information-technology-/effnet_sweep/runs/xaikey3h</a>"
      ],
      "text/plain": [
       "<IPython.core.display.HTML object>"
      ]
     },
     "metadata": {},
     "output_type": "display_data"
    },
    {
     "data": {
      "application/vnd.jupyter.widget-view+json": {
       "model_id": "",
       "version_major": 2,
       "version_minor": 0
      },
      "text/plain": [
       "Sanity Checking: |          | 0/? [00:00<?, ?it/s]"
      ]
     },
     "metadata": {},
     "output_type": "display_data"
    },
    {
     "data": {
      "application/vnd.jupyter.widget-view+json": {
       "model_id": "f1a0b82f9c2c4f85854e24a8b11df993",
       "version_major": 2,
       "version_minor": 0
      },
      "text/plain": [
       "Training: |          | 0/? [00:00<?, ?it/s]"
      ]
     },
     "metadata": {},
     "output_type": "display_data"
    },
    {
     "data": {
      "application/vnd.jupyter.widget-view+json": {
       "model_id": "",
       "version_major": 2,
       "version_minor": 0
      },
      "text/plain": [
       "Validation: |          | 0/? [00:00<?, ?it/s]"
      ]
     },
     "metadata": {},
     "output_type": "display_data"
    },
    {
     "data": {
      "application/vnd.jupyter.widget-view+json": {
       "model_id": "",
       "version_major": 2,
       "version_minor": 0
      },
      "text/plain": [
       "Validation: |          | 0/? [00:00<?, ?it/s]"
      ]
     },
     "metadata": {},
     "output_type": "display_data"
    },
    {
     "data": {
      "application/vnd.jupyter.widget-view+json": {
       "model_id": "",
       "version_major": 2,
       "version_minor": 0
      },
      "text/plain": [
       "Validation: |          | 0/? [00:00<?, ?it/s]"
      ]
     },
     "metadata": {},
     "output_type": "display_data"
    },
    {
     "data": {
      "application/vnd.jupyter.widget-view+json": {
       "model_id": "",
       "version_major": 2,
       "version_minor": 0
      },
      "text/plain": [
       "Validation: |          | 0/? [00:00<?, ?it/s]"
      ]
     },
     "metadata": {},
     "output_type": "display_data"
    },
    {
     "data": {
      "application/vnd.jupyter.widget-view+json": {
       "model_id": "",
       "version_major": 2,
       "version_minor": 0
      },
      "text/plain": [
       "Validation: |          | 0/? [00:00<?, ?it/s]"
      ]
     },
     "metadata": {},
     "output_type": "display_data"
    },
    {
     "data": {
      "application/vnd.jupyter.widget-view+json": {
       "model_id": "",
       "version_major": 2,
       "version_minor": 0
      },
      "text/plain": [
       "Validation: |          | 0/? [00:00<?, ?it/s]"
      ]
     },
     "metadata": {},
     "output_type": "display_data"
    },
    {
     "data": {
      "application/vnd.jupyter.widget-view+json": {
       "model_id": "",
       "version_major": 2,
       "version_minor": 0
      },
      "text/plain": [
       "Validation: |          | 0/? [00:00<?, ?it/s]"
      ]
     },
     "metadata": {},
     "output_type": "display_data"
    },
    {
     "data": {
      "application/vnd.jupyter.widget-view+json": {
       "model_id": "",
       "version_major": 2,
       "version_minor": 0
      },
      "text/plain": [
       "Validation: |          | 0/? [00:00<?, ?it/s]"
      ]
     },
     "metadata": {},
     "output_type": "display_data"
    },
    {
     "data": {
      "application/vnd.jupyter.widget-view+json": {
       "model_id": "707f2f6597874f4fb1e187a1211403dd",
       "version_major": 2,
       "version_minor": 0
      },
      "text/plain": [
       "Testing: |          | 0/? [00:00<?, ?it/s]"
      ]
     },
     "metadata": {},
     "output_type": "display_data"
    },
    {
     "data": {
      "text/html": [
       "<pre style=\"white-space:pre;overflow-x:auto;line-height:normal;font-family:Menlo,'DejaVu Sans Mono',consolas,'Courier New',monospace\">┏━━━━━━━━━━━━━━━━━━━━━━━━━━━┳━━━━━━━━━━━━━━━━━━━━━━━━━━━┓\n",
       "┃<span style=\"font-weight: bold\">        Test metric        </span>┃<span style=\"font-weight: bold\">       DataLoader 0        </span>┃\n",
       "┡━━━━━━━━━━━━━━━━━━━━━━━━━━━╇━━━━━━━━━━━━━━━━━━━━━━━━━━━┩\n",
       "│<span style=\"color: #008080; text-decoration-color: #008080\">         test_acc          </span>│<span style=\"color: #800080; text-decoration-color: #800080\">    0.7509090900421143     </span>│\n",
       "│<span style=\"color: #008080; text-decoration-color: #008080\">          test_f1          </span>│<span style=\"color: #800080; text-decoration-color: #800080\">    0.7551337480545044     </span>│\n",
       "│<span style=\"color: #008080; text-decoration-color: #008080\">         test_loss         </span>│<span style=\"color: #800080; text-decoration-color: #800080\">    0.5867570638656616     </span>│\n",
       "└───────────────────────────┴───────────────────────────┘\n",
       "</pre>\n"
      ],
      "text/plain": [
       "┏━━━━━━━━━━━━━━━━━━━━━━━━━━━┳━━━━━━━━━━━━━━━━━━━━━━━━━━━┓\n",
       "┃\u001b[1m \u001b[0m\u001b[1m       Test metric       \u001b[0m\u001b[1m \u001b[0m┃\u001b[1m \u001b[0m\u001b[1m      DataLoader 0       \u001b[0m\u001b[1m \u001b[0m┃\n",
       "┡━━━━━━━━━━━━━━━━━━━━━━━━━━━╇━━━━━━━━━━━━━━━━━━━━━━━━━━━┩\n",
       "│\u001b[36m \u001b[0m\u001b[36m        test_acc         \u001b[0m\u001b[36m \u001b[0m│\u001b[35m \u001b[0m\u001b[35m   0.7509090900421143    \u001b[0m\u001b[35m \u001b[0m│\n",
       "│\u001b[36m \u001b[0m\u001b[36m         test_f1         \u001b[0m\u001b[36m \u001b[0m│\u001b[35m \u001b[0m\u001b[35m   0.7551337480545044    \u001b[0m\u001b[35m \u001b[0m│\n",
       "│\u001b[36m \u001b[0m\u001b[36m        test_loss        \u001b[0m\u001b[36m \u001b[0m│\u001b[35m \u001b[0m\u001b[35m   0.5867570638656616    \u001b[0m\u001b[35m \u001b[0m│\n",
       "└───────────────────────────┴───────────────────────────┘\n"
      ]
     },
     "metadata": {},
     "output_type": "display_data"
    },
    {
     "data": {
      "text/html": [],
      "text/plain": [
       "<IPython.core.display.HTML object>"
      ]
     },
     "metadata": {},
     "output_type": "display_data"
    },
    {
     "data": {
      "text/html": [
       "<br>    <style><br>        .wandb-row {<br>            display: flex;<br>            flex-direction: row;<br>            flex-wrap: wrap;<br>            justify-content: flex-start;<br>            width: 100%;<br>        }<br>        .wandb-col {<br>            display: flex;<br>            flex-direction: column;<br>            flex-basis: 100%;<br>            flex: 1;<br>            padding: 10px;<br>        }<br>    </style><br><div class=\"wandb-row\"><div class=\"wandb-col\"><h3>Run history:</h3><br/><table class=\"wandb\"><tr><td>epoch</td><td>▁▁▂▂▂▃▃▃▄▄▄▅▅▅▅▅▆▆▆▇▇▇█</td></tr><tr><td>test_acc</td><td>▁</td></tr><tr><td>test_f1</td><td>▁</td></tr><tr><td>test_loss</td><td>▁</td></tr><tr><td>train_acc</td><td>▁▆▆▆████</td></tr><tr><td>train_loss_epoch</td><td>█▃▃▂▁▁▂▁</td></tr><tr><td>train_loss_step</td><td>▇▂▃▁█▃</td></tr><tr><td>train_macro_f1</td><td>▁▆▆▆████</td></tr><tr><td>train_macro_precision</td><td>▁▅▆▆████</td></tr><tr><td>train_macro_recall</td><td>▁▆▆▆████</td></tr><tr><td>trainer/global_step</td><td>▁▁▁▁▂▁▁▁▃▁▁▂▄▂▂▂▂▂▄▂▂▂▅▅▂▂▂▂▂▂▂▂▂▂▂█▂▃▃█</td></tr><tr><td>val_acc</td><td>▂▄▁▇█▇▇▅</td></tr><tr><td>val_loss_epoch</td><td>█▄▄▂▁▁▁▂</td></tr><tr><td>val_loss_step</td><td>▃▆▅▃▂▁▁▅▃▂▃▄▄▂█▃▆▆▃▂▂▇▂▁▆▂▂▂▅▅▆▁▁▇▅▂▂▄▃█</td></tr><tr><td>val_macro_f1</td><td>▁▄▁▇█▇▇▅</td></tr><tr><td>val_macro_precision</td><td>▁▃▃▇█▇▇▆</td></tr><tr><td>val_macro_recall</td><td>▂▄▁▇█▇▇▅</td></tr></table><br/></div><div class=\"wandb-col\"><h3>Run summary:</h3><br/><table class=\"wandb\"><tr><td>epoch</td><td>8</td></tr><tr><td>test_acc</td><td>0.75091</td></tr><tr><td>test_f1</td><td>0.75513</td></tr><tr><td>test_loss</td><td>0.58676</td></tr><tr><td>train_acc</td><td>0.74023</td></tr><tr><td>train_loss_epoch</td><td>0.62666</td></tr><tr><td>train_loss_step</td><td>0.64224</td></tr><tr><td>train_macro_f1</td><td>0.73713</td></tr><tr><td>train_macro_precision</td><td>0.73611</td></tr><tr><td>train_macro_recall</td><td>0.73855</td></tr><tr><td>trainer/global_step</td><td>312</td></tr><tr><td>val_acc</td><td>0.82084</td></tr><tr><td>val_loss_epoch</td><td>0.45723</td></tr><tr><td>val_loss_step</td><td>0.2762</td></tr><tr><td>val_macro_f1</td><td>0.81794</td></tr><tr><td>val_macro_precision</td><td>0.8274</td></tr><tr><td>val_macro_recall</td><td>0.81534</td></tr></table><br/></div></div>"
      ],
      "text/plain": [
       "<IPython.core.display.HTML object>"
      ]
     },
     "metadata": {},
     "output_type": "display_data"
    },
    {
     "data": {
      "text/html": [
       " View run <strong style=\"color:#cdcd00\">EfficienNet-B0_1024_0.000664</strong> at: <a href='https://wandb.ai/s26048-polish-japanese-academy-of-information-technology-/effnet_sweep/runs/xaikey3h' target=\"_blank\">https://wandb.ai/s26048-polish-japanese-academy-of-information-technology-/effnet_sweep/runs/xaikey3h</a><br> View project at: <a href='https://wandb.ai/s26048-polish-japanese-academy-of-information-technology-/effnet_sweep' target=\"_blank\">https://wandb.ai/s26048-polish-japanese-academy-of-information-technology-/effnet_sweep</a><br>Synced 5 W&B file(s), 0 media file(s), 2 artifact file(s) and 0 other file(s)"
      ],
      "text/plain": [
       "<IPython.core.display.HTML object>"
      ]
     },
     "metadata": {},
     "output_type": "display_data"
    },
    {
     "data": {
      "text/html": [
       "Find logs at: <code>./wandb/run-20250112_162330-xaikey3h/logs</code>"
      ],
      "text/plain": [
       "<IPython.core.display.HTML object>"
      ]
     },
     "metadata": {},
     "output_type": "display_data"
    },
    {
     "name": "stderr",
     "output_type": "stream",
     "text": [
      "\u001b[34m\u001b[1mwandb\u001b[0m: Agent Starting Run: ky3th0j4 with config:\n",
      "\u001b[34m\u001b[1mwandb\u001b[0m: \tbatch_size: 64\n",
      "\u001b[34m\u001b[1mwandb\u001b[0m: \tdropout_rate: 0.7\n",
      "\u001b[34m\u001b[1mwandb\u001b[0m: \tlayer1_size: 256\n",
      "\u001b[34m\u001b[1mwandb\u001b[0m: \tlearning_rate: 0.0006152920507968662\n",
      "\u001b[34m\u001b[1mwandb\u001b[0m: \tn_epochs: 30\n"
     ]
    },
    {
     "data": {
      "text/html": [
       "Tracking run with wandb version 0.19.1"
      ],
      "text/plain": [
       "<IPython.core.display.HTML object>"
      ]
     },
     "metadata": {},
     "output_type": "display_data"
    },
    {
     "data": {
      "text/html": [
       "Run data is saved locally in <code>/kaggle/working/wandb/run-20250112_163106-ky3th0j4</code>"
      ],
      "text/plain": [
       "<IPython.core.display.HTML object>"
      ]
     },
     "metadata": {},
     "output_type": "display_data"
    },
    {
     "data": {
      "text/html": [
       "Syncing run <strong><a href='https://wandb.ai/s26048-polish-japanese-academy-of-information-technology-/effnet_sweep/runs/ky3th0j4' target=\"_blank\">lilac-sweep-15</a></strong> to <a href='https://wandb.ai/s26048-polish-japanese-academy-of-information-technology-/effnet_sweep' target=\"_blank\">Weights & Biases</a> (<a href='https://wandb.me/developer-guide' target=\"_blank\">docs</a>)<br>Sweep page: <a href='https://wandb.ai/s26048-polish-japanese-academy-of-information-technology-/effnet_sweep/sweeps/dmftq1qt' target=\"_blank\">https://wandb.ai/s26048-polish-japanese-academy-of-information-technology-/effnet_sweep/sweeps/dmftq1qt</a>"
      ],
      "text/plain": [
       "<IPython.core.display.HTML object>"
      ]
     },
     "metadata": {},
     "output_type": "display_data"
    },
    {
     "data": {
      "text/html": [
       " View project at <a href='https://wandb.ai/s26048-polish-japanese-academy-of-information-technology-/effnet_sweep' target=\"_blank\">https://wandb.ai/s26048-polish-japanese-academy-of-information-technology-/effnet_sweep</a>"
      ],
      "text/plain": [
       "<IPython.core.display.HTML object>"
      ]
     },
     "metadata": {},
     "output_type": "display_data"
    },
    {
     "data": {
      "text/html": [
       " View sweep at <a href='https://wandb.ai/s26048-polish-japanese-academy-of-information-technology-/effnet_sweep/sweeps/dmftq1qt' target=\"_blank\">https://wandb.ai/s26048-polish-japanese-academy-of-information-technology-/effnet_sweep/sweeps/dmftq1qt</a>"
      ],
      "text/plain": [
       "<IPython.core.display.HTML object>"
      ]
     },
     "metadata": {},
     "output_type": "display_data"
    },
    {
     "data": {
      "text/html": [
       " View run at <a href='https://wandb.ai/s26048-polish-japanese-academy-of-information-technology-/effnet_sweep/runs/ky3th0j4' target=\"_blank\">https://wandb.ai/s26048-polish-japanese-academy-of-information-technology-/effnet_sweep/runs/ky3th0j4</a>"
      ],
      "text/plain": [
       "<IPython.core.display.HTML object>"
      ]
     },
     "metadata": {},
     "output_type": "display_data"
    },
    {
     "data": {
      "application/vnd.jupyter.widget-view+json": {
       "model_id": "",
       "version_major": 2,
       "version_minor": 0
      },
      "text/plain": [
       "Sanity Checking: |          | 0/? [00:00<?, ?it/s]"
      ]
     },
     "metadata": {},
     "output_type": "display_data"
    },
    {
     "data": {
      "application/vnd.jupyter.widget-view+json": {
       "model_id": "5ba5462b96bd4c08a8b64710147b012c",
       "version_major": 2,
       "version_minor": 0
      },
      "text/plain": [
       "Training: |          | 0/? [00:00<?, ?it/s]"
      ]
     },
     "metadata": {},
     "output_type": "display_data"
    },
    {
     "data": {
      "application/vnd.jupyter.widget-view+json": {
       "model_id": "",
       "version_major": 2,
       "version_minor": 0
      },
      "text/plain": [
       "Validation: |          | 0/? [00:00<?, ?it/s]"
      ]
     },
     "metadata": {},
     "output_type": "display_data"
    },
    {
     "data": {
      "application/vnd.jupyter.widget-view+json": {
       "model_id": "",
       "version_major": 2,
       "version_minor": 0
      },
      "text/plain": [
       "Validation: |          | 0/? [00:00<?, ?it/s]"
      ]
     },
     "metadata": {},
     "output_type": "display_data"
    },
    {
     "data": {
      "application/vnd.jupyter.widget-view+json": {
       "model_id": "",
       "version_major": 2,
       "version_minor": 0
      },
      "text/plain": [
       "Validation: |          | 0/? [00:00<?, ?it/s]"
      ]
     },
     "metadata": {},
     "output_type": "display_data"
    },
    {
     "data": {
      "application/vnd.jupyter.widget-view+json": {
       "model_id": "",
       "version_major": 2,
       "version_minor": 0
      },
      "text/plain": [
       "Validation: |          | 0/? [00:00<?, ?it/s]"
      ]
     },
     "metadata": {},
     "output_type": "display_data"
    },
    {
     "data": {
      "application/vnd.jupyter.widget-view+json": {
       "model_id": "",
       "version_major": 2,
       "version_minor": 0
      },
      "text/plain": [
       "Validation: |          | 0/? [00:00<?, ?it/s]"
      ]
     },
     "metadata": {},
     "output_type": "display_data"
    },
    {
     "data": {
      "application/vnd.jupyter.widget-view+json": {
       "model_id": "",
       "version_major": 2,
       "version_minor": 0
      },
      "text/plain": [
       "Validation: |          | 0/? [00:00<?, ?it/s]"
      ]
     },
     "metadata": {},
     "output_type": "display_data"
    },
    {
     "data": {
      "application/vnd.jupyter.widget-view+json": {
       "model_id": "c5836e77b4db4875803016017231ec06",
       "version_major": 2,
       "version_minor": 0
      },
      "text/plain": [
       "Testing: |          | 0/? [00:00<?, ?it/s]"
      ]
     },
     "metadata": {},
     "output_type": "display_data"
    },
    {
     "data": {
      "text/html": [
       "<pre style=\"white-space:pre;overflow-x:auto;line-height:normal;font-family:Menlo,'DejaVu Sans Mono',consolas,'Courier New',monospace\">┏━━━━━━━━━━━━━━━━━━━━━━━━━━━┳━━━━━━━━━━━━━━━━━━━━━━━━━━━┓\n",
       "┃<span style=\"font-weight: bold\">        Test metric        </span>┃<span style=\"font-weight: bold\">       DataLoader 0        </span>┃\n",
       "┡━━━━━━━━━━━━━━━━━━━━━━━━━━━╇━━━━━━━━━━━━━━━━━━━━━━━━━━━┩\n",
       "│<span style=\"color: #008080; text-decoration-color: #008080\">         test_acc          </span>│<span style=\"color: #800080; text-decoration-color: #800080\">    0.7472727298736572     </span>│\n",
       "│<span style=\"color: #008080; text-decoration-color: #008080\">          test_f1          </span>│<span style=\"color: #800080; text-decoration-color: #800080\">     0.747472882270813     </span>│\n",
       "│<span style=\"color: #008080; text-decoration-color: #008080\">         test_loss         </span>│<span style=\"color: #800080; text-decoration-color: #800080\">    0.6293506622314453     </span>│\n",
       "└───────────────────────────┴───────────────────────────┘\n",
       "</pre>\n"
      ],
      "text/plain": [
       "┏━━━━━━━━━━━━━━━━━━━━━━━━━━━┳━━━━━━━━━━━━━━━━━━━━━━━━━━━┓\n",
       "┃\u001b[1m \u001b[0m\u001b[1m       Test metric       \u001b[0m\u001b[1m \u001b[0m┃\u001b[1m \u001b[0m\u001b[1m      DataLoader 0       \u001b[0m\u001b[1m \u001b[0m┃\n",
       "┡━━━━━━━━━━━━━━━━━━━━━━━━━━━╇━━━━━━━━━━━━━━━━━━━━━━━━━━━┩\n",
       "│\u001b[36m \u001b[0m\u001b[36m        test_acc         \u001b[0m\u001b[36m \u001b[0m│\u001b[35m \u001b[0m\u001b[35m   0.7472727298736572    \u001b[0m\u001b[35m \u001b[0m│\n",
       "│\u001b[36m \u001b[0m\u001b[36m         test_f1         \u001b[0m\u001b[36m \u001b[0m│\u001b[35m \u001b[0m\u001b[35m    0.747472882270813    \u001b[0m\u001b[35m \u001b[0m│\n",
       "│\u001b[36m \u001b[0m\u001b[36m        test_loss        \u001b[0m\u001b[36m \u001b[0m│\u001b[35m \u001b[0m\u001b[35m   0.6293506622314453    \u001b[0m\u001b[35m \u001b[0m│\n",
       "└───────────────────────────┴───────────────────────────┘\n"
      ]
     },
     "metadata": {},
     "output_type": "display_data"
    },
    {
     "data": {
      "text/html": [],
      "text/plain": [
       "<IPython.core.display.HTML object>"
      ]
     },
     "metadata": {},
     "output_type": "display_data"
    },
    {
     "data": {
      "text/html": [
       "<br>    <style><br>        .wandb-row {<br>            display: flex;<br>            flex-direction: row;<br>            flex-wrap: wrap;<br>            justify-content: flex-start;<br>            width: 100%;<br>        }<br>        .wandb-col {<br>            display: flex;<br>            flex-direction: column;<br>            flex-basis: 100%;<br>            flex: 1;<br>            padding: 10px;<br>        }<br>    </style><br><div class=\"wandb-row\"><div class=\"wandb-col\"><h3>Run history:</h3><br/><table class=\"wandb\"><tr><td>epoch</td><td>▁▁▁▂▂▂▂▃▃▃▅▅▅▅▆▆▆▇▇▇▇█</td></tr><tr><td>test_acc</td><td>▁</td></tr><tr><td>test_f1</td><td>▁</td></tr><tr><td>test_loss</td><td>▁</td></tr><tr><td>train_acc</td><td>▁▇▇███</td></tr><tr><td>train_loss_epoch</td><td>█▃▂▂▁▁</td></tr><tr><td>train_loss_step</td><td>▇▆█▃▂▃▂▃▁</td></tr><tr><td>train_macro_f1</td><td>▁▇▇▇██</td></tr><tr><td>train_macro_precision</td><td>▁▇▇▇██</td></tr><tr><td>train_macro_recall</td><td>▁▇▇███</td></tr><tr><td>trainer/global_step</td><td>▁▁▁▁▁▁▁▁▂▁▁▁▁▁▁▂▂▂▂▂▅▂▂▂▂▂▂▂▆▂▂▂▂▇▇▂▂▂▂█</td></tr><tr><td>val_acc</td><td>▄▇█▁▆█</td></tr><tr><td>val_loss_epoch</td><td>█▃▂▂▁▁</td></tr><tr><td>val_loss_step</td><td>▄▅█▇▇▅██▃▁▅▆▅▂▂▆▆▆▄▃▁▅▄▃▅▃▁▄▅▅▆▂▂▁▄▄▃▃▄▇</td></tr><tr><td>val_macro_f1</td><td>▄▇█▁▇█</td></tr><tr><td>val_macro_precision</td><td>▁▅▆▃▆█</td></tr><tr><td>val_macro_recall</td><td>▄▇█▁▆█</td></tr></table><br/></div><div class=\"wandb-col\"><h3>Run summary:</h3><br/><table class=\"wandb\"><tr><td>epoch</td><td>6</td></tr><tr><td>test_acc</td><td>0.74727</td></tr><tr><td>test_f1</td><td>0.74747</td></tr><tr><td>test_loss</td><td>0.62935</td></tr><tr><td>train_acc</td><td>0.6766</td></tr><tr><td>train_loss_epoch</td><td>0.76477</td></tr><tr><td>train_loss_step</td><td>0.64736</td></tr><tr><td>train_macro_f1</td><td>0.67159</td></tr><tr><td>train_macro_precision</td><td>0.66976</td></tr><tr><td>train_macro_recall</td><td>0.67455</td></tr><tr><td>trainer/global_step</td><td>468</td></tr><tr><td>val_acc</td><td>0.82473</td></tr><tr><td>val_loss_epoch</td><td>0.50629</td></tr><tr><td>val_loss_step</td><td>0.56412</td></tr><tr><td>val_macro_f1</td><td>0.8199</td></tr><tr><td>val_macro_precision</td><td>0.83757</td></tr><tr><td>val_macro_recall</td><td>0.81772</td></tr></table><br/></div></div>"
      ],
      "text/plain": [
       "<IPython.core.display.HTML object>"
      ]
     },
     "metadata": {},
     "output_type": "display_data"
    },
    {
     "data": {
      "text/html": [
       " View run <strong style=\"color:#cdcd00\">EfficienNet-B0_256_0.000615</strong> at: <a href='https://wandb.ai/s26048-polish-japanese-academy-of-information-technology-/effnet_sweep/runs/ky3th0j4' target=\"_blank\">https://wandb.ai/s26048-polish-japanese-academy-of-information-technology-/effnet_sweep/runs/ky3th0j4</a><br> View project at: <a href='https://wandb.ai/s26048-polish-japanese-academy-of-information-technology-/effnet_sweep' target=\"_blank\">https://wandb.ai/s26048-polish-japanese-academy-of-information-technology-/effnet_sweep</a><br>Synced 5 W&B file(s), 0 media file(s), 2 artifact file(s) and 0 other file(s)"
      ],
      "text/plain": [
       "<IPython.core.display.HTML object>"
      ]
     },
     "metadata": {},
     "output_type": "display_data"
    },
    {
     "data": {
      "text/html": [
       "Find logs at: <code>./wandb/run-20250112_163106-ky3th0j4/logs</code>"
      ],
      "text/plain": [
       "<IPython.core.display.HTML object>"
      ]
     },
     "metadata": {},
     "output_type": "display_data"
    },
    {
     "name": "stderr",
     "output_type": "stream",
     "text": [
      "\u001b[34m\u001b[1mwandb\u001b[0m: Agent Starting Run: ntfp5llx with config:\n",
      "\u001b[34m\u001b[1mwandb\u001b[0m: \tbatch_size: 128\n",
      "\u001b[34m\u001b[1mwandb\u001b[0m: \tdropout_rate: 0.4\n",
      "\u001b[34m\u001b[1mwandb\u001b[0m: \tlayer1_size: 256\n",
      "\u001b[34m\u001b[1mwandb\u001b[0m: \tlearning_rate: 0.006334959184625096\n",
      "\u001b[34m\u001b[1mwandb\u001b[0m: \tn_epochs: 10\n"
     ]
    },
    {
     "data": {
      "text/html": [
       "Tracking run with wandb version 0.19.1"
      ],
      "text/plain": [
       "<IPython.core.display.HTML object>"
      ]
     },
     "metadata": {},
     "output_type": "display_data"
    },
    {
     "data": {
      "text/html": [
       "Run data is saved locally in <code>/kaggle/working/wandb/run-20250112_163651-ntfp5llx</code>"
      ],
      "text/plain": [
       "<IPython.core.display.HTML object>"
      ]
     },
     "metadata": {},
     "output_type": "display_data"
    },
    {
     "data": {
      "text/html": [
       "Syncing run <strong><a href='https://wandb.ai/s26048-polish-japanese-academy-of-information-technology-/effnet_sweep/runs/ntfp5llx' target=\"_blank\">driven-sweep-16</a></strong> to <a href='https://wandb.ai/s26048-polish-japanese-academy-of-information-technology-/effnet_sweep' target=\"_blank\">Weights & Biases</a> (<a href='https://wandb.me/developer-guide' target=\"_blank\">docs</a>)<br>Sweep page: <a href='https://wandb.ai/s26048-polish-japanese-academy-of-information-technology-/effnet_sweep/sweeps/dmftq1qt' target=\"_blank\">https://wandb.ai/s26048-polish-japanese-academy-of-information-technology-/effnet_sweep/sweeps/dmftq1qt</a>"
      ],
      "text/plain": [
       "<IPython.core.display.HTML object>"
      ]
     },
     "metadata": {},
     "output_type": "display_data"
    },
    {
     "data": {
      "text/html": [
       " View project at <a href='https://wandb.ai/s26048-polish-japanese-academy-of-information-technology-/effnet_sweep' target=\"_blank\">https://wandb.ai/s26048-polish-japanese-academy-of-information-technology-/effnet_sweep</a>"
      ],
      "text/plain": [
       "<IPython.core.display.HTML object>"
      ]
     },
     "metadata": {},
     "output_type": "display_data"
    },
    {
     "data": {
      "text/html": [
       " View sweep at <a href='https://wandb.ai/s26048-polish-japanese-academy-of-information-technology-/effnet_sweep/sweeps/dmftq1qt' target=\"_blank\">https://wandb.ai/s26048-polish-japanese-academy-of-information-technology-/effnet_sweep/sweeps/dmftq1qt</a>"
      ],
      "text/plain": [
       "<IPython.core.display.HTML object>"
      ]
     },
     "metadata": {},
     "output_type": "display_data"
    },
    {
     "data": {
      "text/html": [
       " View run at <a href='https://wandb.ai/s26048-polish-japanese-academy-of-information-technology-/effnet_sweep/runs/ntfp5llx' target=\"_blank\">https://wandb.ai/s26048-polish-japanese-academy-of-information-technology-/effnet_sweep/runs/ntfp5llx</a>"
      ],
      "text/plain": [
       "<IPython.core.display.HTML object>"
      ]
     },
     "metadata": {},
     "output_type": "display_data"
    },
    {
     "data": {
      "application/vnd.jupyter.widget-view+json": {
       "model_id": "",
       "version_major": 2,
       "version_minor": 0
      },
      "text/plain": [
       "Sanity Checking: |          | 0/? [00:00<?, ?it/s]"
      ]
     },
     "metadata": {},
     "output_type": "display_data"
    },
    {
     "data": {
      "application/vnd.jupyter.widget-view+json": {
       "model_id": "3a4b1668de7b4d83aee752cd03d85039",
       "version_major": 2,
       "version_minor": 0
      },
      "text/plain": [
       "Training: |          | 0/? [00:00<?, ?it/s]"
      ]
     },
     "metadata": {},
     "output_type": "display_data"
    },
    {
     "data": {
      "application/vnd.jupyter.widget-view+json": {
       "model_id": "",
       "version_major": 2,
       "version_minor": 0
      },
      "text/plain": [
       "Validation: |          | 0/? [00:00<?, ?it/s]"
      ]
     },
     "metadata": {},
     "output_type": "display_data"
    },
    {
     "data": {
      "application/vnd.jupyter.widget-view+json": {
       "model_id": "",
       "version_major": 2,
       "version_minor": 0
      },
      "text/plain": [
       "Validation: |          | 0/? [00:00<?, ?it/s]"
      ]
     },
     "metadata": {},
     "output_type": "display_data"
    },
    {
     "data": {
      "application/vnd.jupyter.widget-view+json": {
       "model_id": "",
       "version_major": 2,
       "version_minor": 0
      },
      "text/plain": [
       "Validation: |          | 0/? [00:00<?, ?it/s]"
      ]
     },
     "metadata": {},
     "output_type": "display_data"
    },
    {
     "data": {
      "application/vnd.jupyter.widget-view+json": {
       "model_id": "",
       "version_major": 2,
       "version_minor": 0
      },
      "text/plain": [
       "Validation: |          | 0/? [00:00<?, ?it/s]"
      ]
     },
     "metadata": {},
     "output_type": "display_data"
    },
    {
     "data": {
      "application/vnd.jupyter.widget-view+json": {
       "model_id": "",
       "version_major": 2,
       "version_minor": 0
      },
      "text/plain": [
       "Validation: |          | 0/? [00:00<?, ?it/s]"
      ]
     },
     "metadata": {},
     "output_type": "display_data"
    },
    {
     "data": {
      "application/vnd.jupyter.widget-view+json": {
       "model_id": "",
       "version_major": 2,
       "version_minor": 0
      },
      "text/plain": [
       "Validation: |          | 0/? [00:00<?, ?it/s]"
      ]
     },
     "metadata": {},
     "output_type": "display_data"
    },
    {
     "data": {
      "application/vnd.jupyter.widget-view+json": {
       "model_id": "",
       "version_major": 2,
       "version_minor": 0
      },
      "text/plain": [
       "Validation: |          | 0/? [00:00<?, ?it/s]"
      ]
     },
     "metadata": {},
     "output_type": "display_data"
    },
    {
     "data": {
      "application/vnd.jupyter.widget-view+json": {
       "model_id": "",
       "version_major": 2,
       "version_minor": 0
      },
      "text/plain": [
       "Validation: |          | 0/? [00:00<?, ?it/s]"
      ]
     },
     "metadata": {},
     "output_type": "display_data"
    },
    {
     "data": {
      "application/vnd.jupyter.widget-view+json": {
       "model_id": "",
       "version_major": 2,
       "version_minor": 0
      },
      "text/plain": [
       "Validation: |          | 0/? [00:00<?, ?it/s]"
      ]
     },
     "metadata": {},
     "output_type": "display_data"
    },
    {
     "data": {
      "application/vnd.jupyter.widget-view+json": {
       "model_id": "2ac1185dcb434b02941a2a7e0e58130c",
       "version_major": 2,
       "version_minor": 0
      },
      "text/plain": [
       "Testing: |          | 0/? [00:00<?, ?it/s]"
      ]
     },
     "metadata": {},
     "output_type": "display_data"
    },
    {
     "data": {
      "text/html": [
       "<pre style=\"white-space:pre;overflow-x:auto;line-height:normal;font-family:Menlo,'DejaVu Sans Mono',consolas,'Courier New',monospace\">┏━━━━━━━━━━━━━━━━━━━━━━━━━━━┳━━━━━━━━━━━━━━━━━━━━━━━━━━━┓\n",
       "┃<span style=\"font-weight: bold\">        Test metric        </span>┃<span style=\"font-weight: bold\">       DataLoader 0        </span>┃\n",
       "┡━━━━━━━━━━━━━━━━━━━━━━━━━━━╇━━━━━━━━━━━━━━━━━━━━━━━━━━━┩\n",
       "│<span style=\"color: #008080; text-decoration-color: #008080\">         test_acc          </span>│<span style=\"color: #800080; text-decoration-color: #800080\">    0.7599999904632568     </span>│\n",
       "│<span style=\"color: #008080; text-decoration-color: #008080\">          test_f1          </span>│<span style=\"color: #800080; text-decoration-color: #800080\">    0.7615468502044678     </span>│\n",
       "│<span style=\"color: #008080; text-decoration-color: #008080\">         test_loss         </span>│<span style=\"color: #800080; text-decoration-color: #800080\">    0.6020007133483887     </span>│\n",
       "└───────────────────────────┴───────────────────────────┘\n",
       "</pre>\n"
      ],
      "text/plain": [
       "┏━━━━━━━━━━━━━━━━━━━━━━━━━━━┳━━━━━━━━━━━━━━━━━━━━━━━━━━━┓\n",
       "┃\u001b[1m \u001b[0m\u001b[1m       Test metric       \u001b[0m\u001b[1m \u001b[0m┃\u001b[1m \u001b[0m\u001b[1m      DataLoader 0       \u001b[0m\u001b[1m \u001b[0m┃\n",
       "┡━━━━━━━━━━━━━━━━━━━━━━━━━━━╇━━━━━━━━━━━━━━━━━━━━━━━━━━━┩\n",
       "│\u001b[36m \u001b[0m\u001b[36m        test_acc         \u001b[0m\u001b[36m \u001b[0m│\u001b[35m \u001b[0m\u001b[35m   0.7599999904632568    \u001b[0m\u001b[35m \u001b[0m│\n",
       "│\u001b[36m \u001b[0m\u001b[36m         test_f1         \u001b[0m\u001b[36m \u001b[0m│\u001b[35m \u001b[0m\u001b[35m   0.7615468502044678    \u001b[0m\u001b[35m \u001b[0m│\n",
       "│\u001b[36m \u001b[0m\u001b[36m        test_loss        \u001b[0m\u001b[36m \u001b[0m│\u001b[35m \u001b[0m\u001b[35m   0.6020007133483887    \u001b[0m\u001b[35m \u001b[0m│\n",
       "└───────────────────────────┴───────────────────────────┘\n"
      ]
     },
     "metadata": {},
     "output_type": "display_data"
    },
    {
     "data": {
      "text/html": [],
      "text/plain": [
       "<IPython.core.display.HTML object>"
      ]
     },
     "metadata": {},
     "output_type": "display_data"
    },
    {
     "data": {
      "text/html": [
       "<br>    <style><br>        .wandb-row {<br>            display: flex;<br>            flex-direction: row;<br>            flex-wrap: wrap;<br>            justify-content: flex-start;<br>            width: 100%;<br>        }<br>        .wandb-col {<br>            display: flex;<br>            flex-direction: column;<br>            flex-basis: 100%;<br>            flex: 1;<br>            padding: 10px;<br>        }<br>    </style><br><div class=\"wandb-row\"><div class=\"wandb-col\"><h3>Run history:</h3><br/><table class=\"wandb\"><tr><td>epoch</td><td>▁▁▂▂▂▃▃▃▃▃▃▄▄▅▅▅▆▆▆▆▆▆▇▇▇█</td></tr><tr><td>test_acc</td><td>▁</td></tr><tr><td>test_f1</td><td>▁</td></tr><tr><td>test_loss</td><td>▁</td></tr><tr><td>train_acc</td><td>▁▆▆█▇▇███</td></tr><tr><td>train_loss_epoch</td><td>█▃▃▂▁▂▁▁▁</td></tr><tr><td>train_loss_step</td><td>▆█▃▅▅▁▇</td></tr><tr><td>train_macro_f1</td><td>▁▆▆█▇▇███</td></tr><tr><td>train_macro_precision</td><td>▁▆▆█▇▇███</td></tr><tr><td>train_macro_recall</td><td>▁▆▆█▇▇███</td></tr><tr><td>trainer/global_step</td><td>▁▁▁▁▁▁▁▃▃▁▂▂▂▂▂▂▂▄▂▂▅▂▂▂▂▆▂▂▂▂▂▇▇▂▂██▃▃▃</td></tr><tr><td>val_acc</td><td>▁▇▇▇▄█▇▆▇</td></tr><tr><td>val_loss_epoch</td><td>█▃▂▂▄▁▁▃▂</td></tr><tr><td>val_loss_step</td><td>▁▃▃▇█▄▃▅▂▃▄▂▄▅▃▂▂▁▁▃▂▇▅▃▄▂▂▂▃▃▅▂▁▁▃▂▂▄▄▂</td></tr><tr><td>val_macro_f1</td><td>▁▇▇▇▃█▇▇▇</td></tr><tr><td>val_macro_precision</td><td>▁▆▆▇▅█▇▆▆</td></tr><tr><td>val_macro_recall</td><td>▁▇▇▇▄█▇▆▇</td></tr></table><br/></div><div class=\"wandb-col\"><h3>Run summary:</h3><br/><table class=\"wandb\"><tr><td>epoch</td><td>9</td></tr><tr><td>test_acc</td><td>0.76</td></tr><tr><td>test_f1</td><td>0.76155</td></tr><tr><td>test_loss</td><td>0.602</td></tr><tr><td>train_acc</td><td>0.73762</td></tr><tr><td>train_loss_epoch</td><td>0.64174</td></tr><tr><td>train_loss_step</td><td>0.68005</td></tr><tr><td>train_macro_f1</td><td>0.73437</td></tr><tr><td>train_macro_precision</td><td>0.73351</td></tr><tr><td>train_macro_recall</td><td>0.73595</td></tr><tr><td>trainer/global_step</td><td>351</td></tr><tr><td>val_acc</td><td>0.81889</td></tr><tr><td>val_loss_epoch</td><td>0.46376</td></tr><tr><td>val_loss_step</td><td>0.29506</td></tr><tr><td>val_macro_f1</td><td>0.8158</td></tr><tr><td>val_macro_precision</td><td>0.81759</td></tr><tr><td>val_macro_recall</td><td>0.81547</td></tr></table><br/></div></div>"
      ],
      "text/plain": [
       "<IPython.core.display.HTML object>"
      ]
     },
     "metadata": {},
     "output_type": "display_data"
    },
    {
     "data": {
      "text/html": [
       " View run <strong style=\"color:#cdcd00\">EfficienNet-B0_256_0.006334</strong> at: <a href='https://wandb.ai/s26048-polish-japanese-academy-of-information-technology-/effnet_sweep/runs/ntfp5llx' target=\"_blank\">https://wandb.ai/s26048-polish-japanese-academy-of-information-technology-/effnet_sweep/runs/ntfp5llx</a><br> View project at: <a href='https://wandb.ai/s26048-polish-japanese-academy-of-information-technology-/effnet_sweep' target=\"_blank\">https://wandb.ai/s26048-polish-japanese-academy-of-information-technology-/effnet_sweep</a><br>Synced 5 W&B file(s), 0 media file(s), 2 artifact file(s) and 0 other file(s)"
      ],
      "text/plain": [
       "<IPython.core.display.HTML object>"
      ]
     },
     "metadata": {},
     "output_type": "display_data"
    },
    {
     "data": {
      "text/html": [
       "Find logs at: <code>./wandb/run-20250112_163651-ntfp5llx/logs</code>"
      ],
      "text/plain": [
       "<IPython.core.display.HTML object>"
      ]
     },
     "metadata": {},
     "output_type": "display_data"
    },
    {
     "name": "stderr",
     "output_type": "stream",
     "text": [
      "\u001b[34m\u001b[1mwandb\u001b[0m: Agent Starting Run: ei239daa with config:\n",
      "\u001b[34m\u001b[1mwandb\u001b[0m: \tbatch_size: 32\n",
      "\u001b[34m\u001b[1mwandb\u001b[0m: \tdropout_rate: 0.6\n",
      "\u001b[34m\u001b[1mwandb\u001b[0m: \tlayer1_size: 1024\n",
      "\u001b[34m\u001b[1mwandb\u001b[0m: \tlearning_rate: 0.003651730337339793\n",
      "\u001b[34m\u001b[1mwandb\u001b[0m: \tn_epochs: 30\n"
     ]
    },
    {
     "data": {
      "text/html": [
       "Tracking run with wandb version 0.19.1"
      ],
      "text/plain": [
       "<IPython.core.display.HTML object>"
      ]
     },
     "metadata": {},
     "output_type": "display_data"
    },
    {
     "data": {
      "text/html": [
       "Run data is saved locally in <code>/kaggle/working/wandb/run-20250112_164518-ei239daa</code>"
      ],
      "text/plain": [
       "<IPython.core.display.HTML object>"
      ]
     },
     "metadata": {},
     "output_type": "display_data"
    },
    {
     "data": {
      "text/html": [
       "Syncing run <strong><a href='https://wandb.ai/s26048-polish-japanese-academy-of-information-technology-/effnet_sweep/runs/ei239daa' target=\"_blank\">brisk-sweep-17</a></strong> to <a href='https://wandb.ai/s26048-polish-japanese-academy-of-information-technology-/effnet_sweep' target=\"_blank\">Weights & Biases</a> (<a href='https://wandb.me/developer-guide' target=\"_blank\">docs</a>)<br>Sweep page: <a href='https://wandb.ai/s26048-polish-japanese-academy-of-information-technology-/effnet_sweep/sweeps/dmftq1qt' target=\"_blank\">https://wandb.ai/s26048-polish-japanese-academy-of-information-technology-/effnet_sweep/sweeps/dmftq1qt</a>"
      ],
      "text/plain": [
       "<IPython.core.display.HTML object>"
      ]
     },
     "metadata": {},
     "output_type": "display_data"
    },
    {
     "data": {
      "text/html": [
       " View project at <a href='https://wandb.ai/s26048-polish-japanese-academy-of-information-technology-/effnet_sweep' target=\"_blank\">https://wandb.ai/s26048-polish-japanese-academy-of-information-technology-/effnet_sweep</a>"
      ],
      "text/plain": [
       "<IPython.core.display.HTML object>"
      ]
     },
     "metadata": {},
     "output_type": "display_data"
    },
    {
     "data": {
      "text/html": [
       " View sweep at <a href='https://wandb.ai/s26048-polish-japanese-academy-of-information-technology-/effnet_sweep/sweeps/dmftq1qt' target=\"_blank\">https://wandb.ai/s26048-polish-japanese-academy-of-information-technology-/effnet_sweep/sweeps/dmftq1qt</a>"
      ],
      "text/plain": [
       "<IPython.core.display.HTML object>"
      ]
     },
     "metadata": {},
     "output_type": "display_data"
    },
    {
     "data": {
      "text/html": [
       " View run at <a href='https://wandb.ai/s26048-polish-japanese-academy-of-information-technology-/effnet_sweep/runs/ei239daa' target=\"_blank\">https://wandb.ai/s26048-polish-japanese-academy-of-information-technology-/effnet_sweep/runs/ei239daa</a>"
      ],
      "text/plain": [
       "<IPython.core.display.HTML object>"
      ]
     },
     "metadata": {},
     "output_type": "display_data"
    },
    {
     "data": {
      "application/vnd.jupyter.widget-view+json": {
       "model_id": "",
       "version_major": 2,
       "version_minor": 0
      },
      "text/plain": [
       "Sanity Checking: |          | 0/? [00:00<?, ?it/s]"
      ]
     },
     "metadata": {},
     "output_type": "display_data"
    },
    {
     "data": {
      "application/vnd.jupyter.widget-view+json": {
       "model_id": "c265437404f14c239b4f50c77cc78475",
       "version_major": 2,
       "version_minor": 0
      },
      "text/plain": [
       "Training: |          | 0/? [00:00<?, ?it/s]"
      ]
     },
     "metadata": {},
     "output_type": "display_data"
    },
    {
     "data": {
      "application/vnd.jupyter.widget-view+json": {
       "model_id": "",
       "version_major": 2,
       "version_minor": 0
      },
      "text/plain": [
       "Validation: |          | 0/? [00:00<?, ?it/s]"
      ]
     },
     "metadata": {},
     "output_type": "display_data"
    },
    {
     "data": {
      "application/vnd.jupyter.widget-view+json": {
       "model_id": "",
       "version_major": 2,
       "version_minor": 0
      },
      "text/plain": [
       "Validation: |          | 0/? [00:00<?, ?it/s]"
      ]
     },
     "metadata": {},
     "output_type": "display_data"
    },
    {
     "data": {
      "application/vnd.jupyter.widget-view+json": {
       "model_id": "",
       "version_major": 2,
       "version_minor": 0
      },
      "text/plain": [
       "Validation: |          | 0/? [00:00<?, ?it/s]"
      ]
     },
     "metadata": {},
     "output_type": "display_data"
    },
    {
     "data": {
      "application/vnd.jupyter.widget-view+json": {
       "model_id": "",
       "version_major": 2,
       "version_minor": 0
      },
      "text/plain": [
       "Validation: |          | 0/? [00:00<?, ?it/s]"
      ]
     },
     "metadata": {},
     "output_type": "display_data"
    },
    {
     "data": {
      "application/vnd.jupyter.widget-view+json": {
       "model_id": "",
       "version_major": 2,
       "version_minor": 0
      },
      "text/plain": [
       "Validation: |          | 0/? [00:00<?, ?it/s]"
      ]
     },
     "metadata": {},
     "output_type": "display_data"
    },
    {
     "data": {
      "application/vnd.jupyter.widget-view+json": {
       "model_id": "",
       "version_major": 2,
       "version_minor": 0
      },
      "text/plain": [
       "Validation: |          | 0/? [00:00<?, ?it/s]"
      ]
     },
     "metadata": {},
     "output_type": "display_data"
    },
    {
     "data": {
      "application/vnd.jupyter.widget-view+json": {
       "model_id": "",
       "version_major": 2,
       "version_minor": 0
      },
      "text/plain": [
       "Validation: |          | 0/? [00:00<?, ?it/s]"
      ]
     },
     "metadata": {},
     "output_type": "display_data"
    },
    {
     "data": {
      "application/vnd.jupyter.widget-view+json": {
       "model_id": "",
       "version_major": 2,
       "version_minor": 0
      },
      "text/plain": [
       "Validation: |          | 0/? [00:00<?, ?it/s]"
      ]
     },
     "metadata": {},
     "output_type": "display_data"
    },
    {
     "data": {
      "application/vnd.jupyter.widget-view+json": {
       "model_id": "cab6973a30894a23aea6503c321c7f3b",
       "version_major": 2,
       "version_minor": 0
      },
      "text/plain": [
       "Testing: |          | 0/? [00:00<?, ?it/s]"
      ]
     },
     "metadata": {},
     "output_type": "display_data"
    },
    {
     "data": {
      "text/html": [
       "<pre style=\"white-space:pre;overflow-x:auto;line-height:normal;font-family:Menlo,'DejaVu Sans Mono',consolas,'Courier New',monospace\">┏━━━━━━━━━━━━━━━━━━━━━━━━━━━┳━━━━━━━━━━━━━━━━━━━━━━━━━━━┓\n",
       "┃<span style=\"font-weight: bold\">        Test metric        </span>┃<span style=\"font-weight: bold\">       DataLoader 0        </span>┃\n",
       "┡━━━━━━━━━━━━━━━━━━━━━━━━━━━╇━━━━━━━━━━━━━━━━━━━━━━━━━━━┩\n",
       "│<span style=\"color: #008080; text-decoration-color: #008080\">         test_acc          </span>│<span style=\"color: #800080; text-decoration-color: #800080\">    0.7372727394104004     </span>│\n",
       "│<span style=\"color: #008080; text-decoration-color: #008080\">          test_f1          </span>│<span style=\"color: #800080; text-decoration-color: #800080\">    0.7374060153961182     </span>│\n",
       "│<span style=\"color: #008080; text-decoration-color: #008080\">         test_loss         </span>│<span style=\"color: #800080; text-decoration-color: #800080\">    0.6469216346740723     </span>│\n",
       "└───────────────────────────┴───────────────────────────┘\n",
       "</pre>\n"
      ],
      "text/plain": [
       "┏━━━━━━━━━━━━━━━━━━━━━━━━━━━┳━━━━━━━━━━━━━━━━━━━━━━━━━━━┓\n",
       "┃\u001b[1m \u001b[0m\u001b[1m       Test metric       \u001b[0m\u001b[1m \u001b[0m┃\u001b[1m \u001b[0m\u001b[1m      DataLoader 0       \u001b[0m\u001b[1m \u001b[0m┃\n",
       "┡━━━━━━━━━━━━━━━━━━━━━━━━━━━╇━━━━━━━━━━━━━━━━━━━━━━━━━━━┩\n",
       "│\u001b[36m \u001b[0m\u001b[36m        test_acc         \u001b[0m\u001b[36m \u001b[0m│\u001b[35m \u001b[0m\u001b[35m   0.7372727394104004    \u001b[0m\u001b[35m \u001b[0m│\n",
       "│\u001b[36m \u001b[0m\u001b[36m         test_f1         \u001b[0m\u001b[36m \u001b[0m│\u001b[35m \u001b[0m\u001b[35m   0.7374060153961182    \u001b[0m\u001b[35m \u001b[0m│\n",
       "│\u001b[36m \u001b[0m\u001b[36m        test_loss        \u001b[0m\u001b[36m \u001b[0m│\u001b[35m \u001b[0m\u001b[35m   0.6469216346740723    \u001b[0m\u001b[35m \u001b[0m│\n",
       "└───────────────────────────┴───────────────────────────┘\n"
      ]
     },
     "metadata": {},
     "output_type": "display_data"
    },
    {
     "data": {
      "text/html": [],
      "text/plain": [
       "<IPython.core.display.HTML object>"
      ]
     },
     "metadata": {},
     "output_type": "display_data"
    },
    {
     "data": {
      "text/html": [
       "<br>    <style><br>        .wandb-row {<br>            display: flex;<br>            flex-direction: row;<br>            flex-wrap: wrap;<br>            justify-content: flex-start;<br>            width: 100%;<br>        }<br>        .wandb-col {<br>            display: flex;<br>            flex-direction: column;<br>            flex-basis: 100%;<br>            flex: 1;<br>            padding: 10px;<br>        }<br>    </style><br><div class=\"wandb-row\"><div class=\"wandb-col\"><h3>Run history:</h3><br/><table class=\"wandb\"><tr><td>epoch</td><td>▁▁▁▁▁▂▂▂▂▂▃▃▃▃▃▄▄▄▄▄▅▅▅▅▅▅▅▅▅▅▆▆▆▆▆▇▇▇▇█</td></tr><tr><td>test_acc</td><td>▁</td></tr><tr><td>test_f1</td><td>▁</td></tr><tr><td>test_loss</td><td>▁</td></tr><tr><td>train_acc</td><td>▁▅▆▇███▇</td></tr><tr><td>train_loss_epoch</td><td>█▃▃▂▁▂▁▂</td></tr><tr><td>train_loss_step</td><td>▆▇▄█▃▇▄▄▄▆▇▆▅▃▁▄▆▃▅▃▄▅▄▃</td></tr><tr><td>train_macro_f1</td><td>▁▅▆▇▇██▇</td></tr><tr><td>train_macro_precision</td><td>▁▅▆▇▇██▇</td></tr><tr><td>train_macro_recall</td><td>▁▅▆▇███▇</td></tr><tr><td>trainer/global_step</td><td>▂▁▁▁▁▂▁▁▁▁▁▁▂▂▂▂▂▂▅▂▂▂▂▂▂▂▂▂▆▇▂▂▂▂▂▂▂▂▂█</td></tr><tr><td>val_acc</td><td>▄▁▄▇█▅▁█</td></tr><tr><td>val_loss_epoch</td><td>█▆▃▇▁▅▆▃</td></tr><tr><td>val_loss_step</td><td>▃▃▆▇▇▄▄▄▃▄▅▅▆▇▁▆▇▆▇▁▄▄▁▅▅█▃▄▄▂▇█▁▅▅▂▃▃▆▆</td></tr><tr><td>val_macro_f1</td><td>▅▁▄▇█▄▁▇</td></tr><tr><td>val_macro_precision</td><td>▃▅▁▃█▁▄▆</td></tr><tr><td>val_macro_recall</td><td>▅▂▄▇█▅▁▇</td></tr></table><br/></div><div class=\"wandb-col\"><h3>Run summary:</h3><br/><table class=\"wandb\"><tr><td>epoch</td><td>8</td></tr><tr><td>test_acc</td><td>0.73727</td></tr><tr><td>test_f1</td><td>0.73741</td></tr><tr><td>test_loss</td><td>0.64692</td></tr><tr><td>train_acc</td><td>0.65425</td></tr><tr><td>train_loss_epoch</td><td>0.82951</td></tr><tr><td>train_loss_step</td><td>0.64412</td></tr><tr><td>train_macro_f1</td><td>0.65137</td></tr><tr><td>train_macro_precision</td><td>0.65091</td></tr><tr><td>train_macro_recall</td><td>0.6523</td></tr><tr><td>trainer/global_step</td><td>1248</td></tr><tr><td>val_acc</td><td>0.82278</td></tr><tr><td>val_loss_epoch</td><td>0.52296</td></tr><tr><td>val_loss_step</td><td>0.36696</td></tr><tr><td>val_macro_f1</td><td>0.81944</td></tr><tr><td>val_macro_precision</td><td>0.82363</td></tr><tr><td>val_macro_recall</td><td>0.81833</td></tr></table><br/></div></div>"
      ],
      "text/plain": [
       "<IPython.core.display.HTML object>"
      ]
     },
     "metadata": {},
     "output_type": "display_data"
    },
    {
     "data": {
      "text/html": [
       " View run <strong style=\"color:#cdcd00\">EfficienNet-B0_1024_0.003651</strong> at: <a href='https://wandb.ai/s26048-polish-japanese-academy-of-information-technology-/effnet_sweep/runs/ei239daa' target=\"_blank\">https://wandb.ai/s26048-polish-japanese-academy-of-information-technology-/effnet_sweep/runs/ei239daa</a><br> View project at: <a href='https://wandb.ai/s26048-polish-japanese-academy-of-information-technology-/effnet_sweep' target=\"_blank\">https://wandb.ai/s26048-polish-japanese-academy-of-information-technology-/effnet_sweep</a><br>Synced 5 W&B file(s), 0 media file(s), 2 artifact file(s) and 0 other file(s)"
      ],
      "text/plain": [
       "<IPython.core.display.HTML object>"
      ]
     },
     "metadata": {},
     "output_type": "display_data"
    },
    {
     "data": {
      "text/html": [
       "Find logs at: <code>./wandb/run-20250112_164518-ei239daa/logs</code>"
      ],
      "text/plain": [
       "<IPython.core.display.HTML object>"
      ]
     },
     "metadata": {},
     "output_type": "display_data"
    },
    {
     "name": "stderr",
     "output_type": "stream",
     "text": [
      "\u001b[34m\u001b[1mwandb\u001b[0m: Agent Starting Run: lmc53p75 with config:\n",
      "\u001b[34m\u001b[1mwandb\u001b[0m: \tbatch_size: 64\n",
      "\u001b[34m\u001b[1mwandb\u001b[0m: \tdropout_rate: 0.7\n",
      "\u001b[34m\u001b[1mwandb\u001b[0m: \tlayer1_size: 256\n",
      "\u001b[34m\u001b[1mwandb\u001b[0m: \tlearning_rate: 0.00037890643467608655\n",
      "\u001b[34m\u001b[1mwandb\u001b[0m: \tn_epochs: 20\n"
     ]
    },
    {
     "data": {
      "text/html": [
       "Tracking run with wandb version 0.19.1"
      ],
      "text/plain": [
       "<IPython.core.display.HTML object>"
      ]
     },
     "metadata": {},
     "output_type": "display_data"
    },
    {
     "data": {
      "text/html": [
       "Run data is saved locally in <code>/kaggle/working/wandb/run-20250112_165245-lmc53p75</code>"
      ],
      "text/plain": [
       "<IPython.core.display.HTML object>"
      ]
     },
     "metadata": {},
     "output_type": "display_data"
    },
    {
     "data": {
      "text/html": [
       "Syncing run <strong><a href='https://wandb.ai/s26048-polish-japanese-academy-of-information-technology-/effnet_sweep/runs/lmc53p75' target=\"_blank\">cerulean-sweep-18</a></strong> to <a href='https://wandb.ai/s26048-polish-japanese-academy-of-information-technology-/effnet_sweep' target=\"_blank\">Weights & Biases</a> (<a href='https://wandb.me/developer-guide' target=\"_blank\">docs</a>)<br>Sweep page: <a href='https://wandb.ai/s26048-polish-japanese-academy-of-information-technology-/effnet_sweep/sweeps/dmftq1qt' target=\"_blank\">https://wandb.ai/s26048-polish-japanese-academy-of-information-technology-/effnet_sweep/sweeps/dmftq1qt</a>"
      ],
      "text/plain": [
       "<IPython.core.display.HTML object>"
      ]
     },
     "metadata": {},
     "output_type": "display_data"
    },
    {
     "data": {
      "text/html": [
       " View project at <a href='https://wandb.ai/s26048-polish-japanese-academy-of-information-technology-/effnet_sweep' target=\"_blank\">https://wandb.ai/s26048-polish-japanese-academy-of-information-technology-/effnet_sweep</a>"
      ],
      "text/plain": [
       "<IPython.core.display.HTML object>"
      ]
     },
     "metadata": {},
     "output_type": "display_data"
    },
    {
     "data": {
      "text/html": [
       " View sweep at <a href='https://wandb.ai/s26048-polish-japanese-academy-of-information-technology-/effnet_sweep/sweeps/dmftq1qt' target=\"_blank\">https://wandb.ai/s26048-polish-japanese-academy-of-information-technology-/effnet_sweep/sweeps/dmftq1qt</a>"
      ],
      "text/plain": [
       "<IPython.core.display.HTML object>"
      ]
     },
     "metadata": {},
     "output_type": "display_data"
    },
    {
     "data": {
      "text/html": [
       " View run at <a href='https://wandb.ai/s26048-polish-japanese-academy-of-information-technology-/effnet_sweep/runs/lmc53p75' target=\"_blank\">https://wandb.ai/s26048-polish-japanese-academy-of-information-technology-/effnet_sweep/runs/lmc53p75</a>"
      ],
      "text/plain": [
       "<IPython.core.display.HTML object>"
      ]
     },
     "metadata": {},
     "output_type": "display_data"
    },
    {
     "data": {
      "application/vnd.jupyter.widget-view+json": {
       "model_id": "",
       "version_major": 2,
       "version_minor": 0
      },
      "text/plain": [
       "Sanity Checking: |          | 0/? [00:00<?, ?it/s]"
      ]
     },
     "metadata": {},
     "output_type": "display_data"
    },
    {
     "data": {
      "application/vnd.jupyter.widget-view+json": {
       "model_id": "3922024bd9ae4fa3ae12ac5bb931f99d",
       "version_major": 2,
       "version_minor": 0
      },
      "text/plain": [
       "Training: |          | 0/? [00:00<?, ?it/s]"
      ]
     },
     "metadata": {},
     "output_type": "display_data"
    },
    {
     "data": {
      "application/vnd.jupyter.widget-view+json": {
       "model_id": "",
       "version_major": 2,
       "version_minor": 0
      },
      "text/plain": [
       "Validation: |          | 0/? [00:00<?, ?it/s]"
      ]
     },
     "metadata": {},
     "output_type": "display_data"
    },
    {
     "data": {
      "application/vnd.jupyter.widget-view+json": {
       "model_id": "",
       "version_major": 2,
       "version_minor": 0
      },
      "text/plain": [
       "Validation: |          | 0/? [00:00<?, ?it/s]"
      ]
     },
     "metadata": {},
     "output_type": "display_data"
    },
    {
     "data": {
      "application/vnd.jupyter.widget-view+json": {
       "model_id": "",
       "version_major": 2,
       "version_minor": 0
      },
      "text/plain": [
       "Validation: |          | 0/? [00:00<?, ?it/s]"
      ]
     },
     "metadata": {},
     "output_type": "display_data"
    },
    {
     "data": {
      "application/vnd.jupyter.widget-view+json": {
       "model_id": "",
       "version_major": 2,
       "version_minor": 0
      },
      "text/plain": [
       "Validation: |          | 0/? [00:00<?, ?it/s]"
      ]
     },
     "metadata": {},
     "output_type": "display_data"
    },
    {
     "data": {
      "application/vnd.jupyter.widget-view+json": {
       "model_id": "",
       "version_major": 2,
       "version_minor": 0
      },
      "text/plain": [
       "Validation: |          | 0/? [00:00<?, ?it/s]"
      ]
     },
     "metadata": {},
     "output_type": "display_data"
    },
    {
     "data": {
      "application/vnd.jupyter.widget-view+json": {
       "model_id": "",
       "version_major": 2,
       "version_minor": 0
      },
      "text/plain": [
       "Validation: |          | 0/? [00:00<?, ?it/s]"
      ]
     },
     "metadata": {},
     "output_type": "display_data"
    },
    {
     "data": {
      "application/vnd.jupyter.widget-view+json": {
       "model_id": "",
       "version_major": 2,
       "version_minor": 0
      },
      "text/plain": [
       "Validation: |          | 0/? [00:00<?, ?it/s]"
      ]
     },
     "metadata": {},
     "output_type": "display_data"
    },
    {
     "data": {
      "application/vnd.jupyter.widget-view+json": {
       "model_id": "c4399191c89f4a9080896b6465a4f3df",
       "version_major": 2,
       "version_minor": 0
      },
      "text/plain": [
       "Testing: |          | 0/? [00:00<?, ?it/s]"
      ]
     },
     "metadata": {},
     "output_type": "display_data"
    },
    {
     "data": {
      "text/html": [
       "<pre style=\"white-space:pre;overflow-x:auto;line-height:normal;font-family:Menlo,'DejaVu Sans Mono',consolas,'Courier New',monospace\">┏━━━━━━━━━━━━━━━━━━━━━━━━━━━┳━━━━━━━━━━━━━━━━━━━━━━━━━━━┓\n",
       "┃<span style=\"font-weight: bold\">        Test metric        </span>┃<span style=\"font-weight: bold\">       DataLoader 0        </span>┃\n",
       "┡━━━━━━━━━━━━━━━━━━━━━━━━━━━╇━━━━━━━━━━━━━━━━━━━━━━━━━━━┩\n",
       "│<span style=\"color: #008080; text-decoration-color: #008080\">         test_acc          </span>│<span style=\"color: #800080; text-decoration-color: #800080\">    0.7645454406738281     </span>│\n",
       "│<span style=\"color: #008080; text-decoration-color: #008080\">          test_f1          </span>│<span style=\"color: #800080; text-decoration-color: #800080\">    0.7649452090263367     </span>│\n",
       "│<span style=\"color: #008080; text-decoration-color: #008080\">         test_loss         </span>│<span style=\"color: #800080; text-decoration-color: #800080\">    0.6223329901695251     </span>│\n",
       "└───────────────────────────┴───────────────────────────┘\n",
       "</pre>\n"
      ],
      "text/plain": [
       "┏━━━━━━━━━━━━━━━━━━━━━━━━━━━┳━━━━━━━━━━━━━━━━━━━━━━━━━━━┓\n",
       "┃\u001b[1m \u001b[0m\u001b[1m       Test metric       \u001b[0m\u001b[1m \u001b[0m┃\u001b[1m \u001b[0m\u001b[1m      DataLoader 0       \u001b[0m\u001b[1m \u001b[0m┃\n",
       "┡━━━━━━━━━━━━━━━━━━━━━━━━━━━╇━━━━━━━━━━━━━━━━━━━━━━━━━━━┩\n",
       "│\u001b[36m \u001b[0m\u001b[36m        test_acc         \u001b[0m\u001b[36m \u001b[0m│\u001b[35m \u001b[0m\u001b[35m   0.7645454406738281    \u001b[0m\u001b[35m \u001b[0m│\n",
       "│\u001b[36m \u001b[0m\u001b[36m         test_f1         \u001b[0m\u001b[36m \u001b[0m│\u001b[35m \u001b[0m\u001b[35m   0.7649452090263367    \u001b[0m\u001b[35m \u001b[0m│\n",
       "│\u001b[36m \u001b[0m\u001b[36m        test_loss        \u001b[0m\u001b[36m \u001b[0m│\u001b[35m \u001b[0m\u001b[35m   0.6223329901695251    \u001b[0m\u001b[35m \u001b[0m│\n",
       "└───────────────────────────┴───────────────────────────┘\n"
      ]
     },
     "metadata": {},
     "output_type": "display_data"
    },
    {
     "data": {
      "text/html": [],
      "text/plain": [
       "<IPython.core.display.HTML object>"
      ]
     },
     "metadata": {},
     "output_type": "display_data"
    },
    {
     "data": {
      "text/html": [
       "<br>    <style><br>        .wandb-row {<br>            display: flex;<br>            flex-direction: row;<br>            flex-wrap: wrap;<br>            justify-content: flex-start;<br>            width: 100%;<br>        }<br>        .wandb-col {<br>            display: flex;<br>            flex-direction: column;<br>            flex-basis: 100%;<br>            flex: 1;<br>            padding: 10px;<br>        }<br>    </style><br><div class=\"wandb-row\"><div class=\"wandb-col\"><h3>Run history:</h3><br/><table class=\"wandb\"><tr><td>epoch</td><td>▁▁▁▂▂▂▂▃▃▃▄▄▄▄▅▅▅▆▆▆▆▇▇▇█</td></tr><tr><td>test_acc</td><td>▁</td></tr><tr><td>test_f1</td><td>▁</td></tr><tr><td>test_loss</td><td>▁</td></tr><tr><td>train_acc</td><td>▁▆▇▇███</td></tr><tr><td>train_loss_epoch</td><td>█▃▂▂▂▁▁</td></tr><tr><td>train_loss_step</td><td>█▂▅▇▆▁▄▅▁▃</td></tr><tr><td>train_macro_f1</td><td>▁▆▇████</td></tr><tr><td>train_macro_precision</td><td>▁▆▇████</td></tr><tr><td>train_macro_recall</td><td>▁▆▇▇███</td></tr><tr><td>trainer/global_step</td><td>▁▁▁▁▁▂▃▁▁▁▁▁▁▁▁▁▁▁▂▄▂▂▂▂▂▂▂▂▆▆▂▂▂▂▂▇▇▂▂█</td></tr><tr><td>val_acc</td><td>▁▂▆█▆▇▇</td></tr><tr><td>val_loss_epoch</td><td>█▄▃▂▂▁▁</td></tr><tr><td>val_loss_step</td><td>▄▃▅▆▄▆███▃▂▄▄▃▃▇▁▅▄▂▄▂▄▅▄▂▂▄▄▅▅▃▁▃▄▂▂▁▄▅</td></tr><tr><td>val_macro_f1</td><td>▁▃▆█▇▇█</td></tr><tr><td>val_macro_precision</td><td>▁▂▅█▇▇█</td></tr><tr><td>val_macro_recall</td><td>▁▂▆█▆▇▇</td></tr></table><br/></div><div class=\"wandb-col\"><h3>Run summary:</h3><br/><table class=\"wandb\"><tr><td>epoch</td><td>7</td></tr><tr><td>test_acc</td><td>0.76455</td></tr><tr><td>test_f1</td><td>0.76495</td></tr><tr><td>test_loss</td><td>0.62233</td></tr><tr><td>train_acc</td><td>0.68284</td></tr><tr><td>train_loss_epoch</td><td>0.7677</td></tr><tr><td>train_loss_step</td><td>0.78795</td></tr><tr><td>train_macro_f1</td><td>0.67731</td></tr><tr><td>train_macro_precision</td><td>0.67534</td></tr><tr><td>train_macro_recall</td><td>0.68071</td></tr><tr><td>trainer/global_step</td><td>546</td></tr><tr><td>val_acc</td><td>0.81889</td></tr><tr><td>val_loss_epoch</td><td>0.51143</td></tr><tr><td>val_loss_step</td><td>0.44146</td></tr><tr><td>val_macro_f1</td><td>0.81497</td></tr><tr><td>val_macro_precision</td><td>0.81999</td></tr><tr><td>val_macro_recall</td><td>0.81363</td></tr></table><br/></div></div>"
      ],
      "text/plain": [
       "<IPython.core.display.HTML object>"
      ]
     },
     "metadata": {},
     "output_type": "display_data"
    },
    {
     "data": {
      "text/html": [
       " View run <strong style=\"color:#cdcd00\">EfficienNet-B0_256_0.000378</strong> at: <a href='https://wandb.ai/s26048-polish-japanese-academy-of-information-technology-/effnet_sweep/runs/lmc53p75' target=\"_blank\">https://wandb.ai/s26048-polish-japanese-academy-of-information-technology-/effnet_sweep/runs/lmc53p75</a><br> View project at: <a href='https://wandb.ai/s26048-polish-japanese-academy-of-information-technology-/effnet_sweep' target=\"_blank\">https://wandb.ai/s26048-polish-japanese-academy-of-information-technology-/effnet_sweep</a><br>Synced 5 W&B file(s), 0 media file(s), 2 artifact file(s) and 0 other file(s)"
      ],
      "text/plain": [
       "<IPython.core.display.HTML object>"
      ]
     },
     "metadata": {},
     "output_type": "display_data"
    },
    {
     "data": {
      "text/html": [
       "Find logs at: <code>./wandb/run-20250112_165245-lmc53p75/logs</code>"
      ],
      "text/plain": [
       "<IPython.core.display.HTML object>"
      ]
     },
     "metadata": {},
     "output_type": "display_data"
    },
    {
     "name": "stderr",
     "output_type": "stream",
     "text": [
      "\u001b[34m\u001b[1mwandb\u001b[0m: Agent Starting Run: upzi47j0 with config:\n",
      "\u001b[34m\u001b[1mwandb\u001b[0m: \tbatch_size: 128\n",
      "\u001b[34m\u001b[1mwandb\u001b[0m: \tdropout_rate: 0.4\n",
      "\u001b[34m\u001b[1mwandb\u001b[0m: \tlayer1_size: 1024\n",
      "\u001b[34m\u001b[1mwandb\u001b[0m: \tlearning_rate: 0.005038761807552691\n",
      "\u001b[34m\u001b[1mwandb\u001b[0m: \tn_epochs: 10\n"
     ]
    },
    {
     "data": {
      "text/html": [
       "Tracking run with wandb version 0.19.1"
      ],
      "text/plain": [
       "<IPython.core.display.HTML object>"
      ]
     },
     "metadata": {},
     "output_type": "display_data"
    },
    {
     "data": {
      "text/html": [
       "Run data is saved locally in <code>/kaggle/working/wandb/run-20250112_165920-upzi47j0</code>"
      ],
      "text/plain": [
       "<IPython.core.display.HTML object>"
      ]
     },
     "metadata": {},
     "output_type": "display_data"
    },
    {
     "data": {
      "text/html": [
       "Syncing run <strong><a href='https://wandb.ai/s26048-polish-japanese-academy-of-information-technology-/effnet_sweep/runs/upzi47j0' target=\"_blank\">eager-sweep-19</a></strong> to <a href='https://wandb.ai/s26048-polish-japanese-academy-of-information-technology-/effnet_sweep' target=\"_blank\">Weights & Biases</a> (<a href='https://wandb.me/developer-guide' target=\"_blank\">docs</a>)<br>Sweep page: <a href='https://wandb.ai/s26048-polish-japanese-academy-of-information-technology-/effnet_sweep/sweeps/dmftq1qt' target=\"_blank\">https://wandb.ai/s26048-polish-japanese-academy-of-information-technology-/effnet_sweep/sweeps/dmftq1qt</a>"
      ],
      "text/plain": [
       "<IPython.core.display.HTML object>"
      ]
     },
     "metadata": {},
     "output_type": "display_data"
    },
    {
     "data": {
      "text/html": [
       " View project at <a href='https://wandb.ai/s26048-polish-japanese-academy-of-information-technology-/effnet_sweep' target=\"_blank\">https://wandb.ai/s26048-polish-japanese-academy-of-information-technology-/effnet_sweep</a>"
      ],
      "text/plain": [
       "<IPython.core.display.HTML object>"
      ]
     },
     "metadata": {},
     "output_type": "display_data"
    },
    {
     "data": {
      "text/html": [
       " View sweep at <a href='https://wandb.ai/s26048-polish-japanese-academy-of-information-technology-/effnet_sweep/sweeps/dmftq1qt' target=\"_blank\">https://wandb.ai/s26048-polish-japanese-academy-of-information-technology-/effnet_sweep/sweeps/dmftq1qt</a>"
      ],
      "text/plain": [
       "<IPython.core.display.HTML object>"
      ]
     },
     "metadata": {},
     "output_type": "display_data"
    },
    {
     "data": {
      "text/html": [
       " View run at <a href='https://wandb.ai/s26048-polish-japanese-academy-of-information-technology-/effnet_sweep/runs/upzi47j0' target=\"_blank\">https://wandb.ai/s26048-polish-japanese-academy-of-information-technology-/effnet_sweep/runs/upzi47j0</a>"
      ],
      "text/plain": [
       "<IPython.core.display.HTML object>"
      ]
     },
     "metadata": {},
     "output_type": "display_data"
    },
    {
     "data": {
      "application/vnd.jupyter.widget-view+json": {
       "model_id": "",
       "version_major": 2,
       "version_minor": 0
      },
      "text/plain": [
       "Sanity Checking: |          | 0/? [00:00<?, ?it/s]"
      ]
     },
     "metadata": {},
     "output_type": "display_data"
    },
    {
     "data": {
      "application/vnd.jupyter.widget-view+json": {
       "model_id": "b99882ae423d4f409d3053bda5817638",
       "version_major": 2,
       "version_minor": 0
      },
      "text/plain": [
       "Training: |          | 0/? [00:00<?, ?it/s]"
      ]
     },
     "metadata": {},
     "output_type": "display_data"
    },
    {
     "data": {
      "application/vnd.jupyter.widget-view+json": {
       "model_id": "",
       "version_major": 2,
       "version_minor": 0
      },
      "text/plain": [
       "Validation: |          | 0/? [00:00<?, ?it/s]"
      ]
     },
     "metadata": {},
     "output_type": "display_data"
    },
    {
     "data": {
      "application/vnd.jupyter.widget-view+json": {
       "model_id": "",
       "version_major": 2,
       "version_minor": 0
      },
      "text/plain": [
       "Validation: |          | 0/? [00:00<?, ?it/s]"
      ]
     },
     "metadata": {},
     "output_type": "display_data"
    },
    {
     "data": {
      "application/vnd.jupyter.widget-view+json": {
       "model_id": "",
       "version_major": 2,
       "version_minor": 0
      },
      "text/plain": [
       "Validation: |          | 0/? [00:00<?, ?it/s]"
      ]
     },
     "metadata": {},
     "output_type": "display_data"
    },
    {
     "data": {
      "application/vnd.jupyter.widget-view+json": {
       "model_id": "",
       "version_major": 2,
       "version_minor": 0
      },
      "text/plain": [
       "Validation: |          | 0/? [00:00<?, ?it/s]"
      ]
     },
     "metadata": {},
     "output_type": "display_data"
    },
    {
     "data": {
      "application/vnd.jupyter.widget-view+json": {
       "model_id": "",
       "version_major": 2,
       "version_minor": 0
      },
      "text/plain": [
       "Validation: |          | 0/? [00:00<?, ?it/s]"
      ]
     },
     "metadata": {},
     "output_type": "display_data"
    },
    {
     "data": {
      "application/vnd.jupyter.widget-view+json": {
       "model_id": "",
       "version_major": 2,
       "version_minor": 0
      },
      "text/plain": [
       "Validation: |          | 0/? [00:00<?, ?it/s]"
      ]
     },
     "metadata": {},
     "output_type": "display_data"
    },
    {
     "data": {
      "application/vnd.jupyter.widget-view+json": {
       "model_id": "",
       "version_major": 2,
       "version_minor": 0
      },
      "text/plain": [
       "Validation: |          | 0/? [00:00<?, ?it/s]"
      ]
     },
     "metadata": {},
     "output_type": "display_data"
    },
    {
     "data": {
      "application/vnd.jupyter.widget-view+json": {
       "model_id": "0017e8cdd8a54823a4a130fb6ee7951e",
       "version_major": 2,
       "version_minor": 0
      },
      "text/plain": [
       "Testing: |          | 0/? [00:00<?, ?it/s]"
      ]
     },
     "metadata": {},
     "output_type": "display_data"
    },
    {
     "data": {
      "text/html": [
       "<pre style=\"white-space:pre;overflow-x:auto;line-height:normal;font-family:Menlo,'DejaVu Sans Mono',consolas,'Courier New',monospace\">┏━━━━━━━━━━━━━━━━━━━━━━━━━━━┳━━━━━━━━━━━━━━━━━━━━━━━━━━━┓\n",
       "┃<span style=\"font-weight: bold\">        Test metric        </span>┃<span style=\"font-weight: bold\">       DataLoader 0        </span>┃\n",
       "┡━━━━━━━━━━━━━━━━━━━━━━━━━━━╇━━━━━━━━━━━━━━━━━━━━━━━━━━━┩\n",
       "│<span style=\"color: #008080; text-decoration-color: #008080\">         test_acc          </span>│<span style=\"color: #800080; text-decoration-color: #800080\">    0.7681818008422852     </span>│\n",
       "│<span style=\"color: #008080; text-decoration-color: #008080\">          test_f1          </span>│<span style=\"color: #800080; text-decoration-color: #800080\">    0.7671151757240295     </span>│\n",
       "│<span style=\"color: #008080; text-decoration-color: #008080\">         test_loss         </span>│<span style=\"color: #800080; text-decoration-color: #800080\">    0.5644567012786865     </span>│\n",
       "└───────────────────────────┴───────────────────────────┘\n",
       "</pre>\n"
      ],
      "text/plain": [
       "┏━━━━━━━━━━━━━━━━━━━━━━━━━━━┳━━━━━━━━━━━━━━━━━━━━━━━━━━━┓\n",
       "┃\u001b[1m \u001b[0m\u001b[1m       Test metric       \u001b[0m\u001b[1m \u001b[0m┃\u001b[1m \u001b[0m\u001b[1m      DataLoader 0       \u001b[0m\u001b[1m \u001b[0m┃\n",
       "┡━━━━━━━━━━━━━━━━━━━━━━━━━━━╇━━━━━━━━━━━━━━━━━━━━━━━━━━━┩\n",
       "│\u001b[36m \u001b[0m\u001b[36m        test_acc         \u001b[0m\u001b[36m \u001b[0m│\u001b[35m \u001b[0m\u001b[35m   0.7681818008422852    \u001b[0m\u001b[35m \u001b[0m│\n",
       "│\u001b[36m \u001b[0m\u001b[36m         test_f1         \u001b[0m\u001b[36m \u001b[0m│\u001b[35m \u001b[0m\u001b[35m   0.7671151757240295    \u001b[0m\u001b[35m \u001b[0m│\n",
       "│\u001b[36m \u001b[0m\u001b[36m        test_loss        \u001b[0m\u001b[36m \u001b[0m│\u001b[35m \u001b[0m\u001b[35m   0.5644567012786865    \u001b[0m\u001b[35m \u001b[0m│\n",
       "└───────────────────────────┴───────────────────────────┘\n"
      ]
     },
     "metadata": {},
     "output_type": "display_data"
    },
    {
     "data": {
      "text/html": [],
      "text/plain": [
       "<IPython.core.display.HTML object>"
      ]
     },
     "metadata": {},
     "output_type": "display_data"
    },
    {
     "data": {
      "text/html": [
       "<br>    <style><br>        .wandb-row {<br>            display: flex;<br>            flex-direction: row;<br>            flex-wrap: wrap;<br>            justify-content: flex-start;<br>            width: 100%;<br>        }<br>        .wandb-col {<br>            display: flex;<br>            flex-direction: column;<br>            flex-basis: 100%;<br>            flex: 1;<br>            padding: 10px;<br>        }<br>    </style><br><div class=\"wandb-row\"><div class=\"wandb-col\"><h3>Run history:</h3><br/><table class=\"wandb\"><tr><td>epoch</td><td>▁▁▂▂▂▃▃▃▄▄▄▅▅▆▆▆▇▇▇█</td></tr><tr><td>test_acc</td><td>▁</td></tr><tr><td>test_f1</td><td>▁</td></tr><tr><td>test_loss</td><td>▁</td></tr><tr><td>train_acc</td><td>▁▇▇██▇█</td></tr><tr><td>train_loss_epoch</td><td>█▂▂▁▂▂▁</td></tr><tr><td>train_loss_step</td><td>█▂▅▂▁</td></tr><tr><td>train_macro_f1</td><td>▁▇▇██▇█</td></tr><tr><td>train_macro_precision</td><td>▁▇▇██▇█</td></tr><tr><td>train_macro_recall</td><td>▁▇▇██▇█</td></tr><tr><td>trainer/global_step</td><td>▁▁▁▁▂▂▁▁▁▁▃▄▁▁▂▂▂▄▂▂▂▂▂▂▂▆▆▆▂▂▂▂▂▂▇▂▂▂▃█</td></tr><tr><td>val_acc</td><td>▅▆▃█▆▁▇</td></tr><tr><td>val_loss_epoch</td><td>█▃▆▁▂█▁</td></tr><tr><td>val_loss_step</td><td>▃▄▂▄▄▄▂▂▄▅▂▂▄▃▄▁▄▂▄▄▁▂▃▄▂▄▅▁▁▂▂▂█▄▂▄▂▂▄▁</td></tr><tr><td>val_macro_f1</td><td>▆▆▅█▆▁▇</td></tr><tr><td>val_macro_precision</td><td>▂▂▁█▃▂▅</td></tr><tr><td>val_macro_recall</td><td>▆▆▄█▆▁▇</td></tr></table><br/></div><div class=\"wandb-col\"><h3>Run summary:</h3><br/><table class=\"wandb\"><tr><td>epoch</td><td>7</td></tr><tr><td>test_acc</td><td>0.76818</td></tr><tr><td>test_f1</td><td>0.76712</td></tr><tr><td>test_loss</td><td>0.56446</td></tr><tr><td>train_acc</td><td>0.7354</td></tr><tr><td>train_loss_epoch</td><td>0.62438</td></tr><tr><td>train_loss_step</td><td>0.53871</td></tr><tr><td>train_macro_f1</td><td>0.73265</td></tr><tr><td>train_macro_precision</td><td>0.73181</td></tr><tr><td>train_macro_recall</td><td>0.73388</td></tr><tr><td>trainer/global_step</td><td>273</td></tr><tr><td>val_acc</td><td>0.82473</td></tr><tr><td>val_loss_epoch</td><td>0.44245</td></tr><tr><td>val_loss_step</td><td>0.13469</td></tr><tr><td>val_macro_f1</td><td>0.82046</td></tr><tr><td>val_macro_precision</td><td>0.82193</td></tr><tr><td>val_macro_recall</td><td>0.82199</td></tr></table><br/></div></div>"
      ],
      "text/plain": [
       "<IPython.core.display.HTML object>"
      ]
     },
     "metadata": {},
     "output_type": "display_data"
    },
    {
     "data": {
      "text/html": [
       " View run <strong style=\"color:#cdcd00\">EfficienNet-B0_1024_0.005038</strong> at: <a href='https://wandb.ai/s26048-polish-japanese-academy-of-information-technology-/effnet_sweep/runs/upzi47j0' target=\"_blank\">https://wandb.ai/s26048-polish-japanese-academy-of-information-technology-/effnet_sweep/runs/upzi47j0</a><br> View project at: <a href='https://wandb.ai/s26048-polish-japanese-academy-of-information-technology-/effnet_sweep' target=\"_blank\">https://wandb.ai/s26048-polish-japanese-academy-of-information-technology-/effnet_sweep</a><br>Synced 5 W&B file(s), 0 media file(s), 2 artifact file(s) and 0 other file(s)"
      ],
      "text/plain": [
       "<IPython.core.display.HTML object>"
      ]
     },
     "metadata": {},
     "output_type": "display_data"
    },
    {
     "data": {
      "text/html": [
       "Find logs at: <code>./wandb/run-20250112_165920-upzi47j0/logs</code>"
      ],
      "text/plain": [
       "<IPython.core.display.HTML object>"
      ]
     },
     "metadata": {},
     "output_type": "display_data"
    },
    {
     "name": "stderr",
     "output_type": "stream",
     "text": [
      "\u001b[34m\u001b[1mwandb\u001b[0m: Agent Starting Run: 7za837ki with config:\n",
      "\u001b[34m\u001b[1mwandb\u001b[0m: \tbatch_size: 128\n",
      "\u001b[34m\u001b[1mwandb\u001b[0m: \tdropout_rate: 0.2\n",
      "\u001b[34m\u001b[1mwandb\u001b[0m: \tlayer1_size: 256\n",
      "\u001b[34m\u001b[1mwandb\u001b[0m: \tlearning_rate: 0.003596034693134302\n",
      "\u001b[34m\u001b[1mwandb\u001b[0m: \tn_epochs: 30\n"
     ]
    },
    {
     "data": {
      "text/html": [
       "Tracking run with wandb version 0.19.1"
      ],
      "text/plain": [
       "<IPython.core.display.HTML object>"
      ]
     },
     "metadata": {},
     "output_type": "display_data"
    },
    {
     "data": {
      "text/html": [
       "Run data is saved locally in <code>/kaggle/working/wandb/run-20250112_170606-7za837ki</code>"
      ],
      "text/plain": [
       "<IPython.core.display.HTML object>"
      ]
     },
     "metadata": {},
     "output_type": "display_data"
    },
    {
     "data": {
      "text/html": [
       "Syncing run <strong><a href='https://wandb.ai/s26048-polish-japanese-academy-of-information-technology-/effnet_sweep/runs/7za837ki' target=\"_blank\">comic-sweep-20</a></strong> to <a href='https://wandb.ai/s26048-polish-japanese-academy-of-information-technology-/effnet_sweep' target=\"_blank\">Weights & Biases</a> (<a href='https://wandb.me/developer-guide' target=\"_blank\">docs</a>)<br>Sweep page: <a href='https://wandb.ai/s26048-polish-japanese-academy-of-information-technology-/effnet_sweep/sweeps/dmftq1qt' target=\"_blank\">https://wandb.ai/s26048-polish-japanese-academy-of-information-technology-/effnet_sweep/sweeps/dmftq1qt</a>"
      ],
      "text/plain": [
       "<IPython.core.display.HTML object>"
      ]
     },
     "metadata": {},
     "output_type": "display_data"
    },
    {
     "data": {
      "text/html": [
       " View project at <a href='https://wandb.ai/s26048-polish-japanese-academy-of-information-technology-/effnet_sweep' target=\"_blank\">https://wandb.ai/s26048-polish-japanese-academy-of-information-technology-/effnet_sweep</a>"
      ],
      "text/plain": [
       "<IPython.core.display.HTML object>"
      ]
     },
     "metadata": {},
     "output_type": "display_data"
    },
    {
     "data": {
      "text/html": [
       " View sweep at <a href='https://wandb.ai/s26048-polish-japanese-academy-of-information-technology-/effnet_sweep/sweeps/dmftq1qt' target=\"_blank\">https://wandb.ai/s26048-polish-japanese-academy-of-information-technology-/effnet_sweep/sweeps/dmftq1qt</a>"
      ],
      "text/plain": [
       "<IPython.core.display.HTML object>"
      ]
     },
     "metadata": {},
     "output_type": "display_data"
    },
    {
     "data": {
      "text/html": [
       " View run at <a href='https://wandb.ai/s26048-polish-japanese-academy-of-information-technology-/effnet_sweep/runs/7za837ki' target=\"_blank\">https://wandb.ai/s26048-polish-japanese-academy-of-information-technology-/effnet_sweep/runs/7za837ki</a>"
      ],
      "text/plain": [
       "<IPython.core.display.HTML object>"
      ]
     },
     "metadata": {},
     "output_type": "display_data"
    },
    {
     "data": {
      "application/vnd.jupyter.widget-view+json": {
       "model_id": "",
       "version_major": 2,
       "version_minor": 0
      },
      "text/plain": [
       "Sanity Checking: |          | 0/? [00:00<?, ?it/s]"
      ]
     },
     "metadata": {},
     "output_type": "display_data"
    },
    {
     "data": {
      "application/vnd.jupyter.widget-view+json": {
       "model_id": "a5fb81b618f64e5589e3039291b0e9fa",
       "version_major": 2,
       "version_minor": 0
      },
      "text/plain": [
       "Training: |          | 0/? [00:00<?, ?it/s]"
      ]
     },
     "metadata": {},
     "output_type": "display_data"
    },
    {
     "data": {
      "application/vnd.jupyter.widget-view+json": {
       "model_id": "",
       "version_major": 2,
       "version_minor": 0
      },
      "text/plain": [
       "Validation: |          | 0/? [00:00<?, ?it/s]"
      ]
     },
     "metadata": {},
     "output_type": "display_data"
    },
    {
     "data": {
      "application/vnd.jupyter.widget-view+json": {
       "model_id": "",
       "version_major": 2,
       "version_minor": 0
      },
      "text/plain": [
       "Validation: |          | 0/? [00:00<?, ?it/s]"
      ]
     },
     "metadata": {},
     "output_type": "display_data"
    },
    {
     "data": {
      "application/vnd.jupyter.widget-view+json": {
       "model_id": "",
       "version_major": 2,
       "version_minor": 0
      },
      "text/plain": [
       "Validation: |          | 0/? [00:00<?, ?it/s]"
      ]
     },
     "metadata": {},
     "output_type": "display_data"
    },
    {
     "data": {
      "application/vnd.jupyter.widget-view+json": {
       "model_id": "",
       "version_major": 2,
       "version_minor": 0
      },
      "text/plain": [
       "Validation: |          | 0/? [00:00<?, ?it/s]"
      ]
     },
     "metadata": {},
     "output_type": "display_data"
    },
    {
     "data": {
      "application/vnd.jupyter.widget-view+json": {
       "model_id": "",
       "version_major": 2,
       "version_minor": 0
      },
      "text/plain": [
       "Validation: |          | 0/? [00:00<?, ?it/s]"
      ]
     },
     "metadata": {},
     "output_type": "display_data"
    },
    {
     "data": {
      "application/vnd.jupyter.widget-view+json": {
       "model_id": "",
       "version_major": 2,
       "version_minor": 0
      },
      "text/plain": [
       "Validation: |          | 0/? [00:00<?, ?it/s]"
      ]
     },
     "metadata": {},
     "output_type": "display_data"
    },
    {
     "data": {
      "application/vnd.jupyter.widget-view+json": {
       "model_id": "",
       "version_major": 2,
       "version_minor": 0
      },
      "text/plain": [
       "Validation: |          | 0/? [00:00<?, ?it/s]"
      ]
     },
     "metadata": {},
     "output_type": "display_data"
    },
    {
     "data": {
      "application/vnd.jupyter.widget-view+json": {
       "model_id": "",
       "version_major": 2,
       "version_minor": 0
      },
      "text/plain": [
       "Validation: |          | 0/? [00:00<?, ?it/s]"
      ]
     },
     "metadata": {},
     "output_type": "display_data"
    },
    {
     "data": {
      "application/vnd.jupyter.widget-view+json": {
       "model_id": "",
       "version_major": 2,
       "version_minor": 0
      },
      "text/plain": [
       "Validation: |          | 0/? [00:00<?, ?it/s]"
      ]
     },
     "metadata": {},
     "output_type": "display_data"
    },
    {
     "data": {
      "application/vnd.jupyter.widget-view+json": {
       "model_id": "",
       "version_major": 2,
       "version_minor": 0
      },
      "text/plain": [
       "Validation: |          | 0/? [00:00<?, ?it/s]"
      ]
     },
     "metadata": {},
     "output_type": "display_data"
    },
    {
     "data": {
      "application/vnd.jupyter.widget-view+json": {
       "model_id": "",
       "version_major": 2,
       "version_minor": 0
      },
      "text/plain": [
       "Validation: |          | 0/? [00:00<?, ?it/s]"
      ]
     },
     "metadata": {},
     "output_type": "display_data"
    },
    {
     "data": {
      "application/vnd.jupyter.widget-view+json": {
       "model_id": "e72894de7abc456f8b7e782dbf3f71ac",
       "version_major": 2,
       "version_minor": 0
      },
      "text/plain": [
       "Testing: |          | 0/? [00:00<?, ?it/s]"
      ]
     },
     "metadata": {},
     "output_type": "display_data"
    },
    {
     "data": {
      "text/html": [
       "<pre style=\"white-space:pre;overflow-x:auto;line-height:normal;font-family:Menlo,'DejaVu Sans Mono',consolas,'Courier New',monospace\">┏━━━━━━━━━━━━━━━━━━━━━━━━━━━┳━━━━━━━━━━━━━━━━━━━━━━━━━━━┓\n",
       "┃<span style=\"font-weight: bold\">        Test metric        </span>┃<span style=\"font-weight: bold\">       DataLoader 0        </span>┃\n",
       "┡━━━━━━━━━━━━━━━━━━━━━━━━━━━╇━━━━━━━━━━━━━━━━━━━━━━━━━━━┩\n",
       "│<span style=\"color: #008080; text-decoration-color: #008080\">         test_acc          </span>│<span style=\"color: #800080; text-decoration-color: #800080\">           0.75            </span>│\n",
       "│<span style=\"color: #008080; text-decoration-color: #008080\">          test_f1          </span>│<span style=\"color: #800080; text-decoration-color: #800080\">     0.748633086681366     </span>│\n",
       "│<span style=\"color: #008080; text-decoration-color: #008080\">         test_loss         </span>│<span style=\"color: #800080; text-decoration-color: #800080\">    0.6364052295684814     </span>│\n",
       "└───────────────────────────┴───────────────────────────┘\n",
       "</pre>\n"
      ],
      "text/plain": [
       "┏━━━━━━━━━━━━━━━━━━━━━━━━━━━┳━━━━━━━━━━━━━━━━━━━━━━━━━━━┓\n",
       "┃\u001b[1m \u001b[0m\u001b[1m       Test metric       \u001b[0m\u001b[1m \u001b[0m┃\u001b[1m \u001b[0m\u001b[1m      DataLoader 0       \u001b[0m\u001b[1m \u001b[0m┃\n",
       "┡━━━━━━━━━━━━━━━━━━━━━━━━━━━╇━━━━━━━━━━━━━━━━━━━━━━━━━━━┩\n",
       "│\u001b[36m \u001b[0m\u001b[36m        test_acc         \u001b[0m\u001b[36m \u001b[0m│\u001b[35m \u001b[0m\u001b[35m          0.75           \u001b[0m\u001b[35m \u001b[0m│\n",
       "│\u001b[36m \u001b[0m\u001b[36m         test_f1         \u001b[0m\u001b[36m \u001b[0m│\u001b[35m \u001b[0m\u001b[35m    0.748633086681366    \u001b[0m\u001b[35m \u001b[0m│\n",
       "│\u001b[36m \u001b[0m\u001b[36m        test_loss        \u001b[0m\u001b[36m \u001b[0m│\u001b[35m \u001b[0m\u001b[35m   0.6364052295684814    \u001b[0m\u001b[35m \u001b[0m│\n",
       "└───────────────────────────┴───────────────────────────┘\n"
      ]
     },
     "metadata": {},
     "output_type": "display_data"
    },
    {
     "data": {
      "text/html": [],
      "text/plain": [
       "<IPython.core.display.HTML object>"
      ]
     },
     "metadata": {},
     "output_type": "display_data"
    },
    {
     "data": {
      "text/html": [
       "<br>    <style><br>        .wandb-row {<br>            display: flex;<br>            flex-direction: row;<br>            flex-wrap: wrap;<br>            justify-content: flex-start;<br>            width: 100%;<br>        }<br>        .wandb-col {<br>            display: flex;<br>            flex-direction: column;<br>            flex-basis: 100%;<br>            flex: 1;<br>            padding: 10px;<br>        }<br>    </style><br><div class=\"wandb-row\"><div class=\"wandb-col\"><h3>Run history:</h3><br/><table class=\"wandb\"><tr><td>epoch</td><td>▁▁▂▂▂▂▂▂▃▃▃▄▄▄▄▄▅▅▅▅▅▅▆▆▆▇▇▇▇▇█</td></tr><tr><td>test_acc</td><td>▁</td></tr><tr><td>test_f1</td><td>▁</td></tr><tr><td>test_loss</td><td>▁</td></tr><tr><td>train_acc</td><td>▁▅▅▆▆▇▇▇▇▇█</td></tr><tr><td>train_loss_epoch</td><td>█▄▄▃▃▃▂▂▂▂▁</td></tr><tr><td>train_loss_step</td><td>▇▃▆▁▅▂█▅</td></tr><tr><td>train_macro_f1</td><td>▁▅▅▆▆▇▇▇▇▇█</td></tr><tr><td>train_macro_precision</td><td>▁▅▅▆▆▇▇▇▇▇█</td></tr><tr><td>train_macro_recall</td><td>▁▅▅▆▆▇▇▇▇▇█</td></tr><tr><td>trainer/global_step</td><td>▁▁▁▁▁▂▁▁▂▁▁▄▂▂▂▂▂▂▂▄▂▂▂▂▂▂▂▂▂▂▂▂▂▂▂▂▂▃█▃</td></tr><tr><td>val_acc</td><td>▄▅▄▃▄▆▂█▆▇▁</td></tr><tr><td>val_loss_epoch</td><td>▇▅▇█▅▄▇▃▄▁▇</td></tr><tr><td>val_loss_step</td><td>▂▂▄▃▅▃▆▆▃▂▄▅▂▂▃▄▅▅▂▂▅▆▂▂▃▂█▂▄▂▅▆▃▄▄▂▅▁▃█</td></tr><tr><td>val_macro_f1</td><td>▅▅▅▂▅▇▂█▇▇▁</td></tr><tr><td>val_macro_precision</td><td>▁▁▁▃▁▃▃█▄▅▅</td></tr><tr><td>val_macro_recall</td><td>▅▅▅▂▅▇▂█▆█▁</td></tr></table><br/></div><div class=\"wandb-col\"><h3>Run summary:</h3><br/><table class=\"wandb\"><tr><td>epoch</td><td>11</td></tr><tr><td>test_acc</td><td>0.75</td></tr><tr><td>test_f1</td><td>0.74863</td></tr><tr><td>test_loss</td><td>0.63641</td></tr><tr><td>train_acc</td><td>0.81031</td></tr><tr><td>train_loss_epoch</td><td>0.47449</td></tr><tr><td>train_loss_step</td><td>0.55459</td></tr><tr><td>train_macro_f1</td><td>0.8081</td></tr><tr><td>train_macro_precision</td><td>0.80758</td></tr><tr><td>train_macro_recall</td><td>0.80887</td></tr><tr><td>trainer/global_step</td><td>429</td></tr><tr><td>val_acc</td><td>0.80818</td></tr><tr><td>val_loss_epoch</td><td>0.45356</td></tr><tr><td>val_loss_step</td><td>0.15468</td></tr><tr><td>val_macro_f1</td><td>0.79581</td></tr><tr><td>val_macro_precision</td><td>0.83972</td></tr><tr><td>val_macro_recall</td><td>0.79691</td></tr></table><br/></div></div>"
      ],
      "text/plain": [
       "<IPython.core.display.HTML object>"
      ]
     },
     "metadata": {},
     "output_type": "display_data"
    },
    {
     "data": {
      "text/html": [
       " View run <strong style=\"color:#cdcd00\">EfficienNet-B0_256_0.003596</strong> at: <a href='https://wandb.ai/s26048-polish-japanese-academy-of-information-technology-/effnet_sweep/runs/7za837ki' target=\"_blank\">https://wandb.ai/s26048-polish-japanese-academy-of-information-technology-/effnet_sweep/runs/7za837ki</a><br> View project at: <a href='https://wandb.ai/s26048-polish-japanese-academy-of-information-technology-/effnet_sweep' target=\"_blank\">https://wandb.ai/s26048-polish-japanese-academy-of-information-technology-/effnet_sweep</a><br>Synced 5 W&B file(s), 0 media file(s), 2 artifact file(s) and 0 other file(s)"
      ],
      "text/plain": [
       "<IPython.core.display.HTML object>"
      ]
     },
     "metadata": {},
     "output_type": "display_data"
    },
    {
     "data": {
      "text/html": [
       "Find logs at: <code>./wandb/run-20250112_170606-7za837ki/logs</code>"
      ],
      "text/plain": [
       "<IPython.core.display.HTML object>"
      ]
     },
     "metadata": {},
     "output_type": "display_data"
    },
    {
     "name": "stderr",
     "output_type": "stream",
     "text": [
      "\u001b[34m\u001b[1mwandb\u001b[0m: Sweep Agent: Waiting for job.\n",
      "\u001b[34m\u001b[1mwandb\u001b[0m: Job received.\n",
      "\u001b[34m\u001b[1mwandb\u001b[0m: Agent Starting Run: tl881gwb with config:\n",
      "\u001b[34m\u001b[1mwandb\u001b[0m: \tbatch_size: 32\n",
      "\u001b[34m\u001b[1mwandb\u001b[0m: \tdropout_rate: 0.5\n",
      "\u001b[34m\u001b[1mwandb\u001b[0m: \tlayer1_size: 1024\n",
      "\u001b[34m\u001b[1mwandb\u001b[0m: \tlearning_rate: 0.000865920056978811\n",
      "\u001b[34m\u001b[1mwandb\u001b[0m: \tn_epochs: 30\n"
     ]
    },
    {
     "data": {
      "text/html": [
       "Tracking run with wandb version 0.19.1"
      ],
      "text/plain": [
       "<IPython.core.display.HTML object>"
      ]
     },
     "metadata": {},
     "output_type": "display_data"
    },
    {
     "data": {
      "text/html": [
       "Run data is saved locally in <code>/kaggle/working/wandb/run-20250112_171629-tl881gwb</code>"
      ],
      "text/plain": [
       "<IPython.core.display.HTML object>"
      ]
     },
     "metadata": {},
     "output_type": "display_data"
    },
    {
     "data": {
      "text/html": [
       "Syncing run <strong><a href='https://wandb.ai/s26048-polish-japanese-academy-of-information-technology-/effnet_sweep/runs/tl881gwb' target=\"_blank\">whole-sweep-21</a></strong> to <a href='https://wandb.ai/s26048-polish-japanese-academy-of-information-technology-/effnet_sweep' target=\"_blank\">Weights & Biases</a> (<a href='https://wandb.me/developer-guide' target=\"_blank\">docs</a>)<br>Sweep page: <a href='https://wandb.ai/s26048-polish-japanese-academy-of-information-technology-/effnet_sweep/sweeps/dmftq1qt' target=\"_blank\">https://wandb.ai/s26048-polish-japanese-academy-of-information-technology-/effnet_sweep/sweeps/dmftq1qt</a>"
      ],
      "text/plain": [
       "<IPython.core.display.HTML object>"
      ]
     },
     "metadata": {},
     "output_type": "display_data"
    },
    {
     "data": {
      "text/html": [
       " View project at <a href='https://wandb.ai/s26048-polish-japanese-academy-of-information-technology-/effnet_sweep' target=\"_blank\">https://wandb.ai/s26048-polish-japanese-academy-of-information-technology-/effnet_sweep</a>"
      ],
      "text/plain": [
       "<IPython.core.display.HTML object>"
      ]
     },
     "metadata": {},
     "output_type": "display_data"
    },
    {
     "data": {
      "text/html": [
       " View sweep at <a href='https://wandb.ai/s26048-polish-japanese-academy-of-information-technology-/effnet_sweep/sweeps/dmftq1qt' target=\"_blank\">https://wandb.ai/s26048-polish-japanese-academy-of-information-technology-/effnet_sweep/sweeps/dmftq1qt</a>"
      ],
      "text/plain": [
       "<IPython.core.display.HTML object>"
      ]
     },
     "metadata": {},
     "output_type": "display_data"
    },
    {
     "data": {
      "text/html": [
       " View run at <a href='https://wandb.ai/s26048-polish-japanese-academy-of-information-technology-/effnet_sweep/runs/tl881gwb' target=\"_blank\">https://wandb.ai/s26048-polish-japanese-academy-of-information-technology-/effnet_sweep/runs/tl881gwb</a>"
      ],
      "text/plain": [
       "<IPython.core.display.HTML object>"
      ]
     },
     "metadata": {},
     "output_type": "display_data"
    },
    {
     "data": {
      "application/vnd.jupyter.widget-view+json": {
       "model_id": "",
       "version_major": 2,
       "version_minor": 0
      },
      "text/plain": [
       "Sanity Checking: |          | 0/? [00:00<?, ?it/s]"
      ]
     },
     "metadata": {},
     "output_type": "display_data"
    },
    {
     "data": {
      "application/vnd.jupyter.widget-view+json": {
       "model_id": "0aeda6add3634a7798b4dcaeecb31045",
       "version_major": 2,
       "version_minor": 0
      },
      "text/plain": [
       "Training: |          | 0/? [00:00<?, ?it/s]"
      ]
     },
     "metadata": {},
     "output_type": "display_data"
    },
    {
     "data": {
      "application/vnd.jupyter.widget-view+json": {
       "model_id": "",
       "version_major": 2,
       "version_minor": 0
      },
      "text/plain": [
       "Validation: |          | 0/? [00:00<?, ?it/s]"
      ]
     },
     "metadata": {},
     "output_type": "display_data"
    },
    {
     "data": {
      "application/vnd.jupyter.widget-view+json": {
       "model_id": "",
       "version_major": 2,
       "version_minor": 0
      },
      "text/plain": [
       "Validation: |          | 0/? [00:00<?, ?it/s]"
      ]
     },
     "metadata": {},
     "output_type": "display_data"
    },
    {
     "data": {
      "application/vnd.jupyter.widget-view+json": {
       "model_id": "",
       "version_major": 2,
       "version_minor": 0
      },
      "text/plain": [
       "Validation: |          | 0/? [00:00<?, ?it/s]"
      ]
     },
     "metadata": {},
     "output_type": "display_data"
    },
    {
     "data": {
      "application/vnd.jupyter.widget-view+json": {
       "model_id": "",
       "version_major": 2,
       "version_minor": 0
      },
      "text/plain": [
       "Validation: |          | 0/? [00:00<?, ?it/s]"
      ]
     },
     "metadata": {},
     "output_type": "display_data"
    },
    {
     "data": {
      "application/vnd.jupyter.widget-view+json": {
       "model_id": "",
       "version_major": 2,
       "version_minor": 0
      },
      "text/plain": [
       "Validation: |          | 0/? [00:00<?, ?it/s]"
      ]
     },
     "metadata": {},
     "output_type": "display_data"
    },
    {
     "data": {
      "application/vnd.jupyter.widget-view+json": {
       "model_id": "",
       "version_major": 2,
       "version_minor": 0
      },
      "text/plain": [
       "Validation: |          | 0/? [00:00<?, ?it/s]"
      ]
     },
     "metadata": {},
     "output_type": "display_data"
    },
    {
     "data": {
      "application/vnd.jupyter.widget-view+json": {
       "model_id": "60ec685e5e4747dfa45fcce5aad45ee1",
       "version_major": 2,
       "version_minor": 0
      },
      "text/plain": [
       "Testing: |          | 0/? [00:00<?, ?it/s]"
      ]
     },
     "metadata": {},
     "output_type": "display_data"
    },
    {
     "data": {
      "text/html": [
       "<pre style=\"white-space:pre;overflow-x:auto;line-height:normal;font-family:Menlo,'DejaVu Sans Mono',consolas,'Courier New',monospace\">┏━━━━━━━━━━━━━━━━━━━━━━━━━━━┳━━━━━━━━━━━━━━━━━━━━━━━━━━━┓\n",
       "┃<span style=\"font-weight: bold\">        Test metric        </span>┃<span style=\"font-weight: bold\">       DataLoader 0        </span>┃\n",
       "┡━━━━━━━━━━━━━━━━━━━━━━━━━━━╇━━━━━━━━━━━━━━━━━━━━━━━━━━━┩\n",
       "│<span style=\"color: #008080; text-decoration-color: #008080\">         test_acc          </span>│<span style=\"color: #800080; text-decoration-color: #800080\">    0.7527272701263428     </span>│\n",
       "│<span style=\"color: #008080; text-decoration-color: #008080\">          test_f1          </span>│<span style=\"color: #800080; text-decoration-color: #800080\">    0.7542524337768555     </span>│\n",
       "│<span style=\"color: #008080; text-decoration-color: #008080\">         test_loss         </span>│<span style=\"color: #800080; text-decoration-color: #800080\">    0.6016164422035217     </span>│\n",
       "└───────────────────────────┴───────────────────────────┘\n",
       "</pre>\n"
      ],
      "text/plain": [
       "┏━━━━━━━━━━━━━━━━━━━━━━━━━━━┳━━━━━━━━━━━━━━━━━━━━━━━━━━━┓\n",
       "┃\u001b[1m \u001b[0m\u001b[1m       Test metric       \u001b[0m\u001b[1m \u001b[0m┃\u001b[1m \u001b[0m\u001b[1m      DataLoader 0       \u001b[0m\u001b[1m \u001b[0m┃\n",
       "┡━━━━━━━━━━━━━━━━━━━━━━━━━━━╇━━━━━━━━━━━━━━━━━━━━━━━━━━━┩\n",
       "│\u001b[36m \u001b[0m\u001b[36m        test_acc         \u001b[0m\u001b[36m \u001b[0m│\u001b[35m \u001b[0m\u001b[35m   0.7527272701263428    \u001b[0m\u001b[35m \u001b[0m│\n",
       "│\u001b[36m \u001b[0m\u001b[36m         test_f1         \u001b[0m\u001b[36m \u001b[0m│\u001b[35m \u001b[0m\u001b[35m   0.7542524337768555    \u001b[0m\u001b[35m \u001b[0m│\n",
       "│\u001b[36m \u001b[0m\u001b[36m        test_loss        \u001b[0m\u001b[36m \u001b[0m│\u001b[35m \u001b[0m\u001b[35m   0.6016164422035217    \u001b[0m\u001b[35m \u001b[0m│\n",
       "└───────────────────────────┴───────────────────────────┘\n"
      ]
     },
     "metadata": {},
     "output_type": "display_data"
    },
    {
     "data": {
      "text/html": [],
      "text/plain": [
       "<IPython.core.display.HTML object>"
      ]
     },
     "metadata": {},
     "output_type": "display_data"
    },
    {
     "data": {
      "text/html": [
       "<br>    <style><br>        .wandb-row {<br>            display: flex;<br>            flex-direction: row;<br>            flex-wrap: wrap;<br>            justify-content: flex-start;<br>            width: 100%;<br>        }<br>        .wandb-col {<br>            display: flex;<br>            flex-direction: column;<br>            flex-basis: 100%;<br>            flex: 1;<br>            padding: 10px;<br>        }<br>    </style><br><div class=\"wandb-row\"><div class=\"wandb-col\"><h3>Run history:</h3><br/><table class=\"wandb\"><tr><td>epoch</td><td>▁▁▁▁▁▂▂▂▂▂▃▃▃▃▃▅▅▅▅▅▆▆▆▆▆▇▇▇▇▇█</td></tr><tr><td>test_acc</td><td>▁</td></tr><tr><td>test_f1</td><td>▁</td></tr><tr><td>test_loss</td><td>▁</td></tr><tr><td>train_acc</td><td>▁▅▆▇▆█</td></tr><tr><td>train_loss_epoch</td><td>█▄▃▃▂▁</td></tr><tr><td>train_loss_step</td><td>▄▃▂▃▂▂▁▃▄▂▃▂▃▃▁▂▃█</td></tr><tr><td>train_macro_f1</td><td>▁▅▆▇▆█</td></tr><tr><td>train_macro_precision</td><td>▁▅▆▇▆█</td></tr><tr><td>train_macro_recall</td><td>▁▅▆▇▆█</td></tr><tr><td>trainer/global_step</td><td>▁▁▁▁▂▁▁▁▁▁▂▂▂▂▂▅▂▂▂▂▂▂▂▆▆▂▂▂▂▂▂▂▇▂▂▂▂▂▂█</td></tr><tr><td>val_acc</td><td>▁▇█▇▆▆</td></tr><tr><td>val_loss_epoch</td><td>█▃▂▁▄▃</td></tr><tr><td>val_loss_step</td><td>▃▂▁▃▃▃▂▃█▇▁▂▄▆▁▄▅▂▂▅▁▃▁▃▃▁▂▃▅▅▂▃▃▂▅▃▃▃▃▂</td></tr><tr><td>val_macro_f1</td><td>▁▇██▆▇</td></tr><tr><td>val_macro_precision</td><td>▄▁▃▅▆█</td></tr><tr><td>val_macro_recall</td><td>▁▇█▇▅▆</td></tr></table><br/></div><div class=\"wandb-col\"><h3>Run summary:</h3><br/><table class=\"wandb\"><tr><td>epoch</td><td>6</td></tr><tr><td>test_acc</td><td>0.75273</td></tr><tr><td>test_f1</td><td>0.75425</td></tr><tr><td>test_loss</td><td>0.60162</td></tr><tr><td>train_acc</td><td>0.73621</td></tr><tr><td>train_loss_epoch</td><td>0.64128</td></tr><tr><td>train_loss_step</td><td>1.59848</td></tr><tr><td>train_macro_f1</td><td>0.73328</td></tr><tr><td>train_macro_precision</td><td>0.73236</td></tr><tr><td>train_macro_recall</td><td>0.73448</td></tr><tr><td>trainer/global_step</td><td>936</td></tr><tr><td>val_acc</td><td>0.81597</td></tr><tr><td>val_loss_epoch</td><td>0.46588</td></tr><tr><td>val_loss_step</td><td>0.32913</td></tr><tr><td>val_macro_f1</td><td>0.80808</td></tr><tr><td>val_macro_precision</td><td>0.84529</td></tr><tr><td>val_macro_recall</td><td>0.80639</td></tr></table><br/></div></div>"
      ],
      "text/plain": [
       "<IPython.core.display.HTML object>"
      ]
     },
     "metadata": {},
     "output_type": "display_data"
    },
    {
     "data": {
      "text/html": [
       " View run <strong style=\"color:#cdcd00\">EfficienNet-B0_1024_0.000865</strong> at: <a href='https://wandb.ai/s26048-polish-japanese-academy-of-information-technology-/effnet_sweep/runs/tl881gwb' target=\"_blank\">https://wandb.ai/s26048-polish-japanese-academy-of-information-technology-/effnet_sweep/runs/tl881gwb</a><br> View project at: <a href='https://wandb.ai/s26048-polish-japanese-academy-of-information-technology-/effnet_sweep' target=\"_blank\">https://wandb.ai/s26048-polish-japanese-academy-of-information-technology-/effnet_sweep</a><br>Synced 5 W&B file(s), 0 media file(s), 2 artifact file(s) and 0 other file(s)"
      ],
      "text/plain": [
       "<IPython.core.display.HTML object>"
      ]
     },
     "metadata": {},
     "output_type": "display_data"
    },
    {
     "data": {
      "text/html": [
       "Find logs at: <code>./wandb/run-20250112_171629-tl881gwb/logs</code>"
      ],
      "text/plain": [
       "<IPython.core.display.HTML object>"
      ]
     },
     "metadata": {},
     "output_type": "display_data"
    },
    {
     "name": "stderr",
     "output_type": "stream",
     "text": [
      "\u001b[34m\u001b[1mwandb\u001b[0m: Agent Starting Run: azywf4b4 with config:\n",
      "\u001b[34m\u001b[1mwandb\u001b[0m: \tbatch_size: 64\n",
      "\u001b[34m\u001b[1mwandb\u001b[0m: \tdropout_rate: 0.3\n",
      "\u001b[34m\u001b[1mwandb\u001b[0m: \tlayer1_size: 256\n",
      "\u001b[34m\u001b[1mwandb\u001b[0m: \tlearning_rate: 0.004546516244078008\n",
      "\u001b[34m\u001b[1mwandb\u001b[0m: \tn_epochs: 30\n"
     ]
    },
    {
     "data": {
      "text/html": [
       "Tracking run with wandb version 0.19.1"
      ],
      "text/plain": [
       "<IPython.core.display.HTML object>"
      ]
     },
     "metadata": {},
     "output_type": "display_data"
    },
    {
     "data": {
      "text/html": [
       "Run data is saved locally in <code>/kaggle/working/wandb/run-20250112_172213-azywf4b4</code>"
      ],
      "text/plain": [
       "<IPython.core.display.HTML object>"
      ]
     },
     "metadata": {},
     "output_type": "display_data"
    },
    {
     "data": {
      "text/html": [
       "Syncing run <strong><a href='https://wandb.ai/s26048-polish-japanese-academy-of-information-technology-/effnet_sweep/runs/azywf4b4' target=\"_blank\">stoic-sweep-22</a></strong> to <a href='https://wandb.ai/s26048-polish-japanese-academy-of-information-technology-/effnet_sweep' target=\"_blank\">Weights & Biases</a> (<a href='https://wandb.me/developer-guide' target=\"_blank\">docs</a>)<br>Sweep page: <a href='https://wandb.ai/s26048-polish-japanese-academy-of-information-technology-/effnet_sweep/sweeps/dmftq1qt' target=\"_blank\">https://wandb.ai/s26048-polish-japanese-academy-of-information-technology-/effnet_sweep/sweeps/dmftq1qt</a>"
      ],
      "text/plain": [
       "<IPython.core.display.HTML object>"
      ]
     },
     "metadata": {},
     "output_type": "display_data"
    },
    {
     "data": {
      "text/html": [
       " View project at <a href='https://wandb.ai/s26048-polish-japanese-academy-of-information-technology-/effnet_sweep' target=\"_blank\">https://wandb.ai/s26048-polish-japanese-academy-of-information-technology-/effnet_sweep</a>"
      ],
      "text/plain": [
       "<IPython.core.display.HTML object>"
      ]
     },
     "metadata": {},
     "output_type": "display_data"
    },
    {
     "data": {
      "text/html": [
       " View sweep at <a href='https://wandb.ai/s26048-polish-japanese-academy-of-information-technology-/effnet_sweep/sweeps/dmftq1qt' target=\"_blank\">https://wandb.ai/s26048-polish-japanese-academy-of-information-technology-/effnet_sweep/sweeps/dmftq1qt</a>"
      ],
      "text/plain": [
       "<IPython.core.display.HTML object>"
      ]
     },
     "metadata": {},
     "output_type": "display_data"
    },
    {
     "data": {
      "text/html": [
       " View run at <a href='https://wandb.ai/s26048-polish-japanese-academy-of-information-technology-/effnet_sweep/runs/azywf4b4' target=\"_blank\">https://wandb.ai/s26048-polish-japanese-academy-of-information-technology-/effnet_sweep/runs/azywf4b4</a>"
      ],
      "text/plain": [
       "<IPython.core.display.HTML object>"
      ]
     },
     "metadata": {},
     "output_type": "display_data"
    },
    {
     "data": {
      "application/vnd.jupyter.widget-view+json": {
       "model_id": "",
       "version_major": 2,
       "version_minor": 0
      },
      "text/plain": [
       "Sanity Checking: |          | 0/? [00:00<?, ?it/s]"
      ]
     },
     "metadata": {},
     "output_type": "display_data"
    },
    {
     "data": {
      "application/vnd.jupyter.widget-view+json": {
       "model_id": "bb3a3f1bc9da41f79eaf9455ed584d7d",
       "version_major": 2,
       "version_minor": 0
      },
      "text/plain": [
       "Training: |          | 0/? [00:00<?, ?it/s]"
      ]
     },
     "metadata": {},
     "output_type": "display_data"
    },
    {
     "data": {
      "application/vnd.jupyter.widget-view+json": {
       "model_id": "",
       "version_major": 2,
       "version_minor": 0
      },
      "text/plain": [
       "Validation: |          | 0/? [00:00<?, ?it/s]"
      ]
     },
     "metadata": {},
     "output_type": "display_data"
    },
    {
     "data": {
      "application/vnd.jupyter.widget-view+json": {
       "model_id": "",
       "version_major": 2,
       "version_minor": 0
      },
      "text/plain": [
       "Validation: |          | 0/? [00:00<?, ?it/s]"
      ]
     },
     "metadata": {},
     "output_type": "display_data"
    },
    {
     "data": {
      "application/vnd.jupyter.widget-view+json": {
       "model_id": "",
       "version_major": 2,
       "version_minor": 0
      },
      "text/plain": [
       "Validation: |          | 0/? [00:00<?, ?it/s]"
      ]
     },
     "metadata": {},
     "output_type": "display_data"
    },
    {
     "data": {
      "application/vnd.jupyter.widget-view+json": {
       "model_id": "",
       "version_major": 2,
       "version_minor": 0
      },
      "text/plain": [
       "Validation: |          | 0/? [00:00<?, ?it/s]"
      ]
     },
     "metadata": {},
     "output_type": "display_data"
    },
    {
     "data": {
      "application/vnd.jupyter.widget-view+json": {
       "model_id": "",
       "version_major": 2,
       "version_minor": 0
      },
      "text/plain": [
       "Validation: |          | 0/? [00:00<?, ?it/s]"
      ]
     },
     "metadata": {},
     "output_type": "display_data"
    },
    {
     "data": {
      "application/vnd.jupyter.widget-view+json": {
       "model_id": "",
       "version_major": 2,
       "version_minor": 0
      },
      "text/plain": [
       "Validation: |          | 0/? [00:00<?, ?it/s]"
      ]
     },
     "metadata": {},
     "output_type": "display_data"
    },
    {
     "data": {
      "application/vnd.jupyter.widget-view+json": {
       "model_id": "",
       "version_major": 2,
       "version_minor": 0
      },
      "text/plain": [
       "Validation: |          | 0/? [00:00<?, ?it/s]"
      ]
     },
     "metadata": {},
     "output_type": "display_data"
    },
    {
     "data": {
      "application/vnd.jupyter.widget-view+json": {
       "model_id": "",
       "version_major": 2,
       "version_minor": 0
      },
      "text/plain": [
       "Validation: |          | 0/? [00:00<?, ?it/s]"
      ]
     },
     "metadata": {},
     "output_type": "display_data"
    },
    {
     "data": {
      "application/vnd.jupyter.widget-view+json": {
       "model_id": "",
       "version_major": 2,
       "version_minor": 0
      },
      "text/plain": [
       "Validation: |          | 0/? [00:00<?, ?it/s]"
      ]
     },
     "metadata": {},
     "output_type": "display_data"
    },
    {
     "data": {
      "application/vnd.jupyter.widget-view+json": {
       "model_id": "f933ae72beb5416080d5ad2f770a1ca9",
       "version_major": 2,
       "version_minor": 0
      },
      "text/plain": [
       "Testing: |          | 0/? [00:00<?, ?it/s]"
      ]
     },
     "metadata": {},
     "output_type": "display_data"
    },
    {
     "data": {
      "text/html": [
       "<pre style=\"white-space:pre;overflow-x:auto;line-height:normal;font-family:Menlo,'DejaVu Sans Mono',consolas,'Courier New',monospace\">┏━━━━━━━━━━━━━━━━━━━━━━━━━━━┳━━━━━━━━━━━━━━━━━━━━━━━━━━━┓\n",
       "┃<span style=\"font-weight: bold\">        Test metric        </span>┃<span style=\"font-weight: bold\">       DataLoader 0        </span>┃\n",
       "┡━━━━━━━━━━━━━━━━━━━━━━━━━━━╇━━━━━━━━━━━━━━━━━━━━━━━━━━━┩\n",
       "│<span style=\"color: #008080; text-decoration-color: #008080\">         test_acc          </span>│<span style=\"color: #800080; text-decoration-color: #800080\">    0.7672727108001709     </span>│\n",
       "│<span style=\"color: #008080; text-decoration-color: #008080\">          test_f1          </span>│<span style=\"color: #800080; text-decoration-color: #800080\">     0.765866756439209     </span>│\n",
       "│<span style=\"color: #008080; text-decoration-color: #008080\">         test_loss         </span>│<span style=\"color: #800080; text-decoration-color: #800080\">    0.5823248028755188     </span>│\n",
       "└───────────────────────────┴───────────────────────────┘\n",
       "</pre>\n"
      ],
      "text/plain": [
       "┏━━━━━━━━━━━━━━━━━━━━━━━━━━━┳━━━━━━━━━━━━━━━━━━━━━━━━━━━┓\n",
       "┃\u001b[1m \u001b[0m\u001b[1m       Test metric       \u001b[0m\u001b[1m \u001b[0m┃\u001b[1m \u001b[0m\u001b[1m      DataLoader 0       \u001b[0m\u001b[1m \u001b[0m┃\n",
       "┡━━━━━━━━━━━━━━━━━━━━━━━━━━━╇━━━━━━━━━━━━━━━━━━━━━━━━━━━┩\n",
       "│\u001b[36m \u001b[0m\u001b[36m        test_acc         \u001b[0m\u001b[36m \u001b[0m│\u001b[35m \u001b[0m\u001b[35m   0.7672727108001709    \u001b[0m\u001b[35m \u001b[0m│\n",
       "│\u001b[36m \u001b[0m\u001b[36m         test_f1         \u001b[0m\u001b[36m \u001b[0m│\u001b[35m \u001b[0m\u001b[35m    0.765866756439209    \u001b[0m\u001b[35m \u001b[0m│\n",
       "│\u001b[36m \u001b[0m\u001b[36m        test_loss        \u001b[0m\u001b[36m \u001b[0m│\u001b[35m \u001b[0m\u001b[35m   0.5823248028755188    \u001b[0m\u001b[35m \u001b[0m│\n",
       "└───────────────────────────┴───────────────────────────┘\n"
      ]
     },
     "metadata": {},
     "output_type": "display_data"
    },
    {
     "data": {
      "text/html": [],
      "text/plain": [
       "<IPython.core.display.HTML object>"
      ]
     },
     "metadata": {},
     "output_type": "display_data"
    },
    {
     "data": {
      "text/html": [
       "<br>    <style><br>        .wandb-row {<br>            display: flex;<br>            flex-direction: row;<br>            flex-wrap: wrap;<br>            justify-content: flex-start;<br>            width: 100%;<br>        }<br>        .wandb-col {<br>            display: flex;<br>            flex-direction: column;<br>            flex-basis: 100%;<br>            flex: 1;<br>            padding: 10px;<br>        }<br>    </style><br><div class=\"wandb-row\"><div class=\"wandb-col\"><h3>Run history:</h3><br/><table class=\"wandb\"><tr><td>epoch</td><td>▁▁▁▂▂▂▂▃▃▃▃▃▃▃▄▄▄▅▅▅▅▆▆▆▆▆▆▆▇▇▇▇█</td></tr><tr><td>test_acc</td><td>▁</td></tr><tr><td>test_f1</td><td>▁</td></tr><tr><td>test_loss</td><td>▁</td></tr><tr><td>train_acc</td><td>▁▆▅▆▇█▇██</td></tr><tr><td>train_loss_epoch</td><td>█▄▃▃▂▂▁▁▁</td></tr><tr><td>train_loss_step</td><td>█▄▄▄▄▅▂▁▅▃▃▃▃▅</td></tr><tr><td>train_macro_f1</td><td>▁▆▅▆▇█▇██</td></tr><tr><td>train_macro_precision</td><td>▁▆▅▆▇█▇██</td></tr><tr><td>train_macro_recall</td><td>▁▆▅▆▇█▇██</td></tr><tr><td>trainer/global_step</td><td>▁▁▁▁▁▂▃▁▁▁▁▁▃▁▂▂▂▂▂▂▂▂▆▂▂▇▇▂▂▂▂██▃▃▃▃▃▃▃</td></tr><tr><td>val_acc</td><td>▆▆▁▇▆█▅▂▆</td></tr><tr><td>val_loss_epoch</td><td>▆▄█▄▄▁▃▅▂</td></tr><tr><td>val_loss_step</td><td>▂▅▆▄▄▆▄▄▅▄▅▅▄▂▂█▃▄▄▂▂▂▂▄▂▂▁▁▄▃▆▂▃▃▃▁▅▃▂▅</td></tr><tr><td>val_macro_f1</td><td>▆▆▁▇▆█▅▂▇</td></tr><tr><td>val_macro_precision</td><td>▃▅▁█▆█▂▁▅</td></tr><tr><td>val_macro_recall</td><td>▆▆▁▇▆█▅▂▆</td></tr></table><br/></div><div class=\"wandb-col\"><h3>Run summary:</h3><br/><table class=\"wandb\"><tr><td>epoch</td><td>9</td></tr><tr><td>test_acc</td><td>0.76727</td></tr><tr><td>test_f1</td><td>0.76587</td></tr><tr><td>test_loss</td><td>0.58232</td></tr><tr><td>train_acc</td><td>0.76178</td></tr><tr><td>train_loss_epoch</td><td>0.58914</td></tr><tr><td>train_loss_step</td><td>0.75404</td></tr><tr><td>train_macro_f1</td><td>0.75899</td></tr><tr><td>train_macro_precision</td><td>0.75845</td></tr><tr><td>train_macro_recall</td><td>0.76023</td></tr><tr><td>trainer/global_step</td><td>702</td></tr><tr><td>val_acc</td><td>0.8296</td></tr><tr><td>val_loss_epoch</td><td>0.42557</td></tr><tr><td>val_loss_step</td><td>0.17173</td></tr><tr><td>val_macro_f1</td><td>0.82389</td></tr><tr><td>val_macro_precision</td><td>0.82535</td></tr><tr><td>val_macro_recall</td><td>0.82414</td></tr></table><br/></div></div>"
      ],
      "text/plain": [
       "<IPython.core.display.HTML object>"
      ]
     },
     "metadata": {},
     "output_type": "display_data"
    },
    {
     "data": {
      "text/html": [
       " View run <strong style=\"color:#cdcd00\">EfficienNet-B0_256_0.004546</strong> at: <a href='https://wandb.ai/s26048-polish-japanese-academy-of-information-technology-/effnet_sweep/runs/azywf4b4' target=\"_blank\">https://wandb.ai/s26048-polish-japanese-academy-of-information-technology-/effnet_sweep/runs/azywf4b4</a><br> View project at: <a href='https://wandb.ai/s26048-polish-japanese-academy-of-information-technology-/effnet_sweep' target=\"_blank\">https://wandb.ai/s26048-polish-japanese-academy-of-information-technology-/effnet_sweep</a><br>Synced 5 W&B file(s), 0 media file(s), 2 artifact file(s) and 0 other file(s)"
      ],
      "text/plain": [
       "<IPython.core.display.HTML object>"
      ]
     },
     "metadata": {},
     "output_type": "display_data"
    },
    {
     "data": {
      "text/html": [
       "Find logs at: <code>./wandb/run-20250112_172213-azywf4b4/logs</code>"
      ],
      "text/plain": [
       "<IPython.core.display.HTML object>"
      ]
     },
     "metadata": {},
     "output_type": "display_data"
    },
    {
     "name": "stderr",
     "output_type": "stream",
     "text": [
      "\u001b[34m\u001b[1mwandb\u001b[0m: Agent Starting Run: svxxlqet with config:\n",
      "\u001b[34m\u001b[1mwandb\u001b[0m: \tbatch_size: 64\n",
      "\u001b[34m\u001b[1mwandb\u001b[0m: \tdropout_rate: 0.4\n",
      "\u001b[34m\u001b[1mwandb\u001b[0m: \tlayer1_size: 512\n",
      "\u001b[34m\u001b[1mwandb\u001b[0m: \tlearning_rate: 0.00869080765684473\n",
      "\u001b[34m\u001b[1mwandb\u001b[0m: \tn_epochs: 30\n"
     ]
    },
    {
     "data": {
      "text/html": [
       "Tracking run with wandb version 0.19.1"
      ],
      "text/plain": [
       "<IPython.core.display.HTML object>"
      ]
     },
     "metadata": {},
     "output_type": "display_data"
    },
    {
     "data": {
      "text/html": [
       "Run data is saved locally in <code>/kaggle/working/wandb/run-20250112_173040-svxxlqet</code>"
      ],
      "text/plain": [
       "<IPython.core.display.HTML object>"
      ]
     },
     "metadata": {},
     "output_type": "display_data"
    },
    {
     "data": {
      "text/html": [
       "Syncing run <strong><a href='https://wandb.ai/s26048-polish-japanese-academy-of-information-technology-/effnet_sweep/runs/svxxlqet' target=\"_blank\">ancient-sweep-23</a></strong> to <a href='https://wandb.ai/s26048-polish-japanese-academy-of-information-technology-/effnet_sweep' target=\"_blank\">Weights & Biases</a> (<a href='https://wandb.me/developer-guide' target=\"_blank\">docs</a>)<br>Sweep page: <a href='https://wandb.ai/s26048-polish-japanese-academy-of-information-technology-/effnet_sweep/sweeps/dmftq1qt' target=\"_blank\">https://wandb.ai/s26048-polish-japanese-academy-of-information-technology-/effnet_sweep/sweeps/dmftq1qt</a>"
      ],
      "text/plain": [
       "<IPython.core.display.HTML object>"
      ]
     },
     "metadata": {},
     "output_type": "display_data"
    },
    {
     "data": {
      "text/html": [
       " View project at <a href='https://wandb.ai/s26048-polish-japanese-academy-of-information-technology-/effnet_sweep' target=\"_blank\">https://wandb.ai/s26048-polish-japanese-academy-of-information-technology-/effnet_sweep</a>"
      ],
      "text/plain": [
       "<IPython.core.display.HTML object>"
      ]
     },
     "metadata": {},
     "output_type": "display_data"
    },
    {
     "data": {
      "text/html": [
       " View sweep at <a href='https://wandb.ai/s26048-polish-japanese-academy-of-information-technology-/effnet_sweep/sweeps/dmftq1qt' target=\"_blank\">https://wandb.ai/s26048-polish-japanese-academy-of-information-technology-/effnet_sweep/sweeps/dmftq1qt</a>"
      ],
      "text/plain": [
       "<IPython.core.display.HTML object>"
      ]
     },
     "metadata": {},
     "output_type": "display_data"
    },
    {
     "data": {
      "text/html": [
       " View run at <a href='https://wandb.ai/s26048-polish-japanese-academy-of-information-technology-/effnet_sweep/runs/svxxlqet' target=\"_blank\">https://wandb.ai/s26048-polish-japanese-academy-of-information-technology-/effnet_sweep/runs/svxxlqet</a>"
      ],
      "text/plain": [
       "<IPython.core.display.HTML object>"
      ]
     },
     "metadata": {},
     "output_type": "display_data"
    },
    {
     "data": {
      "application/vnd.jupyter.widget-view+json": {
       "model_id": "",
       "version_major": 2,
       "version_minor": 0
      },
      "text/plain": [
       "Sanity Checking: |          | 0/? [00:00<?, ?it/s]"
      ]
     },
     "metadata": {},
     "output_type": "display_data"
    },
    {
     "data": {
      "application/vnd.jupyter.widget-view+json": {
       "model_id": "6dd06fb469d34d06a0a1a001ab81ee01",
       "version_major": 2,
       "version_minor": 0
      },
      "text/plain": [
       "Training: |          | 0/? [00:00<?, ?it/s]"
      ]
     },
     "metadata": {},
     "output_type": "display_data"
    },
    {
     "data": {
      "application/vnd.jupyter.widget-view+json": {
       "model_id": "",
       "version_major": 2,
       "version_minor": 0
      },
      "text/plain": [
       "Validation: |          | 0/? [00:00<?, ?it/s]"
      ]
     },
     "metadata": {},
     "output_type": "display_data"
    },
    {
     "data": {
      "application/vnd.jupyter.widget-view+json": {
       "model_id": "",
       "version_major": 2,
       "version_minor": 0
      },
      "text/plain": [
       "Validation: |          | 0/? [00:00<?, ?it/s]"
      ]
     },
     "metadata": {},
     "output_type": "display_data"
    },
    {
     "data": {
      "application/vnd.jupyter.widget-view+json": {
       "model_id": "",
       "version_major": 2,
       "version_minor": 0
      },
      "text/plain": [
       "Validation: |          | 0/? [00:00<?, ?it/s]"
      ]
     },
     "metadata": {},
     "output_type": "display_data"
    },
    {
     "data": {
      "application/vnd.jupyter.widget-view+json": {
       "model_id": "",
       "version_major": 2,
       "version_minor": 0
      },
      "text/plain": [
       "Validation: |          | 0/? [00:00<?, ?it/s]"
      ]
     },
     "metadata": {},
     "output_type": "display_data"
    },
    {
     "data": {
      "application/vnd.jupyter.widget-view+json": {
       "model_id": "",
       "version_major": 2,
       "version_minor": 0
      },
      "text/plain": [
       "Validation: |          | 0/? [00:00<?, ?it/s]"
      ]
     },
     "metadata": {},
     "output_type": "display_data"
    },
    {
     "data": {
      "application/vnd.jupyter.widget-view+json": {
       "model_id": "ac13fbae37234009922e13ac51f6d095",
       "version_major": 2,
       "version_minor": 0
      },
      "text/plain": [
       "Testing: |          | 0/? [00:00<?, ?it/s]"
      ]
     },
     "metadata": {},
     "output_type": "display_data"
    },
    {
     "data": {
      "text/html": [
       "<pre style=\"white-space:pre;overflow-x:auto;line-height:normal;font-family:Menlo,'DejaVu Sans Mono',consolas,'Courier New',monospace\">┏━━━━━━━━━━━━━━━━━━━━━━━━━━━┳━━━━━━━━━━━━━━━━━━━━━━━━━━━┓\n",
       "┃<span style=\"font-weight: bold\">        Test metric        </span>┃<span style=\"font-weight: bold\">       DataLoader 0        </span>┃\n",
       "┡━━━━━━━━━━━━━━━━━━━━━━━━━━━╇━━━━━━━━━━━━━━━━━━━━━━━━━━━┩\n",
       "│<span style=\"color: #008080; text-decoration-color: #008080\">         test_acc          </span>│<span style=\"color: #800080; text-decoration-color: #800080\">    0.7572727203369141     </span>│\n",
       "│<span style=\"color: #008080; text-decoration-color: #008080\">          test_f1          </span>│<span style=\"color: #800080; text-decoration-color: #800080\">    0.7543710470199585     </span>│\n",
       "│<span style=\"color: #008080; text-decoration-color: #008080\">         test_loss         </span>│<span style=\"color: #800080; text-decoration-color: #800080\">    0.6171677708625793     </span>│\n",
       "└───────────────────────────┴───────────────────────────┘\n",
       "</pre>\n"
      ],
      "text/plain": [
       "┏━━━━━━━━━━━━━━━━━━━━━━━━━━━┳━━━━━━━━━━━━━━━━━━━━━━━━━━━┓\n",
       "┃\u001b[1m \u001b[0m\u001b[1m       Test metric       \u001b[0m\u001b[1m \u001b[0m┃\u001b[1m \u001b[0m\u001b[1m      DataLoader 0       \u001b[0m\u001b[1m \u001b[0m┃\n",
       "┡━━━━━━━━━━━━━━━━━━━━━━━━━━━╇━━━━━━━━━━━━━━━━━━━━━━━━━━━┩\n",
       "│\u001b[36m \u001b[0m\u001b[36m        test_acc         \u001b[0m\u001b[36m \u001b[0m│\u001b[35m \u001b[0m\u001b[35m   0.7572727203369141    \u001b[0m\u001b[35m \u001b[0m│\n",
       "│\u001b[36m \u001b[0m\u001b[36m         test_f1         \u001b[0m\u001b[36m \u001b[0m│\u001b[35m \u001b[0m\u001b[35m   0.7543710470199585    \u001b[0m\u001b[35m \u001b[0m│\n",
       "│\u001b[36m \u001b[0m\u001b[36m        test_loss        \u001b[0m\u001b[36m \u001b[0m│\u001b[35m \u001b[0m\u001b[35m   0.6171677708625793    \u001b[0m\u001b[35m \u001b[0m│\n",
       "└───────────────────────────┴───────────────────────────┘\n"
      ]
     },
     "metadata": {},
     "output_type": "display_data"
    },
    {
     "data": {
      "text/html": [],
      "text/plain": [
       "<IPython.core.display.HTML object>"
      ]
     },
     "metadata": {},
     "output_type": "display_data"
    },
    {
     "data": {
      "text/html": [
       "<br>    <style><br>        .wandb-row {<br>            display: flex;<br>            flex-direction: row;<br>            flex-wrap: wrap;<br>            justify-content: flex-start;<br>            width: 100%;<br>        }<br>        .wandb-col {<br>            display: flex;<br>            flex-direction: column;<br>            flex-basis: 100%;<br>            flex: 1;<br>            padding: 10px;<br>        }<br>    </style><br><div class=\"wandb-row\"><div class=\"wandb-col\"><h3>Run history:</h3><br/><table class=\"wandb\"><tr><td>epoch</td><td>▁▁▁▂▂▂▂▄▄▄▅▅▅▅▇▇▇█</td></tr><tr><td>test_acc</td><td>▁</td></tr><tr><td>test_f1</td><td>▁</td></tr><tr><td>test_loss</td><td>▁</td></tr><tr><td>train_acc</td><td>▁▆▇█▇</td></tr><tr><td>train_loss_epoch</td><td>█▂▂▁▂</td></tr><tr><td>train_loss_step</td><td>▆▃█▂▁▆▆</td></tr><tr><td>train_macro_f1</td><td>▁▆▇█▇</td></tr><tr><td>train_macro_precision</td><td>▁▆▇█▇</td></tr><tr><td>train_macro_recall</td><td>▁▆▇█▇</td></tr><tr><td>trainer/global_step</td><td>▁▁▁▁▁▁▁▂▂▁▁▁▂▄▅▂▂▂▂▂▂▂▂▂▂▂▂▂▂▂▇▇▂▂▂▂▂▂▂█</td></tr><tr><td>val_acc</td><td>▁█▆▃█</td></tr><tr><td>val_loss_epoch</td><td>█▂▁▄▁</td></tr><tr><td>val_loss_step</td><td>▄▃▆▅▃▄▅▄▂▁▂▅▆▆▆▂▃▅▅▂▂▅▂▂▅▇▂▃▆█▂▃▃▄▁▁▆▆▂▃</td></tr><tr><td>val_macro_f1</td><td>▁█▃▁▇</td></tr><tr><td>val_macro_precision</td><td>▁▃▂█▁</td></tr><tr><td>val_macro_recall</td><td>▁█▃▃▇</td></tr></table><br/></div><div class=\"wandb-col\"><h3>Run summary:</h3><br/><table class=\"wandb\"><tr><td>epoch</td><td>5</td></tr><tr><td>test_acc</td><td>0.75727</td></tr><tr><td>test_f1</td><td>0.75437</td></tr><tr><td>test_loss</td><td>0.61717</td></tr><tr><td>train_acc</td><td>0.70016</td></tr><tr><td>train_loss_epoch</td><td>0.72606</td></tr><tr><td>train_loss_step</td><td>0.77916</td></tr><tr><td>train_macro_f1</td><td>0.69677</td></tr><tr><td>train_macro_precision</td><td>0.69563</td></tr><tr><td>train_macro_recall</td><td>0.69835</td></tr><tr><td>trainer/global_step</td><td>390</td></tr><tr><td>val_acc</td><td>0.82473</td></tr><tr><td>val_loss_epoch</td><td>0.46876</td></tr><tr><td>val_loss_step</td><td>0.41081</td></tr><tr><td>val_macro_f1</td><td>0.81994</td></tr><tr><td>val_macro_precision</td><td>0.82019</td></tr><tr><td>val_macro_recall</td><td>0.82113</td></tr></table><br/></div></div>"
      ],
      "text/plain": [
       "<IPython.core.display.HTML object>"
      ]
     },
     "metadata": {},
     "output_type": "display_data"
    },
    {
     "data": {
      "text/html": [
       " View run <strong style=\"color:#cdcd00\">EfficienNet-B0_512_0.008690</strong> at: <a href='https://wandb.ai/s26048-polish-japanese-academy-of-information-technology-/effnet_sweep/runs/svxxlqet' target=\"_blank\">https://wandb.ai/s26048-polish-japanese-academy-of-information-technology-/effnet_sweep/runs/svxxlqet</a><br> View project at: <a href='https://wandb.ai/s26048-polish-japanese-academy-of-information-technology-/effnet_sweep' target=\"_blank\">https://wandb.ai/s26048-polish-japanese-academy-of-information-technology-/effnet_sweep</a><br>Synced 5 W&B file(s), 0 media file(s), 2 artifact file(s) and 0 other file(s)"
      ],
      "text/plain": [
       "<IPython.core.display.HTML object>"
      ]
     },
     "metadata": {},
     "output_type": "display_data"
    },
    {
     "data": {
      "text/html": [
       "Find logs at: <code>./wandb/run-20250112_173040-svxxlqet/logs</code>"
      ],
      "text/plain": [
       "<IPython.core.display.HTML object>"
      ]
     },
     "metadata": {},
     "output_type": "display_data"
    },
    {
     "name": "stderr",
     "output_type": "stream",
     "text": [
      "\u001b[34m\u001b[1mwandb\u001b[0m: Agent Starting Run: e5nfp60j with config:\n",
      "\u001b[34m\u001b[1mwandb\u001b[0m: \tbatch_size: 32\n",
      "\u001b[34m\u001b[1mwandb\u001b[0m: \tdropout_rate: 0.3\n",
      "\u001b[34m\u001b[1mwandb\u001b[0m: \tlayer1_size: 1024\n",
      "\u001b[34m\u001b[1mwandb\u001b[0m: \tlearning_rate: 0.007080070085672673\n",
      "\u001b[34m\u001b[1mwandb\u001b[0m: \tn_epochs: 20\n"
     ]
    },
    {
     "data": {
      "text/html": [
       "Tracking run with wandb version 0.19.1"
      ],
      "text/plain": [
       "<IPython.core.display.HTML object>"
      ]
     },
     "metadata": {},
     "output_type": "display_data"
    },
    {
     "data": {
      "text/html": [
       "Run data is saved locally in <code>/kaggle/working/wandb/run-20250112_173534-e5nfp60j</code>"
      ],
      "text/plain": [
       "<IPython.core.display.HTML object>"
      ]
     },
     "metadata": {},
     "output_type": "display_data"
    },
    {
     "data": {
      "text/html": [
       "Syncing run <strong><a href='https://wandb.ai/s26048-polish-japanese-academy-of-information-technology-/effnet_sweep/runs/e5nfp60j' target=\"_blank\">earthy-sweep-24</a></strong> to <a href='https://wandb.ai/s26048-polish-japanese-academy-of-information-technology-/effnet_sweep' target=\"_blank\">Weights & Biases</a> (<a href='https://wandb.me/developer-guide' target=\"_blank\">docs</a>)<br>Sweep page: <a href='https://wandb.ai/s26048-polish-japanese-academy-of-information-technology-/effnet_sweep/sweeps/dmftq1qt' target=\"_blank\">https://wandb.ai/s26048-polish-japanese-academy-of-information-technology-/effnet_sweep/sweeps/dmftq1qt</a>"
      ],
      "text/plain": [
       "<IPython.core.display.HTML object>"
      ]
     },
     "metadata": {},
     "output_type": "display_data"
    },
    {
     "data": {
      "text/html": [
       " View project at <a href='https://wandb.ai/s26048-polish-japanese-academy-of-information-technology-/effnet_sweep' target=\"_blank\">https://wandb.ai/s26048-polish-japanese-academy-of-information-technology-/effnet_sweep</a>"
      ],
      "text/plain": [
       "<IPython.core.display.HTML object>"
      ]
     },
     "metadata": {},
     "output_type": "display_data"
    },
    {
     "data": {
      "text/html": [
       " View sweep at <a href='https://wandb.ai/s26048-polish-japanese-academy-of-information-technology-/effnet_sweep/sweeps/dmftq1qt' target=\"_blank\">https://wandb.ai/s26048-polish-japanese-academy-of-information-technology-/effnet_sweep/sweeps/dmftq1qt</a>"
      ],
      "text/plain": [
       "<IPython.core.display.HTML object>"
      ]
     },
     "metadata": {},
     "output_type": "display_data"
    },
    {
     "data": {
      "text/html": [
       " View run at <a href='https://wandb.ai/s26048-polish-japanese-academy-of-information-technology-/effnet_sweep/runs/e5nfp60j' target=\"_blank\">https://wandb.ai/s26048-polish-japanese-academy-of-information-technology-/effnet_sweep/runs/e5nfp60j</a>"
      ],
      "text/plain": [
       "<IPython.core.display.HTML object>"
      ]
     },
     "metadata": {},
     "output_type": "display_data"
    },
    {
     "data": {
      "application/vnd.jupyter.widget-view+json": {
       "model_id": "",
       "version_major": 2,
       "version_minor": 0
      },
      "text/plain": [
       "Sanity Checking: |          | 0/? [00:00<?, ?it/s]"
      ]
     },
     "metadata": {},
     "output_type": "display_data"
    },
    {
     "data": {
      "application/vnd.jupyter.widget-view+json": {
       "model_id": "a2649fcf51234cda8e4b31c200509db2",
       "version_major": 2,
       "version_minor": 0
      },
      "text/plain": [
       "Training: |          | 0/? [00:00<?, ?it/s]"
      ]
     },
     "metadata": {},
     "output_type": "display_data"
    },
    {
     "data": {
      "application/vnd.jupyter.widget-view+json": {
       "model_id": "",
       "version_major": 2,
       "version_minor": 0
      },
      "text/plain": [
       "Validation: |          | 0/? [00:00<?, ?it/s]"
      ]
     },
     "metadata": {},
     "output_type": "display_data"
    },
    {
     "data": {
      "application/vnd.jupyter.widget-view+json": {
       "model_id": "",
       "version_major": 2,
       "version_minor": 0
      },
      "text/plain": [
       "Validation: |          | 0/? [00:00<?, ?it/s]"
      ]
     },
     "metadata": {},
     "output_type": "display_data"
    },
    {
     "data": {
      "application/vnd.jupyter.widget-view+json": {
       "model_id": "",
       "version_major": 2,
       "version_minor": 0
      },
      "text/plain": [
       "Validation: |          | 0/? [00:00<?, ?it/s]"
      ]
     },
     "metadata": {},
     "output_type": "display_data"
    },
    {
     "data": {
      "application/vnd.jupyter.widget-view+json": {
       "model_id": "",
       "version_major": 2,
       "version_minor": 0
      },
      "text/plain": [
       "Validation: |          | 0/? [00:00<?, ?it/s]"
      ]
     },
     "metadata": {},
     "output_type": "display_data"
    },
    {
     "data": {
      "application/vnd.jupyter.widget-view+json": {
       "model_id": "",
       "version_major": 2,
       "version_minor": 0
      },
      "text/plain": [
       "Validation: |          | 0/? [00:00<?, ?it/s]"
      ]
     },
     "metadata": {},
     "output_type": "display_data"
    },
    {
     "data": {
      "application/vnd.jupyter.widget-view+json": {
       "model_id": "",
       "version_major": 2,
       "version_minor": 0
      },
      "text/plain": [
       "Validation: |          | 0/? [00:00<?, ?it/s]"
      ]
     },
     "metadata": {},
     "output_type": "display_data"
    },
    {
     "data": {
      "application/vnd.jupyter.widget-view+json": {
       "model_id": "",
       "version_major": 2,
       "version_minor": 0
      },
      "text/plain": [
       "Validation: |          | 0/? [00:00<?, ?it/s]"
      ]
     },
     "metadata": {},
     "output_type": "display_data"
    },
    {
     "data": {
      "application/vnd.jupyter.widget-view+json": {
       "model_id": "ce03c056e73c46828928d80707ed8cd6",
       "version_major": 2,
       "version_minor": 0
      },
      "text/plain": [
       "Testing: |          | 0/? [00:00<?, ?it/s]"
      ]
     },
     "metadata": {},
     "output_type": "display_data"
    },
    {
     "data": {
      "text/html": [
       "<pre style=\"white-space:pre;overflow-x:auto;line-height:normal;font-family:Menlo,'DejaVu Sans Mono',consolas,'Courier New',monospace\">┏━━━━━━━━━━━━━━━━━━━━━━━━━━━┳━━━━━━━━━━━━━━━━━━━━━━━━━━━┓\n",
       "┃<span style=\"font-weight: bold\">        Test metric        </span>┃<span style=\"font-weight: bold\">       DataLoader 0        </span>┃\n",
       "┡━━━━━━━━━━━━━━━━━━━━━━━━━━━╇━━━━━━━━━━━━━━━━━━━━━━━━━━━┩\n",
       "│<span style=\"color: #008080; text-decoration-color: #008080\">         test_acc          </span>│<span style=\"color: #800080; text-decoration-color: #800080\">    0.7427272796630859     </span>│\n",
       "│<span style=\"color: #008080; text-decoration-color: #008080\">          test_f1          </span>│<span style=\"color: #800080; text-decoration-color: #800080\">    0.7464275360107422     </span>│\n",
       "│<span style=\"color: #008080; text-decoration-color: #008080\">         test_loss         </span>│<span style=\"color: #800080; text-decoration-color: #800080\">    0.6379460096359253     </span>│\n",
       "└───────────────────────────┴───────────────────────────┘\n",
       "</pre>\n"
      ],
      "text/plain": [
       "┏━━━━━━━━━━━━━━━━━━━━━━━━━━━┳━━━━━━━━━━━━━━━━━━━━━━━━━━━┓\n",
       "┃\u001b[1m \u001b[0m\u001b[1m       Test metric       \u001b[0m\u001b[1m \u001b[0m┃\u001b[1m \u001b[0m\u001b[1m      DataLoader 0       \u001b[0m\u001b[1m \u001b[0m┃\n",
       "┡━━━━━━━━━━━━━━━━━━━━━━━━━━━╇━━━━━━━━━━━━━━━━━━━━━━━━━━━┩\n",
       "│\u001b[36m \u001b[0m\u001b[36m        test_acc         \u001b[0m\u001b[36m \u001b[0m│\u001b[35m \u001b[0m\u001b[35m   0.7427272796630859    \u001b[0m\u001b[35m \u001b[0m│\n",
       "│\u001b[36m \u001b[0m\u001b[36m         test_f1         \u001b[0m\u001b[36m \u001b[0m│\u001b[35m \u001b[0m\u001b[35m   0.7464275360107422    \u001b[0m\u001b[35m \u001b[0m│\n",
       "│\u001b[36m \u001b[0m\u001b[36m        test_loss        \u001b[0m\u001b[36m \u001b[0m│\u001b[35m \u001b[0m\u001b[35m   0.6379460096359253    \u001b[0m\u001b[35m \u001b[0m│\n",
       "└───────────────────────────┴───────────────────────────┘\n"
      ]
     },
     "metadata": {},
     "output_type": "display_data"
    },
    {
     "data": {
      "text/html": [],
      "text/plain": [
       "<IPython.core.display.HTML object>"
      ]
     },
     "metadata": {},
     "output_type": "display_data"
    },
    {
     "data": {
      "text/html": [
       "<br>    <style><br>        .wandb-row {<br>            display: flex;<br>            flex-direction: row;<br>            flex-wrap: wrap;<br>            justify-content: flex-start;<br>            width: 100%;<br>        }<br>        .wandb-col {<br>            display: flex;<br>            flex-direction: column;<br>            flex-basis: 100%;<br>            flex: 1;<br>            padding: 10px;<br>        }<br>    </style><br><div class=\"wandb-row\"><div class=\"wandb-col\"><h3>Run history:</h3><br/><table class=\"wandb\"><tr><td>epoch</td><td>▁▁▁▁▁▂▂▂▂▂▃▃▃▃▃▄▄▄▄▄▅▅▅▅▅▆▆▆▆▆▇▇▇▇▇█</td></tr><tr><td>test_acc</td><td>▁</td></tr><tr><td>test_f1</td><td>▁</td></tr><tr><td>test_loss</td><td>▁</td></tr><tr><td>train_acc</td><td>▁▆▇▇▇██</td></tr><tr><td>train_loss_epoch</td><td>█▃▂▂▁▁▁</td></tr><tr><td>train_loss_step</td><td>▃▅█▅▃▄▃▃▄▅▆▃▂▂▃▃▁▂▄▃▂</td></tr><tr><td>train_macro_f1</td><td>▁▆▇▆▇██</td></tr><tr><td>train_macro_precision</td><td>▁▆▇▆▇██</td></tr><tr><td>train_macro_recall</td><td>▁▆▇▇▇██</td></tr><tr><td>trainer/global_step</td><td>▂▁▁▁▁▁▁▁▁▁▁▁▃▄▂▂▂▅▂▂▂▂▂▆▂▂▂▂▂▂▇▂▂▂▂▂▂█▃▃</td></tr><tr><td>val_acc</td><td>▁▃▅█▇▆▅</td></tr><tr><td>val_loss_epoch</td><td>██▇▃▁▂█</td></tr><tr><td>val_loss_step</td><td>▃▃▃▄▇▇▇▁▂▃▂▂▅▆▁█▆▆▇▃▂▂▃▁▂▅▅▅▅▂▃▃▂▂▂▂▂▂▃▃</td></tr><tr><td>val_macro_f1</td><td>▁▄▅█▇▅▇</td></tr><tr><td>val_macro_precision</td><td>▁▄▆▃▁█▁</td></tr><tr><td>val_macro_recall</td><td>▁▃▅█▇▅▆</td></tr></table><br/></div><div class=\"wandb-col\"><h3>Run summary:</h3><br/><table class=\"wandb\"><tr><td>epoch</td><td>7</td></tr><tr><td>test_acc</td><td>0.74273</td></tr><tr><td>test_f1</td><td>0.74643</td></tr><tr><td>test_loss</td><td>0.63795</td></tr><tr><td>train_acc</td><td>0.72292</td></tr><tr><td>train_loss_epoch</td><td>0.68258</td></tr><tr><td>train_loss_step</td><td>0.49723</td></tr><tr><td>train_macro_f1</td><td>0.71999</td></tr><tr><td>train_macro_precision</td><td>0.71935</td></tr><tr><td>train_macro_recall</td><td>0.72121</td></tr><tr><td>trainer/global_step</td><td>1092</td></tr><tr><td>val_acc</td><td>0.77994</td></tr><tr><td>val_loss_epoch</td><td>0.53694</td></tr><tr><td>val_loss_step</td><td>0.28045</td></tr><tr><td>val_macro_f1</td><td>0.78076</td></tr><tr><td>val_macro_precision</td><td>0.79113</td></tr><tr><td>val_macro_recall</td><td>0.77837</td></tr></table><br/></div></div>"
      ],
      "text/plain": [
       "<IPython.core.display.HTML object>"
      ]
     },
     "metadata": {},
     "output_type": "display_data"
    },
    {
     "data": {
      "text/html": [
       " View run <strong style=\"color:#cdcd00\">EfficienNet-B0_1024_0.007080</strong> at: <a href='https://wandb.ai/s26048-polish-japanese-academy-of-information-technology-/effnet_sweep/runs/e5nfp60j' target=\"_blank\">https://wandb.ai/s26048-polish-japanese-academy-of-information-technology-/effnet_sweep/runs/e5nfp60j</a><br> View project at: <a href='https://wandb.ai/s26048-polish-japanese-academy-of-information-technology-/effnet_sweep' target=\"_blank\">https://wandb.ai/s26048-polish-japanese-academy-of-information-technology-/effnet_sweep</a><br>Synced 5 W&B file(s), 0 media file(s), 2 artifact file(s) and 0 other file(s)"
      ],
      "text/plain": [
       "<IPython.core.display.HTML object>"
      ]
     },
     "metadata": {},
     "output_type": "display_data"
    },
    {
     "data": {
      "text/html": [
       "Find logs at: <code>./wandb/run-20250112_173534-e5nfp60j/logs</code>"
      ],
      "text/plain": [
       "<IPython.core.display.HTML object>"
      ]
     },
     "metadata": {},
     "output_type": "display_data"
    },
    {
     "name": "stderr",
     "output_type": "stream",
     "text": [
      "\u001b[34m\u001b[1mwandb\u001b[0m: Agent Starting Run: imiz00c7 with config:\n",
      "\u001b[34m\u001b[1mwandb\u001b[0m: \tbatch_size: 64\n",
      "\u001b[34m\u001b[1mwandb\u001b[0m: \tdropout_rate: 0.7\n",
      "\u001b[34m\u001b[1mwandb\u001b[0m: \tlayer1_size: 256\n",
      "\u001b[34m\u001b[1mwandb\u001b[0m: \tlearning_rate: 0.00022838551102598225\n",
      "\u001b[34m\u001b[1mwandb\u001b[0m: \tn_epochs: 20\n"
     ]
    },
    {
     "data": {
      "text/html": [
       "Tracking run with wandb version 0.19.1"
      ],
      "text/plain": [
       "<IPython.core.display.HTML object>"
      ]
     },
     "metadata": {},
     "output_type": "display_data"
    },
    {
     "data": {
      "text/html": [
       "Run data is saved locally in <code>/kaggle/working/wandb/run-20250112_174209-imiz00c7</code>"
      ],
      "text/plain": [
       "<IPython.core.display.HTML object>"
      ]
     },
     "metadata": {},
     "output_type": "display_data"
    },
    {
     "data": {
      "text/html": [
       "Syncing run <strong><a href='https://wandb.ai/s26048-polish-japanese-academy-of-information-technology-/effnet_sweep/runs/imiz00c7' target=\"_blank\">robust-sweep-25</a></strong> to <a href='https://wandb.ai/s26048-polish-japanese-academy-of-information-technology-/effnet_sweep' target=\"_blank\">Weights & Biases</a> (<a href='https://wandb.me/developer-guide' target=\"_blank\">docs</a>)<br>Sweep page: <a href='https://wandb.ai/s26048-polish-japanese-academy-of-information-technology-/effnet_sweep/sweeps/dmftq1qt' target=\"_blank\">https://wandb.ai/s26048-polish-japanese-academy-of-information-technology-/effnet_sweep/sweeps/dmftq1qt</a>"
      ],
      "text/plain": [
       "<IPython.core.display.HTML object>"
      ]
     },
     "metadata": {},
     "output_type": "display_data"
    },
    {
     "data": {
      "text/html": [
       " View project at <a href='https://wandb.ai/s26048-polish-japanese-academy-of-information-technology-/effnet_sweep' target=\"_blank\">https://wandb.ai/s26048-polish-japanese-academy-of-information-technology-/effnet_sweep</a>"
      ],
      "text/plain": [
       "<IPython.core.display.HTML object>"
      ]
     },
     "metadata": {},
     "output_type": "display_data"
    },
    {
     "data": {
      "text/html": [
       " View sweep at <a href='https://wandb.ai/s26048-polish-japanese-academy-of-information-technology-/effnet_sweep/sweeps/dmftq1qt' target=\"_blank\">https://wandb.ai/s26048-polish-japanese-academy-of-information-technology-/effnet_sweep/sweeps/dmftq1qt</a>"
      ],
      "text/plain": [
       "<IPython.core.display.HTML object>"
      ]
     },
     "metadata": {},
     "output_type": "display_data"
    },
    {
     "data": {
      "text/html": [
       " View run at <a href='https://wandb.ai/s26048-polish-japanese-academy-of-information-technology-/effnet_sweep/runs/imiz00c7' target=\"_blank\">https://wandb.ai/s26048-polish-japanese-academy-of-information-technology-/effnet_sweep/runs/imiz00c7</a>"
      ],
      "text/plain": [
       "<IPython.core.display.HTML object>"
      ]
     },
     "metadata": {},
     "output_type": "display_data"
    },
    {
     "data": {
      "application/vnd.jupyter.widget-view+json": {
       "model_id": "",
       "version_major": 2,
       "version_minor": 0
      },
      "text/plain": [
       "Sanity Checking: |          | 0/? [00:00<?, ?it/s]"
      ]
     },
     "metadata": {},
     "output_type": "display_data"
    },
    {
     "data": {
      "application/vnd.jupyter.widget-view+json": {
       "model_id": "fed2a42961b44195aca2f5e478243e0a",
       "version_major": 2,
       "version_minor": 0
      },
      "text/plain": [
       "Training: |          | 0/? [00:00<?, ?it/s]"
      ]
     },
     "metadata": {},
     "output_type": "display_data"
    },
    {
     "data": {
      "application/vnd.jupyter.widget-view+json": {
       "model_id": "",
       "version_major": 2,
       "version_minor": 0
      },
      "text/plain": [
       "Validation: |          | 0/? [00:00<?, ?it/s]"
      ]
     },
     "metadata": {},
     "output_type": "display_data"
    },
    {
     "data": {
      "application/vnd.jupyter.widget-view+json": {
       "model_id": "",
       "version_major": 2,
       "version_minor": 0
      },
      "text/plain": [
       "Validation: |          | 0/? [00:00<?, ?it/s]"
      ]
     },
     "metadata": {},
     "output_type": "display_data"
    },
    {
     "data": {
      "application/vnd.jupyter.widget-view+json": {
       "model_id": "",
       "version_major": 2,
       "version_minor": 0
      },
      "text/plain": [
       "Validation: |          | 0/? [00:00<?, ?it/s]"
      ]
     },
     "metadata": {},
     "output_type": "display_data"
    },
    {
     "data": {
      "application/vnd.jupyter.widget-view+json": {
       "model_id": "",
       "version_major": 2,
       "version_minor": 0
      },
      "text/plain": [
       "Validation: |          | 0/? [00:00<?, ?it/s]"
      ]
     },
     "metadata": {},
     "output_type": "display_data"
    },
    {
     "data": {
      "application/vnd.jupyter.widget-view+json": {
       "model_id": "",
       "version_major": 2,
       "version_minor": 0
      },
      "text/plain": [
       "Validation: |          | 0/? [00:00<?, ?it/s]"
      ]
     },
     "metadata": {},
     "output_type": "display_data"
    },
    {
     "data": {
      "application/vnd.jupyter.widget-view+json": {
       "model_id": "",
       "version_major": 2,
       "version_minor": 0
      },
      "text/plain": [
       "Validation: |          | 0/? [00:00<?, ?it/s]"
      ]
     },
     "metadata": {},
     "output_type": "display_data"
    },
    {
     "data": {
      "application/vnd.jupyter.widget-view+json": {
       "model_id": "",
       "version_major": 2,
       "version_minor": 0
      },
      "text/plain": [
       "Validation: |          | 0/? [00:00<?, ?it/s]"
      ]
     },
     "metadata": {},
     "output_type": "display_data"
    },
    {
     "data": {
      "application/vnd.jupyter.widget-view+json": {
       "model_id": "",
       "version_major": 2,
       "version_minor": 0
      },
      "text/plain": [
       "Validation: |          | 0/? [00:00<?, ?it/s]"
      ]
     },
     "metadata": {},
     "output_type": "display_data"
    },
    {
     "data": {
      "application/vnd.jupyter.widget-view+json": {
       "model_id": "",
       "version_major": 2,
       "version_minor": 0
      },
      "text/plain": [
       "Validation: |          | 0/? [00:00<?, ?it/s]"
      ]
     },
     "metadata": {},
     "output_type": "display_data"
    },
    {
     "data": {
      "application/vnd.jupyter.widget-view+json": {
       "model_id": "",
       "version_major": 2,
       "version_minor": 0
      },
      "text/plain": [
       "Validation: |          | 0/? [00:00<?, ?it/s]"
      ]
     },
     "metadata": {},
     "output_type": "display_data"
    },
    {
     "data": {
      "application/vnd.jupyter.widget-view+json": {
       "model_id": "",
       "version_major": 2,
       "version_minor": 0
      },
      "text/plain": [
       "Validation: |          | 0/? [00:00<?, ?it/s]"
      ]
     },
     "metadata": {},
     "output_type": "display_data"
    },
    {
     "data": {
      "application/vnd.jupyter.widget-view+json": {
       "model_id": "",
       "version_major": 2,
       "version_minor": 0
      },
      "text/plain": [
       "Validation: |          | 0/? [00:00<?, ?it/s]"
      ]
     },
     "metadata": {},
     "output_type": "display_data"
    },
    {
     "data": {
      "application/vnd.jupyter.widget-view+json": {
       "model_id": "",
       "version_major": 2,
       "version_minor": 0
      },
      "text/plain": [
       "Validation: |          | 0/? [00:00<?, ?it/s]"
      ]
     },
     "metadata": {},
     "output_type": "display_data"
    },
    {
     "data": {
      "application/vnd.jupyter.widget-view+json": {
       "model_id": "",
       "version_major": 2,
       "version_minor": 0
      },
      "text/plain": [
       "Validation: |          | 0/? [00:00<?, ?it/s]"
      ]
     },
     "metadata": {},
     "output_type": "display_data"
    },
    {
     "data": {
      "application/vnd.jupyter.widget-view+json": {
       "model_id": "",
       "version_major": 2,
       "version_minor": 0
      },
      "text/plain": [
       "Validation: |          | 0/? [00:00<?, ?it/s]"
      ]
     },
     "metadata": {},
     "output_type": "display_data"
    },
    {
     "data": {
      "application/vnd.jupyter.widget-view+json": {
       "model_id": "",
       "version_major": 2,
       "version_minor": 0
      },
      "text/plain": [
       "Validation: |          | 0/? [00:00<?, ?it/s]"
      ]
     },
     "metadata": {},
     "output_type": "display_data"
    },
    {
     "data": {
      "application/vnd.jupyter.widget-view+json": {
       "model_id": "",
       "version_major": 2,
       "version_minor": 0
      },
      "text/plain": [
       "Validation: |          | 0/? [00:00<?, ?it/s]"
      ]
     },
     "metadata": {},
     "output_type": "display_data"
    },
    {
     "data": {
      "application/vnd.jupyter.widget-view+json": {
       "model_id": "2ea7e9d1ed254f89aafae0f05e45fe7d",
       "version_major": 2,
       "version_minor": 0
      },
      "text/plain": [
       "Testing: |          | 0/? [00:00<?, ?it/s]"
      ]
     },
     "metadata": {},
     "output_type": "display_data"
    },
    {
     "data": {
      "text/html": [
       "<pre style=\"white-space:pre;overflow-x:auto;line-height:normal;font-family:Menlo,'DejaVu Sans Mono',consolas,'Courier New',monospace\">┏━━━━━━━━━━━━━━━━━━━━━━━━━━━┳━━━━━━━━━━━━━━━━━━━━━━━━━━━┓\n",
       "┃<span style=\"font-weight: bold\">        Test metric        </span>┃<span style=\"font-weight: bold\">       DataLoader 0        </span>┃\n",
       "┡━━━━━━━━━━━━━━━━━━━━━━━━━━━╇━━━━━━━━━━━━━━━━━━━━━━━━━━━┩\n",
       "│<span style=\"color: #008080; text-decoration-color: #008080\">         test_acc          </span>│<span style=\"color: #800080; text-decoration-color: #800080\">    0.7699999809265137     </span>│\n",
       "│<span style=\"color: #008080; text-decoration-color: #008080\">          test_f1          </span>│<span style=\"color: #800080; text-decoration-color: #800080\">    0.7691235542297363     </span>│\n",
       "│<span style=\"color: #008080; text-decoration-color: #008080\">         test_loss         </span>│<span style=\"color: #800080; text-decoration-color: #800080\">    0.6125470399856567     </span>│\n",
       "└───────────────────────────┴───────────────────────────┘\n",
       "</pre>\n"
      ],
      "text/plain": [
       "┏━━━━━━━━━━━━━━━━━━━━━━━━━━━┳━━━━━━━━━━━━━━━━━━━━━━━━━━━┓\n",
       "┃\u001b[1m \u001b[0m\u001b[1m       Test metric       \u001b[0m\u001b[1m \u001b[0m┃\u001b[1m \u001b[0m\u001b[1m      DataLoader 0       \u001b[0m\u001b[1m \u001b[0m┃\n",
       "┡━━━━━━━━━━━━━━━━━━━━━━━━━━━╇━━━━━━━━━━━━━━━━━━━━━━━━━━━┩\n",
       "│\u001b[36m \u001b[0m\u001b[36m        test_acc         \u001b[0m\u001b[36m \u001b[0m│\u001b[35m \u001b[0m\u001b[35m   0.7699999809265137    \u001b[0m\u001b[35m \u001b[0m│\n",
       "│\u001b[36m \u001b[0m\u001b[36m         test_f1         \u001b[0m\u001b[36m \u001b[0m│\u001b[35m \u001b[0m\u001b[35m   0.7691235542297363    \u001b[0m\u001b[35m \u001b[0m│\n",
       "│\u001b[36m \u001b[0m\u001b[36m        test_loss        \u001b[0m\u001b[36m \u001b[0m│\u001b[35m \u001b[0m\u001b[35m   0.6125470399856567    \u001b[0m\u001b[35m \u001b[0m│\n",
       "└───────────────────────────┴───────────────────────────┘\n"
      ]
     },
     "metadata": {},
     "output_type": "display_data"
    },
    {
     "data": {
      "text/html": [],
      "text/plain": [
       "<IPython.core.display.HTML object>"
      ]
     },
     "metadata": {},
     "output_type": "display_data"
    },
    {
     "data": {
      "text/html": [
       "<br>    <style><br>        .wandb-row {<br>            display: flex;<br>            flex-direction: row;<br>            flex-wrap: wrap;<br>            justify-content: flex-start;<br>            width: 100%;<br>        }<br>        .wandb-col {<br>            display: flex;<br>            flex-direction: column;<br>            flex-basis: 100%;<br>            flex: 1;<br>            padding: 10px;<br>        }<br>    </style><br><div class=\"wandb-row\"><div class=\"wandb-col\"><h3>Run history:</h3><br/><table class=\"wandb\"><tr><td>epoch</td><td>▁▁▁▁▁▁▂▂▂▂▂▃▃▃▃▄▄▄▄▅▅▅▅▆▆▆▆▆▆▆▆▇▇▇▇▇████</td></tr><tr><td>test_acc</td><td>▁</td></tr><tr><td>test_f1</td><td>▁</td></tr><tr><td>test_loss</td><td>▁</td></tr><tr><td>train_acc</td><td>▁▅▆▇▇▇███████████</td></tr><tr><td>train_loss_epoch</td><td>█▄▃▂▂▂▁▁▁▁▁▁▁▁▁▁▁</td></tr><tr><td>train_loss_step</td><td>█▆▄▄▃▄▄▄▄▃▄▃▄▃▂▂▃▃▂▃▁▂▄▄▂▁</td></tr><tr><td>train_macro_f1</td><td>▁▅▆▇▇▇███████████</td></tr><tr><td>train_macro_precision</td><td>▁▅▆▇▇▇███████████</td></tr><tr><td>train_macro_recall</td><td>▁▅▆▇▇▇███████████</td></tr><tr><td>trainer/global_step</td><td>▁▁▁▁▂▁▁▁▁▁▁▁▁▂▂▂▂▂▂▂▂▂▂▂▂▂▇▇▂▂▂▂▂▂█▂█▂▂▃</td></tr><tr><td>val_acc</td><td>▁▅▆▆▇██▇▇█▇▇██▇██</td></tr><tr><td>val_loss_epoch</td><td>█▄▃▂▂▂▁▁▁▁▁▁▁▁▁▁▁</td></tr><tr><td>val_loss_step</td><td>▆▃▆▆▇██▅▂▄▅▅▇▂▁▅▆▂▃▅▂▅▅▅▆▅▅▂▂▅▆▅▃▁▃▂▅▅▂▂</td></tr><tr><td>val_macro_f1</td><td>▁▅▆▆▇██▇▇██▇██▇██</td></tr><tr><td>val_macro_precision</td><td>▁▅▆▇▇██▇▇█▇▇██▇██</td></tr><tr><td>val_macro_recall</td><td>▁▅▆▆▇▇█▇▇█▇▇██▇██</td></tr></table><br/></div><div class=\"wandb-col\"><h3>Run summary:</h3><br/><table class=\"wandb\"><tr><td>epoch</td><td>17</td></tr><tr><td>test_acc</td><td>0.77</td></tr><tr><td>test_f1</td><td>0.76912</td></tr><tr><td>test_loss</td><td>0.61255</td></tr><tr><td>train_acc</td><td>0.68747</td></tr><tr><td>train_loss_epoch</td><td>0.75561</td></tr><tr><td>train_loss_step</td><td>0.57299</td></tr><tr><td>train_macro_f1</td><td>0.68313</td></tr><tr><td>train_macro_precision</td><td>0.68162</td></tr><tr><td>train_macro_recall</td><td>0.68549</td></tr><tr><td>trainer/global_step</td><td>1326</td></tr><tr><td>val_acc</td><td>0.82376</td></tr><tr><td>val_loss_epoch</td><td>0.49326</td></tr><tr><td>val_loss_step</td><td>0.45636</td></tr><tr><td>val_macro_f1</td><td>0.81901</td></tr><tr><td>val_macro_precision</td><td>0.82631</td></tr><tr><td>val_macro_recall</td><td>0.8182</td></tr></table><br/></div></div>"
      ],
      "text/plain": [
       "<IPython.core.display.HTML object>"
      ]
     },
     "metadata": {},
     "output_type": "display_data"
    },
    {
     "data": {
      "text/html": [
       " View run <strong style=\"color:#cdcd00\">EfficienNet-B0_256_0.000228</strong> at: <a href='https://wandb.ai/s26048-polish-japanese-academy-of-information-technology-/effnet_sweep/runs/imiz00c7' target=\"_blank\">https://wandb.ai/s26048-polish-japanese-academy-of-information-technology-/effnet_sweep/runs/imiz00c7</a><br> View project at: <a href='https://wandb.ai/s26048-polish-japanese-academy-of-information-technology-/effnet_sweep' target=\"_blank\">https://wandb.ai/s26048-polish-japanese-academy-of-information-technology-/effnet_sweep</a><br>Synced 5 W&B file(s), 0 media file(s), 2 artifact file(s) and 0 other file(s)"
      ],
      "text/plain": [
       "<IPython.core.display.HTML object>"
      ]
     },
     "metadata": {},
     "output_type": "display_data"
    },
    {
     "data": {
      "text/html": [
       "Find logs at: <code>./wandb/run-20250112_174209-imiz00c7/logs</code>"
      ],
      "text/plain": [
       "<IPython.core.display.HTML object>"
      ]
     },
     "metadata": {},
     "output_type": "display_data"
    },
    {
     "name": "stderr",
     "output_type": "stream",
     "text": [
      "\u001b[34m\u001b[1mwandb\u001b[0m: Agent Starting Run: jsx7hj8n with config:\n",
      "\u001b[34m\u001b[1mwandb\u001b[0m: \tbatch_size: 32\n",
      "\u001b[34m\u001b[1mwandb\u001b[0m: \tdropout_rate: 0.6\n",
      "\u001b[34m\u001b[1mwandb\u001b[0m: \tlayer1_size: 1024\n",
      "\u001b[34m\u001b[1mwandb\u001b[0m: \tlearning_rate: 0.003952232338775042\n",
      "\u001b[34m\u001b[1mwandb\u001b[0m: \tn_epochs: 20\n"
     ]
    },
    {
     "data": {
      "text/html": [
       "Tracking run with wandb version 0.19.1"
      ],
      "text/plain": [
       "<IPython.core.display.HTML object>"
      ]
     },
     "metadata": {},
     "output_type": "display_data"
    },
    {
     "data": {
      "text/html": [
       "Run data is saved locally in <code>/kaggle/working/wandb/run-20250112_175725-jsx7hj8n</code>"
      ],
      "text/plain": [
       "<IPython.core.display.HTML object>"
      ]
     },
     "metadata": {},
     "output_type": "display_data"
    },
    {
     "data": {
      "text/html": [
       "Syncing run <strong><a href='https://wandb.ai/s26048-polish-japanese-academy-of-information-technology-/effnet_sweep/runs/jsx7hj8n' target=\"_blank\">valiant-sweep-26</a></strong> to <a href='https://wandb.ai/s26048-polish-japanese-academy-of-information-technology-/effnet_sweep' target=\"_blank\">Weights & Biases</a> (<a href='https://wandb.me/developer-guide' target=\"_blank\">docs</a>)<br>Sweep page: <a href='https://wandb.ai/s26048-polish-japanese-academy-of-information-technology-/effnet_sweep/sweeps/dmftq1qt' target=\"_blank\">https://wandb.ai/s26048-polish-japanese-academy-of-information-technology-/effnet_sweep/sweeps/dmftq1qt</a>"
      ],
      "text/plain": [
       "<IPython.core.display.HTML object>"
      ]
     },
     "metadata": {},
     "output_type": "display_data"
    },
    {
     "data": {
      "text/html": [
       " View project at <a href='https://wandb.ai/s26048-polish-japanese-academy-of-information-technology-/effnet_sweep' target=\"_blank\">https://wandb.ai/s26048-polish-japanese-academy-of-information-technology-/effnet_sweep</a>"
      ],
      "text/plain": [
       "<IPython.core.display.HTML object>"
      ]
     },
     "metadata": {},
     "output_type": "display_data"
    },
    {
     "data": {
      "text/html": [
       " View sweep at <a href='https://wandb.ai/s26048-polish-japanese-academy-of-information-technology-/effnet_sweep/sweeps/dmftq1qt' target=\"_blank\">https://wandb.ai/s26048-polish-japanese-academy-of-information-technology-/effnet_sweep/sweeps/dmftq1qt</a>"
      ],
      "text/plain": [
       "<IPython.core.display.HTML object>"
      ]
     },
     "metadata": {},
     "output_type": "display_data"
    },
    {
     "data": {
      "text/html": [
       " View run at <a href='https://wandb.ai/s26048-polish-japanese-academy-of-information-technology-/effnet_sweep/runs/jsx7hj8n' target=\"_blank\">https://wandb.ai/s26048-polish-japanese-academy-of-information-technology-/effnet_sweep/runs/jsx7hj8n</a>"
      ],
      "text/plain": [
       "<IPython.core.display.HTML object>"
      ]
     },
     "metadata": {},
     "output_type": "display_data"
    },
    {
     "data": {
      "application/vnd.jupyter.widget-view+json": {
       "model_id": "",
       "version_major": 2,
       "version_minor": 0
      },
      "text/plain": [
       "Sanity Checking: |          | 0/? [00:00<?, ?it/s]"
      ]
     },
     "metadata": {},
     "output_type": "display_data"
    },
    {
     "data": {
      "application/vnd.jupyter.widget-view+json": {
       "model_id": "120ea0caa6884d84bf697c99f6e107d3",
       "version_major": 2,
       "version_minor": 0
      },
      "text/plain": [
       "Training: |          | 0/? [00:00<?, ?it/s]"
      ]
     },
     "metadata": {},
     "output_type": "display_data"
    },
    {
     "data": {
      "application/vnd.jupyter.widget-view+json": {
       "model_id": "",
       "version_major": 2,
       "version_minor": 0
      },
      "text/plain": [
       "Validation: |          | 0/? [00:00<?, ?it/s]"
      ]
     },
     "metadata": {},
     "output_type": "display_data"
    },
    {
     "data": {
      "application/vnd.jupyter.widget-view+json": {
       "model_id": "",
       "version_major": 2,
       "version_minor": 0
      },
      "text/plain": [
       "Validation: |          | 0/? [00:00<?, ?it/s]"
      ]
     },
     "metadata": {},
     "output_type": "display_data"
    },
    {
     "data": {
      "application/vnd.jupyter.widget-view+json": {
       "model_id": "",
       "version_major": 2,
       "version_minor": 0
      },
      "text/plain": [
       "Validation: |          | 0/? [00:00<?, ?it/s]"
      ]
     },
     "metadata": {},
     "output_type": "display_data"
    },
    {
     "data": {
      "application/vnd.jupyter.widget-view+json": {
       "model_id": "",
       "version_major": 2,
       "version_minor": 0
      },
      "text/plain": [
       "Validation: |          | 0/? [00:00<?, ?it/s]"
      ]
     },
     "metadata": {},
     "output_type": "display_data"
    },
    {
     "data": {
      "application/vnd.jupyter.widget-view+json": {
       "model_id": "",
       "version_major": 2,
       "version_minor": 0
      },
      "text/plain": [
       "Validation: |          | 0/? [00:00<?, ?it/s]"
      ]
     },
     "metadata": {},
     "output_type": "display_data"
    },
    {
     "data": {
      "application/vnd.jupyter.widget-view+json": {
       "model_id": "",
       "version_major": 2,
       "version_minor": 0
      },
      "text/plain": [
       "Validation: |          | 0/? [00:00<?, ?it/s]"
      ]
     },
     "metadata": {},
     "output_type": "display_data"
    },
    {
     "data": {
      "application/vnd.jupyter.widget-view+json": {
       "model_id": "7fd05d4bad6e4bc58fbc22266ca48cdb",
       "version_major": 2,
       "version_minor": 0
      },
      "text/plain": [
       "Testing: |          | 0/? [00:00<?, ?it/s]"
      ]
     },
     "metadata": {},
     "output_type": "display_data"
    },
    {
     "data": {
      "text/html": [
       "<pre style=\"white-space:pre;overflow-x:auto;line-height:normal;font-family:Menlo,'DejaVu Sans Mono',consolas,'Courier New',monospace\">┏━━━━━━━━━━━━━━━━━━━━━━━━━━━┳━━━━━━━━━━━━━━━━━━━━━━━━━━━┓\n",
       "┃<span style=\"font-weight: bold\">        Test metric        </span>┃<span style=\"font-weight: bold\">       DataLoader 0        </span>┃\n",
       "┡━━━━━━━━━━━━━━━━━━━━━━━━━━━╇━━━━━━━━━━━━━━━━━━━━━━━━━━━┩\n",
       "│<span style=\"color: #008080; text-decoration-color: #008080\">         test_acc          </span>│<span style=\"color: #800080; text-decoration-color: #800080\">    0.7336363792419434     </span>│\n",
       "│<span style=\"color: #008080; text-decoration-color: #008080\">          test_f1          </span>│<span style=\"color: #800080; text-decoration-color: #800080\">    0.7334400415420532     </span>│\n",
       "│<span style=\"color: #008080; text-decoration-color: #008080\">         test_loss         </span>│<span style=\"color: #800080; text-decoration-color: #800080\">    0.6494058966636658     </span>│\n",
       "└───────────────────────────┴───────────────────────────┘\n",
       "</pre>\n"
      ],
      "text/plain": [
       "┏━━━━━━━━━━━━━━━━━━━━━━━━━━━┳━━━━━━━━━━━━━━━━━━━━━━━━━━━┓\n",
       "┃\u001b[1m \u001b[0m\u001b[1m       Test metric       \u001b[0m\u001b[1m \u001b[0m┃\u001b[1m \u001b[0m\u001b[1m      DataLoader 0       \u001b[0m\u001b[1m \u001b[0m┃\n",
       "┡━━━━━━━━━━━━━━━━━━━━━━━━━━━╇━━━━━━━━━━━━━━━━━━━━━━━━━━━┩\n",
       "│\u001b[36m \u001b[0m\u001b[36m        test_acc         \u001b[0m\u001b[36m \u001b[0m│\u001b[35m \u001b[0m\u001b[35m   0.7336363792419434    \u001b[0m\u001b[35m \u001b[0m│\n",
       "│\u001b[36m \u001b[0m\u001b[36m         test_f1         \u001b[0m\u001b[36m \u001b[0m│\u001b[35m \u001b[0m\u001b[35m   0.7334400415420532    \u001b[0m\u001b[35m \u001b[0m│\n",
       "│\u001b[36m \u001b[0m\u001b[36m        test_loss        \u001b[0m\u001b[36m \u001b[0m│\u001b[35m \u001b[0m\u001b[35m   0.6494058966636658    \u001b[0m\u001b[35m \u001b[0m│\n",
       "└───────────────────────────┴───────────────────────────┘\n"
      ]
     },
     "metadata": {},
     "output_type": "display_data"
    },
    {
     "data": {
      "text/html": [],
      "text/plain": [
       "<IPython.core.display.HTML object>"
      ]
     },
     "metadata": {},
     "output_type": "display_data"
    },
    {
     "data": {
      "text/html": [
       "<br>    <style><br>        .wandb-row {<br>            display: flex;<br>            flex-direction: row;<br>            flex-wrap: wrap;<br>            justify-content: flex-start;<br>            width: 100%;<br>        }<br>        .wandb-col {<br>            display: flex;<br>            flex-direction: column;<br>            flex-basis: 100%;<br>            flex: 1;<br>            padding: 10px;<br>        }<br>    </style><br><div class=\"wandb-row\"><div class=\"wandb-col\"><h3>Run history:</h3><br/><table class=\"wandb\"><tr><td>epoch</td><td>▁▁▁▁▁▂▂▂▂▂▃▃▃▃▃▅▅▅▅▅▆▆▆▆▆▇▇▇▇▇█</td></tr><tr><td>test_acc</td><td>▁</td></tr><tr><td>test_f1</td><td>▁</td></tr><tr><td>test_loss</td><td>▁</td></tr><tr><td>train_acc</td><td>▁▆▇▆▇█</td></tr><tr><td>train_loss_epoch</td><td>█▂▂▂▂▁</td></tr><tr><td>train_loss_step</td><td>▄▃▄▂▄▅▂▆█▃▂▁▂▂▄▃▅▄</td></tr><tr><td>train_macro_f1</td><td>▁▅▇▆▇█</td></tr><tr><td>train_macro_precision</td><td>▁▅▇▆▇█</td></tr><tr><td>train_macro_recall</td><td>▁▅▇▆▇█</td></tr><tr><td>trainer/global_step</td><td>▁▁▁▁▁▁▁▁▁▁▁▃▃▄▂▂▂▂▂▂▂▂▂▂▂▂▂▂▆▂▂▂▂▇▂▂▂▂▂█</td></tr><tr><td>val_acc</td><td>▂▇█▅▁▄</td></tr><tr><td>val_loss_epoch</td><td>▂▁▂█▄▄</td></tr><tr><td>val_loss_step</td><td>▁▁▂▂██▁▂▃▃▃▃▇▆▂▂▂▃▆▁▃▄▆▅▇▃▅▆▅▅▆▆▄▃▃▃▅▃▃▃</td></tr><tr><td>val_macro_f1</td><td>▁▆█▅▁▄</td></tr><tr><td>val_macro_precision</td><td>▁█▅▃▁▂</td></tr><tr><td>val_macro_recall</td><td>▂▆█▅▁▅</td></tr></table><br/></div><div class=\"wandb-col\"><h3>Run summary:</h3><br/><table class=\"wandb\"><tr><td>epoch</td><td>6</td></tr><tr><td>test_acc</td><td>0.73364</td></tr><tr><td>test_f1</td><td>0.73344</td></tr><tr><td>test_loss</td><td>0.64941</td></tr><tr><td>train_acc</td><td>0.66049</td></tr><tr><td>train_loss_epoch</td><td>0.82324</td></tr><tr><td>train_loss_step</td><td>0.90471</td></tr><tr><td>train_macro_f1</td><td>0.65725</td></tr><tr><td>train_macro_precision</td><td>0.65626</td></tr><tr><td>train_macro_recall</td><td>0.65859</td></tr><tr><td>trainer/global_step</td><td>936</td></tr><tr><td>val_acc</td><td>0.81694</td></tr><tr><td>val_loss_epoch</td><td>0.52799</td></tr><tr><td>val_loss_step</td><td>0.38291</td></tr><tr><td>val_macro_f1</td><td>0.81474</td></tr><tr><td>val_macro_precision</td><td>0.81691</td></tr><tr><td>val_macro_recall</td><td>0.81492</td></tr></table><br/></div></div>"
      ],
      "text/plain": [
       "<IPython.core.display.HTML object>"
      ]
     },
     "metadata": {},
     "output_type": "display_data"
    },
    {
     "data": {
      "text/html": [
       " View run <strong style=\"color:#cdcd00\">EfficienNet-B0_1024_0.003952</strong> at: <a href='https://wandb.ai/s26048-polish-japanese-academy-of-information-technology-/effnet_sweep/runs/jsx7hj8n' target=\"_blank\">https://wandb.ai/s26048-polish-japanese-academy-of-information-technology-/effnet_sweep/runs/jsx7hj8n</a><br> View project at: <a href='https://wandb.ai/s26048-polish-japanese-academy-of-information-technology-/effnet_sweep' target=\"_blank\">https://wandb.ai/s26048-polish-japanese-academy-of-information-technology-/effnet_sweep</a><br>Synced 5 W&B file(s), 0 media file(s), 2 artifact file(s) and 0 other file(s)"
      ],
      "text/plain": [
       "<IPython.core.display.HTML object>"
      ]
     },
     "metadata": {},
     "output_type": "display_data"
    },
    {
     "data": {
      "text/html": [
       "Find logs at: <code>./wandb/run-20250112_175725-jsx7hj8n/logs</code>"
      ],
      "text/plain": [
       "<IPython.core.display.HTML object>"
      ]
     },
     "metadata": {},
     "output_type": "display_data"
    },
    {
     "name": "stderr",
     "output_type": "stream",
     "text": [
      "\u001b[34m\u001b[1mwandb\u001b[0m: Agent Starting Run: b6kkojht with config:\n",
      "\u001b[34m\u001b[1mwandb\u001b[0m: \tbatch_size: 128\n",
      "\u001b[34m\u001b[1mwandb\u001b[0m: \tdropout_rate: 0.3\n",
      "\u001b[34m\u001b[1mwandb\u001b[0m: \tlayer1_size: 1024\n",
      "\u001b[34m\u001b[1mwandb\u001b[0m: \tlearning_rate: 0.002790879948565423\n",
      "\u001b[34m\u001b[1mwandb\u001b[0m: \tn_epochs: 10\n"
     ]
    },
    {
     "data": {
      "text/html": [
       "Tracking run with wandb version 0.19.1"
      ],
      "text/plain": [
       "<IPython.core.display.HTML object>"
      ]
     },
     "metadata": {},
     "output_type": "display_data"
    },
    {
     "data": {
      "text/html": [
       "Run data is saved locally in <code>/kaggle/working/wandb/run-20250112_180310-b6kkojht</code>"
      ],
      "text/plain": [
       "<IPython.core.display.HTML object>"
      ]
     },
     "metadata": {},
     "output_type": "display_data"
    },
    {
     "data": {
      "text/html": [
       "Syncing run <strong><a href='https://wandb.ai/s26048-polish-japanese-academy-of-information-technology-/effnet_sweep/runs/b6kkojht' target=\"_blank\">azure-sweep-27</a></strong> to <a href='https://wandb.ai/s26048-polish-japanese-academy-of-information-technology-/effnet_sweep' target=\"_blank\">Weights & Biases</a> (<a href='https://wandb.me/developer-guide' target=\"_blank\">docs</a>)<br>Sweep page: <a href='https://wandb.ai/s26048-polish-japanese-academy-of-information-technology-/effnet_sweep/sweeps/dmftq1qt' target=\"_blank\">https://wandb.ai/s26048-polish-japanese-academy-of-information-technology-/effnet_sweep/sweeps/dmftq1qt</a>"
      ],
      "text/plain": [
       "<IPython.core.display.HTML object>"
      ]
     },
     "metadata": {},
     "output_type": "display_data"
    },
    {
     "data": {
      "text/html": [
       " View project at <a href='https://wandb.ai/s26048-polish-japanese-academy-of-information-technology-/effnet_sweep' target=\"_blank\">https://wandb.ai/s26048-polish-japanese-academy-of-information-technology-/effnet_sweep</a>"
      ],
      "text/plain": [
       "<IPython.core.display.HTML object>"
      ]
     },
     "metadata": {},
     "output_type": "display_data"
    },
    {
     "data": {
      "text/html": [
       " View sweep at <a href='https://wandb.ai/s26048-polish-japanese-academy-of-information-technology-/effnet_sweep/sweeps/dmftq1qt' target=\"_blank\">https://wandb.ai/s26048-polish-japanese-academy-of-information-technology-/effnet_sweep/sweeps/dmftq1qt</a>"
      ],
      "text/plain": [
       "<IPython.core.display.HTML object>"
      ]
     },
     "metadata": {},
     "output_type": "display_data"
    },
    {
     "data": {
      "text/html": [
       " View run at <a href='https://wandb.ai/s26048-polish-japanese-academy-of-information-technology-/effnet_sweep/runs/b6kkojht' target=\"_blank\">https://wandb.ai/s26048-polish-japanese-academy-of-information-technology-/effnet_sweep/runs/b6kkojht</a>"
      ],
      "text/plain": [
       "<IPython.core.display.HTML object>"
      ]
     },
     "metadata": {},
     "output_type": "display_data"
    },
    {
     "data": {
      "application/vnd.jupyter.widget-view+json": {
       "model_id": "",
       "version_major": 2,
       "version_minor": 0
      },
      "text/plain": [
       "Sanity Checking: |          | 0/? [00:00<?, ?it/s]"
      ]
     },
     "metadata": {},
     "output_type": "display_data"
    },
    {
     "data": {
      "application/vnd.jupyter.widget-view+json": {
       "model_id": "cf0296883319478cbcb4e4a59af53542",
       "version_major": 2,
       "version_minor": 0
      },
      "text/plain": [
       "Training: |          | 0/? [00:00<?, ?it/s]"
      ]
     },
     "metadata": {},
     "output_type": "display_data"
    },
    {
     "data": {
      "application/vnd.jupyter.widget-view+json": {
       "model_id": "",
       "version_major": 2,
       "version_minor": 0
      },
      "text/plain": [
       "Validation: |          | 0/? [00:00<?, ?it/s]"
      ]
     },
     "metadata": {},
     "output_type": "display_data"
    },
    {
     "data": {
      "application/vnd.jupyter.widget-view+json": {
       "model_id": "",
       "version_major": 2,
       "version_minor": 0
      },
      "text/plain": [
       "Validation: |          | 0/? [00:00<?, ?it/s]"
      ]
     },
     "metadata": {},
     "output_type": "display_data"
    },
    {
     "data": {
      "application/vnd.jupyter.widget-view+json": {
       "model_id": "",
       "version_major": 2,
       "version_minor": 0
      },
      "text/plain": [
       "Validation: |          | 0/? [00:00<?, ?it/s]"
      ]
     },
     "metadata": {},
     "output_type": "display_data"
    },
    {
     "data": {
      "application/vnd.jupyter.widget-view+json": {
       "model_id": "",
       "version_major": 2,
       "version_minor": 0
      },
      "text/plain": [
       "Validation: |          | 0/? [00:00<?, ?it/s]"
      ]
     },
     "metadata": {},
     "output_type": "display_data"
    },
    {
     "data": {
      "application/vnd.jupyter.widget-view+json": {
       "model_id": "",
       "version_major": 2,
       "version_minor": 0
      },
      "text/plain": [
       "Validation: |          | 0/? [00:00<?, ?it/s]"
      ]
     },
     "metadata": {},
     "output_type": "display_data"
    },
    {
     "data": {
      "application/vnd.jupyter.widget-view+json": {
       "model_id": "",
       "version_major": 2,
       "version_minor": 0
      },
      "text/plain": [
       "Validation: |          | 0/? [00:00<?, ?it/s]"
      ]
     },
     "metadata": {},
     "output_type": "display_data"
    },
    {
     "data": {
      "application/vnd.jupyter.widget-view+json": {
       "model_id": "898f3320d82b401d807d26085d3ca56d",
       "version_major": 2,
       "version_minor": 0
      },
      "text/plain": [
       "Testing: |          | 0/? [00:00<?, ?it/s]"
      ]
     },
     "metadata": {},
     "output_type": "display_data"
    },
    {
     "data": {
      "text/html": [
       "<pre style=\"white-space:pre;overflow-x:auto;line-height:normal;font-family:Menlo,'DejaVu Sans Mono',consolas,'Courier New',monospace\">┏━━━━━━━━━━━━━━━━━━━━━━━━━━━┳━━━━━━━━━━━━━━━━━━━━━━━━━━━┓\n",
       "┃<span style=\"font-weight: bold\">        Test metric        </span>┃<span style=\"font-weight: bold\">       DataLoader 0        </span>┃\n",
       "┡━━━━━━━━━━━━━━━━━━━━━━━━━━━╇━━━━━━━━━━━━━━━━━━━━━━━━━━━┩\n",
       "│<span style=\"color: #008080; text-decoration-color: #008080\">         test_acc          </span>│<span style=\"color: #800080; text-decoration-color: #800080\">           0.75            </span>│\n",
       "│<span style=\"color: #008080; text-decoration-color: #008080\">          test_f1          </span>│<span style=\"color: #800080; text-decoration-color: #800080\">    0.7505274415016174     </span>│\n",
       "│<span style=\"color: #008080; text-decoration-color: #008080\">         test_loss         </span>│<span style=\"color: #800080; text-decoration-color: #800080\">    0.5893567204475403     </span>│\n",
       "└───────────────────────────┴───────────────────────────┘\n",
       "</pre>\n"
      ],
      "text/plain": [
       "┏━━━━━━━━━━━━━━━━━━━━━━━━━━━┳━━━━━━━━━━━━━━━━━━━━━━━━━━━┓\n",
       "┃\u001b[1m \u001b[0m\u001b[1m       Test metric       \u001b[0m\u001b[1m \u001b[0m┃\u001b[1m \u001b[0m\u001b[1m      DataLoader 0       \u001b[0m\u001b[1m \u001b[0m┃\n",
       "┡━━━━━━━━━━━━━━━━━━━━━━━━━━━╇━━━━━━━━━━━━━━━━━━━━━━━━━━━┩\n",
       "│\u001b[36m \u001b[0m\u001b[36m        test_acc         \u001b[0m\u001b[36m \u001b[0m│\u001b[35m \u001b[0m\u001b[35m          0.75           \u001b[0m\u001b[35m \u001b[0m│\n",
       "│\u001b[36m \u001b[0m\u001b[36m         test_f1         \u001b[0m\u001b[36m \u001b[0m│\u001b[35m \u001b[0m\u001b[35m   0.7505274415016174    \u001b[0m\u001b[35m \u001b[0m│\n",
       "│\u001b[36m \u001b[0m\u001b[36m        test_loss        \u001b[0m\u001b[36m \u001b[0m│\u001b[35m \u001b[0m\u001b[35m   0.5893567204475403    \u001b[0m\u001b[35m \u001b[0m│\n",
       "└───────────────────────────┴───────────────────────────┘\n"
      ]
     },
     "metadata": {},
     "output_type": "display_data"
    },
    {
     "data": {
      "text/html": [],
      "text/plain": [
       "<IPython.core.display.HTML object>"
      ]
     },
     "metadata": {},
     "output_type": "display_data"
    },
    {
     "data": {
      "text/html": [
       "<br>    <style><br>        .wandb-row {<br>            display: flex;<br>            flex-direction: row;<br>            flex-wrap: wrap;<br>            justify-content: flex-start;<br>            width: 100%;<br>        }<br>        .wandb-col {<br>            display: flex;<br>            flex-direction: column;<br>            flex-basis: 100%;<br>            flex: 1;<br>            padding: 10px;<br>        }<br>    </style><br><div class=\"wandb-row\"><div class=\"wandb-col\"><h3>Run history:</h3><br/><table class=\"wandb\"><tr><td>epoch</td><td>▁▁▂▂▂▃▃▃▅▅▅▆▆▇▇▇█</td></tr><tr><td>test_acc</td><td>▁</td></tr><tr><td>test_f1</td><td>▁</td></tr><tr><td>test_loss</td><td>▁</td></tr><tr><td>train_acc</td><td>▁▆▇▇▇█</td></tr><tr><td>train_loss_epoch</td><td>█▃▂▂▂▁</td></tr><tr><td>train_loss_step</td><td>▅▁▆█</td></tr><tr><td>train_macro_f1</td><td>▁▆▇▇▆█</td></tr><tr><td>train_macro_precision</td><td>▁▆▇▇▆█</td></tr><tr><td>train_macro_recall</td><td>▁▆▇▇▇█</td></tr><tr><td>trainer/global_step</td><td>▁▁▁▁▁▁▂▂▂▁▁▁▁▂▃▂▂▂▂▄▂▂▂▂▂▆▂▂▂▂▂▇▇▂▂▂▂▂▃█</td></tr><tr><td>val_acc</td><td>▁▇█▆▆▆</td></tr><tr><td>val_loss_epoch</td><td>█▁▂▃▄▄</td></tr><tr><td>val_loss_step</td><td>▃▃▃▃▃█▂▂▄▄▄▅▁▃▃▄▃▃▄▄▂▃▄▂▂▇▂▂▂▃▄▄▅▅▁▂▃▃▆▂</td></tr><tr><td>val_macro_f1</td><td>▁▇█▅▆▆</td></tr><tr><td>val_macro_precision</td><td>▂▅█▁▅▇</td></tr><tr><td>val_macro_recall</td><td>▁▇█▅▆▆</td></tr></table><br/></div><div class=\"wandb-col\"><h3>Run summary:</h3><br/><table class=\"wandb\"><tr><td>epoch</td><td>6</td></tr><tr><td>test_acc</td><td>0.75</td></tr><tr><td>test_f1</td><td>0.75053</td></tr><tr><td>test_loss</td><td>0.58936</td></tr><tr><td>train_acc</td><td>0.77024</td></tr><tr><td>train_loss_epoch</td><td>0.57027</td></tr><tr><td>train_loss_step</td><td>0.61176</td></tr><tr><td>train_macro_f1</td><td>0.76806</td></tr><tr><td>train_macro_precision</td><td>0.76764</td></tr><tr><td>train_macro_recall</td><td>0.76879</td></tr><tr><td>trainer/global_step</td><td>234</td></tr><tr><td>val_acc</td><td>0.82278</td></tr><tr><td>val_loss_epoch</td><td>0.45567</td></tr><tr><td>val_loss_step</td><td>0.27522</td></tr><tr><td>val_macro_f1</td><td>0.81458</td></tr><tr><td>val_macro_precision</td><td>0.83153</td></tr><tr><td>val_macro_recall</td><td>0.81398</td></tr></table><br/></div></div>"
      ],
      "text/plain": [
       "<IPython.core.display.HTML object>"
      ]
     },
     "metadata": {},
     "output_type": "display_data"
    },
    {
     "data": {
      "text/html": [
       " View run <strong style=\"color:#cdcd00\">EfficienNet-B0_1024_0.002790</strong> at: <a href='https://wandb.ai/s26048-polish-japanese-academy-of-information-technology-/effnet_sweep/runs/b6kkojht' target=\"_blank\">https://wandb.ai/s26048-polish-japanese-academy-of-information-technology-/effnet_sweep/runs/b6kkojht</a><br> View project at: <a href='https://wandb.ai/s26048-polish-japanese-academy-of-information-technology-/effnet_sweep' target=\"_blank\">https://wandb.ai/s26048-polish-japanese-academy-of-information-technology-/effnet_sweep</a><br>Synced 5 W&B file(s), 0 media file(s), 2 artifact file(s) and 0 other file(s)"
      ],
      "text/plain": [
       "<IPython.core.display.HTML object>"
      ]
     },
     "metadata": {},
     "output_type": "display_data"
    },
    {
     "data": {
      "text/html": [
       "Find logs at: <code>./wandb/run-20250112_180310-b6kkojht/logs</code>"
      ],
      "text/plain": [
       "<IPython.core.display.HTML object>"
      ]
     },
     "metadata": {},
     "output_type": "display_data"
    },
    {
     "name": "stderr",
     "output_type": "stream",
     "text": [
      "\u001b[34m\u001b[1mwandb\u001b[0m: Agent Starting Run: qu3ere7a with config:\n",
      "\u001b[34m\u001b[1mwandb\u001b[0m: \tbatch_size: 128\n",
      "\u001b[34m\u001b[1mwandb\u001b[0m: \tdropout_rate: 0.7\n",
      "\u001b[34m\u001b[1mwandb\u001b[0m: \tlayer1_size: 256\n",
      "\u001b[34m\u001b[1mwandb\u001b[0m: \tlearning_rate: 0.002861186792378731\n",
      "\u001b[34m\u001b[1mwandb\u001b[0m: \tn_epochs: 30\n"
     ]
    },
    {
     "data": {
      "text/html": [
       "Tracking run with wandb version 0.19.1"
      ],
      "text/plain": [
       "<IPython.core.display.HTML object>"
      ]
     },
     "metadata": {},
     "output_type": "display_data"
    },
    {
     "data": {
      "text/html": [
       "Run data is saved locally in <code>/kaggle/working/wandb/run-20250112_180905-qu3ere7a</code>"
      ],
      "text/plain": [
       "<IPython.core.display.HTML object>"
      ]
     },
     "metadata": {},
     "output_type": "display_data"
    },
    {
     "data": {
      "text/html": [
       "Syncing run <strong><a href='https://wandb.ai/s26048-polish-japanese-academy-of-information-technology-/effnet_sweep/runs/qu3ere7a' target=\"_blank\">silvery-sweep-28</a></strong> to <a href='https://wandb.ai/s26048-polish-japanese-academy-of-information-technology-/effnet_sweep' target=\"_blank\">Weights & Biases</a> (<a href='https://wandb.me/developer-guide' target=\"_blank\">docs</a>)<br>Sweep page: <a href='https://wandb.ai/s26048-polish-japanese-academy-of-information-technology-/effnet_sweep/sweeps/dmftq1qt' target=\"_blank\">https://wandb.ai/s26048-polish-japanese-academy-of-information-technology-/effnet_sweep/sweeps/dmftq1qt</a>"
      ],
      "text/plain": [
       "<IPython.core.display.HTML object>"
      ]
     },
     "metadata": {},
     "output_type": "display_data"
    },
    {
     "data": {
      "text/html": [
       " View project at <a href='https://wandb.ai/s26048-polish-japanese-academy-of-information-technology-/effnet_sweep' target=\"_blank\">https://wandb.ai/s26048-polish-japanese-academy-of-information-technology-/effnet_sweep</a>"
      ],
      "text/plain": [
       "<IPython.core.display.HTML object>"
      ]
     },
     "metadata": {},
     "output_type": "display_data"
    },
    {
     "data": {
      "text/html": [
       " View sweep at <a href='https://wandb.ai/s26048-polish-japanese-academy-of-information-technology-/effnet_sweep/sweeps/dmftq1qt' target=\"_blank\">https://wandb.ai/s26048-polish-japanese-academy-of-information-technology-/effnet_sweep/sweeps/dmftq1qt</a>"
      ],
      "text/plain": [
       "<IPython.core.display.HTML object>"
      ]
     },
     "metadata": {},
     "output_type": "display_data"
    },
    {
     "data": {
      "text/html": [
       " View run at <a href='https://wandb.ai/s26048-polish-japanese-academy-of-information-technology-/effnet_sweep/runs/qu3ere7a' target=\"_blank\">https://wandb.ai/s26048-polish-japanese-academy-of-information-technology-/effnet_sweep/runs/qu3ere7a</a>"
      ],
      "text/plain": [
       "<IPython.core.display.HTML object>"
      ]
     },
     "metadata": {},
     "output_type": "display_data"
    },
    {
     "data": {
      "application/vnd.jupyter.widget-view+json": {
       "model_id": "",
       "version_major": 2,
       "version_minor": 0
      },
      "text/plain": [
       "Sanity Checking: |          | 0/? [00:00<?, ?it/s]"
      ]
     },
     "metadata": {},
     "output_type": "display_data"
    },
    {
     "data": {
      "application/vnd.jupyter.widget-view+json": {
       "model_id": "98217eafdc524b248770344984182cc7",
       "version_major": 2,
       "version_minor": 0
      },
      "text/plain": [
       "Training: |          | 0/? [00:00<?, ?it/s]"
      ]
     },
     "metadata": {},
     "output_type": "display_data"
    },
    {
     "data": {
      "application/vnd.jupyter.widget-view+json": {
       "model_id": "",
       "version_major": 2,
       "version_minor": 0
      },
      "text/plain": [
       "Validation: |          | 0/? [00:00<?, ?it/s]"
      ]
     },
     "metadata": {},
     "output_type": "display_data"
    },
    {
     "data": {
      "application/vnd.jupyter.widget-view+json": {
       "model_id": "",
       "version_major": 2,
       "version_minor": 0
      },
      "text/plain": [
       "Validation: |          | 0/? [00:00<?, ?it/s]"
      ]
     },
     "metadata": {},
     "output_type": "display_data"
    },
    {
     "data": {
      "application/vnd.jupyter.widget-view+json": {
       "model_id": "",
       "version_major": 2,
       "version_minor": 0
      },
      "text/plain": [
       "Validation: |          | 0/? [00:00<?, ?it/s]"
      ]
     },
     "metadata": {},
     "output_type": "display_data"
    },
    {
     "data": {
      "application/vnd.jupyter.widget-view+json": {
       "model_id": "",
       "version_major": 2,
       "version_minor": 0
      },
      "text/plain": [
       "Validation: |          | 0/? [00:00<?, ?it/s]"
      ]
     },
     "metadata": {},
     "output_type": "display_data"
    },
    {
     "data": {
      "application/vnd.jupyter.widget-view+json": {
       "model_id": "",
       "version_major": 2,
       "version_minor": 0
      },
      "text/plain": [
       "Validation: |          | 0/? [00:00<?, ?it/s]"
      ]
     },
     "metadata": {},
     "output_type": "display_data"
    },
    {
     "data": {
      "application/vnd.jupyter.widget-view+json": {
       "model_id": "",
       "version_major": 2,
       "version_minor": 0
      },
      "text/plain": [
       "Validation: |          | 0/? [00:00<?, ?it/s]"
      ]
     },
     "metadata": {},
     "output_type": "display_data"
    },
    {
     "data": {
      "application/vnd.jupyter.widget-view+json": {
       "model_id": "a1b2b29c44154a63a51a090d5f2681b6",
       "version_major": 2,
       "version_minor": 0
      },
      "text/plain": [
       "Testing: |          | 0/? [00:00<?, ?it/s]"
      ]
     },
     "metadata": {},
     "output_type": "display_data"
    },
    {
     "data": {
      "text/html": [
       "<pre style=\"white-space:pre;overflow-x:auto;line-height:normal;font-family:Menlo,'DejaVu Sans Mono',consolas,'Courier New',monospace\">┏━━━━━━━━━━━━━━━━━━━━━━━━━━━┳━━━━━━━━━━━━━━━━━━━━━━━━━━━┓\n",
       "┃<span style=\"font-weight: bold\">        Test metric        </span>┃<span style=\"font-weight: bold\">       DataLoader 0        </span>┃\n",
       "┡━━━━━━━━━━━━━━━━━━━━━━━━━━━╇━━━━━━━━━━━━━━━━━━━━━━━━━━━┩\n",
       "│<span style=\"color: #008080; text-decoration-color: #008080\">         test_acc          </span>│<span style=\"color: #800080; text-decoration-color: #800080\">    0.7427272796630859     </span>│\n",
       "│<span style=\"color: #008080; text-decoration-color: #008080\">          test_f1          </span>│<span style=\"color: #800080; text-decoration-color: #800080\">    0.7297022938728333     </span>│\n",
       "│<span style=\"color: #008080; text-decoration-color: #008080\">         test_loss         </span>│<span style=\"color: #800080; text-decoration-color: #800080\">    0.6428036689758301     </span>│\n",
       "└───────────────────────────┴───────────────────────────┘\n",
       "</pre>\n"
      ],
      "text/plain": [
       "┏━━━━━━━━━━━━━━━━━━━━━━━━━━━┳━━━━━━━━━━━━━━━━━━━━━━━━━━━┓\n",
       "┃\u001b[1m \u001b[0m\u001b[1m       Test metric       \u001b[0m\u001b[1m \u001b[0m┃\u001b[1m \u001b[0m\u001b[1m      DataLoader 0       \u001b[0m\u001b[1m \u001b[0m┃\n",
       "┡━━━━━━━━━━━━━━━━━━━━━━━━━━━╇━━━━━━━━━━━━━━━━━━━━━━━━━━━┩\n",
       "│\u001b[36m \u001b[0m\u001b[36m        test_acc         \u001b[0m\u001b[36m \u001b[0m│\u001b[35m \u001b[0m\u001b[35m   0.7427272796630859    \u001b[0m\u001b[35m \u001b[0m│\n",
       "│\u001b[36m \u001b[0m\u001b[36m         test_f1         \u001b[0m\u001b[36m \u001b[0m│\u001b[35m \u001b[0m\u001b[35m   0.7297022938728333    \u001b[0m\u001b[35m \u001b[0m│\n",
       "│\u001b[36m \u001b[0m\u001b[36m        test_loss        \u001b[0m\u001b[36m \u001b[0m│\u001b[35m \u001b[0m\u001b[35m   0.6428036689758301    \u001b[0m\u001b[35m \u001b[0m│\n",
       "└───────────────────────────┴───────────────────────────┘\n"
      ]
     },
     "metadata": {},
     "output_type": "display_data"
    },
    {
     "data": {
      "text/html": [],
      "text/plain": [
       "<IPython.core.display.HTML object>"
      ]
     },
     "metadata": {},
     "output_type": "display_data"
    },
    {
     "data": {
      "text/html": [
       "<br>    <style><br>        .wandb-row {<br>            display: flex;<br>            flex-direction: row;<br>            flex-wrap: wrap;<br>            justify-content: flex-start;<br>            width: 100%;<br>        }<br>        .wandb-col {<br>            display: flex;<br>            flex-direction: column;<br>            flex-basis: 100%;<br>            flex: 1;<br>            padding: 10px;<br>        }<br>    </style><br><div class=\"wandb-row\"><div class=\"wandb-col\"><h3>Run history:</h3><br/><table class=\"wandb\"><tr><td>epoch</td><td>▁▁▂▂▂▃▃▃▅▅▅▆▆▇▇▇█</td></tr><tr><td>test_acc</td><td>▁</td></tr><tr><td>test_f1</td><td>▁</td></tr><tr><td>test_loss</td><td>▁</td></tr><tr><td>train_acc</td><td>▁▆▆███</td></tr><tr><td>train_loss_epoch</td><td>█▂▂▁▁▁</td></tr><tr><td>train_loss_step</td><td>█▁▃▄</td></tr><tr><td>train_macro_f1</td><td>▁▇▆███</td></tr><tr><td>train_macro_precision</td><td>▁▇▆███</td></tr><tr><td>train_macro_recall</td><td>▁▆▆███</td></tr><tr><td>trainer/global_step</td><td>▁▁▁▁▁▁▂▁▁▁▁▁▂▃▂▂▂▂▂▄▅▂▂▂▂▆▂▂▂▂▂▂▂▇▂▂▃▃▃█</td></tr><tr><td>val_acc</td><td>▂▆█▆▃▁</td></tr><tr><td>val_loss_epoch</td><td>█▂▄▁▄▂</td></tr><tr><td>val_loss_step</td><td>▂▂▆▇▃▇█▆▁▇▃▅▅▃▁▆▂▇▇▆▂▅▆▂▂▄▂▇▇▃▆▅▃▁▁█▃▂▄▃</td></tr><tr><td>val_macro_f1</td><td>▂▆█▇▃▁</td></tr><tr><td>val_macro_precision</td><td>▁▆█▆▂▂</td></tr><tr><td>val_macro_recall</td><td>▁▇█▆▃▁</td></tr></table><br/></div><div class=\"wandb-col\"><h3>Run summary:</h3><br/><table class=\"wandb\"><tr><td>epoch</td><td>6</td></tr><tr><td>test_acc</td><td>0.74273</td></tr><tr><td>test_f1</td><td>0.7297</td></tr><tr><td>test_loss</td><td>0.6428</td></tr><tr><td>train_acc</td><td>0.66452</td></tr><tr><td>train_loss_epoch</td><td>0.80836</td></tr><tr><td>train_loss_step</td><td>0.83205</td></tr><tr><td>train_macro_f1</td><td>0.6596</td></tr><tr><td>train_macro_precision</td><td>0.65779</td></tr><tr><td>train_macro_recall</td><td>0.66248</td></tr><tr><td>trainer/global_step</td><td>234</td></tr><tr><td>val_acc</td><td>0.79455</td></tr><tr><td>val_loss_epoch</td><td>0.53421</td></tr><tr><td>val_loss_step</td><td>0.41089</td></tr><tr><td>val_macro_f1</td><td>0.78788</td></tr><tr><td>val_macro_precision</td><td>0.80374</td></tr><tr><td>val_macro_recall</td><td>0.79368</td></tr></table><br/></div></div>"
      ],
      "text/plain": [
       "<IPython.core.display.HTML object>"
      ]
     },
     "metadata": {},
     "output_type": "display_data"
    },
    {
     "data": {
      "text/html": [
       " View run <strong style=\"color:#cdcd00\">EfficienNet-B0_256_0.002861</strong> at: <a href='https://wandb.ai/s26048-polish-japanese-academy-of-information-technology-/effnet_sweep/runs/qu3ere7a' target=\"_blank\">https://wandb.ai/s26048-polish-japanese-academy-of-information-technology-/effnet_sweep/runs/qu3ere7a</a><br> View project at: <a href='https://wandb.ai/s26048-polish-japanese-academy-of-information-technology-/effnet_sweep' target=\"_blank\">https://wandb.ai/s26048-polish-japanese-academy-of-information-technology-/effnet_sweep</a><br>Synced 5 W&B file(s), 0 media file(s), 2 artifact file(s) and 0 other file(s)"
      ],
      "text/plain": [
       "<IPython.core.display.HTML object>"
      ]
     },
     "metadata": {},
     "output_type": "display_data"
    },
    {
     "data": {
      "text/html": [
       "Find logs at: <code>./wandb/run-20250112_180905-qu3ere7a/logs</code>"
      ],
      "text/plain": [
       "<IPython.core.display.HTML object>"
      ]
     },
     "metadata": {},
     "output_type": "display_data"
    },
    {
     "name": "stderr",
     "output_type": "stream",
     "text": [
      "\u001b[34m\u001b[1mwandb\u001b[0m: Agent Starting Run: e8cuq341 with config:\n",
      "\u001b[34m\u001b[1mwandb\u001b[0m: \tbatch_size: 64\n",
      "\u001b[34m\u001b[1mwandb\u001b[0m: \tdropout_rate: 0.2\n",
      "\u001b[34m\u001b[1mwandb\u001b[0m: \tlayer1_size: 1024\n",
      "\u001b[34m\u001b[1mwandb\u001b[0m: \tlearning_rate: 0.008997755040854032\n",
      "\u001b[34m\u001b[1mwandb\u001b[0m: \tn_epochs: 10\n"
     ]
    },
    {
     "data": {
      "text/html": [
       "Tracking run with wandb version 0.19.1"
      ],
      "text/plain": [
       "<IPython.core.display.HTML object>"
      ]
     },
     "metadata": {},
     "output_type": "display_data"
    },
    {
     "data": {
      "text/html": [
       "Run data is saved locally in <code>/kaggle/working/wandb/run-20250112_181455-e8cuq341</code>"
      ],
      "text/plain": [
       "<IPython.core.display.HTML object>"
      ]
     },
     "metadata": {},
     "output_type": "display_data"
    },
    {
     "data": {
      "text/html": [
       "Syncing run <strong><a href='https://wandb.ai/s26048-polish-japanese-academy-of-information-technology-/effnet_sweep/runs/e8cuq341' target=\"_blank\">dark-sweep-29</a></strong> to <a href='https://wandb.ai/s26048-polish-japanese-academy-of-information-technology-/effnet_sweep' target=\"_blank\">Weights & Biases</a> (<a href='https://wandb.me/developer-guide' target=\"_blank\">docs</a>)<br>Sweep page: <a href='https://wandb.ai/s26048-polish-japanese-academy-of-information-technology-/effnet_sweep/sweeps/dmftq1qt' target=\"_blank\">https://wandb.ai/s26048-polish-japanese-academy-of-information-technology-/effnet_sweep/sweeps/dmftq1qt</a>"
      ],
      "text/plain": [
       "<IPython.core.display.HTML object>"
      ]
     },
     "metadata": {},
     "output_type": "display_data"
    },
    {
     "data": {
      "text/html": [
       " View project at <a href='https://wandb.ai/s26048-polish-japanese-academy-of-information-technology-/effnet_sweep' target=\"_blank\">https://wandb.ai/s26048-polish-japanese-academy-of-information-technology-/effnet_sweep</a>"
      ],
      "text/plain": [
       "<IPython.core.display.HTML object>"
      ]
     },
     "metadata": {},
     "output_type": "display_data"
    },
    {
     "data": {
      "text/html": [
       " View sweep at <a href='https://wandb.ai/s26048-polish-japanese-academy-of-information-technology-/effnet_sweep/sweeps/dmftq1qt' target=\"_blank\">https://wandb.ai/s26048-polish-japanese-academy-of-information-technology-/effnet_sweep/sweeps/dmftq1qt</a>"
      ],
      "text/plain": [
       "<IPython.core.display.HTML object>"
      ]
     },
     "metadata": {},
     "output_type": "display_data"
    },
    {
     "data": {
      "text/html": [
       " View run at <a href='https://wandb.ai/s26048-polish-japanese-academy-of-information-technology-/effnet_sweep/runs/e8cuq341' target=\"_blank\">https://wandb.ai/s26048-polish-japanese-academy-of-information-technology-/effnet_sweep/runs/e8cuq341</a>"
      ],
      "text/plain": [
       "<IPython.core.display.HTML object>"
      ]
     },
     "metadata": {},
     "output_type": "display_data"
    },
    {
     "data": {
      "application/vnd.jupyter.widget-view+json": {
       "model_id": "",
       "version_major": 2,
       "version_minor": 0
      },
      "text/plain": [
       "Sanity Checking: |          | 0/? [00:00<?, ?it/s]"
      ]
     },
     "metadata": {},
     "output_type": "display_data"
    },
    {
     "data": {
      "application/vnd.jupyter.widget-view+json": {
       "model_id": "d8b8a1ef6c624b1498156d25f52a1f22",
       "version_major": 2,
       "version_minor": 0
      },
      "text/plain": [
       "Training: |          | 0/? [00:00<?, ?it/s]"
      ]
     },
     "metadata": {},
     "output_type": "display_data"
    },
    {
     "data": {
      "application/vnd.jupyter.widget-view+json": {
       "model_id": "",
       "version_major": 2,
       "version_minor": 0
      },
      "text/plain": [
       "Validation: |          | 0/? [00:00<?, ?it/s]"
      ]
     },
     "metadata": {},
     "output_type": "display_data"
    },
    {
     "data": {
      "application/vnd.jupyter.widget-view+json": {
       "model_id": "",
       "version_major": 2,
       "version_minor": 0
      },
      "text/plain": [
       "Validation: |          | 0/? [00:00<?, ?it/s]"
      ]
     },
     "metadata": {},
     "output_type": "display_data"
    },
    {
     "data": {
      "application/vnd.jupyter.widget-view+json": {
       "model_id": "",
       "version_major": 2,
       "version_minor": 0
      },
      "text/plain": [
       "Validation: |          | 0/? [00:00<?, ?it/s]"
      ]
     },
     "metadata": {},
     "output_type": "display_data"
    },
    {
     "data": {
      "application/vnd.jupyter.widget-view+json": {
       "model_id": "",
       "version_major": 2,
       "version_minor": 0
      },
      "text/plain": [
       "Validation: |          | 0/? [00:00<?, ?it/s]"
      ]
     },
     "metadata": {},
     "output_type": "display_data"
    },
    {
     "data": {
      "application/vnd.jupyter.widget-view+json": {
       "model_id": "",
       "version_major": 2,
       "version_minor": 0
      },
      "text/plain": [
       "Validation: |          | 0/? [00:00<?, ?it/s]"
      ]
     },
     "metadata": {},
     "output_type": "display_data"
    },
    {
     "data": {
      "application/vnd.jupyter.widget-view+json": {
       "model_id": "",
       "version_major": 2,
       "version_minor": 0
      },
      "text/plain": [
       "Validation: |          | 0/? [00:00<?, ?it/s]"
      ]
     },
     "metadata": {},
     "output_type": "display_data"
    },
    {
     "data": {
      "application/vnd.jupyter.widget-view+json": {
       "model_id": "",
       "version_major": 2,
       "version_minor": 0
      },
      "text/plain": [
       "Validation: |          | 0/? [00:00<?, ?it/s]"
      ]
     },
     "metadata": {},
     "output_type": "display_data"
    },
    {
     "data": {
      "application/vnd.jupyter.widget-view+json": {
       "model_id": "e2af16548b324699a71d7cd79228955d",
       "version_major": 2,
       "version_minor": 0
      },
      "text/plain": [
       "Testing: |          | 0/? [00:00<?, ?it/s]"
      ]
     },
     "metadata": {},
     "output_type": "display_data"
    },
    {
     "data": {
      "text/html": [
       "<pre style=\"white-space:pre;overflow-x:auto;line-height:normal;font-family:Menlo,'DejaVu Sans Mono',consolas,'Courier New',monospace\">┏━━━━━━━━━━━━━━━━━━━━━━━━━━━┳━━━━━━━━━━━━━━━━━━━━━━━━━━━┓\n",
       "┃<span style=\"font-weight: bold\">        Test metric        </span>┃<span style=\"font-weight: bold\">       DataLoader 0        </span>┃\n",
       "┡━━━━━━━━━━━━━━━━━━━━━━━━━━━╇━━━━━━━━━━━━━━━━━━━━━━━━━━━┩\n",
       "│<span style=\"color: #008080; text-decoration-color: #008080\">         test_acc          </span>│<span style=\"color: #800080; text-decoration-color: #800080\">     0.746363639831543     </span>│\n",
       "│<span style=\"color: #008080; text-decoration-color: #008080\">          test_f1          </span>│<span style=\"color: #800080; text-decoration-color: #800080\">    0.7459136247634888     </span>│\n",
       "│<span style=\"color: #008080; text-decoration-color: #008080\">         test_loss         </span>│<span style=\"color: #800080; text-decoration-color: #800080\">    0.6095483303070068     </span>│\n",
       "└───────────────────────────┴───────────────────────────┘\n",
       "</pre>\n"
      ],
      "text/plain": [
       "┏━━━━━━━━━━━━━━━━━━━━━━━━━━━┳━━━━━━━━━━━━━━━━━━━━━━━━━━━┓\n",
       "┃\u001b[1m \u001b[0m\u001b[1m       Test metric       \u001b[0m\u001b[1m \u001b[0m┃\u001b[1m \u001b[0m\u001b[1m      DataLoader 0       \u001b[0m\u001b[1m \u001b[0m┃\n",
       "┡━━━━━━━━━━━━━━━━━━━━━━━━━━━╇━━━━━━━━━━━━━━━━━━━━━━━━━━━┩\n",
       "│\u001b[36m \u001b[0m\u001b[36m        test_acc         \u001b[0m\u001b[36m \u001b[0m│\u001b[35m \u001b[0m\u001b[35m    0.746363639831543    \u001b[0m\u001b[35m \u001b[0m│\n",
       "│\u001b[36m \u001b[0m\u001b[36m         test_f1         \u001b[0m\u001b[36m \u001b[0m│\u001b[35m \u001b[0m\u001b[35m   0.7459136247634888    \u001b[0m\u001b[35m \u001b[0m│\n",
       "│\u001b[36m \u001b[0m\u001b[36m        test_loss        \u001b[0m\u001b[36m \u001b[0m│\u001b[35m \u001b[0m\u001b[35m   0.6095483303070068    \u001b[0m\u001b[35m \u001b[0m│\n",
       "└───────────────────────────┴───────────────────────────┘\n"
      ]
     },
     "metadata": {},
     "output_type": "display_data"
    },
    {
     "data": {
      "text/html": [],
      "text/plain": [
       "<IPython.core.display.HTML object>"
      ]
     },
     "metadata": {},
     "output_type": "display_data"
    },
    {
     "data": {
      "text/html": [
       "<br>    <style><br>        .wandb-row {<br>            display: flex;<br>            flex-direction: row;<br>            flex-wrap: wrap;<br>            justify-content: flex-start;<br>            width: 100%;<br>        }<br>        .wandb-col {<br>            display: flex;<br>            flex-direction: column;<br>            flex-basis: 100%;<br>            flex: 1;<br>            padding: 10px;<br>        }<br>    </style><br><div class=\"wandb-row\"><div class=\"wandb-col\"><h3>Run history:</h3><br/><table class=\"wandb\"><tr><td>epoch</td><td>▁▁▁▂▂▂▂▃▃▃▄▄▄▄▅▅▅▆▆▆▆▇▇▇█</td></tr><tr><td>test_acc</td><td>▁</td></tr><tr><td>test_f1</td><td>▁</td></tr><tr><td>test_loss</td><td>▁</td></tr><tr><td>train_acc</td><td>▁▆▆▇█▇█</td></tr><tr><td>train_loss_epoch</td><td>█▂▂▁▁▁▁</td></tr><tr><td>train_loss_step</td><td>▄▅██▆▁▅▃▁▄</td></tr><tr><td>train_macro_f1</td><td>▁▆▆▇█▇█</td></tr><tr><td>train_macro_precision</td><td>▁▆▇▇█▇█</td></tr><tr><td>train_macro_recall</td><td>▁▆▆▇█▇█</td></tr><tr><td>trainer/global_step</td><td>▁▁▁▁▁▁▂▂▁▁▁▁▁▁▁▂▂▂▂▂▅▅▂▂▂▂▂▂▂▆▇▂▂▂▂▇▂▂▂█</td></tr><tr><td>val_acc</td><td>▅▂▃█▅▅▁</td></tr><tr><td>val_loss_epoch</td><td>▇█▅▂▁▂▃</td></tr><tr><td>val_loss_step</td><td>▁▅▅▆▄▅▄▆▇▁▃▄█▂▃▅▅▄▆▇▇▃▆▃▆▂▃▂▆▆▂▃▇▂▂▅▅▃▄█</td></tr><tr><td>val_macro_f1</td><td>▄▃▃█▅▅▁</td></tr><tr><td>val_macro_precision</td><td>▃▅▂█▄▃▁</td></tr><tr><td>val_macro_recall</td><td>▄▂▃█▅▅▁</td></tr></table><br/></div><div class=\"wandb-col\"><h3>Run summary:</h3><br/><table class=\"wandb\"><tr><td>epoch</td><td>7</td></tr><tr><td>test_acc</td><td>0.74636</td></tr><tr><td>test_f1</td><td>0.74591</td></tr><tr><td>test_loss</td><td>0.60955</td></tr><tr><td>train_acc</td><td>0.76359</td></tr><tr><td>train_loss_epoch</td><td>0.59108</td></tr><tr><td>train_loss_step</td><td>0.59478</td></tr><tr><td>train_macro_f1</td><td>0.76132</td></tr><tr><td>train_macro_precision</td><td>0.76075</td></tr><tr><td>train_macro_recall</td><td>0.76206</td></tr><tr><td>trainer/global_step</td><td>546</td></tr><tr><td>val_acc</td><td>0.81207</td></tr><tr><td>val_loss_epoch</td><td>0.44906</td></tr><tr><td>val_loss_step</td><td>0.28906</td></tr><tr><td>val_macro_f1</td><td>0.80539</td></tr><tr><td>val_macro_precision</td><td>0.81668</td></tr><tr><td>val_macro_recall</td><td>0.80445</td></tr></table><br/></div></div>"
      ],
      "text/plain": [
       "<IPython.core.display.HTML object>"
      ]
     },
     "metadata": {},
     "output_type": "display_data"
    },
    {
     "data": {
      "text/html": [
       " View run <strong style=\"color:#cdcd00\">EfficienNet-B0_1024_0.008997</strong> at: <a href='https://wandb.ai/s26048-polish-japanese-academy-of-information-technology-/effnet_sweep/runs/e8cuq341' target=\"_blank\">https://wandb.ai/s26048-polish-japanese-academy-of-information-technology-/effnet_sweep/runs/e8cuq341</a><br> View project at: <a href='https://wandb.ai/s26048-polish-japanese-academy-of-information-technology-/effnet_sweep' target=\"_blank\">https://wandb.ai/s26048-polish-japanese-academy-of-information-technology-/effnet_sweep</a><br>Synced 5 W&B file(s), 0 media file(s), 2 artifact file(s) and 0 other file(s)"
      ],
      "text/plain": [
       "<IPython.core.display.HTML object>"
      ]
     },
     "metadata": {},
     "output_type": "display_data"
    },
    {
     "data": {
      "text/html": [
       "Find logs at: <code>./wandb/run-20250112_181455-e8cuq341/logs</code>"
      ],
      "text/plain": [
       "<IPython.core.display.HTML object>"
      ]
     },
     "metadata": {},
     "output_type": "display_data"
    },
    {
     "name": "stderr",
     "output_type": "stream",
     "text": [
      "\u001b[34m\u001b[1mwandb\u001b[0m: Agent Starting Run: yon1saet with config:\n",
      "\u001b[34m\u001b[1mwandb\u001b[0m: \tbatch_size: 64\n",
      "\u001b[34m\u001b[1mwandb\u001b[0m: \tdropout_rate: 0.2\n",
      "\u001b[34m\u001b[1mwandb\u001b[0m: \tlayer1_size: 1024\n",
      "\u001b[34m\u001b[1mwandb\u001b[0m: \tlearning_rate: 0.0009913817060686484\n",
      "\u001b[34m\u001b[1mwandb\u001b[0m: \tn_epochs: 20\n"
     ]
    },
    {
     "data": {
      "text/html": [
       "Tracking run with wandb version 0.19.1"
      ],
      "text/plain": [
       "<IPython.core.display.HTML object>"
      ]
     },
     "metadata": {},
     "output_type": "display_data"
    },
    {
     "data": {
      "text/html": [
       "Run data is saved locally in <code>/kaggle/working/wandb/run-20250112_182131-yon1saet</code>"
      ],
      "text/plain": [
       "<IPython.core.display.HTML object>"
      ]
     },
     "metadata": {},
     "output_type": "display_data"
    },
    {
     "data": {
      "text/html": [
       "Syncing run <strong><a href='https://wandb.ai/s26048-polish-japanese-academy-of-information-technology-/effnet_sweep/runs/yon1saet' target=\"_blank\">rich-sweep-30</a></strong> to <a href='https://wandb.ai/s26048-polish-japanese-academy-of-information-technology-/effnet_sweep' target=\"_blank\">Weights & Biases</a> (<a href='https://wandb.me/developer-guide' target=\"_blank\">docs</a>)<br>Sweep page: <a href='https://wandb.ai/s26048-polish-japanese-academy-of-information-technology-/effnet_sweep/sweeps/dmftq1qt' target=\"_blank\">https://wandb.ai/s26048-polish-japanese-academy-of-information-technology-/effnet_sweep/sweeps/dmftq1qt</a>"
      ],
      "text/plain": [
       "<IPython.core.display.HTML object>"
      ]
     },
     "metadata": {},
     "output_type": "display_data"
    },
    {
     "data": {
      "text/html": [
       " View project at <a href='https://wandb.ai/s26048-polish-japanese-academy-of-information-technology-/effnet_sweep' target=\"_blank\">https://wandb.ai/s26048-polish-japanese-academy-of-information-technology-/effnet_sweep</a>"
      ],
      "text/plain": [
       "<IPython.core.display.HTML object>"
      ]
     },
     "metadata": {},
     "output_type": "display_data"
    },
    {
     "data": {
      "text/html": [
       " View sweep at <a href='https://wandb.ai/s26048-polish-japanese-academy-of-information-technology-/effnet_sweep/sweeps/dmftq1qt' target=\"_blank\">https://wandb.ai/s26048-polish-japanese-academy-of-information-technology-/effnet_sweep/sweeps/dmftq1qt</a>"
      ],
      "text/plain": [
       "<IPython.core.display.HTML object>"
      ]
     },
     "metadata": {},
     "output_type": "display_data"
    },
    {
     "data": {
      "text/html": [
       " View run at <a href='https://wandb.ai/s26048-polish-japanese-academy-of-information-technology-/effnet_sweep/runs/yon1saet' target=\"_blank\">https://wandb.ai/s26048-polish-japanese-academy-of-information-technology-/effnet_sweep/runs/yon1saet</a>"
      ],
      "text/plain": [
       "<IPython.core.display.HTML object>"
      ]
     },
     "metadata": {},
     "output_type": "display_data"
    },
    {
     "data": {
      "application/vnd.jupyter.widget-view+json": {
       "model_id": "",
       "version_major": 2,
       "version_minor": 0
      },
      "text/plain": [
       "Sanity Checking: |          | 0/? [00:00<?, ?it/s]"
      ]
     },
     "metadata": {},
     "output_type": "display_data"
    },
    {
     "data": {
      "application/vnd.jupyter.widget-view+json": {
       "model_id": "b1626ac92fdd4b26b1a0c34bae501e7d",
       "version_major": 2,
       "version_minor": 0
      },
      "text/plain": [
       "Training: |          | 0/? [00:00<?, ?it/s]"
      ]
     },
     "metadata": {},
     "output_type": "display_data"
    },
    {
     "data": {
      "application/vnd.jupyter.widget-view+json": {
       "model_id": "",
       "version_major": 2,
       "version_minor": 0
      },
      "text/plain": [
       "Validation: |          | 0/? [00:00<?, ?it/s]"
      ]
     },
     "metadata": {},
     "output_type": "display_data"
    },
    {
     "data": {
      "application/vnd.jupyter.widget-view+json": {
       "model_id": "",
       "version_major": 2,
       "version_minor": 0
      },
      "text/plain": [
       "Validation: |          | 0/? [00:00<?, ?it/s]"
      ]
     },
     "metadata": {},
     "output_type": "display_data"
    },
    {
     "data": {
      "application/vnd.jupyter.widget-view+json": {
       "model_id": "",
       "version_major": 2,
       "version_minor": 0
      },
      "text/plain": [
       "Validation: |          | 0/? [00:00<?, ?it/s]"
      ]
     },
     "metadata": {},
     "output_type": "display_data"
    },
    {
     "data": {
      "application/vnd.jupyter.widget-view+json": {
       "model_id": "",
       "version_major": 2,
       "version_minor": 0
      },
      "text/plain": [
       "Validation: |          | 0/? [00:00<?, ?it/s]"
      ]
     },
     "metadata": {},
     "output_type": "display_data"
    },
    {
     "data": {
      "application/vnd.jupyter.widget-view+json": {
       "model_id": "",
       "version_major": 2,
       "version_minor": 0
      },
      "text/plain": [
       "Validation: |          | 0/? [00:00<?, ?it/s]"
      ]
     },
     "metadata": {},
     "output_type": "display_data"
    },
    {
     "data": {
      "application/vnd.jupyter.widget-view+json": {
       "model_id": "",
       "version_major": 2,
       "version_minor": 0
      },
      "text/plain": [
       "Validation: |          | 0/? [00:00<?, ?it/s]"
      ]
     },
     "metadata": {},
     "output_type": "display_data"
    },
    {
     "data": {
      "application/vnd.jupyter.widget-view+json": {
       "model_id": "b2fcd1b08ea7432081c98a57b9431a08",
       "version_major": 2,
       "version_minor": 0
      },
      "text/plain": [
       "Testing: |          | 0/? [00:00<?, ?it/s]"
      ]
     },
     "metadata": {},
     "output_type": "display_data"
    },
    {
     "data": {
      "text/html": [
       "<pre style=\"white-space:pre;overflow-x:auto;line-height:normal;font-family:Menlo,'DejaVu Sans Mono',consolas,'Courier New',monospace\">┏━━━━━━━━━━━━━━━━━━━━━━━━━━━┳━━━━━━━━━━━━━━━━━━━━━━━━━━━┓\n",
       "┃<span style=\"font-weight: bold\">        Test metric        </span>┃<span style=\"font-weight: bold\">       DataLoader 0        </span>┃\n",
       "┡━━━━━━━━━━━━━━━━━━━━━━━━━━━╇━━━━━━━━━━━━━━━━━━━━━━━━━━━┩\n",
       "│<span style=\"color: #008080; text-decoration-color: #008080\">         test_acc          </span>│<span style=\"color: #800080; text-decoration-color: #800080\">    0.7718181610107422     </span>│\n",
       "│<span style=\"color: #008080; text-decoration-color: #008080\">          test_f1          </span>│<span style=\"color: #800080; text-decoration-color: #800080\">    0.7695397138595581     </span>│\n",
       "│<span style=\"color: #008080; text-decoration-color: #008080\">         test_loss         </span>│<span style=\"color: #800080; text-decoration-color: #800080\">    0.5813581347465515     </span>│\n",
       "└───────────────────────────┴───────────────────────────┘\n",
       "</pre>\n"
      ],
      "text/plain": [
       "┏━━━━━━━━━━━━━━━━━━━━━━━━━━━┳━━━━━━━━━━━━━━━━━━━━━━━━━━━┓\n",
       "┃\u001b[1m \u001b[0m\u001b[1m       Test metric       \u001b[0m\u001b[1m \u001b[0m┃\u001b[1m \u001b[0m\u001b[1m      DataLoader 0       \u001b[0m\u001b[1m \u001b[0m┃\n",
       "┡━━━━━━━━━━━━━━━━━━━━━━━━━━━╇━━━━━━━━━━━━━━━━━━━━━━━━━━━┩\n",
       "│\u001b[36m \u001b[0m\u001b[36m        test_acc         \u001b[0m\u001b[36m \u001b[0m│\u001b[35m \u001b[0m\u001b[35m   0.7718181610107422    \u001b[0m\u001b[35m \u001b[0m│\n",
       "│\u001b[36m \u001b[0m\u001b[36m         test_f1         \u001b[0m\u001b[36m \u001b[0m│\u001b[35m \u001b[0m\u001b[35m   0.7695397138595581    \u001b[0m\u001b[35m \u001b[0m│\n",
       "│\u001b[36m \u001b[0m\u001b[36m        test_loss        \u001b[0m\u001b[36m \u001b[0m│\u001b[35m \u001b[0m\u001b[35m   0.5813581347465515    \u001b[0m\u001b[35m \u001b[0m│\n",
       "└───────────────────────────┴───────────────────────────┘\n"
      ]
     },
     "metadata": {},
     "output_type": "display_data"
    },
    {
     "data": {
      "text/html": [],
      "text/plain": [
       "<IPython.core.display.HTML object>"
      ]
     },
     "metadata": {},
     "output_type": "display_data"
    },
    {
     "data": {
      "text/html": [
       "<br>    <style><br>        .wandb-row {<br>            display: flex;<br>            flex-direction: row;<br>            flex-wrap: wrap;<br>            justify-content: flex-start;<br>            width: 100%;<br>        }<br>        .wandb-col {<br>            display: flex;<br>            flex-direction: column;<br>            flex-basis: 100%;<br>            flex: 1;<br>            padding: 10px;<br>        }<br>    </style><br><div class=\"wandb-row\"><div class=\"wandb-col\"><h3>Run history:</h3><br/><table class=\"wandb\"><tr><td>epoch</td><td>▁▁▁▂▂▂▂▃▃▃▅▅▅▅▆▆▆▇▇▇▇█</td></tr><tr><td>test_acc</td><td>▁</td></tr><tr><td>test_f1</td><td>▁</td></tr><tr><td>test_loss</td><td>▁</td></tr><tr><td>train_acc</td><td>▁▅▆▇██</td></tr><tr><td>train_loss_epoch</td><td>█▃▃▂▁▁</td></tr><tr><td>train_loss_step</td><td>█▇▄▃▃▁▃▁▁</td></tr><tr><td>train_macro_f1</td><td>▁▅▆▇██</td></tr><tr><td>train_macro_precision</td><td>▁▅▆▇██</td></tr><tr><td>train_macro_recall</td><td>▁▅▆▇██</td></tr><tr><td>trainer/global_step</td><td>▁▁▁▁▁▁▃▄▁▁▂▂▄▅▂▂▂▂▂▂▆█▂▂▂▂▂▂█▃▃▃▃▃▃▃▃▃▃▃</td></tr><tr><td>val_acc</td><td>▅▁█▅▄▅</td></tr><tr><td>val_loss_epoch</td><td>█▇▂▂▃▁</td></tr><tr><td>val_loss_step</td><td>▃▁▅▇▆▆▅▃▄▅▅▅▃█▄▂▁▅▅▆▁▂▆▇▇▅▆▃▁▂▃▅▆▆▂▄▄▃▁▇</td></tr><tr><td>val_macro_f1</td><td>▅▁█▅▅▅</td></tr><tr><td>val_macro_precision</td><td>▇▁█▄▅▆</td></tr><tr><td>val_macro_recall</td><td>▅▁█▅▅▄</td></tr></table><br/></div><div class=\"wandb-col\"><h3>Run summary:</h3><br/><table class=\"wandb\"><tr><td>epoch</td><td>6</td></tr><tr><td>test_acc</td><td>0.77182</td></tr><tr><td>test_f1</td><td>0.76954</td></tr><tr><td>test_loss</td><td>0.58136</td></tr><tr><td>train_acc</td><td>0.78474</td></tr><tr><td>train_loss_epoch</td><td>0.5409</td></tr><tr><td>train_loss_step</td><td>0.41974</td></tr><tr><td>train_macro_f1</td><td>0.78225</td></tr><tr><td>train_macro_precision</td><td>0.78152</td></tr><tr><td>train_macro_recall</td><td>0.78326</td></tr><tr><td>trainer/global_step</td><td>468</td></tr><tr><td>val_acc</td><td>0.83057</td></tr><tr><td>val_loss_epoch</td><td>0.41692</td></tr><tr><td>val_loss_step</td><td>0.43882</td></tr><tr><td>val_macro_f1</td><td>0.82284</td></tr><tr><td>val_macro_precision</td><td>0.83283</td></tr><tr><td>val_macro_recall</td><td>0.82292</td></tr></table><br/></div></div>"
      ],
      "text/plain": [
       "<IPython.core.display.HTML object>"
      ]
     },
     "metadata": {},
     "output_type": "display_data"
    },
    {
     "data": {
      "text/html": [
       " View run <strong style=\"color:#cdcd00\">EfficienNet-B0_1024_0.000991</strong> at: <a href='https://wandb.ai/s26048-polish-japanese-academy-of-information-technology-/effnet_sweep/runs/yon1saet' target=\"_blank\">https://wandb.ai/s26048-polish-japanese-academy-of-information-technology-/effnet_sweep/runs/yon1saet</a><br> View project at: <a href='https://wandb.ai/s26048-polish-japanese-academy-of-information-technology-/effnet_sweep' target=\"_blank\">https://wandb.ai/s26048-polish-japanese-academy-of-information-technology-/effnet_sweep</a><br>Synced 5 W&B file(s), 0 media file(s), 2 artifact file(s) and 0 other file(s)"
      ],
      "text/plain": [
       "<IPython.core.display.HTML object>"
      ]
     },
     "metadata": {},
     "output_type": "display_data"
    },
    {
     "data": {
      "text/html": [
       "Find logs at: <code>./wandb/run-20250112_182131-yon1saet/logs</code>"
      ],
      "text/plain": [
       "<IPython.core.display.HTML object>"
      ]
     },
     "metadata": {},
     "output_type": "display_data"
    }
   ],
   "source": [
    "wandb.agent(sweep_id, function=sweep_train, count=30)"
   ]
  },
  {
   "cell_type": "code",
   "execution_count": null,
   "metadata": {
    "execution": {
     "iopub.status.busy": "2025-01-12T18:27:08.375812Z",
     "iopub.status.idle": "2025-01-12T18:27:08.376050Z",
     "shell.execute_reply": "2025-01-12T18:27:08.375954Z"
    },
    "trusted": true
   },
   "outputs": [],
   "source": [
    "wandb.finish()"
   ]
  }
 ],
 "metadata": {
  "kaggle": {
   "accelerator": "gpu",
   "dataSources": [],
   "dockerImageVersionId": 30823,
   "isGpuEnabled": true,
   "isInternetEnabled": true,
   "language": "python",
   "sourceType": "notebook"
  },
  "kernelspec": {
   "display_name": "Python 3",
   "language": "python",
   "name": "python3"
  },
  "language_info": {
   "codemirror_mode": {
    "name": "ipython",
    "version": 3
   },
   "file_extension": ".py",
   "mimetype": "text/x-python",
   "name": "python",
   "nbconvert_exporter": "python",
   "pygments_lexer": "ipython3",
   "version": "3.10.12"
  }
 },
 "nbformat": 4,
 "nbformat_minor": 4
}
